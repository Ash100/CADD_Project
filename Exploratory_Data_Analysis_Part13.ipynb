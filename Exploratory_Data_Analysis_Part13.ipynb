{
  "cells": [
    {
      "cell_type": "markdown",
      "metadata": {
        "id": "view-in-github",
        "colab_type": "text"
      },
      "source": [
        "<a href=\"https://colab.research.google.com/github/Ash100/CADD_Project/blob/main/Exploratory_Data_Analysis_Part13.ipynb\" target=\"_parent\"><img src=\"https://colab.research.google.com/assets/colab-badge.svg\" alt=\"Open In Colab\"/></a>"
      ]
    },
    {
      "cell_type": "markdown",
      "id": "07c2cf88",
      "metadata": {
        "id": "07c2cf88"
      },
      "source": [
        "# **Exploratory Data Analysis with Compound Dataset**\n",
        "This tutorial notebook is designed to teach you, that how can you perform exploratory data analysis on your compound data, you are using for Drug Designing and machine learning.\n",
        "My name **Dr. Ashfaq Ahmad** you can follow me on Youtube Channel [**Bioinformatics Insights**](https://www.youtube.com/channel/UC2Z_WaqTjbvXGGQNpIF9nAg)\n",
        "\n",
        "## **Important Read**\n",
        "\n",
        "Nucleic Acids Res. 2019; 47(D1):D930-D940. doi: 10.1093/nar/gky1075\n",
        "\n",
        " https://www.ncbi.nlm.nih.gov/pmc/articles/PMC4489283/"
      ]
    },
    {
      "cell_type": "markdown",
      "source": [
        "## **Installation job**\n"
      ],
      "metadata": {
        "id": "FXglS11Pep8J"
      },
      "id": "FXglS11Pep8J"
    },
    {
      "cell_type": "code",
      "execution_count": null,
      "id": "85d26c3a",
      "metadata": {
        "id": "85d26c3a"
      },
      "outputs": [],
      "source": [
        "! pip install chembl_webresource_client"
      ]
    },
    {
      "cell_type": "code",
      "execution_count": null,
      "id": "95896203",
      "metadata": {
        "id": "95896203"
      },
      "outputs": [],
      "source": [
        "import pandas as pd\n",
        "from chembl_webresource_client.new_client import new_client"
      ]
    },
    {
      "cell_type": "markdown",
      "id": "a907f9bc",
      "metadata": {
        "id": "a907f9bc"
      },
      "source": [
        "### **Picking your desired Target from ChEMBL**\n",
        "\n",
        "Here we will launch search for the desired target protein or enzyme. To overcome any possibility of a potential mistake, it is highly advised also to confirm you ChEMBL ID from the direct database (ChEMBL) search."
      ]
    },
    {
      "cell_type": "code",
      "execution_count": null,
      "id": "eea9cec9",
      "metadata": {
        "id": "eea9cec9"
      },
      "outputs": [],
      "source": [
        "# As an example I will use P2Y purinoceptor 1 protein (UniProt Accession P47900)\n",
        "target = new_client.target\n",
        "target_query = target.search('CHEMBL4315')\n",
        "targets = pd.DataFrame.from_dict(target_query)\n",
        "targets"
      ]
    },
    {
      "cell_type": "markdown",
      "source": [
        "**Note.** If you are not clear, how to select data from ChEMBL, I recommend a watch [**recommend video**](https://youtu.be/JHrzoeTH8_k)."
      ],
      "metadata": {
        "id": "TpCWrn9eLtCP"
      },
      "id": "TpCWrn9eLtCP"
    },
    {
      "cell_type": "markdown",
      "id": "7ed4f6e7",
      "metadata": {
        "id": "7ed4f6e7"
      },
      "source": [
        "### **Selection and Retrieval Bioactivity data**\n",
        "\n",
        "In case you are hit with multiple data lines, then you need to choose the desired data, using the index number below in the cell."
      ]
    },
    {
      "cell_type": "code",
      "execution_count": null,
      "id": "c752d5da",
      "metadata": {
        "id": "c752d5da"
      },
      "outputs": [],
      "source": [
        "selected_target = targets.target_chembl_id[0]\n",
        "selected_target"
      ]
    },
    {
      "cell_type": "markdown",
      "id": "f5922c31",
      "metadata": {
        "id": "f5922c31"
      },
      "source": [
        "If you carefully look to the data columns, you will find variety of variable. Here we are interested to perform analysis for Antagonist, therefore, I will go with IC50 column. Please read about IC50 values incase you are not aware."
      ]
    },
    {
      "cell_type": "code",
      "execution_count": null,
      "id": "b9bed3c5",
      "metadata": {
        "id": "b9bed3c5"
      },
      "outputs": [],
      "source": [
        "activity = new_client.activity\n",
        "res = activity.filter(target_chembl_id=selected_target).filter(standard_type=\"IC50\")\n",
        "df = pd.DataFrame.from_dict(res)\n",
        "df"
      ]
    },
    {
      "cell_type": "markdown",
      "id": "2d8771e6",
      "metadata": {
        "id": "2d8771e6"
      },
      "source": [
        "Lets play with the above data that contains too many rows and columns. By running the below command, you will only see the first four data lines."
      ]
    },
    {
      "cell_type": "code",
      "execution_count": null,
      "id": "bc3a7ff3",
      "metadata": {
        "id": "bc3a7ff3"
      },
      "outputs": [],
      "source": [
        "df.head(4)"
      ]
    },
    {
      "cell_type": "markdown",
      "id": "67017104",
      "metadata": {
        "id": "67017104"
      },
      "source": [
        "The standard_type column in the data contains IC50. If you want to validate, so better to search for the unique features in the standard_type"
      ]
    },
    {
      "cell_type": "code",
      "execution_count": null,
      "id": "9d4458e7",
      "metadata": {
        "id": "9d4458e7"
      },
      "outputs": [],
      "source": [
        "df.standard_type.unique()"
      ]
    },
    {
      "cell_type": "markdown",
      "id": "402828f7",
      "metadata": {
        "id": "402828f7"
      },
      "source": [
        "Now we are now in a position to save our data in a CSV file. I will use the name Bioactivity_data.csv"
      ]
    },
    {
      "cell_type": "code",
      "execution_count": null,
      "id": "18766a75",
      "metadata": {
        "id": "18766a75"
      },
      "outputs": [],
      "source": [
        "#saving data into csv file with out index column\n",
        "df.to_csv('data_1.csv', index=False)"
      ]
    },
    {
      "cell_type": "markdown",
      "id": "89a722aa",
      "metadata": {
        "id": "89a722aa"
      },
      "source": [
        "How our data looks like, take a look if you want to"
      ]
    },
    {
      "cell_type": "code",
      "execution_count": null,
      "id": "42f7b9fb",
      "metadata": {
        "id": "42f7b9fb"
      },
      "outputs": [],
      "source": [
        "! head data_1.csv"
      ]
    },
    {
      "cell_type": "markdown",
      "id": "6af0ccfc",
      "metadata": {
        "id": "6af0ccfc"
      },
      "source": [
        "### **Treating Missing Data**\n",
        "\n",
        "There comes a possibility that some of the ChEMBL compounds may contain missing value for the **standared_value (IC50)** and **canonical_smiles**. Therefore, we need to remove such entries from the data."
      ]
    },
    {
      "cell_type": "code",
      "execution_count": null,
      "id": "8a9699fc",
      "metadata": {
        "id": "8a9699fc"
      },
      "outputs": [],
      "source": [
        "df2 = df[df.standard_value.notna()]"
      ]
    },
    {
      "cell_type": "code",
      "execution_count": null,
      "id": "33deaac0",
      "metadata": {
        "id": "33deaac0"
      },
      "outputs": [],
      "source": [
        "df2 = df[df.canonical_smiles.notna()]\n",
        "df2"
      ]
    },
    {
      "cell_type": "code",
      "execution_count": null,
      "id": "2a7360e0",
      "metadata": {
        "id": "2a7360e0"
      },
      "outputs": [],
      "source": [
        "len(df2.canonical_smiles.unique())"
      ]
    },
    {
      "cell_type": "code",
      "execution_count": null,
      "id": "06260550",
      "metadata": {
        "id": "06260550"
      },
      "outputs": [],
      "source": [
        "df2_nr = df2.drop_duplicates(['canonical_smiles'])\n",
        "df2_nr"
      ]
    },
    {
      "cell_type": "markdown",
      "id": "71c19f10",
      "metadata": {
        "id": "71c19f10"
      },
      "source": [
        "### **Data Preprocessing**\n",
        "\n",
        "We will be interested to keep record of the three columns, **ChEMBL_id**, **canonical_smiles**, and **standard_value**."
      ]
    },
    {
      "cell_type": "code",
      "execution_count": null,
      "id": "940064bf",
      "metadata": {
        "id": "940064bf"
      },
      "outputs": [],
      "source": [
        "selection = ['molecule_chembl_id','canonical_smiles','standard_value']\n",
        "df3 = df2_nr[selection]\n",
        "df3"
      ]
    },
    {
      "cell_type": "markdown",
      "id": "036cbf7d",
      "metadata": {
        "id": "036cbf7d"
      },
      "source": [
        "Now we need to save data frame or the df3 to the CSV file."
      ]
    },
    {
      "cell_type": "code",
      "execution_count": null,
      "id": "d4df7b81",
      "metadata": {
        "id": "d4df7b81"
      },
      "outputs": [],
      "source": [
        "df3.to_csv('data_2.csv', index=False)"
      ]
    },
    {
      "cell_type": "markdown",
      "id": "bfb08b2c",
      "metadata": {
        "id": "bfb08b2c"
      },
      "source": [
        "### **Labeling compounds to different categories**\n",
        "\n",
        "Here we will need to categorize these compounds into different catergories, based on the IC50 value or **standard_value**. For the purpose, we will classify three groups, **Active**, **Inactive**, **Intermediate**. Compounds with IC50 value less than 1000 nM will be considered active drugs, those greater than 10,000 nM will be considered inactive and IC50 value in greater than 1000 and below 10,000 will be termed as intermediate."
      ]
    },
    {
      "cell_type": "code",
      "execution_count": null,
      "id": "cd62fc4d",
      "metadata": {
        "id": "cd62fc4d"
      },
      "outputs": [],
      "source": [
        "df4 = pd.read_csv('data_2.csv')"
      ]
    },
    {
      "cell_type": "code",
      "execution_count": null,
      "id": "029c4190",
      "metadata": {
        "id": "029c4190"
      },
      "outputs": [],
      "source": [
        "bioactivity_threshold = []\n",
        "for i in df4.standard_value:\n",
        "  if float(i) >= 10000:\n",
        "    bioactivity_threshold.append(\"inactive\")\n",
        "  elif float(i) <= 1000:\n",
        "    bioactivity_threshold.append(\"active\")\n",
        "  else:\n",
        "    bioactivity_threshold.append(\"intermediate\")"
      ]
    },
    {
      "cell_type": "code",
      "execution_count": null,
      "id": "4a297f76",
      "metadata": {
        "id": "4a297f76"
      },
      "outputs": [],
      "source": [
        "bioactivity_class = pd.Series(bioactivity_threshold, name='class')\n",
        "df5 = pd.concat([df4, bioactivity_class], axis=1)\n",
        "df5"
      ]
    },
    {
      "cell_type": "markdown",
      "id": "5d9066ea",
      "metadata": {
        "id": "5d9066ea"
      },
      "source": [
        "Now we need to save the above dataframe or df5 to the CSV file."
      ]
    },
    {
      "cell_type": "code",
      "execution_count": null,
      "id": "81795963",
      "metadata": {
        "id": "81795963"
      },
      "outputs": [],
      "source": [
        "df5.to_csv('data_3.csv', index=False)"
      ]
    },
    {
      "cell_type": "code",
      "source": [
        "df5"
      ],
      "metadata": {
        "id": "TiNCxsd7goYi"
      },
      "id": "TiNCxsd7goYi",
      "execution_count": null,
      "outputs": []
    },
    {
      "cell_type": "markdown",
      "source": [
        "Here, we are going to drop the smiles column"
      ],
      "metadata": {
        "id": "rMgZ7Jhpg0NN"
      },
      "id": "rMgZ7Jhpg0NN"
    },
    {
      "cell_type": "code",
      "source": [
        "! wget https://repo.anaconda.com/miniconda/Miniconda3-py37_4.8.2-Linux-x86_64.sh\n",
        "! chmod +x Miniconda3-py37_4.8.2-Linux-x86_64.sh\n",
        "! bash ./Miniconda3-py37_4.8.2-Linux-x86_64.sh -b -f -p /usr/local\n",
        "! conda install -c rdkit rdkit -y\n",
        "import sys\n",
        "sys.path.append('/usr/local/lib/python3.7/site-packages/')"
      ],
      "metadata": {
        "id": "gkVVg-6vm2gE"
      },
      "id": "gkVVg-6vm2gE",
      "execution_count": null,
      "outputs": []
    },
    {
      "cell_type": "code",
      "source": [
        "import pandas as pd"
      ],
      "metadata": {
        "id": "KxwALWxKm4MW"
      },
      "id": "KxwALWxKm4MW",
      "execution_count": null,
      "outputs": []
    },
    {
      "cell_type": "code",
      "source": [
        "df_no_smiles = df5.drop(columns='canonical_smiles')"
      ],
      "metadata": {
        "id": "9SyaZw69gtfD"
      },
      "id": "9SyaZw69gtfD",
      "execution_count": null,
      "outputs": []
    },
    {
      "cell_type": "code",
      "source": [
        "smiles = []\n",
        "\n",
        "for i in df.canonical_smiles.tolist():\n",
        "  cpd = str(i).split('.')\n",
        "  cpd_longest = max(cpd, key = len)\n",
        "  smiles.append(cpd_longest)\n",
        "\n",
        "smiles = pd.Series(smiles, name = 'canonical_smiles')"
      ],
      "metadata": {
        "id": "Z8JA8jeRg7Uv"
      },
      "id": "Z8JA8jeRg7Uv",
      "execution_count": null,
      "outputs": []
    },
    {
      "cell_type": "code",
      "source": [
        "df_clean_smiles = pd.concat([df_no_smiles,smiles], axis=1)\n",
        "df_clean_smiles"
      ],
      "metadata": {
        "id": "IFR7edssg_kO"
      },
      "id": "IFR7edssg_kO",
      "execution_count": null,
      "outputs": []
    },
    {
      "cell_type": "markdown",
      "source": [
        "### **Calculations of Lipinski Descriptors**\n",
        "What are Lipinski rules or Descriptors?\n",
        "\n",
        "A Pfizer scientist, Christopher Lipinski, designed a bunch of rules in evaluating a chemical compound for **druglikeness**. Lipinski analyzed these rules after studying vaste number of FDA-approved drugs in the formulation. In Simple terms, druglikeness is primarily based on the drug Absorption, Distribution, Metabolism and Excretion (ADME) that is also known as the pharmacokinetic profile. Lipinski rules are normally known as  **Rule-of-Five** or **Lipinski's Rule**.\n",
        "\n",
        "The Lipinski's Rule states,\n",
        "* Molecular weight < 500 Dalton\n",
        "* Octanol-water partition coefficient (LogP) < 5\n",
        "* Hydrogen bond donors < 5\n",
        "* Hydrogen bond acceptors < 10"
      ],
      "metadata": {
        "id": "qly8jMvJhD3J"
      },
      "id": "qly8jMvJhD3J"
    },
    {
      "cell_type": "code",
      "source": [
        "import numpy as np\n",
        "from rdkit import Chem\n",
        "from rdkit.Chem import Descriptors, Lipinski"
      ],
      "metadata": {
        "id": "ZICKDIE4hNEr"
      },
      "id": "ZICKDIE4hNEr",
      "execution_count": null,
      "outputs": []
    },
    {
      "cell_type": "markdown",
      "source": [
        "### **Calculation of Lipinski Descriptors**"
      ],
      "metadata": {
        "id": "lStuos2hhRPU"
      },
      "id": "lStuos2hhRPU"
    },
    {
      "cell_type": "code",
      "source": [
        "# Inspired by: https://codeocean.com/explore/capsules?query=tag:data-curation\n",
        "\n",
        "def lipinski(smiles, verbose=False):\n",
        "\n",
        "    moldata= []\n",
        "    for elem in smiles:\n",
        "        mol=Chem.MolFromSmiles(elem)\n",
        "        moldata.append(mol)\n",
        "\n",
        "    baseData= np.arange(1,1)\n",
        "    i=0\n",
        "    for mol in moldata:\n",
        "\n",
        "        desc_MolWt = Descriptors.MolWt(mol)\n",
        "        desc_MolLogP = Descriptors.MolLogP(mol)\n",
        "        desc_NumHDonors = Lipinski.NumHDonors(mol)\n",
        "        desc_NumHAcceptors = Lipinski.NumHAcceptors(mol)\n",
        "\n",
        "        row = np.array([desc_MolWt,\n",
        "                        desc_MolLogP,\n",
        "                        desc_NumHDonors,\n",
        "                        desc_NumHAcceptors])\n",
        "\n",
        "        if(i==0):\n",
        "            baseData=row\n",
        "        else:\n",
        "            baseData=np.vstack([baseData, row])\n",
        "        i=i+1\n",
        "\n",
        "    columnNames=[\"MW\",\"LogP\",\"NumHDonors\",\"NumHAcceptors\"]\n",
        "    descriptors = pd.DataFrame(data=baseData,columns=columnNames)\n",
        "\n",
        "    return descriptors"
      ],
      "metadata": {
        "id": "xfK26rm1hkqv"
      },
      "id": "xfK26rm1hkqv",
      "execution_count": null,
      "outputs": []
    },
    {
      "cell_type": "code",
      "source": [
        "df_lipinski = lipinski(df_clean_smiles.canonical_smiles)\n",
        "df_lipinski"
      ],
      "metadata": {
        "id": "ttOs5pi-hrm1"
      },
      "id": "ttOs5pi-hrm1",
      "execution_count": null,
      "outputs": []
    },
    {
      "cell_type": "markdown",
      "source": [
        "Now we have two different dfs, one is df5 and another one we have just created. we are going to combine it"
      ],
      "metadata": {
        "id": "wJtHh-0xh7ap"
      },
      "id": "wJtHh-0xh7ap"
    },
    {
      "cell_type": "code",
      "source": [
        "df_combined = pd.concat([df5,df_lipinski], axis=1)"
      ],
      "metadata": {
        "id": "VIS_fMCIh1fv"
      },
      "id": "VIS_fMCIh1fv",
      "execution_count": null,
      "outputs": []
    },
    {
      "cell_type": "markdown",
      "source": [
        "### **Convert IC50 to pIC50**\n",
        "The **IC50** values are normally too much diverse therefore we need to the data to be more uniformly distributed, and for the reason we will convert **IC50** to the negative logarithmic scale which is essentially **-log10(IC50)** or **pIC50**\n",
        "\n",
        "Next we will use the custom function pIC50() which will accept a DataFrame as input and will output,\n",
        "* Take the IC50 values from the ``standard_value`` column and converts it from nM (nanoMolar) to M (molar) concentration by multiplying the value by 10$^{-9}$\n",
        "* Take the molar value and apply -log10\n",
        "* Delete the ``standard_value`` column and create a new ``pIC50`` column.\n",
        "\n",
        "Point to note: These calculations will also normalize the data and values greater than 100,000,000 will be fixed at 100,000,000 otherwise the negative logarithmic value will become negative."
      ],
      "metadata": {
        "id": "ueQ_gezDiPma"
      },
      "id": "ueQ_gezDiPma"
    },
    {
      "cell_type": "code",
      "source": [
        "import numpy as np\n",
        "\n",
        "def pIC50(input):\n",
        "    pIC50 = []\n",
        "\n",
        "    for i in input['standard_value_norm']:\n",
        "        molar = i*(10**-9) # Converts nM to M\n",
        "        pIC50.append(-np.log10(molar))\n",
        "\n",
        "    input['pIC50'] = pIC50\n",
        "    x = input.drop('standard_value_norm', 1)\n",
        "\n",
        "    return x"
      ],
      "metadata": {
        "id": "Fg7oplG0iSrn"
      },
      "id": "Fg7oplG0iSrn",
      "execution_count": null,
      "outputs": []
    },
    {
      "cell_type": "code",
      "source": [
        "df_combined.standard_value.describe()"
      ],
      "metadata": {
        "id": "i6C8RaN3iW2l"
      },
      "id": "i6C8RaN3iW2l",
      "execution_count": null,
      "outputs": []
    },
    {
      "cell_type": "code",
      "source": [
        "-np.log10( (10**-9)* 100000000 )"
      ],
      "metadata": {
        "id": "5S67k2vqiePc"
      },
      "id": "5S67k2vqiePc",
      "execution_count": null,
      "outputs": []
    },
    {
      "cell_type": "code",
      "source": [
        "-np.log10( (10**-9)* 10000000000 )"
      ],
      "metadata": {
        "id": "ezuscSoAigmn"
      },
      "id": "ezuscSoAigmn",
      "execution_count": null,
      "outputs": []
    },
    {
      "cell_type": "code",
      "source": [
        "def norm_value(input):\n",
        "    norm = []\n",
        "\n",
        "    for i in input['standard_value']:\n",
        "        if i > 100000000:\n",
        "          i = 100000000\n",
        "        norm.append(i)\n",
        "\n",
        "    input['standard_value_norm'] = norm\n",
        "    x = input.drop('standard_value', 1)\n",
        "\n",
        "    return x"
      ],
      "metadata": {
        "id": "jHwb7BJ6ijSa"
      },
      "id": "jHwb7BJ6ijSa",
      "execution_count": null,
      "outputs": []
    },
    {
      "cell_type": "code",
      "source": [
        "import pandas as pd\n",
        "\n",
        "# Normalization function\n",
        "def norm_value(input_df):\n",
        "    # Normalize the 'standard_value' column\n",
        "    norm = (input_df['standard_value'] - input_df['standard_value'].min()) / (input_df['standard_value'].max() - input_df['standard_value'].min())\n",
        "    input_df['standard_value_norm'] = norm\n",
        "    x = input_df.drop('standard_value', axis=1)\n",
        "    return x\n",
        "\n",
        "# Assuming df_combined is already loaded\n",
        "df_norm = norm_value(df_combined)\n",
        "print(df_norm)"
      ],
      "metadata": {
        "id": "Lv__8i85ikJA"
      },
      "id": "Lv__8i85ikJA",
      "execution_count": null,
      "outputs": []
    },
    {
      "cell_type": "code",
      "source": [
        "df_norm"
      ],
      "metadata": {
        "id": "WdrbWOdximsI"
      },
      "id": "WdrbWOdximsI",
      "execution_count": null,
      "outputs": []
    },
    {
      "cell_type": "code",
      "source": [
        "df_norm.standard_value_norm.describe()"
      ],
      "metadata": {
        "id": "IsU8k8-KiuuJ"
      },
      "id": "IsU8k8-KiuuJ",
      "execution_count": null,
      "outputs": []
    },
    {
      "cell_type": "code",
      "source": [
        "import pandas as pd\n",
        "\n",
        "# Function to calculate pIC50 values\n",
        "def pIC50(input_df):\n",
        "    # Assuming we are calculating pIC50 using the normalized values\n",
        "    input_df['pIC50'] = -np.log10(input_df['standard_value_norm'] * 1e-9)  # Example transformation\n",
        "    return input_df\n",
        "\n",
        "# Assuming df_norm is already created\n",
        "df_final = pIC50(df_norm)\n",
        "print(df_final)"
      ],
      "metadata": {
        "id": "bPCNUIieizeu"
      },
      "id": "bPCNUIieizeu",
      "execution_count": null,
      "outputs": []
    },
    {
      "cell_type": "code",
      "source": [
        "df_final"
      ],
      "metadata": {
        "id": "ujZlZP7li3Jl"
      },
      "id": "ujZlZP7li3Jl",
      "execution_count": null,
      "outputs": []
    },
    {
      "cell_type": "code",
      "source": [
        "df_final.pIC50.describe()"
      ],
      "metadata": {
        "id": "uBIJprsRi4Ai"
      },
      "id": "uBIJprsRi4Ai",
      "execution_count": null,
      "outputs": []
    },
    {
      "cell_type": "markdown",
      "source": [
        "We are going to save this new data file"
      ],
      "metadata": {
        "id": "vw5udHwii-EV"
      },
      "id": "vw5udHwii-EV"
    },
    {
      "cell_type": "code",
      "source": [
        "df_final.to_csv('data_4.csv')"
      ],
      "metadata": {
        "id": "Viyoqc29jCHv"
      },
      "id": "Viyoqc29jCHv",
      "execution_count": null,
      "outputs": []
    },
    {
      "cell_type": "markdown",
      "source": [
        "### **Optional- Removal of the intermediate class from the whole data**\n",
        "Here we are going to drop the compounds with intermediate bioactivity. We will drop them because we want to compare the active and inactive class."
      ],
      "metadata": {
        "id": "cH1cIVWIjKyy"
      },
      "id": "cH1cIVWIjKyy"
    },
    {
      "cell_type": "code",
      "source": [
        "df_2class = df_final[df_final['class'] != 'intermediate']\n",
        "df_2class"
      ],
      "metadata": {
        "id": "DpSy9UsxjQvY"
      },
      "id": "DpSy9UsxjQvY",
      "execution_count": null,
      "outputs": []
    },
    {
      "cell_type": "code",
      "source": [
        "df_2class.to_csv('data_5.csv')"
      ],
      "metadata": {
        "id": "lVsseQ3AjRgm"
      },
      "id": "lVsseQ3AjRgm",
      "execution_count": null,
      "outputs": []
    },
    {
      "cell_type": "markdown",
      "source": [
        "### **Lets Perform Exploratory Data Analysis OR Chemical Space Analysis through Lipinski descriptors**"
      ],
      "metadata": {
        "id": "jTGZF-hyjbmy"
      },
      "id": "jTGZF-hyjbmy"
    },
    {
      "cell_type": "code",
      "source": [
        "import seaborn as sns\n",
        "sns.set(style='ticks')\n",
        "import matplotlib.pyplot as plt"
      ],
      "metadata": {
        "id": "ijH7L8HUjgMd"
      },
      "id": "ijH7L8HUjgMd",
      "execution_count": null,
      "outputs": []
    },
    {
      "cell_type": "markdown",
      "source": [
        "1. **Analysing the Frequency Plot of the Two (Active & Inactive) Classes**"
      ],
      "metadata": {
        "id": "xGQPsYvejqBj"
      },
      "id": "xGQPsYvejqBj"
    },
    {
      "cell_type": "code",
      "source": [
        "plt.figure(figsize=(5.5, 5.5))\n",
        "\n",
        "sns.countplot(x='class', data=df_2class, edgecolor='black')\n",
        "\n",
        "plt.xlabel('Bioactivity class', fontsize=14, fontweight='bold')\n",
        "plt.ylabel('Frequency', fontsize=14, fontweight='bold')"
      ],
      "metadata": {
        "id": "eZnoKZhcjjCc"
      },
      "id": "eZnoKZhcjjCc",
      "execution_count": null,
      "outputs": []
    },
    {
      "cell_type": "code",
      "source": [
        "plt.savefig('plot_bioactivity_class.pdf')"
      ],
      "metadata": {
        "id": "r5Gp8gA6j6El"
      },
      "id": "r5Gp8gA6j6El",
      "execution_count": null,
      "outputs": []
    },
    {
      "cell_type": "markdown",
      "source": [
        "### **Scatter plot of Molecular Weight (MW) versus LogP (Solubility)**\n",
        "\n",
        "It can be seen that the 2 bioactivity classes are not taking or spanning a kind of similar chemical spaces as evident by the scatter plot of MW vs LogP.\n",
        "In below function, **x** and **y** are for the legends on these axis. **data** means, data to be plotted. **hue** represents the coloring scheme, and here we are interested to be based on the bioactivity class. **size** are for the sphere size and will be proportional to the pIC50 value. sphere **edges** will be black and transperancy threshould or *alpha* of the picture is 0.7. You can adjusted if required."
      ],
      "metadata": {
        "id": "6Dk2hn4okA18"
      },
      "id": "6Dk2hn4okA18"
    },
    {
      "cell_type": "code",
      "source": [
        "import matplotlib.pyplot as plt\n",
        "import seaborn as sns\n",
        "import numpy as np\n",
        "\n",
        "# Ensure df_2class does not contain non-finite values\n",
        "df_2class = df_2class.replace([np.inf, -np.inf], np.nan).dropna(subset=['MW', 'LogP', 'pIC50'])\n",
        "\n",
        "# Plotting\n",
        "plt.figure(figsize=(5.5, 5.5))\n",
        "sns.scatterplot(x='MW', y='LogP', data=df_2class, hue='class', size='pIC50', edgecolor='black', alpha=0.7)\n",
        "\n",
        "plt.xlabel('MW', fontsize=14, fontweight='bold')\n",
        "plt.ylabel('LogP', fontsize=14, fontweight='bold')\n",
        "plt.legend(bbox_to_anchor=(1.05, 1), loc=2, borderaxespad=0)\n",
        "\n",
        "# Save the plot\n",
        "plt.savefig('plot_MW_vs_LogP.pdf')\n",
        "plt.show()"
      ],
      "metadata": {
        "id": "96ZWuuJRo687"
      },
      "id": "96ZWuuJRo687",
      "execution_count": null,
      "outputs": []
    },
    {
      "cell_type": "markdown",
      "source": [
        "**Lets do some Calculations with Box Plot as well**\n",
        "\n"
      ],
      "metadata": {
        "id": "Dxij7DHkkLMV"
      },
      "id": "Dxij7DHkkLMV"
    },
    {
      "cell_type": "markdown",
      "source": [
        "**pIC50**"
      ],
      "metadata": {
        "id": "FVSTm9WjkWB2"
      },
      "id": "FVSTm9WjkWB2"
    },
    {
      "cell_type": "code",
      "source": [
        "plt.figure(figsize=(5.5, 5.5))\n",
        "\n",
        "sns.boxplot(x = 'class', y = 'pIC50', data = df_2class)\n",
        "\n",
        "plt.xlabel('Bioactivity class', fontsize=14, fontweight='bold')\n",
        "plt.ylabel('pIC50 value', fontsize=14, fontweight='bold')\n",
        "\n",
        "plt.savefig('plot_IC50.pdf')"
      ],
      "metadata": {
        "id": "Z4F-a9NQkZCY"
      },
      "id": "Z4F-a9NQkZCY",
      "execution_count": null,
      "outputs": []
    },
    {
      "cell_type": "markdown",
      "source": [
        "### **Statistical analysis | Mann-Whitney U Test**"
      ],
      "metadata": {
        "id": "hFVOoZ77kvVn"
      },
      "id": "hFVOoZ77kvVn"
    },
    {
      "cell_type": "code",
      "source": [
        "def mannwhitney(descriptor, verbose=False):\n",
        "  # https://machinelearningmastery.com/nonparametric-statistical-significance-tests-in-python/\n",
        "  from numpy.random import seed\n",
        "  from numpy.random import randn\n",
        "  from scipy.stats import mannwhitneyu\n",
        "\n",
        "# seed the random number generator\n",
        "  seed(1)\n",
        "\n",
        "# actives and inactives\n",
        "  selection = [descriptor, 'class']\n",
        "  df = df_2class[selection]\n",
        "  active = df[df['class'] == 'active']\n",
        "  active = active[descriptor]\n",
        "\n",
        "  selection = [descriptor, 'class']\n",
        "  df = df_2class[selection]\n",
        "  inactive = df[df['class'] == 'inactive']\n",
        "  inactive = inactive[descriptor]\n",
        "\n",
        "# compare samples\n",
        "  stat, p = mannwhitneyu(active, inactive)\n",
        "  #print('Statistics=%.3f, p=%.3f' % (stat, p))\n",
        "\n",
        "# interpret\n",
        "  alpha = 0.05\n",
        "  if p > alpha:\n",
        "    interpretation = 'Same distribution (fail to reject H0)'\n",
        "  else:\n",
        "    interpretation = 'Different distribution (reject H0)'\n",
        "\n",
        "  results = pd.DataFrame({'Descriptor':descriptor,\n",
        "                          'Statistics':stat,\n",
        "                          'p':p,\n",
        "                          'alpha':alpha,\n",
        "                          'Interpretation':interpretation}, index=[0])\n",
        "  filename = 'mannwhitneyu_' + descriptor + '.csv'\n",
        "  results.to_csv(filename)\n",
        "\n",
        "  return results"
      ],
      "metadata": {
        "id": "sS1K6mpakxEw"
      },
      "id": "sS1K6mpakxEw",
      "execution_count": null,
      "outputs": []
    },
    {
      "cell_type": "code",
      "source": [
        "mannwhitney('pIC50')"
      ],
      "metadata": {
        "id": "4erRsTtek2dt"
      },
      "id": "4erRsTtek2dt",
      "execution_count": null,
      "outputs": []
    },
    {
      "cell_type": "markdown",
      "source": [
        "**Molecular Weight (MW)**"
      ],
      "metadata": {
        "id": "EOGlhcXjkdkD"
      },
      "id": "EOGlhcXjkdkD"
    },
    {
      "cell_type": "code",
      "source": [
        "plt.figure(figsize=(5.5, 5.5))\n",
        "\n",
        "sns.boxplot(x = 'class', y = 'MW', data = df_2class)\n",
        "\n",
        "plt.xlabel('Bioactivity class', fontsize=14, fontweight='bold')\n",
        "plt.ylabel('MW', fontsize=14, fontweight='bold')\n",
        "\n",
        "plt.savefig('plot_MW.pdf')"
      ],
      "metadata": {
        "id": "b7nWpG2nkhUS"
      },
      "id": "b7nWpG2nkhUS",
      "execution_count": null,
      "outputs": []
    },
    {
      "cell_type": "code",
      "source": [
        "mannwhitney('MW')"
      ],
      "metadata": {
        "id": "gcROQOAAk5w4"
      },
      "id": "gcROQOAAk5w4",
      "execution_count": null,
      "outputs": []
    },
    {
      "cell_type": "markdown",
      "source": [
        "#### **LogP or Solubility**"
      ],
      "metadata": {
        "id": "RyldjeZ-k83E"
      },
      "id": "RyldjeZ-k83E"
    },
    {
      "cell_type": "code",
      "source": [
        "plt.figure(figsize=(5.5, 5.5))\n",
        "\n",
        "sns.boxplot(x = 'class', y = 'LogP', data = df_2class)\n",
        "\n",
        "plt.xlabel('Bioactivity class', fontsize=14, fontweight='bold')\n",
        "plt.ylabel('LogP', fontsize=14, fontweight='bold')\n",
        "\n",
        "plt.savefig('plot_LogP.pdf')"
      ],
      "metadata": {
        "id": "268E8_k3k9op"
      },
      "id": "268E8_k3k9op",
      "execution_count": null,
      "outputs": []
    },
    {
      "cell_type": "code",
      "source": [
        "mannwhitney('LogP')"
      ],
      "metadata": {
        "id": "ELQtSstVlAuV"
      },
      "id": "ELQtSstVlAuV",
      "execution_count": null,
      "outputs": []
    },
    {
      "cell_type": "markdown",
      "source": [
        "#### **NumHDonors or H-bond Donor**"
      ],
      "metadata": {
        "id": "k-qpMz1jlFG-"
      },
      "id": "k-qpMz1jlFG-"
    },
    {
      "cell_type": "code",
      "source": [
        "plt.figure(figsize=(5.5, 5.5))\n",
        "\n",
        "sns.boxplot(x = 'class', y = 'NumHDonors', data = df_2class)\n",
        "\n",
        "plt.xlabel('Bioactivity class', fontsize=14, fontweight='bold')\n",
        "plt.ylabel('NumHDonors', fontsize=14, fontweight='bold')\n",
        "\n",
        "plt.savefig('plot_NumHDonors.pdf')"
      ],
      "metadata": {
        "id": "9E3IiY6DlF1u"
      },
      "id": "9E3IiY6DlF1u",
      "execution_count": null,
      "outputs": []
    },
    {
      "cell_type": "code",
      "source": [
        "mannwhitney('NumHDonors')"
      ],
      "metadata": {
        "id": "7r9YwvYvlKVO"
      },
      "id": "7r9YwvYvlKVO",
      "execution_count": null,
      "outputs": []
    },
    {
      "cell_type": "markdown",
      "source": [
        "#### **NumHAcceptors or H-bond Acceptor**"
      ],
      "metadata": {
        "id": "ZsEAUwLnlNtF"
      },
      "id": "ZsEAUwLnlNtF"
    },
    {
      "cell_type": "code",
      "source": [
        "plt.figure(figsize=(5.5, 5.5))\n",
        "\n",
        "sns.boxplot(x = 'class', y = 'NumHAcceptors', data = df_2class)\n",
        "\n",
        "plt.xlabel('Bioactivity class', fontsize=14, fontweight='bold')\n",
        "plt.ylabel('NumHAcceptors', fontsize=14, fontweight='bold')\n",
        "\n",
        "plt.savefig('plot_NumHAcceptors.pdf')"
      ],
      "metadata": {
        "id": "buoto2gJlOPS"
      },
      "id": "buoto2gJlOPS",
      "execution_count": null,
      "outputs": []
    },
    {
      "cell_type": "code",
      "source": [
        "mannwhitney('NumHAcceptors')"
      ],
      "metadata": {
        "id": "yJzG3zmSlQs6"
      },
      "id": "yJzG3zmSlQs6",
      "execution_count": null,
      "outputs": []
    },
    {
      "cell_type": "markdown",
      "source": [
        "### **Interpretation of the Statistical Results**\n",
        "\n",
        "In the final part we have run Mannwhitney U test. The Mann-Whitney U test is used to compare differences between two independent groups when the dependent variable is either ordinal or continuous, but not normally distributed.\n",
        "\n",
        "The p-value is a probability that measures the evidence against the null hypothesis. A smaller p-value provides stronger evidence against the null hypothesis."
      ],
      "metadata": {
        "id": "8efBS1zZlVj3"
      },
      "id": "8efBS1zZlVj3"
    },
    {
      "cell_type": "markdown",
      "source": [
        "#### **Download these results as a Zip files**"
      ],
      "metadata": {
        "id": "zjeWBXknlaeY"
      },
      "id": "zjeWBXknlaeY"
    },
    {
      "cell_type": "code",
      "source": [
        "! zip -r Exploratory_data_analysis.zip . -i *.csv *.pdf"
      ],
      "metadata": {
        "id": "b3jM4j_XldfQ"
      },
      "id": "b3jM4j_XldfQ",
      "execution_count": null,
      "outputs": []
    },
    {
      "cell_type": "markdown",
      "source": [
        "##**Congratulation! That was Cool, Isn't?**\n",
        "\n",
        "If you happy for your time, Please provide your Support in the Form of a Subscription on Youtube Channel**\n",
        "\n",
        "[**Bioinformatics Insights**](https://www.youtube.com/channel/UC2Z_WaqTjbvXGGQNpIF9nAg)\n",
        "\n",
        "Follow [**WhatsApp Channel**](https://whatsapp.com/channel/0029VajkwkdCHDydS6Y2lM36) for further updates, research services, and courses."
      ],
      "metadata": {
        "id": "068JF6SjqZUw"
      },
      "id": "068JF6SjqZUw"
    }
  ],
  "metadata": {
    "kernelspec": {
      "display_name": "Python 3 (ipykernel)",
      "language": "python",
      "name": "python3"
    },
    "language_info": {
      "codemirror_mode": {
        "name": "ipython",
        "version": 3
      },
      "file_extension": ".py",
      "mimetype": "text/x-python",
      "name": "python",
      "nbconvert_exporter": "python",
      "pygments_lexer": "ipython3",
      "version": "3.10.9"
    },
    "colab": {
      "provenance": [],
      "include_colab_link": true
    }
  },
  "nbformat": 4,
  "nbformat_minor": 5
}