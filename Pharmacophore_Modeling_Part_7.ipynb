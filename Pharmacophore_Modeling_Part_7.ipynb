{
  "cells": [
    {
      "cell_type": "markdown",
      "metadata": {
        "id": "view-in-github",
        "colab_type": "text"
      },
      "source": [
        "<a href=\"https://colab.research.google.com/github/Ash100/CADD_Project/blob/main/Pharmacophore_Modeling_Part_7.ipynb\" target=\"_parent\"><img src=\"https://colab.research.google.com/assets/colab-badge.svg\" alt=\"Open In Colab\"/></a>"
      ]
    },
    {
      "cell_type": "markdown",
      "metadata": {
        "id": "zCj1CM-I0bSq"
      },
      "source": [
        "# Pharmacophore - Protein data acquisition: Protein Data Bank (PDB)\n",
        "\n",
        "My name is **Dr. Ashfaq Ahmad**, and this tutorial is inspired from the TeachOpenCADD project of Volkamer Lab. Students and Researchers with a basic Biology background found it difficult to run these analysis directly. Therefore, with some modification in codes, this notebook allows everyone to directly use it for analysis. Also this notebook is primarily cloned for teaching and research purposes. For a detail video tutorial, Bioinformatics Insights https://www.youtube.com/channel/UC2Z_WaqTjbvXGGQNpIF9nAg\n",
        "\n",
        "Authors:\n",
        "\n",
        "- Anja Georgi, CADD seminar, 2017, Charité/FU Berlin\n",
        "- Majid Vafadar, CADD seminar, 2018, Charité/FU Berlin\n",
        "- Jaime Rodríguez-Guerra, [Volkamer lab, Charité](https://volkamerlab.org/)\n",
        "- Dominique Sydow, [Volkamer lab, Charité](https://volkamerlab.org/)"
      ]
    },
    {
      "cell_type": "markdown",
      "metadata": {
        "id": "lEldTv8Q0bS0"
      },
      "source": [
        "For further reading, please read the specified manuscript: ([_J. Cheminform._ (2019), **11**, 1-7](https://jcheminf.biomedcentral.com/articles/10.1186/s13321-019-0351-x)), comprising of talktorials T001-T010."
      ]
    },
    {
      "cell_type": "markdown",
      "metadata": {
        "id": "InAKKszN0bS1"
      },
      "source": [
        "## Aim of this talktorial\n",
        "\n",
        "This tutorial will access PDB to collect data. The files generated here will be used in next part to generate a ligand-based ensemble pharmacophore for EGFR. Therefore, we will\n",
        "(i) fetch all PDB IDs for EGFR from the PDB database that fullfil certain criteria (e.g. ligand-bound structures with high resolution),\n",
        "(ii) retrieve protein-ligand structures with the best structural quality,\n",
        "(iii) align all structures, and\n",
        "(iv) extract and save the ligands to be used in the next talktorial."
      ]
    },
    {
      "cell_type": "markdown",
      "metadata": {
        "id": "G_zlu1cN0bS4"
      },
      "source": [
        "### References\n",
        "\n",
        "* Protein Data Bank\n",
        "([PDB website](http://www.rcsb.org/))\n",
        "* `pypdb` Python package\n",
        "([_Bioinformatics_ (2016), **1**, 159-60](https://academic.oup.com/bioinformatics/article-lookup/doi/10.1093/bioinformatics/btv543); [documentation](http://www.wgilpin.com/pypdb_docs/html/))\n",
        "* `biotite` Python package ([_BMC Bioinformatics_ (2018), **19**](https://bmcbioinformatics.biomedcentral.com/articles/10.1186/s12859-018-2367-z); [documentation](https://www.biotite-python.org/))\n",
        "* Molecular superposition with the Python package `opencadd` ([repository](https://github.com/volkamerlab/opencadd))"
      ]
    },
    {
      "cell_type": "markdown",
      "metadata": {
        "id": "Mm_Llvc40bS4"
      },
      "source": [
        "## Theory"
      ]
    },
    {
      "cell_type": "markdown",
      "metadata": {
        "id": "P23plwfT0bS5"
      },
      "source": [
        "### Protein Data Bank (PDB)\n",
        "\n",
        "The RCSB Protein Data Bank (PDB) is a comprehensive structural biology information database and a key resource in areas of structural biology, such as structural genomics and drug design ([PDB website](http://www.rcsb.org/)).\n",
        "\n",
        "Structural data is generated from structural determination methods such as X-ray crystallography (most common method), nuclear magnetic resonance (NMR), and cryo electron microscopy (cryo-EM).\n"
      ]
    },
    {
      "cell_type": "markdown",
      "metadata": {
        "id": "jTzQRaS_0bS6"
      },
      "source": [
        "### Query the PDB using the Python packages `biotite` and `pypdb`"
      ]
    },
    {
      "cell_type": "markdown",
      "metadata": {
        "id": "SHPdKxb90bS6"
      },
      "source": [
        "Each structure in the PDB database is linked to many different fields to hold meta information. Check out the complete list of available fields for [chemicals](https://search.rcsb.org/chemical-search-attributes.html)/[structures](https://search.rcsb.org/structure-search-attributes.html) and supported operators on the RCSB website. The Python package `biotite` provides the convenient module `databases.rcsb` (see [docs](https://www.biotite-python.org/apidoc/biotite.database.rcsb.html)), which allows us to query one (`FieldQuery`, see [docs](https://www.biotite-python.org/apidoc/biotite.database.rcsb.FieldQuery.html#biotite.database.rcsb.FieldQuery)) or more (`CompositeQuery`, see [docs](https://www.biotite-python.org/apidoc/biotite.database.rcsb.CompositeQuery.html#biotite.database.rcsb.CompositeQuery)) of these fields to retrieve a count (`count`) or list (`search`) of PDB IDs that match our criteria.\n",
        "\n",
        "The Python package `pypdb` offers an interface for the PDB to not only query for PDB IDs but also to download associated metadata and structural files ([_Bioinformatics_ (2016), **1**, 159-60](https://academic.oup.com/bioinformatics/article-lookup/doi/10.1093/bioinformatics/btv543), [documentation](http://www.wgilpin.com/pypdb_docs/html/)). Check out the [demo](https://github.com/williamgilpin/pypdb/blob/master/demos/demos.ipynb) notebook introducing the `pypdb` API.\n",
        "\n",
        "We will use both packages in this notebook: `biotite` to quickly filter down the many structures in the PDB given certain criteria and `pypdb` to download metadata and structural files for specific PDB entries of interest."
      ]
    },
    {
      "cell_type": "markdown",
      "metadata": {
        "tags": [],
        "id": "caZUc04q0bS7"
      },
      "source": [
        "## Let's Begin"
      ]
    },
    {
      "cell_type": "code",
      "source": [
        "#Install Conda - Kernal Restart will take place\n",
        "!pip install -q condacolab\n",
        "import condacolab\n",
        "condacolab.install()"
      ],
      "metadata": {
        "id": "EHvqa-Dl0onW"
      },
      "execution_count": null,
      "outputs": []
    },
    {
      "cell_type": "code",
      "source": [
        "# Install mamba\n",
        "!conda install -c conda-forge mamba -y\n",
        "\n",
        "# Use mamba to install packages\n",
        "!mamba install -c conda-forge -c defaults python=3.8 -y\n",
        "!mamba install -c conda-forge -c defaults biopython=1.77 -y\n",
        "!mamba install -c conda-forge -c defaults pip -y\n",
        "!mamba install -c conda-forge -c defaults jupyterlab=3 -y\n",
        "!mamba install -c conda-forge -c defaults jupyter_client=7.4.9 -y\n",
        "!mamba install -c conda-forge -c defaults scikit-learn -y\n",
        "!mamba install -c conda-forge -c defaults seaborn -y\n",
        "!mamba install -c conda-forge -c defaults matplotlib-venn -y\n",
        "!mamba install -c conda-forge -c defaults rdkit -y\n",
        "!mamba install -c conda-forge -c defaults pypdb -y\n",
        "!mamba install -c conda-forge -c defaults biotite -y\n",
        "!mamba install -c conda-forge -c defaults 'mdanalysis>=1.0.0' -y\n",
        "!mamba install -c conda-forge -c defaults beautifulsoup4 requests tqdm redo requests-cache -y"
      ],
      "metadata": {
        "collapsed": true,
        "id": "fhnGCeONQp6E"
      },
      "execution_count": null,
      "outputs": []
    },
    {
      "cell_type": "code",
      "source": [
        "!pip install git+https://github.com/volkamerlab/opencadd.git"
      ],
      "metadata": {
        "collapsed": true,
        "id": "Qr90oqoBREZG"
      },
      "execution_count": null,
      "outputs": []
    },
    {
      "cell_type": "code",
      "source": [
        "from opencadd.structure.superposition.api import align, METHODS\n",
        "from opencadd.structure.core import Structure"
      ],
      "metadata": {
        "id": "A5ykpcJ5oq9z"
      },
      "execution_count": null,
      "outputs": []
    },
    {
      "cell_type": "code",
      "execution_count": null,
      "metadata": {
        "id": "NvWjM4j_0bS7"
      },
      "outputs": [],
      "source": [
        "import collections\n",
        "import logging\n",
        "import pathlib\n",
        "import time\n",
        "import warnings\n",
        "import datetime\n",
        "\n",
        "import pandas as pd\n",
        "import matplotlib.pyplot as plt\n",
        "from bs4 import BeautifulSoup\n",
        "import requests\n",
        "from tqdm.auto import tqdm\n",
        "import redo\n",
        "import requests_cache\n",
        "import pypdb\n",
        "import biotite.database.rcsb as rcsb\n",
        "from rdkit.Chem import Draw\n",
        "from rdkit.Chem import PandasTools\n",
        "\n",
        "from opencadd.structure.superposition.api import align, METHODS\n",
        "from opencadd.structure.core import Structure\n",
        "\n",
        "# Disable some unneeded warnings\n",
        "logger = logging.getLogger(\"opencadd\")\n",
        "logger.setLevel(logging.ERROR)\n",
        "warnings.filterwarnings(\"ignore\")\n",
        "\n",
        "# Cache requests -- this will speed up repeated queries to PDB\n",
        "requests_cache.install_cache(\"rcsb_pdb\", backend=\"memory\")"
      ]
    },
    {
      "cell_type": "code",
      "source": [
        "!pip install nglview==3.0.8\n",
        "!pip install \"ipywidgets>=7,<8\""
      ],
      "metadata": {
        "id": "4_G2BS8zsh_-"
      },
      "execution_count": null,
      "outputs": []
    },
    {
      "cell_type": "code",
      "source": [
        "!jupyter-nbextension enable nglview --py --sys-prefix"
      ],
      "metadata": {
        "id": "Bsl63Nylszd6"
      },
      "execution_count": null,
      "outputs": []
    },
    {
      "cell_type": "code",
      "source": [
        "from google.colab import output\n",
        "output.enable_custom_widget_manager()"
      ],
      "metadata": {
        "id": "zEfx8WIItAE6"
      },
      "execution_count": null,
      "outputs": []
    },
    {
      "cell_type": "code",
      "source": [
        "import ipywidgets as widgets\n",
        "from IPython.display import display\n",
        "import os\n",
        "import sys\n",
        "from urllib.request import urlretrieve\n",
        "import Bio\n",
        "from Bio import PDB\n",
        "from Bio import SeqIO, SearchIO, Entrez\n",
        "from Bio.Seq import Seq\n",
        "import pylab\n",
        "import urllib\n",
        "import nglview as nv\n",
        "from collections import Counter\n",
        "from Bio.PDB import PDBParser,MMCIFParser"
      ],
      "metadata": {
        "id": "NGgyTkjRtFQE"
      },
      "execution_count": null,
      "outputs": []
    },
    {
      "cell_type": "markdown",
      "source": [
        "Now we are going to define our path, which will be 'content' directory of this notebook."
      ],
      "metadata": {
        "id": "E0_0BfxPCXie"
      }
    },
    {
      "cell_type": "code",
      "execution_count": null,
      "metadata": {
        "id": "fmeI8Pwy0bS_"
      },
      "outputs": [],
      "source": [
        "# Define paths\n",
        "HERE = pathlib.Path(_dh[-1])\n",
        "DATA = pathlib.Path('/content/')"
      ]
    },
    {
      "cell_type": "markdown",
      "metadata": {
        "id": "vooP7scV0bS_"
      },
      "source": [
        "### Select a query protein\n",
        "\n",
        "We use EGFR as query protein for this talktorial. The UniProt ID of EGFR is `P00533`, which will be used in the following to query the PDB database."
      ]
    },
    {
      "cell_type": "code",
      "execution_count": null,
      "metadata": {
        "id": "9YM8cWLE0bTA"
      },
      "outputs": [],
      "source": [
        "uniprot_id = \"P00533\""
      ]
    },
    {
      "cell_type": "markdown",
      "metadata": {
        "id": "o3V6XnOU0bTA"
      },
      "source": [
        "### Get the number of PDB entries for a query protein"
      ]
    },
    {
      "cell_type": "markdown",
      "metadata": {
        "id": "hnoquDmI0bTA"
      },
      "source": [
        "How many structures are available in the PDB for EGFR (at the time this notebook was last run)?"
      ]
    },
    {
      "cell_type": "code",
      "execution_count": null,
      "metadata": {
        "collapsed": true,
        "id": "Zg-AYUrH0bTB"
      },
      "outputs": [],
      "source": [
        "query_by_uniprot_id = rcsb.FieldQuery(\n",
        "    \"rcsb_polymer_entity_container_identifiers.reference_sequence_identifiers.database_accession\",\n",
        "    exact_match=uniprot_id,\n",
        ")\n",
        "today = datetime.datetime.now()\n",
        "print(\n",
        "    f\"Number of structures on {today.year}-{today.month}-{today.day}: {rcsb.count(query_by_uniprot_id)}\"\n",
        ")"
      ]
    },
    {
      "cell_type": "markdown",
      "metadata": {
        "id": "HW8xnfUl0bTB"
      },
      "source": [
        "#General PDB statistics\n",
        "How many structures were available in every year since the [PDB was established in 1971](https://www.rcsb.org/pages/about-us/history)?"
      ]
    },
    {
      "cell_type": "code",
      "execution_count": null,
      "metadata": {
        "id": "nGAa47hX0bTC"
      },
      "outputs": [],
      "source": [
        "# Define lists for years and number of structures available in a given year\n",
        "years = range(1971, datetime.datetime.now().year)\n",
        "n_structures = []\n",
        "\n",
        "for year in years:\n",
        "    # Set latest date for allowed deposition\n",
        "    before_deposition_date = f\"{year}-12-31T23:59:59Z\"\n",
        "    # Set up query for structures deposited latest at given date\n",
        "    query_by_deposition_date = rcsb.FieldQuery(\n",
        "        \"rcsb_accession_info.deposit_date\", less_or_equal=before_deposition_date\n",
        "    )\n",
        "    # Set up combined query\n",
        "    query = rcsb.CompositeQuery(\n",
        "        [query_by_uniprot_id, query_by_deposition_date],\n",
        "        \"and\",\n",
        "    )\n",
        "    # Count matching structures and add to list\n",
        "    n_structures.append(rcsb.count(query))\n",
        "    # wait shortly to not overload the API\n",
        "    time.sleep(0.1)"
      ]
    },
    {
      "cell_type": "markdown",
      "metadata": {
        "id": "6xKJ1qm80bTC"
      },
      "source": [
        "Plot the results!"
      ]
    },
    {
      "cell_type": "code",
      "execution_count": null,
      "metadata": {
        "id": "Ai5hxjo50bTC"
      },
      "outputs": [],
      "source": [
        "plt.plot(years, n_structures)\n",
        "plt.title(\"PDB entries for EGFR\")\n",
        "plt.xlabel(\"Year\")\n",
        "plt.ylabel(\"Number of structures available in a given year\");"
      ]
    },
    {
      "cell_type": "markdown",
      "metadata": {
        "id": "lJXWqFZc0bTD"
      },
      "source": [
        "### Find PDB entries fullfilling certain conditions\n",
        "\n",
        "We will search for PDB IDs describing structures in the PDB that fulfill the following criteria:\n",
        "\n",
        "- **Structures for UniProt ID P00533**: This is our target of interest, EGFR!\n",
        "\n",
        "- **Structure resolved by X-ray crystallography**: We could include all methods but let's check out the API on how we can select experimental methods.\n",
        "- **Structure has a resolution less than or equal to 3.0**: The lower the resolution value, the higher is the quality of the structure, i.e. the certainty that the assigned 3D coordinates of the atoms are correct. Atomic orientations can be determined below 3 Å. Thus, this threshold is often used for structures relevant for structure-based drug design.\n",
        "- **Structure has only one chain**: We do this to make our lives easier lateron.\n",
        "- **Structure has a ligand with molecular weight greater than 100.0 Da**: PDB-annotated ligands can be ligands, but also solvents and ions. In order to filter only ligand-bound structures, we keep only structures with annotated ligand of a at least 100.0 Da (many solvents and ions weight less). Note: this is a simple, but not comprehensive exclusion of solvents and ions."
      ]
    },
    {
      "cell_type": "markdown",
      "metadata": {
        "id": "zUt4Bh490bTE"
      },
      "source": [
        "We define our criteria (Read above)."
      ]
    },
    {
      "cell_type": "code",
      "execution_count": null,
      "metadata": {
        "id": "BMSSRGHf0bTE"
      },
      "outputs": [],
      "source": [
        "uniprot_id = \"P00533\"\n",
        "experimental_method = \"X-RAY DIFFRACTION\"\n",
        "max_resolution = 3.0\n",
        "n_chains = 1\n",
        "min_ligand_molecular_weight = 100.0"
      ]
    },
    {
      "cell_type": "markdown",
      "metadata": {
        "id": "w0VWaFyI0bTF"
      },
      "source": [
        "We set up each query."
      ]
    },
    {
      "cell_type": "code",
      "execution_count": null,
      "metadata": {
        "id": "uLRQbgLm0bTF"
      },
      "outputs": [],
      "source": [
        "query_by_uniprot_id = rcsb.FieldQuery(\n",
        "    \"rcsb_polymer_entity_container_identifiers.reference_sequence_identifiers.database_accession\",\n",
        "    exact_match=uniprot_id,\n",
        ")\n",
        "query_by_experimental_method = rcsb.FieldQuery(\"exptl.method\", exact_match=experimental_method)\n",
        "query_by_resolution = rcsb.FieldQuery(\n",
        "    \"rcsb_entry_info.resolution_combined\", less_or_equal=max_resolution\n",
        ")\n",
        "query_by_polymer_count = rcsb.FieldQuery(\n",
        "    \"rcsb_entry_info.deposited_polymer_entity_instance_count\", equals=n_chains\n",
        ")\n",
        "query_by_ligand_mw = rcsb.FieldQuery(\n",
        "    \"chem_comp.formula_weight\", molecular_definition=True, greater=min_ligand_molecular_weight\n",
        ")"
      ]
    },
    {
      "cell_type": "markdown",
      "metadata": {
        "id": "fsLW-w-J0bTG"
      },
      "source": [
        "We perform each of the queries alone and check the number of matches per condition."
      ]
    },
    {
      "cell_type": "code",
      "execution_count": null,
      "metadata": {
        "collapsed": true,
        "id": "dZqGmWJL0bTG"
      },
      "outputs": [],
      "source": [
        "print(f\"Number of structures with UniProt ID {uniprot_id}: {rcsb.count(query_by_uniprot_id)}\")\n",
        "time.sleep(0.1)  # wait shortly to not overload the API\n",
        "print(\n",
        "    f\"Number of structures resolved by {experimental_method}: {rcsb.count(query_by_experimental_method)}\"\n",
        ")\n",
        "time.sleep(0.1)\n",
        "print(\n",
        "    f\"Number of structures with resolution less than or equal to {max_resolution}: {rcsb.count(query_by_resolution)}\"\n",
        ")\n",
        "time.sleep(0.1)\n",
        "print(f\"Number of structures with only {n_chains} chain: {rcsb.count(query_by_polymer_count)}\")\n",
        "time.sleep(0.1)\n",
        "print(\n",
        "    f\"Number of structures with ligand of more than or equal to {min_ligand_molecular_weight} Da: {rcsb.count(query_by_ligand_mw)}\"\n",
        ")"
      ]
    },
    {
      "cell_type": "markdown",
      "metadata": {
        "id": "VQIZqEkE0bTH"
      },
      "source": [
        "We combine all queries with the `and` operator to match only PDB IDs that fulfill all the conditions."
      ]
    },
    {
      "cell_type": "code",
      "execution_count": null,
      "metadata": {
        "id": "-V9ws-V10bTH"
      },
      "outputs": [],
      "source": [
        "query = rcsb.CompositeQuery(\n",
        "    [\n",
        "        query_by_uniprot_id,\n",
        "        query_by_experimental_method,\n",
        "        query_by_resolution,\n",
        "        query_by_polymer_count,\n",
        "        query_by_ligand_mw,\n",
        "    ],\n",
        "    \"and\",\n",
        ")\n",
        "pdb_ids = rcsb.search(query)\n",
        "print(f\"Number of matches: {len(pdb_ids)}\")\n",
        "print(\"Selected PDB IDs:\")\n",
        "print(*pdb_ids)"
      ]
    },
    {
      "cell_type": "markdown",
      "metadata": {
        "id": "DkSmxb8f0bTI"
      },
      "source": [
        "### Select PDB entries with the hightest resolution"
      ]
    },
    {
      "cell_type": "markdown",
      "metadata": {
        "id": "Omj7zn060bTI"
      },
      "source": [
        "So far we have used certain search criteria to find PDB entries of interest.\n",
        "\n",
        "At the moment, we cannot access the structures' resolution directly via `biotite`; with `biotite` we can only check if the resolution fullfils a certain condition. Instead we download the full metadata for our selected PDB IDs. To this end, we use from the `pypdb` package the method `describe_pdb`. Each structure's metadata is returned as a dictionary.\n",
        "\n",
        "Note: we only fetch meta information on PDB structures here, we do not fetch the structures (3D coordinates), yet.\n",
        "\n",
        "> The `redo.retriable` line is a _decorator_. This wraps the function and provides extra functionality. In this case, it will retry failed queries automatically (10 times maximum)."
      ]
    },
    {
      "cell_type": "code",
      "execution_count": null,
      "metadata": {
        "scrolled": true,
        "id": "QuhSO3rv0bTI"
      },
      "outputs": [],
      "source": [
        "@redo.retriable(attempts=10, sleeptime=2)\n",
        "def describe_one_pdb_id(pdb_id):\n",
        "    \"\"\"Fetch meta information from PDB.\"\"\"\n",
        "    described = pypdb.describe_pdb(pdb_id)\n",
        "    if described is None:\n",
        "        print(f\"! Error while fetching {pdb_id}, retrying ...\")\n",
        "        raise ValueError(f\"Could not fetch PDB id {pdb_id}\")\n",
        "    return described"
      ]
    },
    {
      "cell_type": "code",
      "execution_count": null,
      "metadata": {
        "tags": [],
        "id": "LJ2Qvwra0bTJ"
      },
      "outputs": [],
      "source": [
        "pdbs_data = [describe_one_pdb_id(pdb_id) for pdb_id in tqdm(pdb_ids)]"
      ]
    },
    {
      "cell_type": "markdown",
      "metadata": {
        "id": "5soEgsUv0bTK"
      },
      "source": [
        "Let's take a look at the metadata of the first PDB IDs (keys only because the dictionary contains a lot of information, which we do not want to print here). Find more more information about the PDB metadata in the [Beginner's Guide to PDB Structures and the PDBx/mmCIF Format](https://pdb101.rcsb.org/learn/guide-to-understanding-pdb-data/beginner%E2%80%99s-guide-to-pdb-structures-and-the-pdbx-mmcif-format)."
      ]
    },
    {
      "cell_type": "code",
      "execution_count": null,
      "metadata": {
        "id": "9cA4b6Zo0bTL"
      },
      "outputs": [],
      "source": [
        "print(\"\\n\".join(pdbs_data[0].keys()))"
      ]
    },
    {
      "cell_type": "markdown",
      "metadata": {
        "id": "BsYb8lIw0bTL"
      },
      "source": [
        "Let's take a closer look at two keys that will be of interest to us: The `\"entry\"` key which contains the PDB ID (`\"id\"`) and the `\"rcsb_entry_info\"` key which contains amongst others the structure's resolution (`\"resolution_combined\"`)."
      ]
    },
    {
      "cell_type": "code",
      "execution_count": null,
      "metadata": {
        "id": "rmZn8kAj0bTU"
      },
      "outputs": [],
      "source": [
        "pdbs_data[0][\"entry\"]"
      ]
    },
    {
      "cell_type": "code",
      "execution_count": null,
      "metadata": {
        "id": "Bh3VYfWJ0bTU"
      },
      "outputs": [],
      "source": [
        "pdbs_data[0][\"rcsb_entry_info\"]"
      ]
    },
    {
      "cell_type": "markdown",
      "metadata": {
        "id": "N_P2TAC_0bTV"
      },
      "source": [
        "Now we save the resolution per PDB ID as `pandas` DataFrame, sorted by the resolution in ascending order."
      ]
    },
    {
      "cell_type": "code",
      "execution_count": null,
      "metadata": {
        "id": "J-M6xtS40bTV"
      },
      "outputs": [],
      "source": [
        "resolution = pd.DataFrame(\n",
        "    [\n",
        "        [pdb_data[\"entry\"][\"id\"], pdb_data[\"rcsb_entry_info\"][\"resolution_combined\"][0]]\n",
        "        for pdb_data in pdbs_data\n",
        "    ],\n",
        "    columns=[\"pdb_id\", \"resolution\"],\n",
        ").sort_values(by=\"resolution\", ignore_index=True)\n",
        "resolution"
      ]
    },
    {
      "cell_type": "code",
      "source": [
        "resolution.to_csv('resolution_data.csv', index=False)"
      ],
      "metadata": {
        "id": "POvvMYYyWt9s"
      },
      "execution_count": null,
      "outputs": []
    },
    {
      "cell_type": "markdown",
      "metadata": {
        "id": "6RsFTsLS0bTW"
      },
      "source": [
        "### Get metadata of ligands from top structures"
      ]
    },
    {
      "cell_type": "code",
      "execution_count": null,
      "metadata": {
        "id": "8V5rJo210bTW"
      },
      "outputs": [],
      "source": [
        "top_num = 6  # Number of top structures"
      ]
    },
    {
      "cell_type": "markdown",
      "metadata": {
        "id": "l4IdOHb-0bTW"
      },
      "source": [
        "In the next talktorial, we will build ligand-based ensemble pharmacophores from the top `top_num` structures with the highest resolution."
      ]
    },
    {
      "cell_type": "code",
      "execution_count": null,
      "metadata": {
        "id": "O0giBfwW0bTX"
      },
      "outputs": [],
      "source": [
        "selected_pdb_ids = resolution[:top_num][\"pdb_id\"].to_list()\n",
        "print(f\"Selected PDB IDs: {selected_pdb_ids}\")"
      ]
    },
    {
      "cell_type": "markdown",
      "metadata": {
        "id": "hWloOtA70bTY"
      },
      "source": [
        "The selected highest resolution PDB entries can contain ligands targeting different binding sites, e.g. allosteric and orthosteric ligands, which would hamper ligand-based pharmacophore generation. Thus, we will focus on the following 4 structures, which contain ligands in the orthosteric binding pocket. The code provided later in the notebook can be used to verify this."
      ]
    },
    {
      "cell_type": "code",
      "execution_count": null,
      "metadata": {
        "id": "RIV8UM6I0bTZ"
      },
      "outputs": [],
      "source": [
        "selected_pdb_ids = [\"5UG9\", \"5HG8\", \"5UG8\", \"5UGC\"]\n",
        "print(f\"Selected PDB IDs (frozen set): {selected_pdb_ids}\")"
      ]
    },
    {
      "cell_type": "markdown",
      "metadata": {
        "id": "4wCDG0Lu0bTa"
      },
      "source": [
        "We fetch the PDB information about the top `top_num` ligands using `get_ligands`, to be stored as *csv* file (as dictionary per ligand).\n",
        "\n",
        "If a structure contains several ligands, we select the largest ligand. Note: this is a simple, but not comprehensive method to select a ligand in the binding site of a protein. This approach may also select a cofactor bound to the protein. Therefore, please check the automatically selected top ligands visually before further usage."
      ]
    },
    {
      "cell_type": "code",
      "execution_count": null,
      "metadata": {
        "id": "92OCz6r80bTa"
      },
      "outputs": [],
      "source": [
        "def get_ligands(pdb_id):\n",
        "    \"\"\"\n",
        "    RCSB has not provided a new endpoint for ligand information yet. As a\n",
        "    workaround we are obtaining extra information from ligand-expo.rcsb.org,\n",
        "    using HTML parsing. Check Talktorial T011 for more info on this technique!\n",
        "    \"\"\"\n",
        "    pdb_info = _fetch_pdb_nonpolymer_info(pdb_id)\n",
        "    ligand_expo_ids = [\n",
        "        nonpolymer_entities[\"pdbx_entity_nonpoly\"][\"comp_id\"]\n",
        "        for nonpolymer_entities in pdb_info[\"data\"][\"entry\"][\"nonpolymer_entities\"]\n",
        "    ]\n",
        "\n",
        "    ligands = {}\n",
        "    for ligand_expo_id in ligand_expo_ids:\n",
        "        ligand_expo_info = _fetch_ligand_expo_info(ligand_expo_id)\n",
        "        ligands[ligand_expo_id] = ligand_expo_info\n",
        "\n",
        "    return ligands\n",
        "\n",
        "\n",
        "def _fetch_pdb_nonpolymer_info(pdb_id):\n",
        "    \"\"\"\n",
        "    Fetch nonpolymer data from rcsb.org.\n",
        "    Thanks @BJWiley233 and Rachel Green for this GraphQL solution.\n",
        "    \"\"\"\n",
        "    query = (\n",
        "        \"\"\"{\n",
        "          entry(entry_id: \"%s\") {\n",
        "            nonpolymer_entities {\n",
        "              pdbx_entity_nonpoly {\n",
        "                comp_id\n",
        "                name\n",
        "                rcsb_prd_id\n",
        "              }\n",
        "            }\n",
        "          }\n",
        "        }\"\"\"\n",
        "        % pdb_id\n",
        "    )\n",
        "\n",
        "    query_url = f\"https://data.rcsb.org/graphql?query={query}\"\n",
        "    response = requests.get(query_url)\n",
        "    response.raise_for_status()\n",
        "    info = response.json()\n",
        "    return info\n",
        "\n",
        "\n",
        "def _fetch_ligand_expo_info(ligand_expo_id):\n",
        "    \"\"\"\n",
        "    Fetch ligand data from ligand-expo.rcsb.org.\n",
        "    \"\"\"\n",
        "    r = requests.get(f\"http://ligand-expo.rcsb.org/reports/{ligand_expo_id[0]}/{ligand_expo_id}/\")\n",
        "    r.raise_for_status()\n",
        "    html = BeautifulSoup(r.text)\n",
        "    info = {}\n",
        "    for table in html.find_all(\"table\"):\n",
        "        for row in table.find_all(\"tr\"):\n",
        "            cells = row.find_all(\"td\")\n",
        "            if len(cells) != 2:\n",
        "                continue\n",
        "            key, value = cells\n",
        "            if key.string and key.string.strip():\n",
        "                info[key.string.strip()] = \"\".join(value.find_all(string=True))\n",
        "\n",
        "    # Postprocess some known values\n",
        "    info[\"Molecular weight\"] = float(info[\"Molecular weight\"].split()[0])\n",
        "    info[\"Formal charge\"] = int(info[\"Formal charge\"])\n",
        "    info[\"Atom count\"] = int(info[\"Atom count\"])\n",
        "    info[\"Chiral atom count\"] = int(info[\"Chiral atom count\"])\n",
        "    info[\"Bond count\"] = int(info[\"Bond count\"])\n",
        "    info[\"Aromatic bond count\"] = int(info[\"Aromatic bond count\"])\n",
        "    return info"
      ]
    },
    {
      "cell_type": "code",
      "execution_count": null,
      "metadata": {
        "id": "vkhx-gyA0bTb"
      },
      "outputs": [],
      "source": [
        "columns = [\n",
        "    \"@structureId\",\n",
        "    \"@chemicalID\",\n",
        "    \"@type\",\n",
        "    \"@molecularWeight\",\n",
        "    \"chemicalName\",\n",
        "    \"formula\",\n",
        "    \"InChI\",\n",
        "    \"InChIKey\",\n",
        "    \"smiles\",\n",
        "]\n",
        "rows = []\n",
        "for pdb_id in selected_pdb_ids:\n",
        "    ligands = get_ligands(pdb_id)\n",
        "    # If several ligands contained, take largest (first in results)\n",
        "    ligand_id, properties = max(ligands.items(), key=lambda kv: kv[1][\"Molecular weight\"])\n",
        "    rows.append(\n",
        "        [\n",
        "            pdb_id,\n",
        "            ligand_id,\n",
        "            properties[\"Component type\"],\n",
        "            properties[\"Molecular weight\"],\n",
        "            properties[\"Name\"],\n",
        "            properties[\"Formula\"],\n",
        "            properties[\"InChI descriptor\"],\n",
        "            properties[\"InChIKey descriptor\"],\n",
        "            properties[\"Stereo SMILES (OpenEye)\"],\n",
        "        ]\n",
        "    )"
      ]
    },
    {
      "cell_type": "code",
      "execution_count": null,
      "metadata": {
        "id": "eVPL_0Zx0bTb"
      },
      "outputs": [],
      "source": [
        "# NBVAL_CHECK_OUTPUT\n",
        "# Change the format to DataFrame\n",
        "ligands = pd.DataFrame(rows, columns=columns)\n",
        "ligands"
      ]
    },
    {
      "cell_type": "code",
      "execution_count": null,
      "metadata": {
        "id": "Ltaa37so0bTc"
      },
      "outputs": [],
      "source": [
        "ligands.to_csv(DATA / \"PDB_top_ligands.csv\", header=True, index=False)"
      ]
    },
    {
      "cell_type": "markdown",
      "metadata": {
        "id": "H6nWpUqv0bTc"
      },
      "source": [
        "### Draw top ligand molecules"
      ]
    },
    {
      "cell_type": "code",
      "execution_count": null,
      "metadata": {
        "id": "Zlz2wYK10bTd",
        "outputId": "2d0e421b-d2c4-4413-ddfc-5153db0716f1",
        "colab": {
          "base_uri": "https://localhost:8080/",
          "height": 217
        }
      },
      "outputs": [
        {
          "output_type": "execute_result",
          "data": {
            "image/png": "[encoded data removed]",
            "text/plain": [
              "<IPython.core.display.Image object>"
            ]
          },
          "metadata": {},
          "execution_count": 32
        }
      ],
      "source": [
        "PandasTools.AddMoleculeColumnToFrame(ligands, \"smiles\")\n",
        "Draw.MolsToGridImage(\n",
        "    mols=list(ligands.ROMol),\n",
        "    legends=list(ligands[\"@chemicalID\"] + \", \" + ligands[\"@structureId\"]),\n",
        "    molsPerRow=top_num,\n",
        ")"
      ]
    },
    {
      "cell_type": "markdown",
      "metadata": {
        "id": "UjpnACZx0bTd"
      },
      "source": [
        "### Create protein-ligand ID pairs"
      ]
    },
    {
      "cell_type": "code",
      "execution_count": null,
      "metadata": {
        "id": "89wimK4O0bTe",
        "outputId": "db6cee03-cb37-4c28-9806-865ff485737f",
        "colab": {
          "base_uri": "https://localhost:8080/"
        }
      },
      "outputs": [
        {
          "output_type": "execute_result",
          "data": {
            "text/plain": [
              "OrderedDict([('5UG9', '8AM'),\n",
              "             ('5HG8', '634'),\n",
              "             ('5UG8', '8BP'),\n",
              "             ('5UGC', '8BS')])"
            ]
          },
          "metadata": {},
          "execution_count": 33
        }
      ],
      "source": [
        "# NBVAL_CHECK_OUTPUT\n",
        "pairs = collections.OrderedDict(zip(ligands[\"@structureId\"], ligands[\"@chemicalID\"]))\n",
        "pairs"
      ]
    },
    {
      "cell_type": "markdown",
      "metadata": {
        "id": "YpIg6Dj70bTe"
      },
      "source": [
        "### Align PDB structures and extract ligands\n",
        "\n",
        "Since we want to build ligand-based ensemble pharmacophores in the next talktorial, it is necessary to align all structures to each other in 3D.\n",
        "\n",
        "We will use the Python package `opencadd` ([repository](https://github.com/volkamerlab/opencadd)), which includes a 3D superposition subpackage  to guide the structural alignment of the proteins. The approach is based on superposition guided by sequence alignment of provided matched residues. There are other methods in the package, but this simple one will be enough for the task at hand."
      ]
    },
    {
      "cell_type": "markdown",
      "metadata": {
        "id": "aMU1Gl7a0bTf"
      },
      "source": [
        "#### Get the PDB structure files\n",
        "\n",
        "We now fetch the PDB structure files, i.e. 3D coordinates of the protein, ligand (and if available other atomic or molecular entities such as cofactors, water molecules, and ions) from the PDB using `opencadd.structure.superposition`.\n",
        "\n",
        "Available file formats are *pdb* and *cif*, which store the 3D coordinations of atoms of the protein (and ligand, cofactors, water molecules, and ions) as well as information on bonds between atoms. Here, we work with *pdb* files."
      ]
    },
    {
      "cell_type": "code",
      "execution_count": null,
      "metadata": {
        "id": "_xSWLT5F0bTf",
        "outputId": "da481e50-d7cc-4923-a0fc-8bcc7f4c3d89",
        "colab": {
          "base_uri": "https://localhost:8080/"
        }
      },
      "outputs": [
        {
          "output_type": "execute_result",
          "data": {
            "text/plain": [
              "[<Universe with 2664 atoms>,\n",
              " <Universe with 2716 atoms>,\n",
              " <Universe with 2632 atoms>,\n",
              " <Universe with 2542 atoms>]"
            ]
          },
          "metadata": {},
          "execution_count": 34
        }
      ],
      "source": [
        "# Download PDB structures\n",
        "structures = [Structure.from_pdbid(pdb_id) for pdb_id in pairs]\n",
        "structures"
      ]
    },
    {
      "cell_type": "markdown",
      "metadata": {
        "jp-MarkdownHeadingCollapsed": true,
        "tags": [],
        "id": "BsGolzP10bTg"
      },
      "source": [
        "#### Extract protein and ligand\n",
        "\n",
        "Extract protein and ligand from the structure in order to remove solvent and other artifacts of crystallography."
      ]
    },
    {
      "cell_type": "code",
      "execution_count": null,
      "metadata": {
        "id": "3ZDKwDKQ0bTg",
        "outputId": "dfe70777-92a4-4a32-b29f-f436b944fb37",
        "colab": {
          "base_uri": "https://localhost:8080/"
        }
      },
      "outputs": [
        {
          "output_type": "execute_result",
          "data": {
            "text/plain": [
              "[<Universe with 2330 atoms>,\n",
              " <Universe with 2491 atoms>,\n",
              " <Universe with 2319 atoms>,\n",
              " <Universe with 2320 atoms>]"
            ]
          },
          "metadata": {},
          "execution_count": 35
        }
      ],
      "source": [
        "complexes = [\n",
        "    Structure.from_atomgroup(structure.select_atoms(f\"protein or resname {ligand}\"))\n",
        "    for structure, ligand in zip(structures, pairs.values())\n",
        "]\n",
        "complexes"
      ]
    },
    {
      "cell_type": "code",
      "execution_count": null,
      "metadata": {
        "id": "3sha-v2-0bTg"
      },
      "outputs": [],
      "source": [
        "# Write complex to file\n",
        "for complex_, pdb_id in zip(complexes, pairs.keys()):\n",
        "    complex_.write(DATA / f\"{pdb_id}.pdb\")"
      ]
    },
    {
      "cell_type": "markdown",
      "source": [
        "#Ideally we are done here.\n",
        "We learned how to search PDB with the help of Notebook, also we remained able to pick our desired structures with some sort of filteration. Finally you are required to **Download** the Top_ligand file. We will use them in Part-8, to generate some pharmacophore models on them.\n",
        "\n",
        "Good Luck⛹\n",
        "\n",
        "If you want to run the below codes, can but not necessary"
      ],
      "metadata": {
        "id": "IZ86iqD3fDUH"
      }
    },
    {
      "cell_type": "markdown",
      "metadata": {
        "id": "G8iYliyS0bTh"
      },
      "source": [
        "#### Extra Work - Align proteins\n",
        "\n",
        "Align complexes (based on protein atoms)."
      ]
    },
    {
      "cell_type": "code",
      "source": [
        "# Import necessary libraries\n",
        "import nglview as nv\n",
        "from io import StringIO\n",
        "from Bio.PDB import PDBParser, PDBIO, Superimposer\n",
        "\n",
        "# Parse the PDB files\n",
        "parser = PDBParser()\n",
        "struct1 = parser.get_structure(\"struct1\", \"/content/5HG8.pdb\")\n",
        "struct2 = parser.get_structure(\"struct2\", \"/content/5UG8.pdb\")\n",
        "struct3 = parser.get_structure(\"struct3\", \"/content/5UG9.pdb\")\n",
        "struct4 = parser.get_structure(\"struct4\", \"/content/5UGC.pdb\")\n",
        "\n",
        "# Create a Superimposer object\n",
        "sup = Superimposer()\n",
        "\n",
        "# Define the fixed and moving atoms\n",
        "fixed_atoms = list(struct1.get_atoms())\n",
        "moving_atoms = [list(struct2.get_atoms()), list(struct3.get_atoms()), list(struct4.get_atoms())]\n",
        "\n",
        "# Ensure the lists have the same size\n",
        "min_size = min(len(fixed_atoms), min(len(atoms) for atoms in moving_atoms))\n",
        "fixed_atoms = fixed_atoms[:min_size]\n",
        "moving_atoms = [atoms[:min_size] for atoms in moving_atoms]\n",
        "\n",
        "# Perform the alignment\n",
        "for atoms in moving_atoms:\n",
        "    sup.set_atoms(fixed_atoms, atoms)\n",
        "    sup.apply(atoms)\n",
        "\n",
        "# Function to convert a Biopython structure to a PDB string\n",
        "def structure_to_pdb_string(structure):\n",
        "    pdb_io = PDBIO()\n",
        "    pdb_io.set_structure(structure)\n",
        "    string_io = StringIO()\n",
        "    pdb_io.save(string_io)\n",
        "    pdb_string = string_io.getvalue()\n",
        "    return pdb_string\n",
        "\n",
        "# Convert aligned structures to PDB strings\n",
        "fixed_pdb_string = structure_to_pdb_string(struct1)\n",
        "moving_pdb_strings = [structure_to_pdb_string(struct) for struct in [struct2, struct3, struct4]]\n",
        "\n",
        "# Create file-like objects from PDB strings\n",
        "fixed_file_obj = StringIO(fixed_pdb_string)\n",
        "moving_file_objs = [StringIO(pdb_str) for pdb_str in moving_pdb_strings]\n",
        "\n",
        "# Visualize the structures with nglview\n",
        "view = nv.NGLWidget()\n",
        "view.add_component(fixed_file_obj, ext=\"pdb\")\n",
        "for file_obj in moving_file_objs:\n",
        "    view.add_component(file_obj, ext=\"pdb\")"
      ],
      "metadata": {
        "id": "HXTL2xXgyj7p"
      },
      "execution_count": null,
      "outputs": []
    },
    {
      "cell_type": "code",
      "source": [
        "view"
      ],
      "metadata": {
        "id": "TUfaSLL1yqn1"
      },
      "execution_count": null,
      "outputs": []
    },
    {
      "cell_type": "markdown",
      "metadata": {
        "id": "Dg6xiiG40bTh"
      },
      "source": [
        "`nglview` can be used to visualize molecular data within Jupyter notebooks. With the next cell we will visualize out aligned protein-ligand complexes."
      ]
    },
    {
      "cell_type": "markdown",
      "source": [
        "Support for third party widgets will remain active for the duration of the session. To disable support:"
      ],
      "metadata": {
        "id": "ahA_f0VxzwVY"
      }
    },
    {
      "cell_type": "markdown",
      "source": [
        "Support for third party widgets will remain active for the duration of the session. To disable support:"
      ],
      "metadata": {
        "id": "zccKB1Wy1wfJ"
      }
    },
    {
      "cell_type": "code",
      "execution_count": null,
      "metadata": {
        "id": "jROAQHkX0bTi"
      },
      "outputs": [],
      "source": [
        "view.render_image(trim=True, factor=2, transparent=True);"
      ]
    },
    {
      "cell_type": "code",
      "source": [
        "image_data = view._display_image()\n"
      ],
      "metadata": {
        "id": "lET8gYcazY1E"
      },
      "execution_count": null,
      "outputs": []
    },
    {
      "cell_type": "code",
      "source": [
        "view._display_image()"
      ],
      "metadata": {
        "id": "f5PbOFwkzr1n"
      },
      "execution_count": null,
      "outputs": []
    },
    {
      "cell_type": "markdown",
      "metadata": {
        "id": "5Vtqw1Wy0bTj"
      },
      "source": [
        "#### Extract ligands"
      ]
    },
    {
      "cell_type": "code",
      "execution_count": null,
      "metadata": {
        "id": "ZrhSVtOB0bTj",
        "outputId": "8b61620c-7dee-485c-e21e-e3bdd7c4c7d9",
        "colab": {
          "base_uri": "https://localhost:8080/"
        }
      },
      "outputs": [
        {
          "output_type": "execute_result",
          "data": {
            "text/plain": [
              "[<Universe with 32 atoms>,\n",
              " <Universe with 28 atoms>,\n",
              " <Universe with 30 atoms>,\n",
              " <Universe with 30 atoms>]"
            ]
          },
          "metadata": {},
          "execution_count": 80
        }
      ],
      "source": [
        "ligands = [\n",
        "    Structure.from_atomgroup(complex_.select_atoms(f\"resname {ligand}\"))\n",
        "    for complex_, ligand in zip(complexes, pairs.values())\n",
        "]\n",
        "ligands"
      ]
    },
    {
      "cell_type": "code",
      "execution_count": null,
      "metadata": {
        "id": "SEGsSX6V0bTk"
      },
      "outputs": [],
      "source": [
        "for ligand, pdb_id in zip(ligands, pairs.keys()):\n",
        "    ligand.write(DATA / f\"{pdb_id}_lig.pdb\")"
      ]
    },
    {
      "cell_type": "markdown",
      "metadata": {
        "id": "Y48cCYf80bTk"
      },
      "source": [
        "We check the existence of all ligand *pdb* files."
      ]
    },
    {
      "cell_type": "code",
      "source": [
        "ligands = [complex_.select_atoms(f\"resname {ligand}\").universe for complex_, ligand in zip(complexes, pairs.values())]"
      ],
      "metadata": {
        "id": "w7GLE5ul2sQ2"
      },
      "execution_count": null,
      "outputs": []
    },
    {
      "cell_type": "markdown",
      "source": [
        "# Points to Mention\n",
        "We learned how to search PDB with the help of Notebook, also we remained able to pick our desired structures with some sort of filteration. We also remained able to extract ligands from the selected structures. Finally you are required to **Download** the ligand files manually from this notebook. We will use them in Part-8, to generate some pharmacophore models on them.\n",
        "\n",
        "Good Luck⛹"
      ],
      "metadata": {
        "id": "21HK6lbhE3Zw"
      }
    }
  ],
  "metadata": {
    "kernelspec": {
      "display_name": "Python 3 (ipykernel)",
      "language": "python",
      "name": "python3"
    },
    "language_info": {
      "codemirror_mode": {
        "name": "ipython",
        "version": 3
      },
      "file_extension": ".py",
      "mimetype": "text/x-python",
      "name": "python",
      "nbconvert_exporter": "python",
      "pygments_lexer": "ipython3",
      "version": "3.9.16"
    },
    "toc-autonumbering": true,
    "colab": {
      "provenance": [],
      "include_colab_link": true
    }
  },
  "nbformat": 4,
  "nbformat_minor": 0
}