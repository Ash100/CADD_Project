{
  "cells": [
    {
      "cell_type": "markdown",
      "metadata": {
        "id": "view-in-github",
        "colab_type": "text"
      },
      "source": [
        "<a href=\"https://colab.research.google.com/github/Ash100/CADD_Project/blob/main/calculate_off_target_binding_of_drugs_part_7.ipynb\" target=\"_parent\"><img src=\"https://colab.research.google.com/assets/colab-badge.svg\" alt=\"Open In Colab\"/></a>"
      ]
    },
    {
      "cell_type": "markdown",
      "metadata": {
        "id": "7P2FbhM_2r4X"
      },
      "source": [
        "Binding site similarity and off-target prediction\n",
        "\n",
        "My name is **Dr. Ashfaq Ahmad** and you can watch complete tutorial of this notebook on [**Bioinformatics Insights**](https://www.youtube.com/channel/UC2Z_WaqTjbvXGGQNpIF9nAg). This talktorial is inspired from TeachOpenCADD, a platform that aims to teach domain-specific skills and to provide pipeline templates as starting points for research projects. Majority of scripts are modified or changed accordingly.\n",
        "\n",
        "Authors:\n",
        "\n",
        "- Angelika Szengel, CADD seminar 2017, Charité/FU Berlin\n",
        "- Marvis Sydow, CADD seminar 2018, Charité/FU Berlin\n",
        "- Richard Gowers, RDKit UGM hackathon 2019\n",
        "- Jaime Rodríguez-Guerra, 2020, [Volkamer lab](https://volkamerlab.org), Charité\n",
        "- Dominique Sydow, 2018-2020, [Volkamer lab](https://volkamerlab.org), Charité\n",
        "- Mareike Leja, 2020, [Volkamer lab](https://volkamerlab.org), Charité"
      ]
    },
    {
      "cell_type": "markdown",
      "metadata": {
        "id": "bH-MhLnP2r4j"
      },
      "source": [
        "## Aim of this talktorial\n",
        "\n",
        "In this talktorial, we use the structural similarity of full proteins and binding sites to predict off-targets, i.e. proteins that are not intended targets of a drug. This may lead to unwanted side effects or enable desired alternate applications of a drug (drug repositioning).\n",
        "We discuss the main steps for binding site comparison and implement a basic method, i.e. the geometrical variation between structures (the root mean square deviation between two structures)."
      ]
    },
    {
      "cell_type": "markdown",
      "metadata": {
        "id": "6J7HLmiJ2r4k"
      },
      "source": [
        "### *Theory*\n",
        "\n",
        "* Off-target proteins\n",
        "* Computational off-target prediction: binding site comparison\n",
        "* Pairwise RMSD as simple measure for similarity\n",
        "* Imatinib, a tyrosine kinase inhibitor"
      ]
    },
    {
      "cell_type": "markdown",
      "metadata": {
        "id": "zQPS9-LE2r4l"
      },
      "source": [
        "### References\n",
        "\n",
        "* Binding site superposition + comparison\n",
        "  * Binding site comparison reviews:\n",
        "    * [<i>Curr. Comput. Aided Drug Des. </i> (2008), <b>4</b>, 209-20](https://www.eurekaselect.com/67606/article/how-measure-similarity-between-protein-ligand-binding-sites)\n",
        "    * [<i>J. Med. Chem. </i> (2016), <b>9</b>, 4121-51](https://pubs.acs.org/doi/10.1021/acs.jmedchem.6b00078)\n",
        "  * Molecular superposition with Python: `opencadd` package (`structure.superposition` module) ([GitHub repository](https://github.com/volkamerlab/opencadd))\n",
        "  * Wikipedia article on root mean square deviation ([RMSD](https://en.wikipedia.org/wiki/Root-mean-square_deviation_of_atomic_positions)) and [structural superposition](https://en.wikipedia.org/wiki/Structural_alignment)\n",
        "  * Structural superposition: [Book chapter: Algorithms, Applications, and Challenges of Protein Structure Alignment in *Advances in Protein Chemistry and Structural Biology* (2014), **94**, 121-75](https://www.sciencedirect.com/science/article/pii/B9780128001684000056?via%3Dihub)\n",
        "* Imatinib  \n",
        "  * Review on Imatinib: [<i>Nat. Rev. Clin. Oncol.</i> (2016), <b>13</b>, 431-46](https://www.nature.com/articles/nrclinonc.2016.41)\n",
        "  * Promiscuity of imatinib:\n",
        "[<i>J. Biol.</i> (2009), <b>8</b>, 30](https://jbiol.biomedcentral.com/articles/10.1186/jbiol134)\n",
        "  * [ChEMBL information on Imatinib](https://www.ebi.ac.uk/chembl/compound/inspect/CHEMBL941)\n",
        "  * [PDB information on Imatinib](https://www3.rcsb.org/ligand/STI)\n",
        "  * Side effects of Imatinib\n",
        "    * [MedFacts Consumer Drug Information](https://www.drugs.com/cdi/imatinib.html)\n",
        "    * [DrugBank](https://go.drugbank.com/drugs/DB00619)\n",
        "    * [<i>BMC Struct. Biol.</i> (2009), <b>9</b>](https://bmcstructbiol.biomedcentral.com/articles/10.1186/1472-6807-9-7)\n",
        "* PDB queries\n",
        "  * `pypdb` Python package\n",
        "[_Bioinformatics_ (2016), **1**, 159-60](https://academic.oup.com/bioinformatics/article-lookup/doi/10.1093/bioinformatics/btv543); [documentation](http://www.wgilpin.com/pypdb_docs/html/)\n",
        "  * `biotite` Python package [_BMC Bioinformatics_ (2018), **19**](https://bmcbioinformatics.biomedcentral.com/articles/10.1186/s12859-018-2367-z); [documentation](https://www.biotite-python.org/)\n",
        "  "
      ]
    },
    {
      "cell_type": "markdown",
      "metadata": {
        "id": "CUvMaBqx2r4m"
      },
      "source": [
        "## Theory"
      ]
    },
    {
      "cell_type": "markdown",
      "metadata": {
        "id": "Qyt8aWwX2r4n"
      },
      "source": [
        "### Off-target proteins\n",
        "\n",
        "An off-target can be any protein which interacts with a drug or (one of) its metabolite(s) without being the designated target protein.\n",
        "The molecular reaction caused by the off-target can lead to unwanted side effects, ranging from a rather harmless to an extremely harmful impact.\n",
        "Off-targets mainly occur because on- and off-targets share similar structural motifs with each other in their binding site and therefore can bind similar ligands."
      ]
    },
    {
      "cell_type": "markdown",
      "metadata": {
        "id": "qnboNuei2r4o"
      },
      "source": [
        "### Computational off-target prediction: binding site comparison\n",
        "\n",
        "Computation-aided prediction of potential off-targets is aimed at minimizing the risk of developing potentially dangerous substances for medical treatment.\n",
        "There are several algorithmic approaches to assess binding site similarity but they always consist of three main steps:\n",
        "\n",
        "1. **Binding site encoding**: binding sites are encoded using different descriptor techniques and stored in a target database.\n",
        "2. **Binding site comparison**: a query binding site is compared with the target database, using different similarity measures.\n",
        "3. **Target ranking**: targets are ranked based on a suitable scoring approach.\n",
        "\n",
        "For detailed information on different similarity measures and existing tools, we refer to two excellent reviews on binding site comparison ([<i>Curr. Comput. Aided Drug Des. </i> (2008), <b>4</b>, 209-20](https://www.eurekaselect.com/67606/article/how-measure-similarity-between-protein-ligand-binding-sites) and [<i>J. Med. Chem. </i> (2016), <b>9</b>, 4121-51](https://pubs.acs.org/doi/10.1021/acs.jmedchem.6b00078)).\n",
        "\n",
        "![Binding site comparison steps](https://github.com/volkamerlab/teachopencadd/blob/master/teachopencadd/talktorials/T010_binding_site_comparison/images/binding_site_comparison_steps.png?raw=1)\n",
        "\n",
        "_Figure 1_: Main steps of binding site comparison methods (figure by Dominique Sydow).</div>"
      ]
    },
    {
      "cell_type": "markdown",
      "metadata": {
        "id": "pZ_RVsNy2r4p"
      },
      "source": [
        "### Imatinib, a tyrosine kinase inhibitor\n",
        "\n",
        "Kinases transfer a phosphate group from ATP to proteins, and thereby regulate various cellular processes such as signal transduction, metabolism, and protein regulation.\n",
        "If these kinases are constitutively active (due to genomic mutations), they can distort regulation processes and cause cancer.\n",
        "An example for cancer treatment is Imatinib ([<i>Nat. Rev. Clin. Oncol.</i> (2016), <b>13</b>, 431-46](https://www.nature.com/articles/nrclinonc.2016.41)), a small molecule tyrosine kinase inhibitor used to treat cancer, more specifically chronic myeloid leukaemia (CML) and gastrointestinal stromal tumour (GIST).\n",
        "\n",
        "Imatinib was shown to be not entirely specific and to target tyrosine kinases other than its main target. This was used for drug repositioning, i.e. Imatinib was approved for alternate cancer types, ([<i>J. Biol.</i> (2009), <b>8</b>, 30](https://jbiol.biomedcentral.com/articles/10.1186/jbiol134)), however can also show unwanted side effects such as signs of an allergic reaction, infection, bleeding, or headache ([MedFacts Consumer Drug Information](https://www.drugs.com/cdi/imatinib.html))."
      ]
    },
    {
      "cell_type": "markdown",
      "metadata": {
        "id": "cAskX6hm2r4p"
      },
      "source": [
        "## Practical\n",
        "\n",
        "In the following, we will fetch and filter PDB structures that bind Imatinib. We will investigate the structure similarity of Imatinib-binding proteins (those with a solved protein structure).\n",
        "The similarity measure used is a pairwise RMSD calculation (as a simple similarity measure), in order to show that this simple method can be used as an initial test for potential off-targets."
      ]
    },
    {
      "cell_type": "code",
      "source": [
        "#Install Conda - Kernal Restart will take place\n",
        "!pip install -q condacolab\n",
        "import condacolab\n",
        "condacolab.install()"
      ],
      "metadata": {
        "id": "mVvOeZNsYSrE"
      },
      "execution_count": null,
      "outputs": []
    },
    {
      "cell_type": "code",
      "source": [
        "# Install mamba\n",
        "!conda install -c conda-forge mamba -y\n",
        "\n",
        "!mamba install -q -y -c conda-forge pandas matplotlib seaborn redo biotite rdkit mdanalysis\n",
        "!pip install pypdb"
      ],
      "metadata": {
        "id": "xwFnJskdYSfa"
      },
      "execution_count": null,
      "outputs": []
    },
    {
      "cell_type": "code",
      "source": [
        "!pip install git+https://github.com/volkamerlab/opencadd.git"
      ],
      "metadata": {
        "id": "pl7rQkoKYSTP",
        "colab": {
          "base_uri": "https://localhost:8080/"
        },
        "outputId": "ac8da521-5488-4f8e-d19a-194f59e4c8e9"
      },
      "execution_count": null,
      "outputs": [
        {
          "output_type": "stream",
          "name": "stdout",
          "text": [
            "Collecting git+https://github.com/volkamerlab/opencadd.git\n",
            "  Cloning https://github.com/volkamerlab/opencadd.git to /tmp/pip-req-build-yy0rj295\n",
            "  Running command git clone --filter=blob:none --quiet https://github.com/volkamerlab/opencadd.git /tmp/pip-req-build-yy0rj295\n",
            "  Resolved https://github.com/volkamerlab/opencadd.git to commit c76e87c4fdcb822dfc025e6cb87c34c9e17505d2\n",
            "  Preparing metadata (setup.py) ... \u001b[?25l\u001b[?25hdone\n",
            "Building wheels for collected packages: opencadd\n",
            "  Building wheel for opencadd (setup.py) ... \u001b[?25l\u001b[?25hdone\n",
            "  Created wheel for opencadd: filename=opencadd-1.0.1+87.gc76e87c-py3-none-any.whl size=2726398 sha256=29af26845ed5eabf26614ecdff4cc415bfdd48321f0e8a8a9a9c9ad39c0523f4\n",
            "  Stored in directory: /tmp/pip-ephem-wheel-cache-0m2eabb7/wheels/d7/79/8b/ad3252f22e7f550df32d4d11248f4b0a84a1f1eee39087914d\n",
            "Successfully built opencadd\n",
            "Installing collected packages: opencadd\n",
            "Successfully installed opencadd-1.0.1+87.gc76e87c\n",
            "\u001b[33mWARNING: Running pip as the 'root' user can result in broken permissions and conflicting behaviour with the system package manager. It is recommended to use a virtual environment instead: https://pip.pypa.io/warnings/venv\u001b[0m\u001b[33m\n",
            "\u001b[0m"
          ]
        }
      ]
    },
    {
      "cell_type": "code",
      "source": [
        "!pip install nglview==3.0.8\n",
        "!pip install \"ipywidgets>=7,<8\""
      ],
      "metadata": {
        "id": "3GSjd3OUYSFc"
      },
      "execution_count": null,
      "outputs": []
    },
    {
      "cell_type": "code",
      "source": [
        "!jupyter-nbextension enable nglview --py --sys-prefix"
      ],
      "metadata": {
        "id": "nA0PX6F_YRtq"
      },
      "execution_count": null,
      "outputs": []
    },
    {
      "cell_type": "code",
      "source": [
        "from google.colab import output\n",
        "output.enable_custom_widget_manager()"
      ],
      "metadata": {
        "id": "WQ8BF5UkYs5b"
      },
      "execution_count": null,
      "outputs": []
    },
    {
      "cell_type": "code",
      "execution_count": null,
      "metadata": {
        "tags": [],
        "id": "tbBU4ceE2r4q"
      },
      "outputs": [],
      "source": [
        "import logging\n",
        "from pathlib import Path\n",
        "import random\n",
        "import warnings\n",
        "\n",
        "import pandas as pd\n",
        "import matplotlib.pyplot as plt\n",
        "import seaborn as sns\n",
        "import redo\n",
        "import nglview as nv\n",
        "import pypdb\n",
        "import biotite.database.rcsb as rcsb\n",
        "from rdkit import Chem\n",
        "from rdkit.Chem import Draw, AllChem\n",
        "from MDAnalysis.analysis import rms\n",
        "from opencadd.structure.core import Structure\n",
        "from opencadd.structure.superposition.api import align, METHODS\n",
        "from opencadd.structure.superposition.engines.mda import MDAnalysisAligner"
      ]
    },
    {
      "cell_type": "code",
      "source": [
        "# Ignore warnings, added because of the two following warnings\n",
        "# VisibleDeprecationWarning (MDAnalysis), ClusterWarning (seaborn)\n",
        "# TODO check in the future if ignoring warnings is still necessary\n",
        "warnings.simplefilter(\"ignore\")\n",
        "# Also make MDAnalysis code in OpenCADD a bit less noisy\n",
        "logger = logging.getLogger(\"opencadd\")\n",
        "logger.setLevel(logging.ERROR)"
      ],
      "metadata": {
        "id": "SnxIiYSBY-pa"
      },
      "execution_count": null,
      "outputs": []
    },
    {
      "cell_type": "markdown",
      "metadata": {
        "id": "1Sr_BeYm2r4w"
      },
      "source": [
        "### Load and visualize the ligand of interest (Imatinib/STI)\n",
        "\n",
        "The SMILES format for Imatinib can be retrieved from e.g. the [ChEMBL database by its compound ID *CHEMBL941*](https://www.ebi.ac.uk/chembl/compound/inspect/CHEMBL941) or the [PDB database by its Ligand Expo ID *STI*](https://www3.rcsb.org/ligand/STI).\n",
        "We simply copy the string from the \"Isomeric SMILES\" entry of the Chemical Component Summary table, and load the ligand here by hand."
      ]
    },
    {
      "cell_type": "code",
      "execution_count": null,
      "metadata": {
        "tags": [],
        "id": "38vDhvoH2r4w",
        "outputId": "f046f731-3ec0-4f83-bf8e-11ef0ec34111",
        "colab": {
          "base_uri": "https://localhost:8080/",
          "height": 317
        }
      },
      "outputs": [
        {
          "output_type": "execute_result",
          "data": {
            "text/plain": [
              "<PIL.PngImagePlugin.PngImageFile image mode=RGB size=300x300>"
            ],
            "image/png": "[encoded data removed]"
          },
          "metadata": {},
          "execution_count": 5
        }
      ],
      "source": [
        "smiles = Chem.MolFromSmiles(\"CN1CCN(Cc2ccc(cc2)C(=O)Nc2ccc(C)c(Nc3nccc(n3)-c3cccnc3)c2)CC1\")\n",
        "Draw.MolToImage(smiles)"
      ]
    },
    {
      "cell_type": "markdown",
      "metadata": {
        "id": "UObkSevR2r4w"
      },
      "source": [
        "In order to inspect the 3D structure of STI, we use the open source tool `nglview`.\n",
        "Before we can view STI in `nglview`, we need to compute its 3D coordinates.\n",
        "\n",
        "First, we add hydrogen atoms to the molecule, which are not always explicitly denoted in the SMILES format.\n",
        "Second, we use the distance geometry to obtain initial coordinates for the molecule and optimize the structure of the molecule using the force field UFF (Universal Force Field)."
      ]
    },
    {
      "cell_type": "code",
      "execution_count": null,
      "metadata": {
        "tags": [],
        "id": "4HVKww7i2r4x",
        "outputId": "d5fd3342-f70a-4a42-c84b-af0015b39cc6",
        "colab": {
          "base_uri": "https://localhost:8080/",
          "height": 167
        }
      },
      "outputs": [
        {
          "output_type": "execute_result",
          "data": {
            "text/plain": [
              "<rdkit.Chem.rdchem.Mol at 0x7aad0da985f0>"
            ],
            "image/png": "[encoded data removed]"
          },
          "metadata": {},
          "execution_count": 6
        }
      ],
      "source": [
        "molecule = Chem.AddHs(smiles)\n",
        "molecule"
      ]
    },
    {
      "cell_type": "code",
      "execution_count": null,
      "metadata": {
        "scrolled": true,
        "tags": [],
        "id": "CK7YMUXj2r4x",
        "outputId": "8e389fe5-80d2-4a77-c956-9c987c10373c",
        "colab": {
          "base_uri": "https://localhost:8080/",
          "height": 167
        }
      },
      "outputs": [
        {
          "output_type": "execute_result",
          "data": {
            "text/plain": [
              "<rdkit.Chem.rdchem.Mol at 0x7aad0da985f0>"
            ],
            "image/png": "[encoded data removed]"
          },
          "metadata": {},
          "execution_count": 7
        }
      ],
      "source": [
        "AllChem.EmbedMolecule(molecule)\n",
        "AllChem.UFFOptimizeMolecule(molecule)\n",
        "molecule"
      ]
    },
    {
      "cell_type": "markdown",
      "metadata": {
        "id": "Qxhw7Lm52r4y"
      },
      "source": [
        "Now, we are ready to roll in `nglview`!"
      ]
    },
    {
      "cell_type": "code",
      "execution_count": null,
      "metadata": {
        "tags": [],
        "id": "zi7Lg1AW2r4y",
        "colab": {
          "base_uri": "https://localhost:8080/",
          "height": 317,
          "referenced_widgets": [
            "7c8cd6656cf540e6910952728d0700d7",
            "d2816462e9494892927249742a359311",
            "ebd4b7220a714d0f981341759efe99eb",
            "61c33a664a1648d28356c5bc676c132d",
            "9a26c46731c341fd9e00a3b1de9d86a6",
            "d9ef394f4342459dac9ce3d232eb7991",
            "ef91349bff974455ba717f7af00c9b9c",
            "14bdbd781d174c2a8b5464ea72ec87e4",
            "42cbd2395fda4a99923584845f6801f9",
            "45c00adb2564445fb4a22379fcf3dd29",
            "a22b47872fa341cfa61c8946266e86e2",
            "202b2acaa9ab475ba27d622a879964a1",
            "2ce3328478fd45f694977dd343325c7d"
          ]
        },
        "outputId": "de88fc19-b460-4ab9-d7e8-32383c3a4153"
      },
      "outputs": [
        {
          "output_type": "display_data",
          "data": {
            "text/plain": [
              "NGLWidget()"
            ],
            "application/vnd.jupyter.widget-view+json": {
              "version_major": 2,
              "version_minor": 0,
              "model_id": "7c8cd6656cf540e6910952728d0700d7"
            }
          },
          "metadata": {
            "application/vnd.jupyter.widget-view+json": {
              "colab": {
                "custom_widget_manager": {
                  "url": "https://ssl.gstatic.com/colaboratory-static/widgets/colab-cdn-widget-manager/2b70e893a8ba7c0f/manager.min.js"
                }
              }
            }
          }
        }
      ],
      "source": [
        "view = nv.show_rdkit(molecule)\n",
        "view"
      ]
    },
    {
      "cell_type": "code",
      "execution_count": null,
      "metadata": {
        "scrolled": true,
        "tags": [],
        "id": "kZwg2TD-2r4z"
      },
      "outputs": [],
      "source": [
        "view.render_image(trim=True, factor=2, transparent=True);"
      ]
    },
    {
      "cell_type": "code",
      "execution_count": null,
      "metadata": {
        "tags": [],
        "id": "_aREt6gT2r4z",
        "outputId": "498a6ac1-3004-4947-d097-a22d065de0ae"
      },
      "outputs": [
        {
          "data": {
            "image/png": "[encoded data removed]",
            "text/plain": [
              "<IPython.core.display.Image object>"
            ]
          },
          "execution_count": 10,
          "metadata": {},
          "output_type": "execute_result"
        }
      ],
      "source": [
        "view._display_image()"
      ]
    },
    {
      "cell_type": "markdown",
      "metadata": {
        "id": "7WnFa0eF2r4z"
      },
      "source": [
        "### Get protein-STI complexes from the PDB\n",
        "\n",
        "In the following, we will search for PDB IDs describing structures in the PDB that fulfill the following criteria:\n",
        "\n",
        "- Structure is bound to Imatinib (Ligand Expo ID: STI)\n",
        "- Structure was experimentally resolved by X-ray crystallography\n",
        "- Structure has a resolution less or equal to $3.0$\n",
        "- Structure has only one chain (for simplicity)\n",
        "\n",
        "Each structure in the PDB database is linked to many different fields to hold meta information such as our defined criteria. Check out the complete list of available fields for [chemicals](https://search.rcsb.org/chemical-search-attributes.html)/[structures](https://search.rcsb.org/structure-search-attributes.html) and supported operators on the RCSB website.\n",
        "\n",
        "The package `biotite` provides a very nice module `databases.rcsb` (see [docs](https://www.biotite-python.org/apidoc/biotite.database.rcsb.html)), which allows us to query one (`FieldQuery`, see [docs](https://www.biotite-python.org/apidoc/biotite.database.rcsb.FieldQuery.html#biotite.database.rcsb.FieldQuery)) or more (`CompositeQuery`, see [docs](https://www.biotite-python.org/apidoc/biotite.database.rcsb.CompositeQuery.html#biotite.database.rcsb.CompositeQuery)) of these fields to retrieve a count (`count`) or list (`search`) of PDB IDs that match our criteria.\n",
        "\n",
        "This is a table summarizing our queries:\n",
        "\n",
        "| Field | Operator | Value |\n",
        "|-|-|-|\n",
        "| `rcsb_nonpolymer_entity_container_identifiers.nonpolymer_comp_id` | `exact_match` | STI |\n",
        "| `exptl.method` | `exact_match` | X-RAY DIFFRACTION |\n",
        "| `rcsb_entry_info.resolution_combined` | `less_or_equal` | $3.0$ |\n",
        "| `rcsb_entry_info.deposited_polymer_entity_instance_count` | `equals` | $1$ |\n",
        "\n",
        "We will first perform each of the queries alone and check the number of matches per condition. Afterwards, we will combine all queries with the `and` operator to match only PDB IDs that fulfill all the conditions."
      ]
    },
    {
      "cell_type": "markdown",
      "metadata": {
        "id": "pWNsrlQl2r40"
      },
      "source": [
        "**Query STI-bound structures**"
      ]
    },
    {
      "cell_type": "code",
      "execution_count": null,
      "metadata": {
        "tags": [],
        "id": "K50S9f3_2r40",
        "outputId": "26e56092-956a-40a1-a5da-b0c80aec18d9",
        "colab": {
          "base_uri": "https://localhost:8080/"
        }
      },
      "outputs": [
        {
          "output_type": "stream",
          "name": "stdout",
          "text": [
            "Number of matches: 28\n"
          ]
        }
      ],
      "source": [
        "query_by_ligand_id = rcsb.FieldQuery(\n",
        "    \"rcsb_nonpolymer_entity_container_identifiers.nonpolymer_comp_id\", exact_match=\"STI\"\n",
        ")\n",
        "print(f\"Number of matches: {rcsb.count(query_by_ligand_id)}\")"
      ]
    },
    {
      "cell_type": "markdown",
      "metadata": {
        "id": "z4J2MvET2r40"
      },
      "source": [
        "**Query structures from X-ray crystallography**"
      ]
    },
    {
      "cell_type": "code",
      "execution_count": null,
      "metadata": {
        "tags": [],
        "id": "lk6vLaNS2r41",
        "outputId": "e4fbe221-3f5b-42db-873a-2431d2ac38cb",
        "colab": {
          "base_uri": "https://localhost:8080/"
        }
      },
      "outputs": [
        {
          "output_type": "stream",
          "name": "stdout",
          "text": [
            "Number of matches: 185319\n"
          ]
        }
      ],
      "source": [
        "query_by_experimental_method = rcsb.FieldQuery(\"exptl.method\", exact_match=\"X-RAY DIFFRACTION\")\n",
        "print(f\"Number of matches: {rcsb.count(query_by_experimental_method)}\")"
      ]
    },
    {
      "cell_type": "markdown",
      "metadata": {
        "id": "_nELGRr62r41"
      },
      "source": [
        "**Query structures with resolution less than or equal to 3.0**"
      ]
    },
    {
      "cell_type": "code",
      "execution_count": null,
      "metadata": {
        "tags": [],
        "id": "H4YxEo3Q2r41",
        "outputId": "ba42694d-d0c2-495d-fc7d-82508ee4f83f",
        "colab": {
          "base_uri": "https://localhost:8080/"
        }
      },
      "outputs": [
        {
          "output_type": "stream",
          "name": "stdout",
          "text": [
            "Number of matches: 179048\n"
          ]
        }
      ],
      "source": [
        "query_by_resolution = rcsb.FieldQuery(\"rcsb_entry_info.resolution_combined\", less_or_equal=3.0)\n",
        "print(f\"Number of matches: {rcsb.count(query_by_resolution)}\")"
      ]
    },
    {
      "cell_type": "markdown",
      "metadata": {
        "id": "6xj-Pg4r2r42"
      },
      "source": [
        "**Query structures with only one chain**"
      ]
    },
    {
      "cell_type": "code",
      "execution_count": null,
      "metadata": {
        "tags": [],
        "id": "CDU6rP8p2r42",
        "outputId": "392e1d10-9412-4aab-942a-976c6a041ad7",
        "colab": {
          "base_uri": "https://localhost:8080/"
        }
      },
      "outputs": [
        {
          "output_type": "stream",
          "name": "stdout",
          "text": [
            "Number of matches: 78552\n"
          ]
        }
      ],
      "source": [
        "query_by_polymer_count = rcsb.FieldQuery(\n",
        "    \"rcsb_entry_info.deposited_polymer_entity_instance_count\", equals=1\n",
        ")\n",
        "print(f\"Number of matches: {rcsb.count(query_by_polymer_count)}\")"
      ]
    },
    {
      "cell_type": "markdown",
      "metadata": {
        "id": "XUoZ4-bf2r42"
      },
      "source": [
        "**Query structures fulfilling all the above criteria**\n",
        "\n",
        "Use the `and` operator to combine the list of queries above."
      ]
    },
    {
      "cell_type": "code",
      "execution_count": null,
      "metadata": {
        "tags": [],
        "id": "xxNinvYU2r43",
        "colab": {
          "base_uri": "https://localhost:8080/"
        },
        "outputId": "2e3bcc72-23ca-4969-b4df-9cec2f76b27d"
      },
      "outputs": [
        {
          "output_type": "stream",
          "name": "stdout",
          "text": [
            "Number of matches: 9\n",
            "Selected PDB IDs:\n",
            "1T46 1XBB 2PL0 3FW1 3GVU 3HEC 4CSV 4R7I 6JOL\n"
          ]
        }
      ],
      "source": [
        "query = rcsb.CompositeQuery(\n",
        "    [\n",
        "        query_by_ligand_id,\n",
        "        query_by_experimental_method,\n",
        "        query_by_resolution,\n",
        "        query_by_polymer_count,\n",
        "    ],\n",
        "    \"and\",\n",
        ")\n",
        "pdb_ids = rcsb.search(query)\n",
        "print(f\"Number of matches: {len(pdb_ids)}\")\n",
        "print(\"Selected PDB IDs:\")\n",
        "print(*pdb_ids)"
      ]
    },
    {
      "cell_type": "markdown",
      "metadata": {
        "id": "lkUIO_W12r5B"
      },
      "source": [
        "### Align the PDB structures (full protein)\n",
        "\n",
        "Here we are going to download all those strctures from PDB which contains STI as inhibitor or ligand."
      ]
    },
    {
      "cell_type": "code",
      "source": [
        "import os\n",
        "import urllib.request\n",
        "\n",
        "# List of PDB IDs\n",
        "pdb_ids = [\"1T46\", \"1XBB\", \"2PL0\", \"3FW1\", \"3GVU\", \"3HEC\", \"4CSV\", \"4R7I\", \"6JOL\"]  # Replace with your actual PDB IDs\n",
        "\n",
        "# Directory to save PDB files\n",
        "output_dir = \"/content\"\n",
        "os.makedirs(output_dir, exist_ok=True)\n",
        "\n",
        "# Download PDB files\n",
        "for pdb_id in pdb_ids:\n",
        "    pdb_url = f\"https://files.rcsb.org/download/{pdb_id}.pdb\"\n",
        "    try:\n",
        "        output_path = os.path.join(output_dir, f\"{pdb_id}.pdb\")\n",
        "        urllib.request.urlretrieve(pdb_url, output_path)\n",
        "        print(f\"Downloaded {pdb_id}.pdb\")\n",
        "    except Exception as e:\n",
        "        print(f\"Error downloading {pdb_id}: {e}\")"
      ],
      "metadata": {
        "id": "-hkRBktjaqjl",
        "colab": {
          "base_uri": "https://localhost:8080/"
        },
        "outputId": "9c5bb6db-fb24-4157-e6eb-49e0de6a3e6f"
      },
      "execution_count": null,
      "outputs": [
        {
          "output_type": "stream",
          "name": "stdout",
          "text": [
            "Downloaded 1T46.pdb\n",
            "Downloaded 1XBB.pdb\n",
            "Downloaded 2PL0.pdb\n",
            "Downloaded 3FW1.pdb\n",
            "Downloaded 3GVU.pdb\n",
            "Downloaded 3HEC.pdb\n",
            "Downloaded 4CSV.pdb\n",
            "Downloaded 4R7I.pdb\n",
            "Downloaded 6JOL.pdb\n"
          ]
        }
      ]
    },
    {
      "cell_type": "markdown",
      "source": [
        "Below is the Alignment Script. Please change PDB ids according to your own"
      ],
      "metadata": {
        "id": "xSzYmqFG37vq"
      }
    },
    {
      "cell_type": "code",
      "source": [
        "# Import necessary libraries\n",
        "import nglview as nv\n",
        "from io import StringIO\n",
        "from Bio.PDB import PDBParser, PDBIO, Superimposer\n",
        "\n",
        "# Parse the PDB files\n",
        "parser = PDBParser()\n",
        "struct_1T46 = parser.get_structure(\"1T46\", \"/content/1T46.pdb\")\n",
        "struct_1XBB = parser.get_structure(\"1XBB\", \"/content/1XBB.pdb\")\n",
        "struct_2PL0 = parser.get_structure(\"2PL0\", \"/content/2PL0.pdb\")\n",
        "struct_3FW1 = parser.get_structure(\"3FW1\", \"/content/3FW1.pdb\")\n",
        "struct_3GVU = parser.get_structure(\"3GVU\", \"/content/3GVU.pdb\")\n",
        "struct_3HEC = parser.get_structure(\"3HEC\", \"/content/3HEC.pdb\")\n",
        "struct_4CSV = parser.get_structure(\"4CSV\", \"/content/4CSV.pdb\")\n",
        "struct_4R7I = parser.get_structure(\"4R7I\", \"/content/4R7I.pdb\")\n",
        "struct_6JOL = parser.get_structure(\"6JOL\", \"/content/6JOL.pdb\")\n",
        "\n",
        "# Create a Superimposer object\n",
        "sup = Superimposer()\n",
        "\n",
        "# Define the fixed and moving atoms\n",
        "fixed_atoms = list(struct_1T46.get_atoms())\n",
        "moving_atoms = [list(struct_1XBB.get_atoms()), list(struct_2PL0.get_atoms()), list(struct_3FW1.get_atoms()), list(struct_3GVU.get_atoms()), list(struct_3HEC.get_atoms()), list(struct_4CSV.get_atoms()), list(struct_4R7I.get_atoms()), list(struct_6JOL.get_atoms())]\n",
        "\n",
        "# Ensure the lists have the same size\n",
        "min_size = min(len(fixed_atoms), min(len(atoms) for atoms in moving_atoms))\n",
        "fixed_atoms = fixed_atoms[:min_size]\n",
        "moving_atoms = [atoms[:min_size] for atoms in moving_atoms]\n",
        "\n",
        "# Perform the alignment\n",
        "for atoms in moving_atoms:\n",
        "    sup.set_atoms(fixed_atoms, atoms)\n",
        "    sup.apply(atoms)\n",
        "\n",
        "# Function to convert a Biopython structure to a PDB string\n",
        "def structure_to_pdb_string(structure):\n",
        "    pdb_io = PDBIO()\n",
        "    pdb_io.set_structure(structure)\n",
        "    string_io = StringIO()\n",
        "    pdb_io.save(string_io)\n",
        "    pdb_string = string_io.getvalue()\n",
        "    return pdb_string\n",
        "\n",
        "# Convert aligned structures to PDB strings\n",
        "fixed_pdb_string = structure_to_pdb_string(struct_1T46)\n",
        "moving_pdb_strings = [structure_to_pdb_string(struct) for struct in [struct_1XBB, struct_2PL0, struct_3FW1, struct_3GVU, struct_3HEC, struct_4CSV, struct_4R7I]]\n",
        "\n",
        "# Create file-like objects from PDB strings\n",
        "fixed_file_obj = StringIO(fixed_pdb_string)\n",
        "moving_file_objs = [StringIO(pdb_str) for pdb_str in moving_pdb_strings]\n",
        "\n"
      ],
      "metadata": {
        "id": "3YLeIfHIauD0"
      },
      "execution_count": null,
      "outputs": []
    },
    {
      "cell_type": "markdown",
      "metadata": {
        "id": "K9nukdmv2r5D"
      },
      "source": [
        "The structural alignment for many helices is high, whereas lower or poor for other protein parts."
      ]
    },
    {
      "cell_type": "code",
      "execution_count": null,
      "metadata": {
        "tags": [],
        "id": "jRY4lnOh2r5E"
      },
      "outputs": [],
      "source": [
        "def calc_rmsd_matrix(structures, names):\n",
        "    \"\"\" Calculate RMSD matrix between a list of structures.\n",
        "    Parameters\n",
        "    ----------\n",
        "    structures : list of Bio.PDB.Structure\n",
        "        List of structures.\n",
        "    names : list of str\n",
        "        List of structure names.\n",
        "    Returns\n",
        "    -------\n",
        "    pandas.DataFrame\n",
        "        RMSD matrix.\n",
        "    \"\"\"\n",
        "    values = {name: {} for name in names}\n",
        "    for i, (A, name_i) in enumerate(zip(structures, names)):\n",
        "        for j, (B, name_j) in enumerate(zip(structures, names)):\n",
        "            if i == j:\n",
        "                values[name_i][name_j] = 0.0\n",
        "                continue\n",
        "            if i < j:\n",
        "                sup = Superimposer()\n",
        "                atoms_A = list(A.get_atoms())\n",
        "                atoms_B = list(B.get_atoms())\n",
        "                min_size = min(len(atoms_A), len(atoms_B))\n",
        "                atoms_A = atoms_A[:min_size]\n",
        "                atoms_B = atoms_B[:min_size]\n",
        "                sup.set_atoms(atoms_A, atoms_B)\n",
        "                rmsd = sup.rms\n",
        "                values[name_i][name_j] = rmsd\n",
        "                values[name_j][name_i] = rmsd\n",
        "    df = pd.DataFrame.from_dict(values)\n",
        "    return df\n",
        "\n",
        "# Define the list of structures and names\n",
        "structures = [struct_1T46, struct_1XBB, struct_2PL0, struct_3FW1, struct_3GVU, struct_3HEC, struct_4CSV, struct_4R7I, struct_6JOL]\n",
        "names = [\"1T46\", \"1XBB\", \"2PL0\", \"3FW1\", \"3GVU\", \"3HEC\", \"4CSV\", \"4R7I\", \"6JOL\"]\n",
        "\n",
        "# Calculate the RMSD matrix\n",
        "rmsd_matrix = calc_rmsd_matrix(structures, names)"
      ]
    },
    {
      "cell_type": "markdown",
      "metadata": {
        "id": "MVc4JS2D2r5E"
      },
      "source": [
        "### Get RMSD Heatmap"
      ]
    },
    {
      "cell_type": "code",
      "execution_count": null,
      "metadata": {
        "tags": [],
        "id": "nmSC_lsm2r5E",
        "outputId": "75011a82-8d7e-4679-8f0f-0525e1743755",
        "colab": {
          "base_uri": "https://localhost:8080/",
          "height": 430
        }
      },
      "outputs": [
        {
          "output_type": "display_data",
          "data": {
            "text/plain": [
              "<Figure size 640x480 with 2 Axes>"
            ],
            "image/png": "[encoded data removed]"
          },
          "metadata": {}
        }
      ],
      "source": [
        "# Make sure matplotlib version >= 3.1.2; otherwise you'll get Y-cropped heatmaps\n",
        "sns.heatmap(\n",
        "    rmsd_matrix,\n",
        "    linewidths=0,\n",
        "    annot=True,\n",
        "    square=True,\n",
        "    cbar_kws={\"label\": \"RMSD ($\\AA$)\"},\n",
        "    cmap=\"Blues\",\n",
        ");"
      ]
    },
    {
      "cell_type": "markdown",
      "metadata": {
        "id": "xv7k2vBw2r5F"
      },
      "source": [
        "We visualize the results of this RMSD refinement as heatmap."
      ]
    },
    {
      "cell_type": "markdown",
      "metadata": {
        "id": "dH1N1V4S2r5F"
      },
      "source": [
        "We cluster the heatmap in order to see protein similarity based on the RMSD refinement."
      ]
    },
    {
      "cell_type": "code",
      "execution_count": null,
      "metadata": {
        "tags": [],
        "id": "FR-cjn5C2r5G"
      },
      "outputs": [],
      "source": [
        "def plot_clustermap(rmsd):\n",
        "    \"\"\"\n",
        "    Plot clustered heatmap from import RMSD matrix.\n",
        "\n",
        "    Parameters\n",
        "    ----------\n",
        "    rmsd : pandas.DataFrame\n",
        "        RMSD matrix.\n",
        "    title : str\n",
        "        Plot title.\n",
        "\n",
        "    Returns\n",
        "    -------\n",
        "    matplotlib.figure.Figure\n",
        "        Clustered heatmap.\n",
        "    \"\"\"\n",
        "    g = sns.clustermap(\n",
        "        rmsd,\n",
        "        linewidths=1,\n",
        "        annot=True,\n",
        "        cbar_kws={\"label\": \"RMSD ($\\AA$)\"},\n",
        "        cmap=\"Blues\",\n",
        "    )\n",
        "    plt.setp(g.ax_heatmap.get_xticklabels(), rotation=0)\n",
        "    plt.setp(g.ax_heatmap.get_yticklabels(), rotation=0)\n",
        "    sns.set(font_scale=1.5)\n",
        "    return plt.gcf()"
      ]
    },
    {
      "cell_type": "code",
      "execution_count": null,
      "metadata": {
        "tags": [],
        "id": "ODhWnXKL2r5G",
        "outputId": "e6948afd-7562-49b5-cadb-a7463720c76e",
        "colab": {
          "base_uri": "https://localhost:8080/",
          "height": 1000
        }
      },
      "outputs": [
        {
          "output_type": "display_data",
          "data": {
            "text/plain": [
              "<Figure size 1000x1000 with 4 Axes>"
            ],
            "image/png": "[encoded data removed]"
          },
          "metadata": {}
        }
      ],
      "source": [
        "plot_clustermap(rmsd_matrix);"
      ]
    },
    {
      "cell_type": "markdown",
      "metadata": {
        "id": "fTwMKEoE2r5H"
      },
      "source": [
        "The RMSD comparison shows that one protein differs most from the other proteins, i.e. 3FW1. Let's try to understand by checking which proteins we have in our dataset."
      ]
    },
    {
      "cell_type": "markdown",
      "metadata": {
        "id": "sVIGWSm_2r5H"
      },
      "source": [
        "Proteins are classified by the chemical reactions that they catalyze with EC (Enzyme Commission) numbers. We will use them here to check the enzymatic groups the proteins belong to. Let's get the EC numbers from the PDB using the package `pypdb`."
      ]
    },
    {
      "cell_type": "code",
      "execution_count": null,
      "metadata": {
        "scrolled": true,
        "tags": [],
        "id": "1zRyyYsN2r5H",
        "outputId": "bdc80db8-9e28-42b7-a68a-a5f4f302b15d",
        "colab": {
          "base_uri": "https://localhost:8080/"
        }
      },
      "outputs": [
        {
          "output_type": "stream",
          "name": "stdout",
          "text": [
            "  pdb_id  \\\n",
            "0   1T46   \n",
            "1   1XBB   \n",
            "2   2PL0   \n",
            "3   3FW1   \n",
            "4   3GVU   \n",
            "5   3HEC   \n",
            "6   4CSV   \n",
            "7   4R7I   \n",
            "8   6JOL   \n",
            "\n",
            "                                                                               description  \n",
            "0  STRUCTURAL BASIS FOR THE AUTOINHIBITION AND STI-571 INHIBITION OF C-KIT TYROSINE KINASE  \n",
            "1                         Crystal structure of the syk tyrosine kinase domain with Gleevec  \n",
            "2                                                                    LCK bound to imatinib  \n",
            "3                                                                      Quinone Reductase 2  \n",
            "4                              The crystal structure of human ABL2 in complex with GLEEVEC  \n",
            "5                                                             P38 in complex with Imatinib  \n",
            "6                   Tyrosine kinase AS - a common ancestor of Src and Abl bound to Gleevec  \n",
            "7         Crystal structure of FMS kinase domain with a small molecular inhibitor, GLEEVEC  \n",
            "8               Crystal structure of PDGFRA in complex with imatinib by co-crystallization  \n"
          ]
        }
      ],
      "source": [
        "import pypdb\n",
        "\n",
        "# Get EC numbers for PDB IDs from PDB\n",
        "pdb_ids = [\"1T46\", \"1XBB\", \"2PL0\", \"3FW1\", \"3GVU\", \"3HEC\", \"4CSV\", \"4R7I\", \"6JOL\"]\n",
        "pdbs_info = [pypdb.get_all_info(pdb_id) for pdb_id in pdb_ids]\n",
        "struct_titles = []\n",
        "for pdb_info in pdbs_info:\n",
        "    if \"struct\" in pdb_info and \"title\" in pdb_info[\"struct\"]:\n",
        "        struct_titles.append(pdb_info[\"struct\"][\"title\"])\n",
        "    else:\n",
        "        struct_titles.append(\"\")\n",
        "\n",
        "ec_numbers = pd.DataFrame(\n",
        "    {\n",
        "        \"pdb_id\": pdb_ids,\n",
        "        \"description\": struct_titles,\n",
        "    }\n",
        ")\n",
        "\n",
        "# Increase column width to fit all text\n",
        "pd.set_option(\"max_colwidth\", 100)\n",
        "print(ec_numbers)"
      ]
    },
    {
      "cell_type": "markdown",
      "metadata": {
        "id": "jMrm5Lyr2r5I"
      },
      "source": [
        "We can see that 3FW1 is a the human quinone reductase 2 (NQO2), the only protein not belonging to class 2.7 (phosphorus transferases), which contains the tyrosine kinases (EC 2.7.10.2), the designated targets for Imatinib. 3FW1 is a reported off-target \"with potential implications for drug design and treatment of chronic myelogenous leukemia in patients\" ([<i>BMC Struct. Biol.</i> (2009), <b>9</b>](https://bmcstructbiol.biomedcentral.com/articles/10.1186/1472-6807-9-7))."
      ]
    },
    {
      "cell_type": "markdown",
      "metadata": {
        "id": "zTrN2JdN2r5I"
      },
      "source": [
        "### Align PDB structures (binding sites)"
      ]
    },
    {
      "cell_type": "markdown",
      "metadata": {
        "id": "krRYepmX2r5I"
      },
      "source": [
        "So far, we have used the full protein structure for the alignment and RMSD refinement. However, ligands bind only at a protein's binding site.\n",
        "Therefore, the similarity of binding sites is a more putative basis for off-target prediction rather than of the similarity of full protein structures.\n",
        "\n",
        "We define a binding site of a protein by selecting all residues that are within 10 &#8491; of any ligand atom. These binding site residues are used for alignment and only their C&#593; atoms (protein backbone) are used for the RMSD refinement. Here, we show the alignment of all structures to the first structure in our list.\n",
        "\n",
        "Note that for the aligner to work, full residues must be selected as part of the distance search, hence the need for the `same residue as (...)` query."
      ]
    },
    {
      "cell_type": "code",
      "source": [
        "binding_sites = []\n",
        "for s in structures:\n",
        "    bs = []\n",
        "    for atom in s.get_atoms():\n",
        "        residue = atom.get_parent()\n",
        "        chain = residue.get_parent()\n",
        "        for other_residue in chain.get_list():\n",
        "            if other_residue != residue and other_residue.get_resname() == 'STI':\n",
        "                bs.append(atom)\n",
        "                break\n",
        "    binding_sites.append(bs)"
      ],
      "metadata": {
        "id": "fTd2sET2cZUz"
      },
      "execution_count": null,
      "outputs": []
    },
    {
      "cell_type": "code",
      "source": [
        "import nglview as nv\n",
        "from io import StringIO\n",
        "from Bio.PDB import PDBParser, PDBIO, Superimposer, NeighborSearch, Select\n",
        "import numpy as np\n",
        "\n",
        "# Function to select binding site residues\n",
        "class BindingSiteSelect(Select):\n",
        "    def __init__(self, binding_site_residues):\n",
        "        self.binding_site_residues = binding_site_residues\n",
        "\n",
        "    def accept_residue(self, residue):\n",
        "        return residue in self.binding_site_residues\n",
        "\n",
        "# Parse the PDB files\n",
        "parser = PDBParser()\n",
        "structure_files = [\n",
        "    \"/content/1T46.pdb\",\n",
        "    \"/content/1XBB.pdb\",\n",
        "    \"/content/2PL0.pdb\",\n",
        "    \"/content/3FW1.pdb\",\n",
        "    \"/content/3GVU.pdb\",\n",
        "    \"/content/3HEC.pdb\",\n",
        "    \"/content/4CSV.pdb\",\n",
        "    \"/content/4R7I.pdb\",\n",
        "    \"/content/6JOL.pdb\"\n",
        "]\n",
        "\n",
        "structures = [parser.get_structure(f\"structure_{i}\", file) for i, file in enumerate(structure_files)]\n",
        "\n",
        "# Extract binding sites within 5 Å of STI\n",
        "binding_sites = []\n",
        "radius = 5.0\n",
        "\n",
        "for s in structures:\n",
        "    bs = []\n",
        "    sti_atoms = [atom for atom in s.get_atoms() if atom.get_parent().get_resname() == 'STI']\n",
        "    ns = NeighborSearch(list(s.get_atoms()))\n",
        "    for sti_atom in sti_atoms:\n",
        "        close_residues = ns.search(sti_atom.coord, radius, level='R')\n",
        "        bs.extend(close_residues)\n",
        "    binding_sites.append(list(set(bs)))  # Ensure unique residues\n",
        "\n",
        "# Align binding sites\n",
        "ref_binding_site = binding_sites[0]\n",
        "aligned_structures = [structures[0]]\n",
        "\n",
        "for i in range(1, len(binding_sites)):\n",
        "    sup = Superimposer()\n",
        "    fixed_atoms = [atom for residue in ref_binding_site for atom in residue.get_atoms()]\n",
        "    moving_atoms = [atom for residue in binding_sites[i] for atom in residue.get_atoms()]\n",
        "\n",
        "    # Ensure the lists have the same size\n",
        "    min_size = min(len(fixed_atoms), len(moving_atoms))\n",
        "    fixed_atoms = fixed_atoms[:min_size]\n",
        "    moving_atoms = moving_atoms[:min_size]\n",
        "\n",
        "    sup.set_atoms(fixed_atoms, moving_atoms)\n",
        "    sup.apply(structures[i].get_atoms())\n",
        "    aligned_structures.append(structures[i])\n",
        "\n",
        "# Convert aligned binding sites to PDB strings\n",
        "binding_site_pdb_strings = []\n",
        "pdb_io = PDBIO()\n",
        "\n",
        "for structure, binding_site in zip(aligned_structures, binding_sites):\n",
        "    string_io = StringIO()\n",
        "    pdb_io.set_structure(structure)\n",
        "    pdb_io.save(string_io, select=BindingSiteSelect(binding_site))\n",
        "    binding_site_pdb_strings.append(string_io.getvalue())\n",
        "\n",
        "# Visualize the aligned binding sites with nglview\n",
        "view = nv.NGLWidget()\n",
        "\n",
        "for pdb_string in binding_site_pdb_strings:\n",
        "    file_obj = StringIO(pdb_string)\n",
        "    view.add_component(file_obj, ext=\"pdb\")\n",
        "\n",
        "view"
      ],
      "metadata": {
        "id": "21VQnqfvsPIl",
        "colab": {
          "base_uri": "https://localhost:8080/",
          "height": 317,
          "referenced_widgets": [
            "468d2f79de83465eb1980261934108a3",
            "3dce4f38106d42edb8192269555db5be",
            "418540ec0bf4471587f39d1506d6db59",
            "859adb156fed4df3b48639eb0c8cb1d7",
            "3ff5729af87046f194f9c0c2226f4c19",
            "4aefe8f37d0446bc931c0c1e528cbdff",
            "58507a75c0ae419caaad72ca10895bce",
            "62b604036f1841a893808c302c7d9b5e",
            "213bbf39889744a88db1e8aad054c5fe",
            "198bdd558ab44ef9bbd7700f7e26c0b2",
            "a0377cc811934636a3e78042d33dcaee",
            "9bb448e141b840a4b788da277c427d1e",
            "29f7418e9c1e469c9ae223b4c6d9dd2e"
          ]
        },
        "outputId": "7cc6a79b-5cdb-40aa-b0b0-18742905b300"
      },
      "execution_count": null,
      "outputs": [
        {
          "output_type": "display_data",
          "data": {
            "text/plain": [
              "NGLWidget()"
            ],
            "application/vnd.jupyter.widget-view+json": {
              "version_major": 2,
              "version_minor": 0,
              "model_id": "468d2f79de83465eb1980261934108a3"
            }
          },
          "metadata": {
            "application/vnd.jupyter.widget-view+json": {
              "colab": {
                "custom_widget_manager": {
                  "url": "https://ssl.gstatic.com/colaboratory-static/widgets/colab-cdn-widget-manager/2b70e893a8ba7c0f/manager.min.js"
                }
              }
            }
          }
        }
      ]
    },
    {
      "cell_type": "code",
      "execution_count": null,
      "metadata": {
        "tags": [],
        "id": "zQDxUl9j2r5J",
        "colab": {
          "base_uri": "https://localhost:8080/"
        },
        "outputId": "55504ba1-be85-48dc-82ce-723833ea918e"
      },
      "outputs": [
        {
          "output_type": "stream",
          "name": "stdout",
          "text": [
            "[[ 0.    7.52  8.41  7.95 10.11  8.75  8.36  8.02  7.48]\n",
            " [ 7.52  0.    7.7   7.5   7.65  7.67  7.76  7.48  7.74]\n",
            " [ 8.41  7.7   0.    8.39  7.57  8.83  8.01  7.86  6.53]\n",
            " [ 7.95  7.5   8.39  0.   13.04  8.2   8.51  8.38  7.95]\n",
            " [10.11  7.65  7.57 13.04  0.    8.91  8.71  8.52  6.25]\n",
            " [ 8.75  7.67  8.83  8.2   8.91  0.    7.54  7.42  9.02]\n",
            " [ 8.36  7.76  8.01  8.51  8.71  7.54  0.    5.96  8.39]\n",
            " [ 8.02  7.48  7.86  8.38  8.52  7.42  5.96  0.    7.76]\n",
            " [ 7.48  7.74  6.53  7.95  6.25  9.02  8.39  7.76  0.  ]]\n"
          ]
        }
      ],
      "source": [
        "import numpy as np\n",
        "from Bio.PDB import PDBParser, Superimposer, NeighborSearch\n",
        "\n",
        "# Function to select binding site residues within a given radius around a ligand\n",
        "def get_binding_site(structure, ligand_resname, radius):\n",
        "    binding_site_atoms = []\n",
        "    ligand_atoms = [atom for atom in structure.get_atoms() if atom.get_parent().get_resname() == ligand_resname]\n",
        "    ns = NeighborSearch(list(structure.get_atoms()))\n",
        "    for ligand_atom in ligand_atoms:\n",
        "        close_atoms = ns.search(ligand_atom.coord, radius)\n",
        "        for atom in close_atoms:\n",
        "            if atom not in binding_site_atoms:\n",
        "                binding_site_atoms.append(atom)\n",
        "    return binding_site_atoms\n",
        "\n",
        "# Function to calculate RMSD matrix\n",
        "def calc_rmsd_matrix(binding_sites):\n",
        "    num_structures = len(binding_sites)\n",
        "    rmsd_matrix = np.zeros((num_structures, num_structures))\n",
        "    for i in range(num_structures):\n",
        "        for j in range(i, num_structures):\n",
        "            if i == j:\n",
        "                rmsd_matrix[i, j] = 0.0\n",
        "            else:\n",
        "                sup = Superimposer()\n",
        "                fixed = binding_sites[i]\n",
        "                moving = binding_sites[j]\n",
        "                # Ensure that the lists of atoms have the same length\n",
        "                if len(fixed) != len(moving):\n",
        "                    min_length = min(len(fixed), len(moving))\n",
        "                    fixed = fixed[:min_length]\n",
        "                    moving = moving[:min_length]\n",
        "                sup.set_atoms(fixed, moving)\n",
        "                rmsd_matrix[i, j] = sup.rms\n",
        "                rmsd_matrix[j, i] = sup.rms\n",
        "    return rmsd_matrix\n",
        "\n",
        "# Main script\n",
        "if __name__ == \"__main__\":\n",
        "    pdb_files = [\"/content/1T46.pdb\", \"/content/1XBB.pdb\", \"/content/2PL0.pdb\", \"/content/3FW1.pdb\", \"/content/3GVU.pdb\", \"/content/3HEC.pdb\", \"/content/4CSV.pdb\", \"/content/4R7I.pdb\", \"/content/6JOL.pdb\"]\n",
        "    pdb_ids = [\"1T46\", \"1XBB\", \"2PL0\", \"3FW1\", \"3GVU\", \"3HEC\", \"4CSV\", \"4R7I\", \"6JOL\"]\n",
        "    radius = 5.0\n",
        "    ligand_resname = 'STI'\n",
        "    parser = PDBParser()\n",
        "    # Parse structures\n",
        "    structures = [parser.get_structure(pdb_id, file) for pdb_id, file in zip(pdb_ids, pdb_files)]\n",
        "    # Extract binding sites\n",
        "    binding_sites = [get_binding_site(structure, ligand_resname, radius) for structure in structures]\n",
        "    # Calculate RMSD matrix\n",
        "    rmsd_matrix = calc_rmsd_matrix(binding_sites)\n",
        "    print(rmsd_matrix.round(2))"
      ]
    },
    {
      "cell_type": "markdown",
      "metadata": {
        "id": "d_lW2_P62r5J"
      },
      "source": [
        "Let's look at the proteins' binding sites only."
      ]
    },
    {
      "cell_type": "code",
      "source": [
        "import seaborn as sns\n",
        "import matplotlib.pyplot as plt\n",
        "\n",
        "# Generate the heatmap\n",
        "sns.heatmap(rmsd_matrix, annot=True, cmap=\"YlGnBu\", xticklabels=pdb_ids, yticklabels=pdb_ids)\n",
        "\n",
        "# Show the plot\n",
        "plt.show()"
      ],
      "metadata": {
        "id": "HZodboFAuIvr",
        "outputId": "4c6be259-c961-44f3-ae72-eff05824c06f",
        "colab": {
          "base_uri": "https://localhost:8080/",
          "height": 484
        }
      },
      "execution_count": null,
      "outputs": [
        {
          "output_type": "display_data",
          "data": {
            "text/plain": [
              "<Figure size 640x480 with 2 Axes>"
            ],
            "image/png": "[encoded data removed]"
          },
          "metadata": {}
        }
      ]
    },
    {
      "cell_type": "markdown",
      "metadata": {
        "id": "cCvkm-yb2r5L"
      },
      "source": [
        "Let's Analyze the binding sites alignment"
      ]
    },
    {
      "cell_type": "markdown",
      "metadata": {
        "id": "SUHMQzqy2r5O"
      },
      "source": [
        "We show the clustered heatmap for the RMSD results."
      ]
    },
    {
      "cell_type": "markdown",
      "metadata": {
        "id": "l-NsQiiR2r5Q"
      },
      "source": [
        "What are the key observations in this heatmap?\n",
        "\n",
        "- As observed already during the *full protein* comparison, also the *binding site* comparison reveals the highest dissimilarity for `3FW1`. Since `3FW1` is the only structure in our dataset representing not a kinase, we are content that our similarity measure was able to spot this. As discussed before, the human quinone reductase 2 (`3FW1`) is a reported off-target for Imatinib.\n",
        "- Also the kinase `1XBB` shows a higher dissimilarity compared to the other kinases. This can be explained by `1XBB` being resolved in a different conformation (DFG-in) than the other kinases (DFG-out). The DFG motif is an important structural element in kinases, defining whether a kinase is active (DFG-in conformation) or inactive (DFG-out conformation). Note: DFG conformations of kinase structures can be looked up e.g. in the [KLIFS database](https://www.klifs.net).\n",
        "- The remaining structures are comparatively similar to each other, which we would expect since they all represent kinases in the overall same conformation.\n",
        "\n",
        "Note that RMSD values as calculated here are dependent on the residue selection (binding site definition) and the quality of the a priori sequence alignment."
      ]
    },
    {
      "cell_type": "markdown",
      "metadata": {
        "id": "6FOu8qlD2r5U"
      },
      "source": [
        "Much better!"
      ]
    },
    {
      "cell_type": "markdown",
      "metadata": {
        "id": "8RoUJ0UL2r5U"
      },
      "source": [
        "## Discussion\n",
        "\n",
        "In this talktorial, we have used a simple comparison approach, i.e. sequence alignment and subsequent RMSD refinement of (i) full proteins and (ii) binding sites, to assess the similarity and dissimilarity of a small set of structures showing Imatinib-binding proteins.\n",
        "In our data set, we were able to spot an off-target for Imatinib (highest dissimilarity) and a kinase resolved in a different conformation compared to the rest of the kinases (also with a relatively high dissimilarity).\n",
        "Given our simple approach, we are content with these results!\n",
        "\n",
        "In a real case scenario, off-targets for Imatinib would be predicted by comparing the binding site of an intended target of Imatinib (a tyrosine kinase) with a large database of resolved structures (PDB).\n",
        "Since this results in the comparison of sequences also with low similarity, more sophisticated methods should be invoked\n",
        "that use a sequence-independent alignment algorithm and that include the physico-chemical properties of the binding site.\n",
        "\n"
      ]
    }
  ],
  "metadata": {
    "kernelspec": {
      "display_name": "Python 3 (ipykernel)",
      "language": "python",
      "name": "python3"
    },
    "language_info": {
      "codemirror_mode": {
        "name": "ipython",
        "version": 3
      },
      "file_extension": ".py",
      "mimetype": "text/x-python",
      "name": "python",
      "nbconvert_exporter": "python",
      "pygments_lexer": "ipython3",
      "version": "3.9.16"
    },
    "toc-autonumbering": true,
    "colab": {
      "provenance": [],
      "include_colab_link": true
    },
    "widgets": {
      "application/vnd.jupyter.widget-state+json": {
        "7c8cd6656cf540e6910952728d0700d7": {
          "model_module": "nglview-js-widgets",
          "model_name": "NGLModel",
          "model_module_version": "3.0.8",
          "state": {
            "_camera_orientation": [
              27.000272217164227,
              31.300627340949834,
              13.673528066971885,
              0,
              -15.888433167549886,
              -3.9199627340213277,
              40.34725424586458,
              0,
              30.23660584813688,
              -30.010230951512586,
              8.991276136208215,
              0,
              0.5605001449584961,
              -0.20000004768371582,
              0.6644999980926514,
              1
            ],
            "_camera_str": "orthographic",
            "_dom_classes": [],
            "_gui_theme": null,
            "_ibtn_fullscreen": "IPY_MODEL_ebd4b7220a714d0f981341759efe99eb",
            "_igui": null,
            "_iplayer": "IPY_MODEL_61c33a664a1648d28356c5bc676c132d",
            "_model_module": "nglview-js-widgets",
            "_model_module_version": "3.0.8",
            "_model_name": "NGLModel",
            "_ngl_color_dict": {},
            "_ngl_coordinate_resource": {},
            "_ngl_full_stage_parameters": {
              "impostor": true,
              "quality": "medium",
              "workerDefault": true,
              "sampleLevel": 0,
              "backgroundColor": "white",
              "rotateSpeed": 2,
              "zoomSpeed": 1.2,
              "panSpeed": 1,
              "clipNear": 0,
              "clipFar": 100,
              "clipDist": 10,
              "clipMode": "scene",
              "clipScale": "relative",
              "fogNear": 50,
              "fogFar": 100,
              "cameraFov": 40,
              "cameraEyeSep": 0.3,
              "cameraType": "perspective",
              "lightColor": 14540253,
              "lightIntensity": 1,
              "ambientColor": 14540253,
              "ambientIntensity": 0.2,
              "hoverTimeout": 0,
              "tooltip": true,
              "mousePreset": "default"
            },
            "_ngl_msg_archive": [
              {
                "target": "Stage",
                "type": "call_method",
                "methodName": "loadFile",
                "reconstruc_color_scheme": false,
                "args": [
                  {
                    "type": "blob",
                    "data": "HETATM    1  C1  UNL     1       8.344  -3.288  -1.395  1.00  0.00           C  \nHETATM    2  N1  UNL     1       7.698  -3.075  -0.089  1.00  0.00           N  \nHETATM    3  C2  UNL     1       8.419  -2.092   0.745  1.00  0.00           C  \nHETATM    4  C3  UNL     1       8.175  -0.639   0.292  1.00  0.00           C  \nHETATM    5  N2  UNL     1       6.738  -0.313   0.203  1.00  0.00           N  \nHETATM    6  C4  UNL     1       6.121  -0.130   1.536  1.00  0.00           C  \nHETATM    7  C5  UNL     1       4.763   0.515   1.422  1.00  0.00           C  \nHETATM    8  C6  UNL     1       4.631   1.785   0.840  1.00  0.00           C  \nHETATM    9  C7  UNL     1       3.370   2.373   0.706  1.00  0.00           C  \nHETATM   10  C8  UNL     1       2.218   1.703   1.157  1.00  0.00           C  \nHETATM   11  C9  UNL     1       2.361   0.449   1.775  1.00  0.00           C  \nHETATM   12  C10 UNL     1       3.621  -0.142   1.900  1.00  0.00           C  \nHETATM   13  C11 UNL     1       0.880   2.322   1.000  1.00  0.00           C  \nHETATM   14  O1  UNL     1       0.788   3.556   0.758  1.00  0.00           O  \nHETATM   15  N3  UNL     1      -0.309   1.516   1.053  1.00  0.00           N  \nHETATM   16  C12 UNL     1      -1.617   2.032   1.362  1.00  0.00           C  \nHETATM   17  C13 UNL     1      -1.785   3.139   2.208  1.00  0.00           C  \nHETATM   18  C14 UNL     1      -3.065   3.592   2.531  1.00  0.00           C  \nHETATM   19  C15 UNL     1      -4.203   2.951   2.016  1.00  0.00           C  \nHETATM   20  C16 UNL     1      -5.568   3.448   2.407  1.00  0.00           C  \nHETATM   21  C17 UNL     1      -4.046   1.820   1.185  1.00  0.00           C  \nHETATM   22  N4  UNL     1      -5.192   1.086   0.723  1.00  0.00           N  \nHETATM   23  C18 UNL     1      -5.336   0.608  -0.621  1.00  0.00           C  \nHETATM   24  N5  UNL     1      -4.484   1.018  -1.600  1.00  0.00           N  \nHETATM   25  C19 UNL     1      -4.626   0.581  -2.876  1.00  0.00           C  \nHETATM   26  C20 UNL     1      -5.662  -0.292  -3.205  1.00  0.00           C  \nHETATM   27  C21 UNL     1      -6.552  -0.695  -2.195  1.00  0.00           C  \nHETATM   28  N6  UNL     1      -6.357  -0.235  -0.928  1.00  0.00           N  \nHETATM   29  C22 UNL     1      -7.684  -1.619  -2.468  1.00  0.00           C  \nHETATM   30  C23 UNL     1      -8.213  -2.410  -1.432  1.00  0.00           C  \nHETATM   31  C24 UNL     1      -9.277  -3.281  -1.683  1.00  0.00           C  \nHETATM   32  C25 UNL     1      -9.812  -3.354  -2.969  1.00  0.00           C  \nHETATM   33  N7  UNL     1      -9.310  -2.572  -3.959  1.00  0.00           N  \nHETATM   34  C26 UNL     1      -8.275  -1.715  -3.743  1.00  0.00           C  \nHETATM   35  C27 UNL     1      -2.752   1.370   0.872  1.00  0.00           C  \nHETATM   36  C28 UNL     1       6.026  -1.287  -0.654  1.00  0.00           C  \nHETATM   37  C29 UNL     1       6.264  -2.746  -0.219  1.00  0.00           C  \nHETATM   38  H1  UNL     1       7.831  -4.106  -1.943  1.00  0.00           H  \nHETATM   39  H2  UNL     1       8.326  -2.373  -2.024  1.00  0.00           H  \nHETATM   40  H3  UNL     1       9.399  -3.605  -1.253  1.00  0.00           H  \nHETATM   41  H4  UNL     1       9.512  -2.303   0.734  1.00  0.00           H  \nHETATM   42  H5  UNL     1       8.098  -2.210   1.803  1.00  0.00           H  \nHETATM   43  H6  UNL     1       8.689   0.055   0.993  1.00  0.00           H  \nHETATM   44  H7  UNL     1       8.649  -0.473  -0.699  1.00  0.00           H  \nHETATM   45  H8  UNL     1       6.053  -1.094   2.082  1.00  0.00           H  \nHETATM   46  H9  UNL     1       6.751   0.545   2.156  1.00  0.00           H  \nHETATM   47  H10 UNL     1       5.504   2.309   0.472  1.00  0.00           H  \nHETATM   48  H11 UNL     1       3.295   3.342   0.231  1.00  0.00           H  \nHETATM   49  H12 UNL     1       1.503  -0.079   2.169  1.00  0.00           H  \nHETATM   50  H13 UNL     1       3.701  -1.115   2.368  1.00  0.00           H  \nHETATM   51  H14 UNL     1      -0.239   0.522   0.733  1.00  0.00           H  \nHETATM   52  H15 UNL     1      -0.930   3.635   2.649  1.00  0.00           H  \nHETATM   53  H16 UNL     1      -3.167   4.440   3.196  1.00  0.00           H  \nHETATM   54  H17 UNL     1      -5.526   4.506   2.744  1.00  0.00           H  \nHETATM   55  H18 UNL     1      -6.266   3.397   1.545  1.00  0.00           H  \nHETATM   56  H19 UNL     1      -5.961   2.825   3.237  1.00  0.00           H  \nHETATM   57  H20 UNL     1      -5.993   0.943   1.378  1.00  0.00           H  \nHETATM   58  H21 UNL     1      -3.929   0.909  -3.636  1.00  0.00           H  \nHETATM   59  H22 UNL     1      -5.747  -0.649  -4.223  1.00  0.00           H  \nHETATM   60  H23 UNL     1      -7.800  -2.363  -0.432  1.00  0.00           H  \nHETATM   61  H24 UNL     1      -9.681  -3.896  -0.890  1.00  0.00           H  \nHETATM   62  H25 UNL     1     -10.633  -4.026  -3.177  1.00  0.00           H  \nHETATM   63  H26 UNL     1      -7.935  -1.101  -4.566  1.00  0.00           H  \nHETATM   64  H27 UNL     1      -2.625   0.483   0.265  1.00  0.00           H  \nHETATM   65  H28 UNL     1       6.364  -1.154  -1.703  1.00  0.00           H  \nHETATM   66  H29 UNL     1       4.933  -1.083  -0.662  1.00  0.00           H  \nHETATM   67  H30 UNL     1       5.757  -2.935   0.751  1.00  0.00           H  \nHETATM   68  H31 UNL     1       5.778  -3.427  -0.954  1.00  0.00           H  \nCONECT    1    2   38   39   40\nCONECT    2    3   37\nCONECT    3    4   41   42\nCONECT    4    5   43   44\nCONECT    5    6   36\nCONECT    6    7   45   46\nCONECT    7    8    8   12\nCONECT    8    9   47\nCONECT    9   10   10   48\nCONECT   10   11   13\nCONECT   11   12   12   49\nCONECT   12   50\nCONECT   13   14   14   15\nCONECT   15   16   51\nCONECT   16   17   17   35\nCONECT   17   18   52\nCONECT   18   19   19   53\nCONECT   19   20   21\nCONECT   20   54   55   56\nCONECT   21   22   35   35\nCONECT   22   23   57\nCONECT   23   24   24   28\nCONECT   24   25\nCONECT   25   26   26   58\nCONECT   26   27   59\nCONECT   27   28   28   29\nCONECT   29   30   30   34\nCONECT   30   31   60\nCONECT   31   32   32   61\nCONECT   32   33   62\nCONECT   33   34   34\nCONECT   34   63\nCONECT   35   64\nCONECT   36   37   65   66\nCONECT   37   67   68\nEND\n",
                    "binary": false
                  }
                ],
                "kwargs": {
                  "defaultRepresentation": true,
                  "ext": "pdb"
                }
              }
            ],
            "_ngl_original_stage_parameters": {
              "impostor": true,
              "quality": "medium",
              "workerDefault": true,
              "sampleLevel": 0,
              "backgroundColor": "white",
              "rotateSpeed": 2,
              "zoomSpeed": 1.2,
              "panSpeed": 1,
              "clipNear": 0,
              "clipFar": 100,
              "clipDist": 10,
              "clipMode": "scene",
              "clipScale": "relative",
              "fogNear": 50,
              "fogFar": 100,
              "cameraFov": 40,
              "cameraEyeSep": 0.3,
              "cameraType": "perspective",
              "lightColor": 14540253,
              "lightIntensity": 1,
              "ambientColor": 14540253,
              "ambientIntensity": 0.2,
              "hoverTimeout": 0,
              "tooltip": true,
              "mousePreset": "default"
            },
            "_ngl_repr_dict": {
              "0": {
                "0": {
                  "type": "ball+stick",
                  "params": {
                    "lazy": false,
                    "visible": true,
                    "quality": "high",
                    "sphereDetail": 2,
                    "radialSegments": 20,
                    "openEnded": true,
                    "disableImpostor": false,
                    "aspectRatio": 1.5,
                    "lineOnly": false,
                    "cylinderOnly": false,
                    "multipleBond": "off",
                    "bondScale": 0.3,
                    "bondSpacing": 0.75,
                    "linewidth": 2,
                    "radiusType": "size",
                    "radiusData": {},
                    "radiusSize": 0.15,
                    "radiusScale": 2,
                    "assembly": "default",
                    "defaultAssembly": "",
                    "clipNear": 0,
                    "clipRadius": 0,
                    "clipCenter": {
                      "x": 0,
                      "y": 0,
                      "z": 0
                    },
                    "flatShaded": false,
                    "opacity": 1,
                    "depthWrite": true,
                    "side": "double",
                    "wireframe": false,
                    "colorScheme": "element",
                    "colorScale": "",
                    "colorReverse": false,
                    "colorValue": 9474192,
                    "colorMode": "hcl",
                    "roughness": 0.4,
                    "metalness": 0,
                    "diffuse": 16777215,
                    "diffuseInterior": false,
                    "useInteriorColor": true,
                    "interiorColor": 2236962,
                    "interiorDarkening": 0,
                    "matrix": {
                      "elements": [
                        1,
                        0,
                        0,
                        0,
                        0,
                        1,
                        0,
                        0,
                        0,
                        0,
                        1,
                        0,
                        0,
                        0,
                        0,
                        1
                      ]
                    },
                    "disablePicking": false,
                    "sele": ""
                  }
                }
              },
              "1": {
                "0": {
                  "type": "ball+stick",
                  "params": {
                    "lazy": false,
                    "visible": true,
                    "quality": "high",
                    "sphereDetail": 2,
                    "radialSegments": 20,
                    "openEnded": true,
                    "disableImpostor": false,
                    "aspectRatio": 1.5,
                    "lineOnly": false,
                    "cylinderOnly": false,
                    "multipleBond": "off",
                    "bondScale": 0.3,
                    "bondSpacing": 0.75,
                    "linewidth": 2,
                    "radiusType": "size",
                    "radiusData": {},
                    "radiusSize": 0.15,
                    "radiusScale": 2,
                    "assembly": "default",
                    "defaultAssembly": "",
                    "clipNear": 0,
                    "clipRadius": 0,
                    "clipCenter": {
                      "x": 0,
                      "y": 0,
                      "z": 0
                    },
                    "flatShaded": false,
                    "opacity": 1,
                    "depthWrite": true,
                    "side": "double",
                    "wireframe": false,
                    "colorScheme": "element",
                    "colorScale": "",
                    "colorReverse": false,
                    "colorValue": 9474192,
                    "colorMode": "hcl",
                    "roughness": 0.4,
                    "metalness": 0,
                    "diffuse": 16777215,
                    "diffuseInterior": false,
                    "useInteriorColor": true,
                    "interiorColor": 2236962,
                    "interiorDarkening": 0,
                    "matrix": {
                      "elements": [
                        1,
                        0,
                        0,
                        0,
                        0,
                        1,
                        0,
                        0,
                        0,
                        0,
                        1,
                        0,
                        0,
                        0,
                        0,
                        1
                      ]
                    },
                    "disablePicking": false,
                    "sele": ""
                  }
                }
              }
            },
            "_ngl_serialize": false,
            "_ngl_version": "2.0.0-dev.39",
            "_ngl_view_id": [
              "B3EE47DD-0C32-47B7-96C4-A45880974109"
            ],
            "_player_dict": {},
            "_scene_position": {},
            "_scene_rotation": {},
            "_synced_model_ids": [],
            "_synced_repr_model_ids": [],
            "_view_count": null,
            "_view_height": "",
            "_view_module": "nglview-js-widgets",
            "_view_module_version": "3.0.8",
            "_view_name": "NGLView",
            "_view_width": "",
            "background": "white",
            "frame": 0,
            "gui_style": null,
            "layout": "IPY_MODEL_d2816462e9494892927249742a359311",
            "max_frame": 0,
            "n_components": 2,
            "picked": {}
          }
        },
        "d2816462e9494892927249742a359311": {
          "model_module": "@jupyter-widgets/base",
          "model_name": "LayoutModel",
          "model_module_version": "1.2.0",
          "state": {
            "_model_module": "@jupyter-widgets/base",
            "_model_module_version": "1.2.0",
            "_model_name": "LayoutModel",
            "_view_count": null,
            "_view_module": "@jupyter-widgets/base",
            "_view_module_version": "1.2.0",
            "_view_name": "LayoutView",
            "align_content": null,
            "align_items": null,
            "align_self": null,
            "border": null,
            "bottom": null,
            "display": null,
            "flex": null,
            "flex_flow": null,
            "grid_area": null,
            "grid_auto_columns": null,
            "grid_auto_flow": null,
            "grid_auto_rows": null,
            "grid_column": null,
            "grid_gap": null,
            "grid_row": null,
            "grid_template_areas": null,
            "grid_template_columns": null,
            "grid_template_rows": null,
            "height": null,
            "justify_content": null,
            "justify_items": null,
            "left": null,
            "margin": null,
            "max_height": null,
            "max_width": null,
            "min_height": null,
            "min_width": null,
            "object_fit": null,
            "object_position": null,
            "order": null,
            "overflow": null,
            "overflow_x": null,
            "overflow_y": null,
            "padding": null,
            "right": null,
            "top": null,
            "visibility": null,
            "width": null
          }
        },
        "ebd4b7220a714d0f981341759efe99eb": {
          "model_module": "@jupyter-widgets/controls",
          "model_name": "ButtonModel",
          "model_module_version": "1.5.0",
          "state": {
            "_dom_classes": [],
            "_model_module": "@jupyter-widgets/controls",
            "_model_module_version": "1.5.0",
            "_model_name": "ButtonModel",
            "_view_count": null,
            "_view_module": "@jupyter-widgets/controls",
            "_view_module_version": "1.5.0",
            "_view_name": "ButtonView",
            "button_style": "",
            "description": "",
            "disabled": false,
            "icon": "compress",
            "layout": "IPY_MODEL_a22b47872fa341cfa61c8946266e86e2",
            "style": "IPY_MODEL_202b2acaa9ab475ba27d622a879964a1",
            "tooltip": ""
          }
        },
        "61c33a664a1648d28356c5bc676c132d": {
          "model_module": "@jupyter-widgets/controls",
          "model_name": "HBoxModel",
          "model_module_version": "1.5.0",
          "state": {
            "_dom_classes": [],
            "_model_module": "@jupyter-widgets/controls",
            "_model_module_version": "1.5.0",
            "_model_name": "HBoxModel",
            "_view_count": null,
            "_view_module": "@jupyter-widgets/controls",
            "_view_module_version": "1.5.0",
            "_view_name": "HBoxView",
            "box_style": "",
            "children": [
              "IPY_MODEL_42cbd2395fda4a99923584845f6801f9",
              "IPY_MODEL_45c00adb2564445fb4a22379fcf3dd29"
            ],
            "layout": "IPY_MODEL_2ce3328478fd45f694977dd343325c7d"
          }
        },
        "9a26c46731c341fd9e00a3b1de9d86a6": {
          "model_module": "@jupyter-widgets/base",
          "model_name": "LayoutModel",
          "model_module_version": "1.2.0",
          "state": {
            "_model_module": "@jupyter-widgets/base",
            "_model_module_version": "1.2.0",
            "_model_name": "LayoutModel",
            "_view_count": null,
            "_view_module": "@jupyter-widgets/base",
            "_view_module_version": "1.2.0",
            "_view_name": "LayoutView",
            "align_content": null,
            "align_items": null,
            "align_self": null,
            "border": null,
            "bottom": null,
            "display": null,
            "flex": null,
            "flex_flow": null,
            "grid_area": null,
            "grid_auto_columns": null,
            "grid_auto_flow": null,
            "grid_auto_rows": null,
            "grid_column": null,
            "grid_gap": null,
            "grid_row": null,
            "grid_template_areas": null,
            "grid_template_columns": null,
            "grid_template_rows": null,
            "height": null,
            "justify_content": null,
            "justify_items": null,
            "left": null,
            "margin": null,
            "max_height": null,
            "max_width": null,
            "min_height": null,
            "min_width": null,
            "object_fit": null,
            "object_position": null,
            "order": null,
            "overflow": null,
            "overflow_x": null,
            "overflow_y": null,
            "padding": null,
            "right": null,
            "top": null,
            "visibility": null,
            "width": null
          }
        },
        "d9ef394f4342459dac9ce3d232eb7991": {
          "model_module": "@jupyter-widgets/controls",
          "model_name": "DescriptionStyleModel",
          "model_module_version": "1.5.0",
          "state": {
            "_model_module": "@jupyter-widgets/controls",
            "_model_module_version": "1.5.0",
            "_model_name": "DescriptionStyleModel",
            "_view_count": null,
            "_view_module": "@jupyter-widgets/base",
            "_view_module_version": "1.2.0",
            "_view_name": "StyleView",
            "description_width": ""
          }
        },
        "ef91349bff974455ba717f7af00c9b9c": {
          "model_module": "@jupyter-widgets/base",
          "model_name": "LayoutModel",
          "model_module_version": "1.2.0",
          "state": {
            "_model_module": "@jupyter-widgets/base",
            "_model_module_version": "1.2.0",
            "_model_name": "LayoutModel",
            "_view_count": null,
            "_view_module": "@jupyter-widgets/base",
            "_view_module_version": "1.2.0",
            "_view_name": "LayoutView",
            "align_content": null,
            "align_items": null,
            "align_self": null,
            "border": null,
            "bottom": null,
            "display": null,
            "flex": null,
            "flex_flow": null,
            "grid_area": null,
            "grid_auto_columns": null,
            "grid_auto_flow": null,
            "grid_auto_rows": null,
            "grid_column": null,
            "grid_gap": null,
            "grid_row": null,
            "grid_template_areas": null,
            "grid_template_columns": null,
            "grid_template_rows": null,
            "height": null,
            "justify_content": null,
            "justify_items": null,
            "left": null,
            "margin": null,
            "max_height": null,
            "max_width": null,
            "min_height": null,
            "min_width": null,
            "object_fit": null,
            "object_position": null,
            "order": null,
            "overflow": null,
            "overflow_x": null,
            "overflow_y": null,
            "padding": null,
            "right": null,
            "top": null,
            "visibility": null,
            "width": null
          }
        },
        "14bdbd781d174c2a8b5464ea72ec87e4": {
          "model_module": "@jupyter-widgets/controls",
          "model_name": "SliderStyleModel",
          "model_module_version": "1.5.0",
          "state": {
            "_model_module": "@jupyter-widgets/controls",
            "_model_module_version": "1.5.0",
            "_model_name": "SliderStyleModel",
            "_view_count": null,
            "_view_module": "@jupyter-widgets/base",
            "_view_module_version": "1.2.0",
            "_view_name": "StyleView",
            "description_width": "",
            "handle_color": null
          }
        },
        "42cbd2395fda4a99923584845f6801f9": {
          "model_module": "@jupyter-widgets/controls",
          "model_name": "PlayModel",
          "model_module_version": "1.5.0",
          "state": {
            "_dom_classes": [],
            "_model_module": "@jupyter-widgets/controls",
            "_model_module_version": "1.5.0",
            "_model_name": "PlayModel",
            "_playing": false,
            "_repeat": false,
            "_view_count": null,
            "_view_module": "@jupyter-widgets/controls",
            "_view_module_version": "1.5.0",
            "_view_name": "PlayView",
            "description": "",
            "description_tooltip": null,
            "disabled": false,
            "interval": 100,
            "layout": "IPY_MODEL_9a26c46731c341fd9e00a3b1de9d86a6",
            "max": 0,
            "min": 0,
            "show_repeat": true,
            "step": 1,
            "style": "IPY_MODEL_d9ef394f4342459dac9ce3d232eb7991",
            "value": 0
          }
        },
        "45c00adb2564445fb4a22379fcf3dd29": {
          "model_module": "@jupyter-widgets/controls",
          "model_name": "IntSliderModel",
          "model_module_version": "1.5.0",
          "state": {
            "_dom_classes": [],
            "_model_module": "@jupyter-widgets/controls",
            "_model_module_version": "1.5.0",
            "_model_name": "IntSliderModel",
            "_view_count": null,
            "_view_module": "@jupyter-widgets/controls",
            "_view_module_version": "1.5.0",
            "_view_name": "IntSliderView",
            "continuous_update": true,
            "description": "",
            "description_tooltip": null,
            "disabled": false,
            "layout": "IPY_MODEL_ef91349bff974455ba717f7af00c9b9c",
            "max": 0,
            "min": 0,
            "orientation": "horizontal",
            "readout": true,
            "readout_format": "d",
            "step": 1,
            "style": "IPY_MODEL_14bdbd781d174c2a8b5464ea72ec87e4",
            "value": 0
          }
        },
        "a22b47872fa341cfa61c8946266e86e2": {
          "model_module": "@jupyter-widgets/base",
          "model_name": "LayoutModel",
          "model_module_version": "1.2.0",
          "state": {
            "_model_module": "@jupyter-widgets/base",
            "_model_module_version": "1.2.0",
            "_model_name": "LayoutModel",
            "_view_count": null,
            "_view_module": "@jupyter-widgets/base",
            "_view_module_version": "1.2.0",
            "_view_name": "LayoutView",
            "align_content": null,
            "align_items": null,
            "align_self": null,
            "border": null,
            "bottom": null,
            "display": null,
            "flex": null,
            "flex_flow": null,
            "grid_area": null,
            "grid_auto_columns": null,
            "grid_auto_flow": null,
            "grid_auto_rows": null,
            "grid_column": null,
            "grid_gap": null,
            "grid_row": null,
            "grid_template_areas": null,
            "grid_template_columns": null,
            "grid_template_rows": null,
            "height": null,
            "justify_content": null,
            "justify_items": null,
            "left": null,
            "margin": null,
            "max_height": null,
            "max_width": null,
            "min_height": null,
            "min_width": null,
            "object_fit": null,
            "object_position": null,
            "order": null,
            "overflow": null,
            "overflow_x": null,
            "overflow_y": null,
            "padding": null,
            "right": null,
            "top": null,
            "visibility": null,
            "width": "34px"
          }
        },
        "202b2acaa9ab475ba27d622a879964a1": {
          "model_module": "@jupyter-widgets/controls",
          "model_name": "ButtonStyleModel",
          "model_module_version": "1.5.0",
          "state": {
            "_model_module": "@jupyter-widgets/controls",
            "_model_module_version": "1.5.0",
            "_model_name": "ButtonStyleModel",
            "_view_count": null,
            "_view_module": "@jupyter-widgets/base",
            "_view_module_version": "1.2.0",
            "_view_name": "StyleView",
            "button_color": null,
            "font_weight": ""
          }
        },
        "2ce3328478fd45f694977dd343325c7d": {
          "model_module": "@jupyter-widgets/base",
          "model_name": "LayoutModel",
          "model_module_version": "1.2.0",
          "state": {
            "_model_module": "@jupyter-widgets/base",
            "_model_module_version": "1.2.0",
            "_model_name": "LayoutModel",
            "_view_count": null,
            "_view_module": "@jupyter-widgets/base",
            "_view_module_version": "1.2.0",
            "_view_name": "LayoutView",
            "align_content": null,
            "align_items": null,
            "align_self": null,
            "border": null,
            "bottom": null,
            "display": null,
            "flex": null,
            "flex_flow": null,
            "grid_area": null,
            "grid_auto_columns": null,
            "grid_auto_flow": null,
            "grid_auto_rows": null,
            "grid_column": null,
            "grid_gap": null,
            "grid_row": null,
            "grid_template_areas": null,
            "grid_template_columns": null,
            "grid_template_rows": null,
            "height": null,
            "justify_content": null,
            "justify_items": null,
            "left": null,
            "margin": null,
            "max_height": null,
            "max_width": null,
            "min_height": null,
            "min_width": null,
            "object_fit": null,
            "object_position": null,
            "order": null,
            "overflow": null,
            "overflow_x": null,
            "overflow_y": null,
            "padding": null,
            "right": null,
            "top": null,
            "visibility": null,
            "width": null
          }
        },
        "468d2f79de83465eb1980261934108a3": {
          "model_module": "nglview-js-widgets",
          "model_name": "NGLModel",
          "model_module_version": "3.0.8",
          "state": {
            "_camera_orientation": [
              43.48099277618725,
              -48.131955451878774,
              -37.281566185847105,
              0,
              11.774707341357548,
              -38.300070831591036,
              63.179568588387276,
              0,
              -59.73237463818676,
              -42.58657634005881,
              -14.684140472284867,
              0,
              -20.895848989486694,
              -21.818888902664185,
              -41.576680183410645,
              1
            ],
            "_camera_str": "orthographic",
            "_dom_classes": [],
            "_gui_theme": null,
            "_ibtn_fullscreen": "IPY_MODEL_418540ec0bf4471587f39d1506d6db59",
            "_igui": null,
            "_iplayer": "IPY_MODEL_859adb156fed4df3b48639eb0c8cb1d7",
            "_model_module": "nglview-js-widgets",
            "_model_module_version": "3.0.8",
            "_model_name": "NGLModel",
            "_ngl_color_dict": {},
            "_ngl_coordinate_resource": {},
            "_ngl_full_stage_parameters": {
              "impostor": true,
              "quality": "medium",
              "workerDefault": true,
              "sampleLevel": 0,
              "backgroundColor": "white",
              "rotateSpeed": 2,
              "zoomSpeed": 1.2,
              "panSpeed": 1,
              "clipNear": 0,
              "clipFar": 100,
              "clipDist": 10,
              "clipMode": "scene",
              "clipScale": "relative",
              "fogNear": 50,
              "fogFar": 100,
              "cameraFov": 40,
              "cameraEyeSep": 0.3,
              "cameraType": "perspective",
              "lightColor": 14540253,
              "lightIntensity": 1,
              "ambientColor": 14540253,
              "ambientIntensity": 0.2,
              "hoverTimeout": 0,
              "tooltip": true,
              "mousePreset": "default"
            },
            "_ngl_msg_archive": [
              {
                "target": "Stage",
                "type": "call_method",
                "methodName": "loadFile",
                "reconstruc_color_scheme": false,
                "args": [
                  {
                    "type": "blob",
                    "data": "ATOM      1  N   LEU A 595      31.149  30.333  50.864  1.00 21.57           N  \nATOM      2  CA  LEU A 595      31.938  29.660  49.840  1.00 21.62           C  \nATOM      3  C   LEU A 595      32.154  30.564  48.630  1.00 23.45           C  \nATOM      4  O   LEU A 595      33.048  30.326  47.816  1.00 25.99           O  \nATOM      5  CB  LEU A 595      31.255  28.355  49.426  1.00 20.33           C  \nATOM      6  CG  LEU A 595      31.074  27.310  50.531  1.00 19.10           C  \nATOM      7  CD1 LEU A 595      30.181  26.192  50.029  1.00 19.33           C  \nATOM      8  CD2 LEU A 595      32.421  26.756  50.983  1.00 19.31           C  \nATOM      9  N   VAL A 603      26.989  31.882  48.111  1.00 16.18           N  \nATOM     10  CA  VAL A 603      26.883  30.457  48.394  1.00 16.19           C  \nATOM     11  C   VAL A 603      27.497  30.195  49.752  1.00 16.51           C  \nATOM     12  O   VAL A 603      28.591  30.679  50.046  1.00 18.03           O  \nATOM     13  CB  VAL A 603      27.541  29.589  47.294  1.00 16.16           C  \nATOM     14  CG1 VAL A 603      27.527  28.106  47.683  1.00 16.20           C  \nATOM     15  CG2 VAL A 603      26.806  29.781  45.976  1.00 16.97           C  \nATOM     16  N   ALA A 621      25.662  22.652  49.870  1.00 14.55           N  \nATOM     17  CA  ALA A 621      25.930  24.037  49.521  1.00 15.49           C  \nATOM     18  C   ALA A 621      24.593  24.704  49.284  1.00 16.04           C  \nATOM     19  O   ALA A 621      23.671  24.086  48.747  1.00 14.47           O  \nATOM     20  CB  ALA A 621      26.803  24.123  48.272  1.00 16.69           C  \nATOM     21  N   VAL A 622      24.485  25.965  49.696  1.00 13.36           N  \nATOM     22  CA  VAL A 622      23.240  26.704  49.586  1.00 13.71           C  \nATOM     23  C   VAL A 622      23.508  28.047  48.929  1.00 16.07           C  \nATOM     24  O   VAL A 622      24.340  28.819  49.405  1.00 17.81           O  \nATOM     25  CB  VAL A 622      22.597  26.942  50.974  1.00 14.20           C  \nATOM     26  CG1 VAL A 622      21.377  27.839  50.856  1.00 15.06           C  \nATOM     27  CG2 VAL A 622      22.210  25.615  51.631  1.00 15.12           C  \nATOM     28  N   LYS A 623      22.794  28.321  47.845  1.00 15.28           N  \nATOM     29  CA  LYS A 623      22.880  29.616  47.183  1.00 15.99           C  \nATOM     30  C   LYS A 623      21.665  30.412  47.563  1.00 18.59           C  \nATOM     31  O   LYS A 623      20.534  29.962  47.394  1.00 18.45           O  \nATOM     32  CB  LYS A 623      22.950  29.477  45.663  1.00 16.10           C  \nATOM     33  CG  LYS A 623      23.366  30.767  44.954  1.00 18.14           C  \nATOM     34  CD  LYS A 623      23.356  30.611  43.436  1.00 19.14           C  \nATOM     35  CE  LYS A 623      24.604  29.923  42.930  1.00 24.52           C  \nATOM     36  NZ  LYS A 623      24.637  29.939  41.447  1.00 24.00           N  \nATOM     37  N   GLU A 640      17.723  29.598  37.437  1.00 18.37           N  \nATOM     38  CA  GLU A 640      18.864  28.694  37.642  1.00 19.17           C  \nATOM     39  C   GLU A 640      18.424  27.383  38.294  1.00 18.37           C  \nATOM     40  O   GLU A 640      18.885  26.297  37.913  1.00 19.19           O  \nATOM     41  CB  GLU A 640      19.940  29.374  38.493  1.00 22.17           C  \nATOM     42  CG  GLU A 640      21.111  28.466  38.844  1.00 26.95           C  \nATOM     43  CD  GLU A 640      22.216  29.175  39.597  1.00 27.74           C  \nATOM     44  OE1 GLU A 640      23.381  28.755  39.456  1.00 30.14           O  \nATOM     45  OE2 GLU A 640      21.930  30.147  40.323  1.00 30.40           O  \nATOM     46  N   VAL A 643      16.629  25.362  35.650  1.00 16.27           N  \nATOM     47  CA  VAL A 643      17.616  24.839  34.703  1.00 17.82           C  \nATOM     48  C   VAL A 643      18.300  23.605  35.283  1.00 17.79           C  \nATOM     49  O   VAL A 643      18.406  22.578  34.608  1.00 17.24           O  \nATOM     50  CB  VAL A 643      18.643  25.925  34.301  1.00 18.78           C  \nATOM     51  CG1 VAL A 643      19.880  25.321  33.626  1.00 19.72           C  \nATOM     52  CG2 VAL A 643      17.976  26.931  33.389  1.00 19.22           C  \nATOM     53  N   LEU A 644      18.733  23.697  36.540  1.00 18.72           N  \nATOM     54  CA  LEU A 644      19.365  22.563  37.210  1.00 19.69           C  \nATOM     55  C   LEU A 644      18.414  21.377  37.294  1.00 19.09           C  \nATOM     56  O   LEU A 644      18.816  20.239  37.071  1.00 18.27           O  \nATOM     57  CB  LEU A 644      19.847  22.946  38.610  1.00 24.28           C  \nATOM     58  CG  LEU A 644      21.163  23.715  38.741  1.00 27.39           C  \nATOM     59  CD1 LEU A 644      21.361  24.114  40.194  1.00 28.62           C  \nATOM     60  CD2 LEU A 644      22.348  22.880  38.253  1.00 28.93           C  \nATOM     61  N   LEU A 647      18.212  19.843  33.899  1.00 17.31           N  \nATOM     62  CA  LEU A 647      19.422  19.090  33.554  1.00 17.79           C  \nATOM     63  C   LEU A 647      19.432  17.733  34.229  1.00 17.87           C  \nATOM     64  O   LEU A 647      19.895  16.751  33.659  1.00 19.08           O  \nATOM     65  CB  LEU A 647      20.684  19.864  33.938  1.00 16.20           C  \nATOM     66  CG  LEU A 647      20.975  21.095  33.077  1.00 18.11           C  \nATOM     67  CD1 LEU A 647      22.170  21.842  33.638  1.00 18.70           C  \nATOM     68  CD2 LEU A 647      21.187  20.739  31.611  1.00 18.61           C  \nATOM     69  N   ILE A 653      28.138  17.166  36.860  1.00 12.64           N  \nATOM     70  CA  ILE A 653      27.539  18.485  37.022  1.00 13.14           C  \nATOM     71  C   ILE A 653      27.064  18.561  38.459  1.00 12.76           C  \nATOM     72  O   ILE A 653      26.669  17.549  39.038  1.00 14.74           O  \nATOM     73  CB  ILE A 653      26.363  18.668  36.032  1.00 15.03           C  \nATOM     74  CG1 ILE A 653      26.856  18.488  34.582  1.00 15.56           C  \nATOM     75  CG2 ILE A 653      25.710  20.051  36.204  1.00 15.50           C  \nATOM     76  CD1 ILE A 653      25.757  18.092  33.578  1.00 19.71           C  \nATOM     77  N   VAL A 654      27.104  19.754  39.045  1.00 12.26           N  \nATOM     78  CA  VAL A 654      26.592  19.926  40.406  1.00 13.10           C  \nATOM     79  C   VAL A 654      25.157  19.399  40.477  1.00 13.56           C  \nATOM     80  O   VAL A 654      24.354  19.632  39.557  1.00 14.69           O  \nATOM     81  CB AVAL A 654      26.664  21.410  40.828  0.65 15.26           C  \nATOM     82  CB BVAL A 654      26.634  21.387  40.895  0.35 14.83           C  \nATOM     83  CG1AVAL A 654      26.114  21.604  42.228  0.65 15.04           C  \nATOM     84  CG1BVAL A 654      28.047  21.775  41.272  0.35 15.69           C  \nATOM     85  CG2AVAL A 654      28.093  21.879  40.790  0.65 17.15           C  \nATOM     86  CG2BVAL A 654      26.057  22.326  39.862  0.35 14.96           C  \nATOM     87  N   VAL A 668      18.702  27.860  47.057  1.00 14.71           N  \nATOM     88  CA  VAL A 668      18.866  26.664  46.239  1.00 15.17           C  \nATOM     89  C   VAL A 668      19.924  25.779  46.881  1.00 13.78           C  \nATOM     90  O   VAL A 668      21.001  26.256  47.227  1.00 15.73           O  \nATOM     91  CB  VAL A 668      19.242  27.025  44.785  1.00 15.29           C  \nATOM     92  CG1 VAL A 668      19.471  25.772  43.950  1.00 18.43           C  \nATOM     93  CG2 VAL A 668      18.148  27.896  44.168  1.00 17.90           C  \nATOM     94  N   ILE A 669      19.597  24.501  47.058  1.00 13.24           N  \nATOM     95  CA  ILE A 669      20.453  23.562  47.773  1.00 13.94           C  \nATOM     96  C   ILE A 669      21.049  22.535  46.817  1.00 13.30           C  \nATOM     97  O   ILE A 669      20.323  21.866  46.083  1.00 14.33           O  \nATOM     98  CB  ILE A 669      19.662  22.797  48.865  1.00 14.54           C  \nATOM     99  CG1 ILE A 669      18.816  23.740  49.720  1.00 16.04           C  \nATOM    100  CG2 ILE A 669      20.610  21.962  49.738  1.00 16.84           C  \nATOM    101  CD1 ILE A 669      17.695  23.016  50.456  1.00 14.97           C  \nATOM    102  N   THR A 670      22.369  22.416  46.833  1.00 15.01           N  \nATOM    103  CA  THR A 670      23.035  21.371  46.059  1.00 14.11           C  \nATOM    104  C   THR A 670      23.965  20.569  46.934  1.00 14.30           C  \nATOM    105  O   THR A 670      24.166  20.876  48.105  1.00 14.77           O  \nATOM    106  CB  THR A 670      23.874  21.946  44.895  1.00 15.13           C  \nATOM    107  OG1 THR A 670      24.992  22.671  45.425  1.00 15.94           O  \nATOM    108  CG2 THR A 670      23.079  22.950  44.053  1.00 15.70           C  \nATOM    109  N   GLU A 671      24.571  19.548  46.338  1.00 14.20           N  \nATOM    110  CA  GLU A 671      25.646  18.848  47.000  1.00 15.02           C  \nATOM    111  C   GLU A 671      26.749  19.833  47.357  1.00 14.63           C  \nATOM    112  O   GLU A 671      26.901  20.902  46.730  1.00 14.91           O  \nATOM    113  CB  GLU A 671      26.208  17.767  46.091  1.00 14.77           C  \nATOM    114  CG  GLU A 671      26.909  18.319  44.864  1.00 14.97           C  \nATOM    115  CD  GLU A 671      27.327  17.218  43.929  1.00 16.68           C  \nATOM    116  OE1 GLU A 671      26.923  17.263  42.752  1.00 17.43           O  \nATOM    117  OE2 GLU A 671      28.036  16.298  44.388  1.00 17.50           O  \nATOM    118  N   TYR A 672      27.501  19.455  48.377  1.00 15.36           N  \nATOM    119  CA  TYR A 672      28.718  20.133  48.765  1.00 14.86           C  \nATOM    120  C   TYR A 672      29.872  19.338  48.174  1.00 14.41           C  \nATOM    121  O   TYR A 672      29.851  18.100  48.196  1.00 15.82           O  \nATOM    122  CB  TYR A 672      28.825  20.165  50.288  1.00 16.47           C  \nATOM    123  CG  TYR A 672      30.154  20.674  50.799  1.00 17.33           C  \nATOM    124  CD1 TYR A 672      31.136  19.789  51.241  1.00 19.38           C  \nATOM    125  CD2 TYR A 672      30.426  22.043  50.842  1.00 19.81           C  \nATOM    126  CE1 TYR A 672      32.354  20.249  51.712  1.00 21.84           C  \nATOM    127  CE2 TYR A 672      31.649  22.512  51.308  1.00 22.35           C  \nATOM    128  CZ  TYR A 672      32.603  21.609  51.738  1.00 22.72           C  \nATOM    129  OH  TYR A 672      33.815  22.059  52.206  1.00 27.45           O  \nATOM    130  N   CYS A 673      30.864  20.045  47.642  1.00 14.55           N  \nATOM    131  CA  CYS A 673      32.000  19.401  46.980  1.00 14.06           C  \nATOM    132  C   CYS A 673      33.238  19.541  47.847  1.00 14.39           C  \nATOM    133  O   CYS A 673      33.792  20.626  47.987  1.00 15.54           O  \nATOM    134  CB  CYS A 673      32.221  20.002  45.597  1.00 13.73           C  \nATOM    135  SG  CYS A 673      30.874  19.592  44.463  1.00 15.50           S  \nATOM    136  N   GLY A 676      36.345  21.640  47.077  1.00 14.32           N  \nATOM    137  CA  GLY A 676      36.089  23.015  46.719  1.00 14.78           C  \nATOM    138  C   GLY A 676      36.280  23.307  45.248  1.00 15.06           C  \nATOM    139  O   GLY A 676      36.156  22.437  44.389  1.00 16.06           O  \nATOM    140  N   ASP A 677      36.580  24.564  44.958  1.00 14.84           N  \nATOM    141  CA  ASP A 677      36.720  25.003  43.587  1.00 15.01           C  \nATOM    142  C   ASP A 677      38.011  24.494  42.944  1.00 15.67           C  \nATOM    143  O   ASP A 677      39.070  24.501  43.573  1.00 15.68           O  \nATOM    144  CB AASP A 677      36.795  26.518  43.671  0.65 17.41           C  \nATOM    145  CB BASP A 677      36.457  26.501  43.377  0.35 16.34           C  \nATOM    146  CG AASP A 677      36.621  27.171  42.360  0.65 17.10           C  \nATOM    147  CG BASP A 677      37.649  27.354  43.684  0.35 16.45           C  \nATOM    148  OD1AASP A 677      35.482  27.581  42.069  0.65 18.68           O  \nATOM    149  OD1BASP A 677      38.493  27.560  42.782  0.35 16.55           O  \nATOM    150  OD2AASP A 677      37.567  27.334  41.570  0.65 19.47           O  \nATOM    151  OD2BASP A 677      37.808  27.868  44.802  0.35 17.67           O  \nATOM    152  N   LEU A 783      25.677  18.880  28.841  1.00 10.99           N  \nATOM    153  CA  LEU A 783      25.026  20.183  28.753  1.00 13.18           C  \nATOM    154  C   LEU A 783      24.616  20.475  27.309  1.00 11.96           C  \nATOM    155  O   LEU A 783      23.486  20.890  27.057  1.00 13.52           O  \nATOM    156  CB  LEU A 783      25.963  21.265  29.263  1.00 14.86           C  \nATOM    157  CG  LEU A 783      25.393  22.562  29.817  1.00 21.54           C  \nATOM    158  CD1 LEU A 783      24.622  22.312  31.105  1.00 23.14           C  \nATOM    159  CD2 LEU A 783      26.513  23.554  30.042  1.00 23.17           C  \nATOM    160  N   CYS A 788      22.013  23.221  26.149  1.00 13.04           N  \nATOM    161  CA  CYS A 788      22.357  24.245  27.099  1.00 13.61           C  \nATOM    162  C   CYS A 788      23.772  24.732  26.859  1.00 14.46           C  \nATOM    163  O   CYS A 788      24.665  23.949  26.503  1.00 16.12           O  \nATOM    164  CB ACYS A 788      22.205  23.754  28.530  0.65 12.18           C  \nATOM    165  CB BCYS A 788      22.232  23.659  28.503  0.35 15.77           C  \nATOM    166  SG ACYS A 788      20.477  23.731  29.022  0.65 13.79           S  \nATOM    167  SG BCYS A 788      22.505  24.807  29.853  0.35 21.30           S  \nATOM    168  N   ILE A 789      23.940  26.039  27.026  1.00 12.60           N  \nATOM    169  CA  ILE A 789      25.222  26.703  26.873  1.00 11.87           C  \nATOM    170  C   ILE A 789      25.632  27.282  28.210  1.00 12.45           C  \nATOM    171  O   ILE A 789      24.834  27.921  28.895  1.00 14.12           O  \nATOM    172  CB  ILE A 789      25.128  27.794  25.787  1.00 13.84           C  \nATOM    173  CG1 ILE A 789      24.860  27.140  24.430  1.00 16.29           C  \nATOM    174  CG2 ILE A 789      26.413  28.638  25.719  1.00 14.53           C  \nATOM    175  CD1 ILE A 789      24.211  28.091  23.422  1.00 20.81           C  \nATOM    176  N   HIS A 790      26.885  27.060  28.588  1.00 12.80           N  \nATOM    177  CA  HIS A 790      27.356  27.500  29.894  1.00 11.91           C  \nATOM    178  C   HIS A 790      27.561  29.008  29.960  1.00 13.92           C  \nATOM    179  O   HIS A 790      26.999  29.674  30.843  1.00 13.91           O  \nATOM    180  CB  HIS A 790      28.617  26.738  30.304  1.00 12.15           C  \nATOM    181  CG  HIS A 790      28.976  26.928  31.741  1.00 13.13           C  \nATOM    182  ND1 HIS A 790      29.366  28.146  32.250  1.00 13.05           N  \nATOM    183  CD2 HIS A 790      28.947  26.073  32.789  1.00 13.90           C  \nATOM    184  CE1 HIS A 790      29.588  28.028  33.547  1.00 12.46           C  \nATOM    185  NE2 HIS A 790      29.350  26.778  33.896  1.00 12.89           N  \nATOM    186  N   ARG A 791      28.351  29.529  29.019  1.00 11.71           N  \nATOM    187  CA  ARG A 791      28.716  30.952  28.909  1.00 11.81           C  \nATOM    188  C   ARG A 791      29.864  31.427  29.800  1.00 12.83           C  \nATOM    189  O   ARG A 791      30.404  32.503  29.568  1.00 14.02           O  \nATOM    190  CB  ARG A 791      27.514  31.889  29.113  1.00 13.87           C  \nATOM    191  CG  ARG A 791      26.399  31.710  28.124  1.00 17.20           C  \nATOM    192  CD  ARG A 791      25.415  32.856  28.139  1.00 21.38           C  \nATOM    193  NE  ARG A 791      24.275  32.598  27.267  1.00 27.14           N  \nATOM    194  CZ  ARG A 791      23.657  33.532  26.553  1.00 28.83           C  \nATOM    195  NH1 ARG A 791      24.062  34.795  26.611  1.00 29.64           N  \nATOM    196  NH2 ARG A 791      22.628  33.202  25.783  1.00 30.39           N  \nATOM    197  N   LEU A 799      33.921  22.446  40.302  1.00 12.00           N  \nATOM    198  CA  LEU A 799      34.159  22.007  41.673  1.00 10.66           C  \nATOM    199  C   LEU A 799      34.734  20.619  41.673  1.00 12.52           C  \nATOM    200  O   LEU A 799      34.644  19.902  40.677  1.00 13.87           O  \nATOM    201  CB  LEU A 799      32.867  22.010  42.481  1.00 11.50           C  \nATOM    202  CG  LEU A 799      32.089  23.319  42.443  1.00 11.96           C  \nATOM    203  CD1 LEU A 799      30.772  23.119  43.165  1.00 13.35           C  \nATOM    204  CD2 LEU A 799      32.905  24.446  43.073  1.00 12.71           C  \nATOM    205  N   ILE A 808      30.751  20.466  37.127  1.00 11.69           N  \nATOM    206  CA  ILE A 808      30.539  21.779  36.516  1.00 10.22           C  \nATOM    207  C   ILE A 808      29.526  22.571  37.320  1.00 12.99           C  \nATOM    208  O   ILE A 808      28.459  22.067  37.639  1.00 11.69           O  \nATOM    209  CB  ILE A 808      30.067  21.631  35.069  1.00 11.25           C  \nATOM    210  CG1 ILE A 808      31.193  21.028  34.225  1.00 13.34           C  \nATOM    211  CG2 ILE A 808      29.653  22.997  34.481  1.00 12.26           C  \nATOM    212  CD1 ILE A 808      30.709  20.475  32.922  1.00 16.48           C  \nATOM    213  N   CYS A 809      29.876  23.809  37.642  1.00 11.74           N  \nATOM    214  CA  CYS A 809      28.935  24.683  38.314  1.00 14.20           C  \nATOM    215  C   CYS A 809      28.896  26.034  37.625  1.00 13.99           C  \nATOM    216  O   CYS A 809      29.479  26.211  36.565  1.00 13.89           O  \nATOM    217  CB  CYS A 809      29.282  24.804  39.793  1.00 19.22           C  \nATOM    218  SG  CYS A 809      30.717  25.819  40.144  1.00 23.22           S  \nATOM    219  N   ASP A 810      28.183  26.981  38.218  1.00 15.04           N  \nATOM    220  CA  ASP A 810      28.107  28.322  37.665  1.00 15.18           C  \nATOM    221  C   ASP A 810      27.782  29.224  38.831  1.00 16.54           C  \nATOM    222  O   ASP A 810      26.650  29.242  39.297  1.00 20.37           O  \nATOM    223  CB  ASP A 810      27.021  28.392  36.594  1.00 16.47           C  \nATOM    224  CG  ASP A 810      26.981  29.729  35.881  1.00 21.67           C  \nATOM    225  OD1 ASP A 810      28.056  30.321  35.654  1.00 22.20           O  \nATOM    226  OD2 ASP A 810      25.907  30.252  35.512  1.00 25.62           O  \nATOM    227  N   PHE A 811      28.787  29.934  39.330  1.00 16.94           N  \nATOM    228  CA  PHE A 811      28.588  30.749  40.530  1.00 16.35           C  \nATOM    229  C   PHE A 811      27.536  31.830  40.303  1.00 18.86           C  \nATOM    230  O   PHE A 811      26.820  32.190  41.226  1.00 18.54           O  \nATOM    231  CB  PHE A 811      29.900  31.369  41.009  1.00 17.33           C  \nATOM    232  CG  PHE A 811      30.730  30.464  41.886  1.00 17.40           C  \nATOM    233  CD1 PHE A 811      30.913  30.756  43.236  1.00 19.40           C  \nATOM    234  CD2 PHE A 811      31.357  29.332  41.364  1.00 17.32           C  \nATOM    235  CE1 PHE A 811      31.693  29.934  44.047  1.00 19.27           C  \nATOM    236  CE2 PHE A 811      32.139  28.513  42.170  1.00 19.15           C  \nATOM    237  CZ  PHE A 811      32.313  28.813  43.513  1.00 19.75           C  \nHETATM  238  C1  STI A   3      32.696  24.700  47.541  1.00 21.44           C  \nHETATM  239  C6  STI A   3      31.818  25.409  46.719  1.00 20.14           C  \nHETATM  240  C5  STI A   3      30.607  24.822  46.355  1.00 20.10           C  \nHETATM  241  C4  STI A   3      30.289  23.540  46.793  1.00 18.65           C  \nHETATM  242  N3  STI A   3      31.156  22.877  47.575  1.00 19.63           N  \nHETATM  243  C2  STI A   3      32.330  23.424  47.955  1.00 20.56           C  \nHETATM  244  C7  STI A   3      29.657  25.542  45.479  1.00 20.34           C  \nHETATM  245  C12 STI A   3      29.972  26.783  44.926  1.00 20.86           C  \nHETATM  246  C11 STI A   3      29.034  27.388  44.093  1.00 22.27           C  \nHETATM  247  N10 STI A   3      27.854  26.789  43.849  1.00 21.60           N  \nHETATM  248  C9  STI A   3      27.566  25.594  44.421  1.00 18.30           C  \nHETATM  249  N8  STI A   3      28.465  24.975  45.216  1.00 19.41           N  \nHETATM  250  N13 STI A   3      26.404  24.954  44.201  1.00 19.22           N  \nHETATM  251  C14 STI A   3      25.347  25.511  43.560  1.00 19.63           C  \nHETATM  252  C19 STI A   3      24.299  26.065  44.294  1.00 20.85           C  \nHETATM  253  C18 STI A   3      23.207  26.610  43.628  1.00 21.30           C  \nHETATM  254  C17 STI A   3      23.149  26.603  42.233  1.00 22.80           C  \nHETATM  255  C16 STI A   3      24.195  26.054  41.495  1.00 23.10           C  \nHETATM  256  C15 STI A   3      25.283  25.490  42.165  1.00 20.70           C  \nHETATM  257  N21 STI A   3      24.061  26.050  40.097  1.00 24.25           N  \nHETATM  258  C22 STI A   3      24.982  25.624  39.238  1.00 25.02           C  \nHETATM  259  C23 STI A   3      24.652  25.631  37.779  1.00 24.22           C  \nHETATM  260  C25 STI A   3      25.443  24.895  36.896  1.00 23.44           C  \nHETATM  261  C26 STI A   3      25.135  24.897  35.539  1.00 24.02           C  \nHETATM  262  C27 STI A   3      24.040  25.629  35.081  1.00 23.95           C  \nHETATM  263  C28 STI A   3      23.242  26.357  35.961  1.00 25.77           C  \nHETATM  264  C29 STI A   3      23.553  26.349  37.318  1.00 24.89           C  \nHETATM  265  C46 STI A   3      23.708  25.615  33.610  1.00 24.98           C  \nHETATM  266  N48 STI A   3      23.612  26.946  33.027  1.00 23.08           N  \nHETATM  267  C53 STI A   3      24.778  27.809  33.187  1.00 22.76           C  \nHETATM  268  C52 STI A   3      24.407  29.225  32.769  1.00 24.23           C  \nHETATM  269  N51 STI A   3      23.858  29.153  31.422  1.00 25.33           N  \nHETATM  270  C54 STI A   3      23.830  30.437  30.729  1.00 27.54           C  \nHETATM  271  C50 STI A   3      22.696  28.302  31.191  1.00 26.07           C  \nHETATM  272  C49 STI A   3      22.966  26.900  31.718  1.00 24.67           C  \nHETATM  273  O29 STI A   3      26.067  25.215  39.591  1.00 26.91           O  \nHETATM  274  C20 STI A   3      24.325  26.084  45.806  1.00 21.69           C  \nHETATM  275  O   HOH A 994      21.353  27.556  27.821  1.00 19.87           O  \nHETATM  276  O   HOH A 995      27.478  31.427  32.930  1.00 27.36           O  \nHETATM  277  O   HOH A1024      33.968  28.123  46.521  1.00 31.17           O  \nHETATM  278  O   HOH A1025      35.312  26.762  48.449  1.00 45.86           O  \nHETATM  279  O   HOH A1053      22.539  30.340  27.463  1.00 42.35           O  \nHETATM  280  O   HOH A1105      27.019  27.783  41.340  1.00 37.83           O  \nHETATM  281  O   HOH A1106      23.476  30.084  36.722  1.00 44.05           O  \nHETATM  282  O   HOH A1108      21.281  28.652  34.330  1.00 40.56           O  \nHETATM  283  O   HOH A1109      19.219  30.300  34.175  1.00 46.98           O  \nHETATM  284  O   HOH A1110      19.834  30.017  31.689  1.00 46.02           O  \nHETATM  285  O   HOH A1187      35.238  24.453  50.085  1.00 47.18           O  \nHETATM  286  O   HOH A1199      23.101  33.183  33.657  1.00 51.58           O  \nTER     287      HOH A1199                                                       \nEND   \n",
                    "binary": false
                  }
                ],
                "kwargs": {
                  "ext": "pdb",
                  "defaultRepresentation": true
                }
              },
              {
                "target": "Stage",
                "type": "call_method",
                "methodName": "loadFile",
                "reconstruc_color_scheme": false,
                "args": [
                  {
                    "type": "blob",
                    "data": "ATOM      1  N   LEU A 377      31.490  32.229  40.634  1.00 41.49           N  \nATOM      2  CA  LEU A 377      30.704  31.565  41.673  1.00 40.45           C  \nATOM      3  C   LEU A 377      31.487  30.434  42.340  1.00 40.21           C  \nATOM      4  O   LEU A 377      31.298  30.155  43.527  1.00 40.45           O  \nATOM      5  CB  LEU A 377      29.392  31.019  41.104  1.00 40.23           C  \nATOM      6  CG  LEU A 377      28.378  31.973  40.463  1.00 39.58           C  \nATOM      7  CD1 LEU A 377      27.312  31.135  39.784  1.00 37.92           C  \nATOM      8  CD2 LEU A 377      27.750  32.948  41.459  1.00 39.63           C  \nATOM      9  N   GLY A 378      32.357  29.789  41.570  1.00 39.57           N  \nATOM     10  CA  GLY A 378      33.171  28.698  42.073  1.00 39.12           C  \nATOM     11  C   GLY A 378      34.332  28.384  41.152  1.00 39.49           C  \nATOM     12  O   GLY A 378      34.351  28.813  39.991  1.00 37.54           O  \nATOM     13  N   SER A 379      35.295  27.627  41.678  1.00 40.15           N  \nATOM     14  CA  SER A 379      36.513  27.259  40.952  1.00 41.50           C  \nATOM     15  C   SER A 379      36.985  25.858  41.303  1.00 41.78           C  \nATOM     16  O   SER A 379      36.684  25.342  42.383  1.00 41.97           O  \nATOM     17  CB  SER A 379      37.646  28.227  41.287  1.00 41.52           C  \nATOM     18  OG  SER A 379      37.546  29.409  40.521  1.00 44.38           O  \nATOM     19  N   VAL A 385      32.947  28.382  37.481  1.00 26.04           N  \nATOM     20  CA  VAL A 385      31.508  28.550  37.256  1.00 25.83           C  \nATOM     21  C   VAL A 385      31.296  30.040  37.353  1.00 25.37           C  \nATOM     22  O   VAL A 385      31.775  30.674  38.284  1.00 24.23           O  \nATOM     23  CB  VAL A 385      30.641  27.788  38.301  1.00 26.24           C  \nATOM     24  CG1 VAL A 385      29.149  28.053  38.083  1.00 27.29           C  \nATOM     25  CG2 VAL A 385      30.928  26.279  38.238  1.00 27.82           C  \nATOM     26  N   ALA A 400      23.901  30.013  34.811  1.00 12.02           N  \nATOM     27  CA  ALA A 400      25.134  29.636  35.462  1.00 12.44           C  \nATOM     28  C   ALA A 400      25.923  28.940  34.358  1.00 12.07           C  \nATOM     29  O   ALA A 400      25.356  28.110  33.639  1.00 14.88           O  \nATOM     30  CB  ALA A 400      24.850  28.674  36.633  1.00 13.82           C  \nATOM     31  N   LYS A 402      29.351  26.805  33.240  1.00 16.89           N  \nATOM     32  CA  LYS A 402      30.561  26.052  33.593  1.00 18.67           C  \nATOM     33  C   LYS A 402      31.564  26.268  32.459  1.00 17.35           C  \nATOM     34  O   LYS A 402      31.268  25.939  31.314  1.00 17.26           O  \nATOM     35  CB  LYS A 402      30.223  24.571  33.781  1.00 18.81           C  \nATOM     36  CG  LYS A 402      31.413  23.709  34.285  1.00 22.75           C  \nATOM     37  CD  LYS A 402      30.941  22.266  34.438  1.00 26.27           C  \nATOM     38  CE  LYS A 402      31.999  21.416  35.108  1.00 30.13           C  \nATOM     39  NZ  LYS A 402      31.453  20.045  35.257  1.00 30.43           N  \nATOM     40  N   GLU A 420      28.793  15.252  29.617  1.00 18.70           N  \nATOM     41  CA  GLU A 420      27.869  15.849  30.598  1.00 18.15           C  \nATOM     42  C   GLU A 420      26.671  16.523  29.916  1.00 19.20           C  \nATOM     43  O   GLU A 420      25.537  16.302  30.296  1.00 19.06           O  \nATOM     44  CB  GLU A 420      28.628  16.828  31.476  1.00 19.22           C  \nATOM     45  CG  GLU A 420      27.836  17.396  32.643  1.00 21.56           C  \nATOM     46  CD  GLU A 420      28.721  18.288  33.486  1.00 20.73           C  \nATOM     47  OE1 GLU A 420      29.944  18.278  33.309  1.00 26.80           O  \nATOM     48  OE2 GLU A 420      28.186  19.025  34.332  1.00 28.69           O  \nATOM     49  N   VAL A 433      18.516  20.260  37.290  1.00 11.59           N  \nATOM     50  CA  VAL A 433      18.962  21.491  36.610  1.00 12.92           C  \nATOM     51  C   VAL A 433      18.908  21.340  35.060  1.00 13.50           C  \nATOM     52  O   VAL A 433      19.398  20.365  34.491  1.00 13.64           O  \nATOM     53  CB  VAL A 433      20.394  21.821  36.977  1.00 12.92           C  \nATOM     54  CG1 VAL A 433      20.996  22.926  36.023  1.00 13.99           C  \nATOM     55  CG2 VAL A 433      20.610  22.183  38.495  1.00 13.75           C  \nATOM     56  N   MET A 448      23.679  26.667  31.835  1.00 11.68           N  \nATOM     57  CA  MET A 448      22.561  26.056  32.566  1.00 11.36           C  \nATOM     58  C   MET A 448      21.669  27.132  33.169  1.00 11.26           C  \nATOM     59  O   MET A 448      22.053  28.275  33.313  1.00 12.61           O  \nATOM     60  CB  MET A 448      23.132  25.232  33.707  1.00 14.71           C  \nATOM     61  CG  MET A 448      23.848  24.007  33.210  1.00 15.96           C  \nATOM     62  SD  MET A 448      24.924  23.314  34.479  1.00 18.34           S  \nATOM     63  CE  MET A 448      26.239  24.591  34.555  1.00 18.67           C  \nATOM     64  N   GLU A 449      20.479  26.708  33.527  1.00 12.96           N  \nATOM     65  CA  GLU A 449      19.626  27.615  34.281  1.00 14.20           C  \nATOM     66  C   GLU A 449      20.288  27.899  35.615  1.00 13.76           C  \nATOM     67  O   GLU A 449      21.139  27.145  36.061  1.00 16.46           O  \nATOM     68  CB  GLU A 449      18.266  26.992  34.446  1.00 15.18           C  \nATOM     69  CG  GLU A 449      18.280  25.907  35.523  1.00 17.84           C  \nATOM     70  CD  GLU A 449      16.902  25.334  35.789  1.00 21.41           C  \nATOM     71  OE1 GLU A 449      15.933  26.132  35.877  1.00 24.08           O  \nATOM     72  OE2 GLU A 449      16.775  24.111  35.866  1.00 17.13           O  \nATOM     73  N   MET A 450      19.976  29.055  36.208  1.00 13.10           N  \nATOM     74  CA  MET A 450      20.593  29.476  37.472  1.00 11.10           C  \nATOM     75  C   MET A 450      19.733  29.052  38.653  1.00 12.97           C  \nATOM     76  O   MET A 450      18.506  29.191  38.588  1.00 15.10           O  \nATOM     77  CB  MET A 450      20.707  31.020  37.408  1.00 11.61           C  \nATOM     78  CG  MET A 450      21.066  31.687  38.742  1.00 13.19           C  \nATOM     79  SD  MET A 450      22.666  31.186  39.332  1.00 16.44           S  \nATOM     80  CE  MET A 450      23.762  32.183  38.373  1.00 20.69           C  \nATOM     81  N   ALA A 451      20.389  28.581  39.711  1.00 12.79           N  \nATOM     82  CA  ALA A 451      19.723  28.298  41.002  1.00 11.81           C  \nATOM     83  C   ALA A 451      20.411  29.259  41.957  1.00 12.81           C  \nATOM     84  O   ALA A 451      21.544  29.052  42.414  1.00 12.54           O  \nATOM     85  CB  ALA A 451      19.941  26.804  41.392  1.00 12.27           C  \nATOM     86  N   GLU A 452      19.713  30.375  42.212  1.00 14.17           N  \nATOM     87  CA  GLU A 452      20.338  31.510  42.864  1.00 14.77           C  \nATOM     88  C   GLU A 452      20.858  31.285  44.270  1.00 14.86           C  \nATOM     89  O   GLU A 452      21.861  31.924  44.687  1.00 17.58           O  \nATOM     90  CB  GLU A 452      19.351  32.692  42.931  1.00 14.42           C  \nATOM     91  CG  GLU A 452      19.025  33.285  41.573  1.00 14.77           C  \nATOM     92  CD  GLU A 452      20.049  34.329  41.118  1.00 15.62           C  \nATOM     93  OE1 GLU A 452      19.856  34.825  39.986  1.00 20.44           O  \nATOM     94  OE2 GLU A 452      21.019  34.623  41.860  1.00 23.11           O  \nATOM     95  N   LEU A 453      20.224  30.382  45.009  1.00 15.00           N  \nATOM     96  CA  LEU A 453      20.634  30.206  46.386  1.00 15.07           C  \nATOM     97  C   LEU A 453      21.837  29.250  46.532  1.00 16.11           C  \nATOM     98  O   LEU A 453      22.364  29.069  47.629  1.00 17.52           O  \nATOM     99  CB  LEU A 453      19.432  29.797  47.251  1.00 14.93           C  \nATOM    100  CG  LEU A 453      18.474  30.874  47.798  1.00 17.67           C  \nATOM    101  CD1 LEU A 453      17.884  31.678  46.687  1.00 18.89           C  \nATOM    102  CD2 LEU A 453      17.365  30.176  48.561  1.00 14.86           C  \nATOM    103  N   GLY A 454      22.277  28.619  45.440  1.00 14.73           N  \nATOM    104  CA  GLY A 454      23.466  27.791  45.509  1.00 13.88           C  \nATOM    105  C   GLY A 454      23.340  26.419  46.159  1.00 13.09           C  \nATOM    106  O   GLY A 454      22.256  25.925  46.389  1.00 13.05           O  \nATOM    107  N   PRO A 455      24.483  25.777  46.391  1.00 13.86           N  \nATOM    108  CA  PRO A 455      24.516  24.415  46.936  1.00 14.19           C  \nATOM    109  C   PRO A 455      23.837  24.285  48.265  1.00 15.19           C  \nATOM    110  O   PRO A 455      23.973  25.181  49.145  1.00 15.69           O  \nATOM    111  CB  PRO A 455      25.994  24.148  47.100  1.00 13.49           C  \nATOM    112  CG  PRO A 455      26.622  24.998  46.025  1.00 14.35           C  \nATOM    113  CD  PRO A 455      25.823  26.272  46.004  1.00 14.23           C  \nATOM    114  N   LEU A 501      21.103  22.068  44.280  1.00 11.52           N  \nATOM    115  CA  LEU A 501      21.126  23.532  44.237  1.00 11.63           C  \nATOM    116  C   LEU A 501      19.754  24.062  44.504  1.00 13.04           C  \nATOM    117  O   LEU A 501      18.771  23.457  44.117  1.00 12.40           O  \nATOM    118  CB  LEU A 501      21.539  23.947  42.842  1.00 11.35           C  \nATOM    119  CG  LEU A 501      22.905  23.388  42.400  1.00 10.25           C  \nATOM    120  CD1 LEU A 501      23.173  23.836  40.952  1.00 12.17           C  \nATOM    121  CD2 LEU A 501      24.100  23.633  43.308  1.00 14.17           C  \nATOM    122  N   SER A 511      22.043  18.676  40.431  1.00  9.73           N  \nATOM    123  CA  SER A 511      23.038  19.185  39.486  1.00 10.49           C  \nATOM    124  C   SER A 511      24.190  18.212  39.391  1.00 11.66           C  \nATOM    125  O   SER A 511      24.239  17.201  40.124  1.00 11.28           O  \nATOM    126  CB  SER A 511      23.587  20.543  39.958  1.00 12.27           C  \nATOM    127  OG  SER A 511      24.437  20.388  41.078  1.00 15.83           O  \nATOM    128  N   ASP A 512      25.115  18.548  38.509  1.00 12.20           N  \nATOM    129  CA  ASP A 512      26.426  17.890  38.381  1.00 11.20           C  \nATOM    130  C   ASP A 512      26.381  16.482  37.875  1.00 12.69           C  \nATOM    131  O   ASP A 512      26.518  15.526  38.638  1.00 14.51           O  \nATOM    132  CB  ASP A 512      27.328  17.963  39.613  1.00 13.11           C  \nATOM    133  CG  ASP A 512      28.795  17.817  39.170  1.00 20.38           C  \nATOM    134  OD1 ASP A 512      29.712  18.372  39.801  1.00 27.26           O  \nATOM    135  OD2 ASP A 512      29.097  17.178  38.106  1.00 22.16           O  \nHETATM  136  C1  STI A   1      28.094  23.485  38.895  1.00 28.30           C  \nHETATM  137  C6  STI A   1      27.161  24.482  39.225  1.00 27.92           C  \nHETATM  138  C5  STI A   1      25.958  24.530  38.523  1.00 24.12           C  \nHETATM  139  C4  STI A   1      25.708  23.568  37.538  1.00 27.31           C  \nHETATM  140  N3  STI A   1      26.624  22.633  37.222  1.00 27.81           N  \nHETATM  141  C2  STI A   1      27.799  22.582  37.873  1.00 25.68           C  \nHETATM  142  C7  STI A   1      24.987  25.505  38.819  1.00 19.48           C  \nHETATM  143  C12 STI A   1      23.763  25.557  38.112  1.00 17.80           C  \nHETATM  144  C11 STI A   1      22.843  26.531  38.495  1.00 17.91           C  \nHETATM  145  N10 STI A   1      23.152  27.374  39.534  1.00 12.24           N  \nHETATM  146  C9  STI A   1      24.349  27.344  40.167  1.00 15.91           C  \nHETATM  147  N8  STI A   1      25.260  26.402  39.825  1.00 18.65           N  \nHETATM  148  N13 STI A   1      24.526  28.255  41.173  1.00 17.96           N  \nHETATM  149  C14 STI A   1      25.616  28.411  41.999  1.00 22.97           C  \nHETATM  150  C19 STI A   1      25.534  29.463  42.913  1.00 22.26           C  \nHETATM  151  C18 STI A   1      26.574  29.713  43.809  1.00 22.72           C  \nHETATM  152  C17 STI A   1      27.707  28.900  43.766  1.00 26.96           C  \nHETATM  153  C16 STI A   1      27.816  27.847  42.865  1.00 29.09           C  \nHETATM  154  C15 STI A   1      26.766  27.595  41.961  1.00 26.91           C  \nHETATM  155  N21 STI A   1      28.990  27.150  42.974  1.00 34.32           N  \nHETATM  156  C22 STI A   1      29.467  26.145  42.243  1.00 37.16           C  \nHETATM  157  C23 STI A   1      30.651  25.335  42.722  1.00 38.99           C  \nHETATM  158  C25 STI A   1      31.590  24.905  41.778  1.00 40.38           C  \nHETATM  159  C26 STI A   1      32.694  24.147  42.167  1.00 41.76           C  \nHETATM  160  C27 STI A   1      32.869  23.816  43.511  1.00 41.81           C  \nHETATM  161  C28 STI A   1      31.927  24.239  44.460  1.00 40.78           C  \nHETATM  162  C29 STI A   1      30.818  24.997  44.067  1.00 40.17           C  \nHETATM  163  C46 STI A   1      34.084  22.982  43.875  0.10 41.75           C  \nHETATM  164  N48 STI A   1      34.614  23.175  45.220  0.10 42.10           N  \nHETATM  165  C53 STI A   1      34.182  22.271  46.289  0.10 42.20           C  \nHETATM  166  C52 STI A   1      33.769  23.124  47.491  0.10 42.23           C  \nHETATM  167  N51 STI A   1      34.880  24.044  47.706  0.10 42.37           N  \nHETATM  168  C54 STI A   1      35.662  23.983  48.934  0.10 42.49           C  \nHETATM  169  C50 STI A   1      35.204  25.029  46.683  0.10 42.36           C  \nHETATM  170  C49 STI A   1      35.609  24.227  45.444  0.10 42.22           C  \nHETATM  171  O29 STI A   1      29.027  25.890  41.132  1.00 39.34           O  \nHETATM  172  C20 STI A   1      24.317  30.360  42.976  1.00 24.27           C  \nHETATM  173  O   HOH A 676      26.850  21.262  41.289  1.00 30.25           O  \nHETATM  174  O   HOH A 721      25.846  18.791  34.896  1.00 22.56           O  \nHETATM  175  O   HOH A 729      24.730  20.445  36.488  1.00 24.50           O  \nHETATM  176  O   HOH A 758      28.733  22.396  44.791  1.00 23.00           O  \nHETATM  177  O   HOH A 803      31.193  20.924  49.486  1.00 37.62           O  \nHETATM  178  O   HOH A 815      26.490  29.432  48.003  1.00 39.40           O  \nHETATM  179  O   HOH A 831      27.741  23.634  42.334  1.00 39.22           O  \nHETATM  180  O   HOH A 856      29.233  23.035  48.348  1.00 31.95           O  \nHETATM  181  O   HOH A 876      22.982  33.822  43.231  1.00 34.11           O  \nHETATM  182  O   HOH A 899      29.389  31.607  45.324  1.00 48.35           O  \nHETATM  183  O   HOH A 900      26.592  33.852  44.930  1.00 45.18           O  \nHETATM  184  O   HOH A 907      24.544  34.412  41.110  1.00 45.48           O  \nHETATM  185  O   HOH A 916      25.343  32.025  46.487  1.00 51.87           O  \nHETATM  186  O   HOH A 949      31.189  22.239  38.812  1.00 50.97           O  \nHETATM  187  O   HOH A 997      34.789  27.387  44.531  1.00 51.68           O  \nHETATM  188  O   HOH A 998      29.162  19.964  36.520  1.00 51.39           O  \nTER     189      HOH A 998                                                       \nEND   \n",
                    "binary": false
                  }
                ],
                "kwargs": {
                  "ext": "pdb",
                  "defaultRepresentation": true
                }
              },
              {
                "target": "Stage",
                "type": "call_method",
                "methodName": "loadFile",
                "reconstruc_color_scheme": false,
                "args": [
                  {
                    "type": "blob",
                    "data": "ATOM      1  N   VAL A 259      34.528  15.891  40.910  1.00 73.71           N  \nATOM      2  CA  VAL A 259      33.831  16.588  39.835  1.00 71.01           C  \nATOM      3  C   VAL A 259      34.432  16.207  38.487  1.00 70.14           C  \nATOM      4  O   VAL A 259      35.584  16.510  38.183  1.00 68.89           O  \nATOM      5  CB  VAL A 259      33.930  18.118  39.994  1.00 70.39           C  \nATOM      6  CG1 VAL A 259      33.241  18.803  38.830  1.00 69.43           C  \nATOM      7  CG2 VAL A 259      33.300  18.546  41.309  1.00 70.18           C  \nATOM      8  N   ALA A 271      29.169  18.904  33.262  1.00 50.07           N  \nATOM      9  CA  ALA A 271      29.946  18.824  34.491  1.00 49.23           C  \nATOM     10  C   ALA A 271      29.178  17.971  35.497  1.00 49.44           C  \nATOM     11  O   ALA A 271      27.973  18.141  35.694  1.00 47.86           O  \nATOM     12  CB  ALA A 271      30.183  20.220  35.053  1.00 48.37           C  \nATOM     13  N   VAL A 272      29.882  17.040  36.130  1.00 50.11           N  \nATOM     14  CA  VAL A 272      29.231  16.075  37.002  1.00 51.68           C  \nATOM     15  C   VAL A 272      29.838  16.087  38.397  1.00 52.33           C  \nATOM     16  O   VAL A 272      31.007  15.749  38.590  1.00 53.19           O  \nATOM     17  CB  VAL A 272      29.341  14.649  36.425  1.00 52.66           C  \nATOM     18  CG1 VAL A 272      28.519  13.678  37.266  1.00 54.01           C  \nATOM     19  CG2 VAL A 272      28.864  14.639  34.981  1.00 53.30           C  \nATOM     20  N   LYS A 273      29.031  16.487  39.373  1.00 52.50           N  \nATOM     21  CA  LYS A 273      29.442  16.445  40.768  1.00 52.42           C  \nATOM     22  C   LYS A 273      28.946  15.138  41.376  1.00 54.24           C  \nATOM     23  O   LYS A 273      27.754  14.823  41.330  1.00 53.97           O  \nATOM     24  CB  LYS A 273      28.846  17.635  41.527  1.00 50.62           C  \nATOM     25  CG  LYS A 273      29.459  17.834  42.907  1.00 49.26           C  \nATOM     26  CD  LYS A 273      28.854  19.014  43.659  1.00 48.64           C  \nATOM     27  CE  LYS A 273      29.713  19.576  44.788  1.00 48.69           C  \nATOM     28  NZ  LYS A 273      28.984  20.574  45.628  1.00 47.06           N  \nATOM     29  N   GLU A 288      21.545  20.420  47.878  1.00 47.74           N  \nATOM     30  CA  GLU A 288      22.048  21.352  46.884  1.00 47.83           C  \nATOM     31  C   GLU A 288      21.242  21.236  45.596  1.00 49.24           C  \nATOM     32  O   GLU A 288      20.646  22.203  45.112  1.00 49.04           O  \nATOM     33  CB  GLU A 288      23.521  21.072  46.585  1.00 46.90           C  \nATOM     34  CG  GLU A 288      24.060  22.022  45.527  1.00 47.85           C  \nATOM     35  CD  GLU A 288      25.514  21.784  45.188  1.00 48.95           C  \nATOM     36  OE1 GLU A 288      26.107  20.833  45.742  1.00 50.40           O  \nATOM     37  OE2 GLU A 288      26.062  22.548  44.364  1.00 46.54           O  \nATOM     38  N   LEU A 291      17.937  22.914  45.801  1.00 47.65           N  \nATOM     39  CA  LEU A 291      17.921  24.369  45.665  1.00 47.30           C  \nATOM     40  C   LEU A 291      17.993  24.768  44.195  1.00 47.46           C  \nATOM     41  O   LEU A 291      17.278  25.653  43.720  1.00 46.76           O  \nATOM     42  CB  LEU A 291      19.099  25.002  46.405  1.00 46.76           C  \nATOM     43  CG  LEU A 291      18.974  25.328  47.893  1.00 47.85           C  \nATOM     44  CD1 LEU A 291      20.081  26.296  48.271  1.00 45.35           C  \nATOM     45  CD2 LEU A 291      17.609  25.944  48.193  1.00 47.66           C  \nATOM     46  N   MET A 292      18.876  24.090  43.470  1.00 46.87           N  \nATOM     47  CA  MET A 292      19.091  24.381  42.062  1.00 45.76           C  \nATOM     48  C   MET A 292      17.809  24.241  41.245  1.00 46.70           C  \nATOM     49  O   MET A 292      17.591  25.008  40.308  1.00 47.58           O  \nATOM     50  CB  MET A 292      20.181  23.464  41.509  1.00 42.58           C  \nATOM     51  CG  MET A 292      21.481  23.643  42.273  1.00 43.32           C  \nATOM     52  SD  MET A 292      22.816  22.594  41.698  1.00 43.02           S  \nATOM     53  CE  MET A 292      23.051  23.223  40.020  1.00 44.26           C  \nATOM     54  N   LEU A 295      15.815  27.392  42.293  1.00 48.49           N  \nATOM     55  CA  LEU A 295      16.429  28.681  42.016  1.00 48.18           C  \nATOM     56  C   LEU A 295      16.881  28.777  40.567  1.00 50.50           C  \nATOM     57  O   LEU A 295      17.941  29.330  40.273  1.00 52.03           O  \nATOM     58  CB  LEU A 295      17.625  28.899  42.946  1.00 45.40           C  \nATOM     59  CG  LEU A 295      17.232  29.057  44.416  1.00 43.26           C  \nATOM     60  CD1 LEU A 295      18.477  29.105  45.293  1.00 41.14           C  \nATOM     61  CD2 LEU A 295      16.416  30.328  44.579  1.00 42.46           C  \nATOM     62  N   LEU A 300      21.728  32.139  36.704  1.00 43.53           N  \nATOM     63  CA  LEU A 300      22.253  31.080  37.559  1.00 43.24           C  \nATOM     64  C   LEU A 300      22.666  29.906  36.689  1.00 43.71           C  \nATOM     65  O   LEU A 300      22.093  29.710  35.621  1.00 45.04           O  \nATOM     66  CB  LEU A 300      21.187  30.622  38.558  1.00 42.28           C  \nATOM     67  CG  LEU A 300      21.070  31.371  39.887  1.00 40.74           C  \nATOM     68  CD1 LEU A 300      22.218  30.973  40.779  1.00 41.73           C  \nATOM     69  CD2 LEU A 300      21.070  32.871  39.654  1.00 39.59           C  \nATOM     70  N   VAL A 301      23.657  29.138  37.128  1.00 43.69           N  \nATOM     71  CA  VAL A 301      23.985  27.901  36.441  1.00 44.39           C  \nATOM     72  C   VAL A 301      22.767  26.998  36.558  1.00 47.43           C  \nATOM     73  O   VAL A 301      22.227  26.805  37.649  1.00 48.94           O  \nATOM     74  CB  VAL A 301      25.215  27.205  37.072  1.00 42.24           C  \nATOM     75  CG1 VAL A 301      24.963  26.928  38.542  1.00 44.02           C  \nATOM     76  CG2 VAL A 301      25.511  25.909  36.343  1.00 38.10           C  \nATOM     77  N   ILE A 314      25.068  15.149  40.733  1.00 50.06           N  \nATOM     78  CA  ILE A 314      24.405  16.353  40.255  1.00 47.22           C  \nATOM     79  C   ILE A 314      25.073  16.754  38.943  1.00 47.12           C  \nATOM     80  O   ILE A 314      26.290  16.924  38.876  1.00 45.60           O  \nATOM     81  CB  ILE A 314      24.537  17.515  41.261  1.00 46.19           C  \nATOM     82  CG1 ILE A 314      23.992  17.093  42.629  1.00 44.69           C  \nATOM     83  CG2 ILE A 314      23.769  18.726  40.755  1.00 44.78           C  \nATOM     84  CD1 ILE A 314      24.149  18.152  43.707  1.00 42.74           C  \nATOM     85  N   ILE A 315      24.273  16.887  37.891  1.00 47.63           N  \nATOM     86  CA  ILE A 315      24.806  17.233  36.582  1.00 48.20           C  \nATOM     87  C   ILE A 315      24.346  18.611  36.123  1.00 48.50           C  \nATOM     88  O   ILE A 315      23.157  18.924  36.134  1.00 47.75           O  \nATOM     89  CB  ILE A 315      24.356  16.235  35.494  1.00 48.48           C  \nATOM     90  CG1 ILE A 315      24.771  14.813  35.874  1.00 49.23           C  \nATOM     91  CG2 ILE A 315      24.965  16.616  34.157  1.00 48.40           C  \nATOM     92  CD1 ILE A 315      23.769  14.101  36.753  1.00 48.54           C  \nATOM     93  N   THR A 316      25.302  19.439  35.718  1.00 49.15           N  \nATOM     94  CA  THR A 316      24.997  20.639  34.946  1.00 49.79           C  \nATOM     95  C   THR A 316      25.676  20.536  33.587  1.00 50.70           C  \nATOM     96  O   THR A 316      26.460  19.617  33.356  1.00 49.45           O  \nATOM     97  CB  THR A 316      25.516  21.921  35.630  1.00 48.43           C  \nATOM     98  OG1 THR A 316      26.943  21.856  35.754  1.00 46.79           O  \nATOM     99  CG2 THR A 316      24.881  22.091  37.004  1.00 46.89           C  \nATOM    100  N   GLU A 317      25.376  21.474  32.693  1.00 53.24           N  \nATOM    101  CA  GLU A 317      26.044  21.529  31.401  1.00 55.42           C  \nATOM    102  C   GLU A 317      27.420  22.157  31.503  1.00 55.45           C  \nATOM    103  O   GLU A 317      27.682  22.983  32.375  1.00 56.20           O  \nATOM    104  CB  GLU A 317      25.203  22.311  30.397  1.00 58.77           C  \nATOM    105  CG  GLU A 317      24.496  21.384  29.430  1.00 65.89           C  \nATOM    106  CD  GLU A 317      23.350  22.138  28.800  1.00 70.28           C  \nATOM    107  OE1 GLU A 317      22.586  22.787  29.548  1.00 73.17           O  \nATOM    108  OE2 GLU A 317      23.215  22.084  27.558  1.00 73.20           O  \nATOM    109  N   TYR A 318      28.300  21.754  30.594  1.00 56.14           N  \nATOM    110  CA  TYR A 318      29.676  22.225  30.596  1.00 56.02           C  \nATOM    111  C   TYR A 318      29.823  23.487  29.755  1.00 56.02           C  \nATOM    112  O   TYR A 318      29.278  23.607  28.656  1.00 56.13           O  \nATOM    113  CB  TYR A 318      30.598  21.135  30.053  1.00 56.29           C  \nATOM    114  CG  TYR A 318      32.060  21.377  30.334  1.00 56.35           C  \nATOM    115  CD1 TYR A 318      32.650  20.882  31.489  1.00 56.66           C  \nATOM    116  CD2 TYR A 318      32.849  22.102  29.449  1.00 57.09           C  \nATOM    117  CE1 TYR A 318      33.986  21.101  31.760  1.00 57.69           C  \nATOM    118  CE2 TYR A 318      34.190  22.327  29.709  1.00 57.82           C  \nATOM    119  CZ  TYR A 318      34.752  21.825  30.867  1.00 58.81           C  \nATOM    120  OH  TYR A 318      36.082  22.050  31.141  1.00 62.30           O  \nATOM    121  N   MET A 319      30.575  24.439  30.293  1.00 55.95           N  \nATOM    122  CA  MET A 319      30.813  25.709  29.627  1.00 56.84           C  \nATOM    123  C   MET A 319      32.248  25.782  29.124  1.00 56.40           C  \nATOM    124  O   MET A 319      33.196  25.874  29.904  1.00 54.98           O  \nATOM    125  CB  MET A 319      30.544  26.858  30.597  1.00 57.26           C  \nATOM    126  CG  MET A 319      29.152  26.780  31.200  1.00 59.38           C  \nATOM    127  SD  MET A 319      27.913  27.729  30.286  1.00 64.47           S  \nATOM    128  CE  MET A 319      28.100  27.053  28.600  1.00 63.55           C  \nATOM    129  N   GLY A 322      34.522  28.365  30.535  1.00 47.96           N  \nATOM    130  CA  GLY A 322      35.019  28.157  31.883  1.00 45.33           C  \nATOM    131  C   GLY A 322      34.557  29.206  32.875  1.00 44.16           C  \nATOM    132  O   GLY A 322      33.484  29.792  32.725  1.00 43.80           O  \nATOM    133  N   TYR A 360      18.052  34.015  49.840  1.00 41.42           N  \nATOM    134  CA  TYR A 360      19.241  33.218  50.090  1.00 38.86           C  \nATOM    135  C   TYR A 360      20.441  34.152  50.065  1.00 38.07           C  \nATOM    136  O   TYR A 360      20.299  35.338  49.770  1.00 36.94           O  \nATOM    137  CB  TYR A 360      19.396  32.144  49.010  1.00 39.89           C  \nATOM    138  CG  TYR A 360      18.358  31.047  49.085  1.00 41.29           C  \nATOM    139  CD1 TYR A 360      17.126  31.184  48.457  1.00 40.79           C  \nATOM    140  CD2 TYR A 360      18.602  29.882  49.805  1.00 42.63           C  \nATOM    141  CE1 TYR A 360      16.166  30.196  48.546  1.00 41.94           C  \nATOM    142  CE2 TYR A 360      17.647  28.890  49.900  1.00 43.23           C  \nATOM    143  CZ  TYR A 360      16.432  29.052  49.270  1.00 43.27           C  \nATOM    144  OH  TYR A 360      15.479  28.068  49.368  1.00 46.29           O  \nATOM    145  N   ILE A 361      21.615  33.624  50.389  1.00 36.77           N  \nATOM    146  CA  ILE A 361      22.854  34.350  50.153  1.00 38.43           C  \nATOM    147  C   ILE A 361      23.806  33.435  49.403  1.00 39.47           C  \nATOM    148  O   ILE A 361      23.471  32.277  49.157  1.00 40.26           O  \nATOM    149  CB  ILE A 361      23.537  34.796  51.469  1.00 37.94           C  \nATOM    150  CG1 ILE A 361      24.005  33.576  52.258  1.00 36.57           C  \nATOM    151  CG2 ILE A 361      22.580  35.634  52.299  1.00 35.38           C  \nATOM    152  CD1 ILE A 361      24.806  33.934  53.485  1.00 37.14           C  \nATOM    153  N   HIS A 362      24.979  33.950  49.041  1.00 40.45           N  \nATOM    154  CA  HIS A 362      25.956  33.158  48.305  1.00 40.23           C  \nATOM    155  C   HIS A 362      27.095  32.678  49.197  1.00 40.89           C  \nATOM    156  O   HIS A 362      27.366  31.477  49.272  1.00 40.02           O  \nATOM    157  CB  HIS A 362      26.531  33.962  47.140  1.00 39.00           C  \nATOM    158  CG  HIS A 362      27.279  33.123  46.156  1.00 38.62           C  \nATOM    159  ND1 HIS A 362      28.552  32.654  46.397  1.00 39.11           N  \nATOM    160  CD2 HIS A 362      26.914  32.618  44.954  1.00 39.41           C  \nATOM    161  CE1 HIS A 362      28.937  31.893  45.388  1.00 37.93           C  \nATOM    162  NE2 HIS A 362      27.961  31.855  44.500  1.00 38.64           N  \nATOM    163  N   ARG A 363      27.756  33.627  49.856  1.00 41.97           N  \nATOM    164  CA  ARG A 363      28.848  33.345  50.788  1.00 44.85           C  \nATOM    165  C   ARG A 363      30.223  33.290  50.134  1.00 43.37           C  \nATOM    166  O   ARG A 363      31.222  33.514  50.814  1.00 44.92           O  \nATOM    167  CB  ARG A 363      28.606  32.035  51.548  1.00 48.05           C  \nATOM    168  CG  ARG A 363      28.000  32.253  52.920  1.00 53.46           C  \nATOM    169  CD  ARG A 363      27.881  30.970  53.735  1.00 59.42           C  \nATOM    170  NE  ARG A 363      27.049  31.156  54.924  1.00 64.84           N  \nATOM    171  CZ  ARG A 363      27.522  31.399  56.145  1.00 66.18           C  \nATOM    172  NH1 ARG A 363      28.833  31.485  56.346  1.00 65.65           N  \nATOM    173  NH2 ARG A 363      26.684  31.565  57.163  1.00 66.19           N  \nATOM    174  N   LEU A 371      30.459  31.246  35.936  1.00 39.80           N  \nATOM    175  CA  LEU A 371      30.697  30.588  34.656  1.00 40.60           C  \nATOM    176  C   LEU A 371      30.329  31.486  33.478  1.00 40.38           C  \nATOM    177  O   LEU A 371      29.360  32.247  33.520  1.00 39.73           O  \nATOM    178  CB  LEU A 371      29.907  29.280  34.580  1.00 41.56           C  \nATOM    179  CG  LEU A 371      30.589  28.240  35.477  1.00 42.84           C  \nATOM    180  CD1 LEU A 371      29.744  26.972  35.546  1.00 41.34           C  \nATOM    181  CD2 LEU A 371      31.977  27.936  34.927  1.00 41.98           C  \nATOM    182  N   ILE A 380      25.905  32.485  37.566  1.00 40.20           N  \nATOM    183  CA  ILE A 380      26.367  32.384  38.941  1.00 38.98           C  \nATOM    184  C   ILE A 380      26.395  30.930  39.380  1.00 38.91           C  \nATOM    185  O   ILE A 380      25.396  30.222  39.281  1.00 40.40           O  \nATOM    186  CB  ILE A 380      25.436  33.140  39.906  1.00 38.94           C  \nATOM    187  CG1 ILE A 380      25.489  34.638  39.609  1.00 36.30           C  \nATOM    188  CG2 ILE A 380      25.827  32.847  41.339  1.00 37.07           C  \nATOM    189  CD1 ILE A 380      24.512  35.447  40.411  1.00 36.84           C  \nATOM    190  N   ALA A 381      27.546  30.484  39.864  1.00 37.96           N  \nATOM    191  CA  ALA A 381      27.675  29.123  40.355  1.00 37.84           C  \nATOM    192  C   ALA A 381      28.168  29.136  41.789  1.00 38.41           C  \nATOM    193  O   ALA A 381      28.684  30.137  42.270  1.00 38.95           O  \nATOM    194  CB  ALA A 381      28.637  28.345  39.486  1.00 36.52           C  \nATOM    195  N   ASP A 382      27.990  28.017  42.476  1.00 39.89           N  \nATOM    196  CA  ASP A 382      28.675  27.782  43.737  1.00 41.34           C  \nATOM    197  C   ASP A 382      29.324  26.403  43.689  1.00 41.98           C  \nATOM    198  O   ASP A 382      28.656  25.376  43.831  1.00 42.73           O  \nATOM    199  CB  ASP A 382      27.692  27.862  44.906  1.00 40.55           C  \nATOM    200  CG  ASP A 382      28.371  27.660  46.244  1.00 42.95           C  \nATOM    201  OD1 ASP A 382      29.619  27.715  46.294  1.00 40.50           O  \nATOM    202  OD2 ASP A 382      27.659  27.444  47.247  1.00 47.23           O  \nATOM    203  N   PHE A 383      30.637  26.390  43.480  1.00 41.25           N  \nATOM    204  CA  PHE A 383      31.372  25.149  43.285  1.00 41.08           C  \nATOM    205  C   PHE A 383      31.780  24.514  44.605  1.00 41.56           C  \nATOM    206  O   PHE A 383      32.388  23.448  44.618  1.00 42.17           O  \nATOM    207  CB  PHE A 383      32.620  25.401  42.444  1.00 40.15           C  \nATOM    208  CG  PHE A 383      32.330  25.941  41.079  1.00 42.92           C  \nATOM    209  CD1 PHE A 383      33.125  26.931  40.528  1.00 43.98           C  \nATOM    210  CD2 PHE A 383      31.267  25.454  40.339  1.00 44.32           C  \nATOM    211  CE1 PHE A 383      32.866  27.425  39.258  1.00 45.46           C  \nATOM    212  CE2 PHE A 383      31.003  25.942  39.069  1.00 44.90           C  \nATOM    213  CZ  PHE A 383      31.804  26.931  38.528  1.00 44.06           C  \nHETATM  214  C1  STI A 200      31.969  24.127  32.834  1.00 39.54           C  \nHETATM  215  C6  STI A 200      31.434  23.691  34.059  1.00 38.55           C  \nHETATM  216  C5  STI A 200      32.281  23.633  35.210  1.00 41.65           C  \nHETATM  217  C4  STI A 200      33.644  24.025  35.061  1.00 42.52           C  \nHETATM  218  N3  STI A 200      34.103  24.435  33.864  1.00 41.88           N  \nHETATM  219  C2  STI A 200      33.322  24.497  32.770  1.00 41.68           C  \nHETATM  220  C7  STI A 200      31.727  23.174  36.525  1.00 39.49           C  \nHETATM  221  C12 STI A 200      32.570  22.816  37.617  1.00 39.30           C  \nHETATM  222  C11 STI A 200      31.948  22.398  38.809  1.00 39.92           C  \nHETATM  223  N10 STI A 200      30.602  22.353  38.881  1.00 39.54           N  \nHETATM  224  C9  STI A 200      29.836  22.698  37.826  1.00 38.05           C  \nHETATM  225  N8  STI A 200      30.388  23.099  36.682  1.00 39.71           N  \nHETATM  226  N13 STI A 200      28.449  22.641  37.897  1.00 34.55           N  \nHETATM  227  C14 STI A 200      27.747  22.247  39.049  1.00 35.34           C  \nHETATM  228  C19 STI A 200      27.628  20.865  39.425  1.00 34.81           C  \nHETATM  229  C18 STI A 200      26.908  20.521  40.585  1.00 35.98           C  \nHETATM  230  C17 STI A 200      26.306  21.523  41.376  1.00 38.19           C  \nHETATM  231  C16 STI A 200      26.414  22.894  41.016  1.00 37.61           C  \nHETATM  232  C15 STI A 200      27.141  23.244  39.845  1.00 36.09           C  \nHETATM  233  N21 STI A 200      25.765  23.868  41.842  1.00 38.80           N  \nHETATM  234  C22 STI A 200      25.939  25.234  41.820  1.00 37.44           C  \nHETATM  235  C23 STI A 200      25.144  26.077  42.756  1.00 38.17           C  \nHETATM  236  C25 STI A 200      24.715  25.556  44.014  1.00 39.45           C  \nHETATM  237  C26 STI A 200      23.959  26.361  44.894  1.00 40.72           C  \nHETATM  238  C27 STI A 200      23.626  27.690  44.534  1.00 42.23           C  \nHETATM  239  C28 STI A 200      24.048  28.212  43.285  1.00 41.57           C  \nHETATM  240  C29 STI A 200      24.800  27.419  42.401  1.00 39.77           C  \nHETATM  241  C46 STI A 200      22.816  28.569  45.475  1.00 41.69           C  \nHETATM  242  N48 STI A 200      23.386  28.582  46.840  1.00 42.82           N  \nHETATM  243  C53 STI A 200      24.592  29.448  46.946  1.00 43.57           C  \nHETATM  244  C52 STI A 200      25.192  29.303  48.362  1.00 42.97           C  \nHETATM  245  N51 STI A 200      24.166  29.649  49.380  1.00 42.15           N  \nHETATM  246  C54 STI A 200      24.720  29.550  50.739  1.00 41.96           C  \nHETATM  247  C50 STI A 200      22.928  28.833  49.256  1.00 43.35           C  \nHETATM  248  C49 STI A 200      22.352  28.975  47.830  1.00 44.36           C  \nHETATM  249  O29 STI A 200      26.719  25.774  41.047  1.00 36.93           O  \nHETATM  250  C20 STI A 200      28.256  19.765  38.596  1.00 34.71           C  \nHETATM  251  O   HOH A  35      29.033  22.751  43.668  1.00 29.94           O  \nHETATM  252  O   HOH A  62      21.410  30.918  51.672  1.00 39.48           O  \nHETATM  253  O   HOH A  81      26.941  24.569  47.270  1.00 37.65           O  \nHETATM  254  O   HOH A  86      30.162  21.752  41.664  1.00 36.63           O  \nTER     255      HOH A  86                                                       \nEND   \n",
                    "binary": false
                  }
                ],
                "kwargs": {
                  "ext": "pdb",
                  "defaultRepresentation": true
                }
              },
              {
                "target": "Stage",
                "type": "call_method",
                "methodName": "loadFile",
                "reconstruc_color_scheme": false,
                "args": [
                  {
                    "type": "blob",
                    "data": "ATOM      1  N   TRP A 105      17.940  22.107  41.858  1.00  9.59           N  \nATOM      2  CA  TRP A 105      17.208  23.068  42.664  1.00  9.41           C  \nATOM      3  C   TRP A 105      17.437  22.835  44.183  1.00 11.40           C  \nATOM      4  O   TRP A 105      16.478  22.689  44.975  1.00 10.76           O  \nATOM      5  CB  TRP A 105      15.732  22.989  42.293  1.00  9.20           C  \nATOM      6  CG  TRP A 105      15.507  23.499  40.852  1.00  9.88           C  \nATOM      7  CD1 TRP A 105      15.011  22.787  39.775  1.00 10.63           C  \nATOM      8  CD2 TRP A 105      15.848  24.796  40.365  1.00  9.55           C  \nATOM      9  NE1 TRP A 105      14.994  23.606  38.637  1.00 13.26           N  \nATOM     10  CE2 TRP A 105      15.483  24.850  38.995  1.00 12.43           C  \nATOM     11  CE3 TRP A 105      16.392  25.954  40.983  1.00  9.69           C  \nATOM     12  CZ2 TRP A 105      15.693  26.000  38.196  1.00 10.74           C  \nATOM     13  CZ3 TRP A 105      16.570  27.112  40.200  1.00 12.12           C  \nATOM     14  CH2 TRP A 105      16.193  27.128  38.824  1.00 10.07           C  \nATOM     15  H   TRP A 105      18.403  22.466  41.228  1.00 11.21           H  \nATOM     16  HA  TRP A 105      17.524  23.971  42.448  1.00 10.98           H  \nATOM     17  HB2 TRP A 105      15.436  22.067  42.343  1.00 10.73           H  \nATOM     18  HB3 TRP A 105      15.216  23.544  42.899  1.00 10.73           H  \nATOM     19  HD1 TRP A 105      14.722  21.905  39.803  1.00 12.45           H  \nATOM     20  HE1 TRP A 105      14.710  23.381  37.858  1.00 15.61           H  \nATOM     21  HE3 TRP A 105      16.615  25.951  41.885  1.00 11.33           H  \nATOM     22  HZ2 TRP A 105      15.443  26.017  37.300  1.00 12.58           H  \nATOM     23  HZ3 TRP A 105      16.925  27.879  40.588  1.00 14.25           H  \nATOM     24  HH2 TRP A 105      16.342  27.897  38.323  1.00 11.78           H  \nATOM     25  N   PHE A 106      18.713  22.757  44.525  1.00 10.34           N  \nATOM     26  CA  PHE A 106      19.171  22.674  45.911  1.00 13.32           C  \nATOM     27  C   PHE A 106      18.610  21.416  46.575  1.00 14.54           C  \nATOM     28  O   PHE A 106      18.445  21.383  47.815  1.00 12.55           O  \nATOM     29  CB  PHE A 106      18.707  23.894  46.737  1.00 12.51           C  \nATOM     30  CG  PHE A 106      19.641  25.084  46.699  1.00 14.56           C  \nATOM     31  CD1 PHE A 106      20.300  25.458  45.532  1.00 14.07           C  \nATOM     32  CD2 PHE A 106      19.772  25.891  47.814  1.00 15.31           C  \nATOM     33  CE1 PHE A 106      21.141  26.606  45.497  1.00 16.07           C  \nATOM     34  CE2 PHE A 106      20.583  27.044  47.799  1.00 15.07           C  \nATOM     35  CZ  PHE A 106      21.290  27.389  46.633  1.00 15.77           C  \nATOM     36  H   PHE A 106      19.357  22.751  43.955  1.00 12.10           H  \nATOM     37  HA  PHE A 106      20.150  22.631  45.932  1.00 15.68           H  \nATOM     38  HB2 PHE A 106      17.847  24.186  46.400  1.00 14.71           H  \nATOM     39  HB3 PHE A 106      18.618  23.622  47.664  1.00 14.71           H  \nATOM     40  HD1 PHE A 106      20.213  24.932  44.769  1.00 16.58           H  \nATOM     41  HD2 PHE A 106      19.314  25.667  48.593  1.00 18.07           H  \nATOM     42  HE1 PHE A 106      21.597  26.826  44.717  1.00 18.98           H  \nATOM     43  HE2 PHE A 106      20.681  27.553  48.570  1.00 17.78           H  \nATOM     44  HZ  PHE A 106      21.834  28.143  46.617  1.00 18.62           H  \nATOM     45  N   GLY A 149      26.470  22.276  39.980  1.00 15.47           N  \nATOM     46  CA  GLY A 149      26.873  23.284  38.990  1.00 19.57           C  \nATOM     47  C   GLY A 149      27.714  24.371  39.639  1.00 20.35           C  \nATOM     48  O   GLY A 149      28.759  24.738  39.108  1.00 18.67           O  \nATOM     49  H   GLY A 149      25.665  22.367  40.265  1.00 18.26           H  \nATOM     50  HA2 GLY A 149      27.393  22.864  38.287  1.00 23.18           H  \nATOM     51  HA3 GLY A 149      26.085  23.691  38.596  1.00 23.18           H  \nATOM     52  N   GLY A 150      27.286  24.872  40.800  1.00 16.16           N  \nATOM     53  CA  GLY A 150      27.959  25.977  41.471  1.00 19.29           C  \nATOM     54  C   GLY A 150      29.297  25.557  42.089  1.00 21.57           C  \nATOM     55  O   GLY A 150      29.515  24.386  42.396  1.00 19.17           O  \nATOM     56  H   GLY A 150      26.595  24.581  41.223  1.00 19.09           H  \nATOM     57  HA2 GLY A 150      28.125  26.689  40.834  1.00 22.84           H  \nATOM     58  HA3 GLY A 150      27.390  26.322  42.177  1.00 22.84           H  \nATOM     59  N   THR A 151      30.195  26.524  42.262  1.00 19.35           N  \nATOM     60  CA  THR A 151      31.541  26.213  42.805  1.00 21.36           C  \nATOM     61  C   THR A 151      31.549  26.159  44.320  1.00 23.89           C  \nATOM     62  O   THR A 151      30.640  26.662  44.973  1.00 21.20           O  \nATOM     63  CB  THR A 151      32.564  27.309  42.390  1.00 25.40           C  \nATOM     64  OG1 THR A 151      32.102  28.554  42.915  1.00 23.63           O  \nATOM     65  CG2 THR A 151      32.661  27.412  40.869  1.00 21.40           C  \nATOM     66  H   THR A 151      30.066  27.354  42.082  1.00 22.91           H  \nATOM     67  HA  THR A 151      31.847  25.350  42.458  1.00 25.33           H  \nATOM     68  HB  THR A 151      33.440  27.100  42.751  1.00 30.17           H  \nATOM     69  HG1 THR A 151      32.623  29.154  42.712  1.00 28.05           H  \nATOM     70 HG21 THR A 151      33.295  28.092  40.626  1.00 25.38           H  \nATOM     71 HG22 THR A 151      32.946  26.573  40.501  1.00 25.38           H  \nATOM     72 HG23 THR A 151      31.804  27.640  40.500  1.00 25.38           H  \nATOM     73  N   MET A 154      30.974  29.522  45.948  1.00 21.24           N  \nATOM     74  CA  MET A 154      29.598  30.019  45.877  1.00 19.88           C  \nATOM     75  C   MET A 154      28.774  29.383  46.994  1.00 21.65           C  \nATOM     76  O   MET A 154      27.829  29.987  47.491  1.00 22.88           O  \nATOM     77  CB  MET A 154      28.989  29.675  44.504  1.00 17.48           C  \nATOM     78  CG  MET A 154      29.647  30.495  43.387  1.00 26.13           C  \nATOM     79  SD  MET A 154      29.174  29.943  41.728  1.00 22.37           S  \nATOM     80  CE  MET A 154      27.427  30.433  41.680  1.00 18.30           C  \nATOM     81  H   MET A 154      31.181  28.978  45.315  1.00 25.18           H  \nATOM     82  HA  MET A 154      29.596  30.994  45.982  1.00 23.55           H  \nATOM     83  HB2 MET A 154      29.133  28.734  44.316  1.00 20.68           H  \nATOM     84  HB3 MET A 154      28.041  29.876  44.514  1.00 20.68           H  \nATOM     85  HG2 MET A 154      29.381  31.424  43.480  1.00 31.05           H  \nATOM     86  HG3 MET A 154      30.611  30.418  43.464  1.00 31.05           H  \nATOM     87  HE1 MET A 154      27.058  30.187  40.828  1.00 21.66           H  \nATOM     88  HE2 MET A 154      26.957  29.981  42.384  1.00 21.66           H  \nATOM     89  HE3 MET A 154      27.365  31.384  41.802  1.00 21.66           H  \nATOM     90  N   TYR A 155      29.170  28.169  47.387  1.00 20.41           N  \nATOM     91  CA  TYR A 155      28.496  27.424  48.438  1.00 23.80           C  \nATOM     92  C   TYR A 155      29.215  27.613  49.769  1.00 31.99           C  \nATOM     93  O   TYR A 155      29.559  26.660  50.441  1.00 27.05           O  \nATOM     94  CB  TYR A 155      28.429  25.921  48.095  1.00 23.76           C  \nATOM     95  CG  TYR A 155      27.341  25.620  47.090  1.00 22.57           C  \nATOM     96  CD1 TYR A 155      26.015  25.637  47.482  1.00 17.23           C  \nATOM     97  CD2 TYR A 155      27.646  25.336  45.748  1.00 15.81           C  \nATOM     98  CE1 TYR A 155      24.969  25.364  46.583  1.00 16.08           C  \nATOM     99  CE2 TYR A 155      26.636  25.072  44.842  1.00 15.84           C  \nATOM    100  CZ  TYR A 155      25.287  25.080  45.282  1.00 17.10           C  \nATOM    101  OH  TYR A 155      24.271  24.859  44.419  1.00 16.05           O  \nATOM    102  H   TYR A 155      29.843  27.753  47.050  1.00 24.19           H  \nATOM    103  HA  TYR A 155      27.580  27.758  48.533  1.00 28.26           H  \nATOM    104  HB2 TYR A 155      29.277  25.641  47.715  1.00 28.21           H  \nATOM    105  HB3 TYR A 155      28.242  25.417  48.904  1.00 28.21           H  \nATOM    106  HD1 TYR A 155      25.809  25.823  48.370  1.00 20.37           H  \nATOM    107  HD2 TYR A 155      28.533  25.325  45.468  1.00 18.67           H  \nATOM    108  HE1 TYR A 155      24.082  25.383  46.863  1.00 19.00           H  \nATOM    109  HE2 TYR A 155      26.839  24.886  43.953  1.00 18.70           H  \nATOM    110  HH  TYR A 155      24.331  24.105  44.101  1.00 18.96           H  \nATOM    111  N   ASN A 161      25.184  31.199  47.042  1.00 19.99           N  \nATOM    112  CA  ASN A 161      24.327  30.040  47.292  1.00 18.93           C  \nATOM    113  C   ASN A 161      24.161  29.678  48.758  1.00 20.89           C  \nATOM    114  O   ASN A 161      23.311  28.837  49.077  1.00 21.06           O  \nATOM    115  CB  ASN A 161      24.822  28.808  46.522  1.00 16.62           C  \nATOM    116  CG  ASN A 161      24.678  28.965  45.006  1.00 18.73           C  \nATOM    117  OD1 ASN A 161      23.796  29.683  44.522  1.00 19.12           O  \nATOM    118  ND2 ASN A 161      25.559  28.291  44.252  1.00 15.76           N  \nATOM    119  H   ASN A 161      26.016  31.017  46.922  1.00 23.69           H  \nATOM    120  HA  ASN A 161      23.433  30.251  46.948  1.00 22.42           H  \nATOM    121  HB2 ASN A 161      25.761  28.666  46.722  1.00 19.64           H  \nATOM    122  HB3 ASN A 161      24.304  28.035  46.794  1.00 19.64           H  \nATOM    123 HD21 ASN A 161      25.515  28.352  43.275  1.00 18.60           H  \nATOM    124 HD22 ASN A 161      26.244  27.736  44.679  1.00 18.60           H  \nATOM    125  N   ALA A 191      31.050  21.374  40.886  1.00 20.15           N  \nATOM    126  CA  ALA A 191      31.282  21.983  39.582  1.00 21.66           C  \nATOM    127  C   ALA A 191      32.187  21.165  38.660  1.00 27.76           C  \nATOM    128  O   ALA A 191      33.145  21.690  38.084  1.00 26.73           O  \nATOM    129  CB  ALA A 191      31.824  23.382  39.780  1.00 21.72           C  \nATOM    130  H   ALA A 191      30.216  21.332  41.093  1.00 23.88           H  \nATOM    131  HA  ALA A 191      30.418  22.071  39.130  1.00 25.69           H  \nATOM    132  HB1 ALA A 191      31.976  23.782  38.921  1.00 25.76           H  \nATOM    133  HB2 ALA A 191      31.182  23.898  40.274  1.00 25.76           H  \nATOM    134  HB3 ALA A 191      32.648  23.330  40.269  1.00 25.76           H  \nATOM    135  N   GLU A 193      31.567  20.171  35.721  1.00 21.99           N  \nATOM    136  CA  GLU A 193      31.448  20.611  34.326  1.00 28.98           C  \nATOM    137  C   GLU A 193      32.416  21.718  33.944  1.00 39.60           C  \nATOM    138  O   GLU A 193      32.764  21.849  32.771  1.00 33.67           O  \nATOM    139  CB  GLU A 193      30.032  21.061  34.013  1.00 28.03           C  \nATOM    140  CG  GLU A 193      29.076  19.887  33.954  1.00 29.20           C  \nATOM    141  CD  GLU A 193      27.646  20.311  34.192  1.00 32.44           C  \nATOM    142  OE1 GLU A 193      26.835  20.284  33.262  1.00 41.02           O  \nATOM    143  OE2 GLU A 193      27.348  20.711  35.314  1.00 25.32           O  \nATOM    144  H   GLU A 193      30.879  20.333  36.211  1.00 26.08           H  \nATOM    145  HA  GLU A 193      31.643  19.845  33.748  1.00 34.47           H  \nATOM    146  HB2 GLU A 193      29.729  21.667  34.706  1.00 33.34           H  \nATOM    147  HB3 GLU A 193      30.023  21.505  33.150  1.00 33.34           H  \nATOM    148  HG2 GLU A 193      29.129  19.477  33.077  1.00 34.74           H  \nATOM    149  HG3 GLU A 193      29.320  19.244  34.639  1.00 34.74           H  \nATOM    150  N   ILE A 194      32.857  22.501  34.921  1.00 23.25           N  \nATOM    151  CA  ILE A 194      33.804  23.576  34.622  1.00 32.69           C  \nATOM    152  C   ILE A 194      35.178  23.295  35.205  1.00 42.64           C  \nATOM    153  O   ILE A 194      36.081  24.130  35.116  1.00 34.97           O  \nATOM    154  CB  ILE A 194      33.288  24.968  35.048  1.00 48.80           C  \nATOM    155  CG1 ILE A 194      33.068  25.062  36.551  1.00 37.50           C  \nATOM    156  CG2 ILE A 194      32.000  25.301  34.298  1.00 57.21           C  \nATOM    157  CD1 ILE A 194      32.391  26.396  36.957  1.00 28.83           C  \nATOM    158  H   ILE A 194      32.632  22.436  35.748  1.00 27.60           H  \nATOM    159  HA  ILE A 194      33.917  23.607  33.648  1.00 38.93           H  \nATOM    160  HB  ILE A 194      33.958  25.625  34.802  1.00 58.25           H  \nATOM    161 HG12 ILE A 194      32.493  24.333  36.834  1.00 44.70           H  \nATOM    162 HG13 ILE A 194      33.924  25.007  37.003  1.00 44.70           H  \nATOM    163 HG21 ILE A 194      31.694  26.168  34.574  1.00 68.35           H  \nATOM    164 HG22 ILE A 194      32.180  25.302  33.354  1.00 68.35           H  \nATOM    165 HG23 ILE A 194      31.338  24.637  34.505  1.00 68.35           H  \nATOM    166 HD11 ILE A 194      32.273  26.409  37.910  1.00 34.29           H  \nATOM    167 HD12 ILE A 194      32.953  27.126  36.687  1.00 34.29           H  \nATOM    168 HD13 ILE A 194      31.539  26.461  36.520  1.00 34.29           H  \nHETATM  169  PA  FAD A 232      28.776  15.711  33.649  1.00 32.78           P  \nHETATM  170  O1A FAD A 232      28.489  14.390  33.195  1.00 28.39           O  \nHETATM  171  O2A FAD A 232      28.341  16.652  32.662  1.00 32.08           O  \nHETATM  172  O5B FAD A 232      30.310  15.863  33.866  1.00 35.84           O  \nHETATM  173  C5B FAD A 232      31.128  16.631  33.056  1.00 49.12           C  \nHETATM  174  C4B FAD A 232      31.977  15.845  32.071  1.00 42.08           C  \nHETATM  175  O4B FAD A 232      32.776  14.932  32.766  1.00 39.41           O  \nHETATM  176  C3B FAD A 232      31.119  15.031  31.107  1.00 53.53           C  \nHETATM  177  O3B FAD A 232      31.327  15.300  29.746  1.00 56.07           O  \nHETATM  178  C2B FAD A 232      31.489  13.602  31.437  1.00 50.49           C  \nHETATM  179  O2B FAD A 232      31.377  12.744  30.349  1.00 48.15           O  \nHETATM  180  C1B FAD A 232      32.872  13.746  32.035  1.00 37.32           C  \nHETATM  181  N9A FAD A 232      33.351  12.608  32.870  1.00 40.06           N  \nHETATM  182  C8A FAD A 232      32.683  11.479  33.218  1.00 42.16           C  \nHETATM  183  N7A FAD A 232      33.446  10.718  33.985  1.00 41.06           N  \nHETATM  184  C5A FAD A 232      34.620  11.291  34.137  1.00 44.04           C  \nHETATM  185  C6A FAD A 232      35.792  10.890  34.769  1.00 48.53           C  \nHETATM  186  N6A FAD A 232      35.883   9.762  35.440  1.00 46.05           N  \nHETATM  187  N1A FAD A 232      36.862  11.700  34.759  1.00 40.43           N  \nHETATM  188  C2A FAD A 232      36.785  12.876  34.063  1.00 44.48           C  \nHETATM  189  N3A FAD A 232      35.653  13.268  33.414  1.00 39.45           N  \nHETATM  190  C4A FAD A 232      34.572  12.486  33.437  1.00 46.18           C  \nHETATM  191  N1  FAD A 232      23.592  23.117  40.318  1.00 13.09           N  \nHETATM  192  C2  FAD A 232      23.689  23.752  41.501  1.00 17.70           C  \nHETATM  193  O2  FAD A 232      24.757  24.028  41.927  1.00 15.17           O  \nHETATM  194  N3  FAD A 232      22.558  24.023  42.200  1.00 12.66           N  \nHETATM  195  C4  FAD A 232      21.316  23.703  41.743  1.00 12.04           C  \nHETATM  196  O4  FAD A 232      20.363  23.945  42.409  1.00 11.89           O  \nHETATM  197  C4X FAD A 232      21.220  23.063  40.499  1.00 10.79           C  \nHETATM  198  N5  FAD A 232      20.016  22.730  39.983  1.00 11.38           N  \nHETATM  199  C5X FAD A 232      19.937  22.122  38.783  1.00  8.85           C  \nHETATM  200  C6  FAD A 232      18.703  21.779  38.280  1.00  9.36           C  \nHETATM  201  C7  FAD A 232      18.568  21.139  37.090  1.00  9.39           C  \nHETATM  202  C7M FAD A 232      17.237  20.779  36.569  1.00 11.31           C  \nHETATM  203  C8  FAD A 232      19.703  20.816  36.368  1.00 13.76           C  \nHETATM  204  C8M FAD A 232      19.565  20.116  35.057  1.00 12.68           C  \nHETATM  205  C9  FAD A 232      20.945  21.137  36.873  1.00 10.95           C  \nHETATM  206  C9A FAD A 232      21.101  21.786  38.075  1.00 13.66           C  \nHETATM  207  N10 FAD A 232      22.328  22.110  38.603  1.00 12.26           N  \nHETATM  208  C10 FAD A 232      22.382  22.746  39.797  1.00 11.80           C  \nHETATM  209  C1' FAD A 232      23.603  21.651  37.976  1.00 10.67           C  \nHETATM  210  C2' FAD A 232      23.844  20.166  38.229  1.00 12.27           C  \nHETATM  211  O2' FAD A 232      23.933  19.920  39.594  1.00 11.03           O  \nHETATM  212  C3' FAD A 232      25.097  19.729  37.445  1.00 19.16           C  \nHETATM  213  O3' FAD A 232      24.919  19.914  36.074  1.00 16.24           O  \nHETATM  214  C4' FAD A 232      25.536  18.289  37.824  1.00 14.47           C  \nHETATM  215  O4' FAD A 232      25.883  18.189  39.149  1.00 15.36           O  \nHETATM  216  C5' FAD A 232      26.739  17.821  36.996  1.00 21.52           C  \nHETATM  217  O5' FAD A 232      27.065  16.478  37.090  1.00 19.20           O  \nHETATM  218  P   FAD A 232      27.017  15.626  35.831  1.00 18.42           P  \nHETATM  219  O1P FAD A 232      27.253  14.292  36.236  1.00 22.22           O  \nHETATM  220  O2P FAD A 232      25.874  15.714  35.056  1.00 18.62           O  \nHETATM  221  O3P FAD A 232      28.323  16.121  35.094  1.00 27.66           O  \nHETATM  222 H51A FAD A 232      31.788  17.207  33.702  1.00 58.64           H  \nHETATM  223 H52A FAD A 232      30.528  17.339  32.495  1.00 58.64           H  \nHETATM  224  H4B FAD A 232      32.597  16.542  31.524  1.00 50.19           H  \nHETATM  225  H3B FAD A 232      30.070  15.219  31.326  1.00 63.93           H  \nHETATM  226 HO3A FAD A 232      32.279  15.405  29.552  1.00 66.98           H  \nHETATM  227  H2B FAD A 232      30.824  13.242  32.218  1.00 60.28           H  \nHETATM  228 HO2A FAD A 232      31.927  13.084  29.619  1.00 57.48           H  \nHETATM  229  H1B FAD A 232      33.547  13.900  31.205  1.00 44.49           H  \nHETATM  230  H8A FAD A 232      31.656  11.234  32.963  1.00 50.29           H  \nHETATM  231 H61A FAD A 232      35.608   8.901  34.993  1.00 54.96           H  \nHETATM  232 H62A FAD A 232      36.454   9.735  36.269  1.00 54.96           H  \nHETATM  233  H2A FAD A 232      37.652  13.530  34.048  1.00 53.07           H  \nHETATM  234  HN3 FAD A 232      22.638  24.501  43.103  1.00 14.89           H  \nHETATM  235  H6  FAD A 232      17.824  22.008  38.862  1.00 10.93           H  \nHETATM  236 HM71 FAD A 232      17.130  21.085  35.545  1.00 13.27           H  \nHETATM  237 HM72 FAD A 232      17.125  19.713  36.631  1.00 13.27           H  \nHETATM  238 HM73 FAD A 232      16.466  21.250  37.153  1.00 13.27           H  \nHETATM  239 HM81 FAD A 232      20.519  19.851  34.644  1.00 14.92           H  \nHETATM  240 HM82 FAD A 232      19.053  20.729  34.339  1.00 14.92           H  \nHETATM  241 HM83 FAD A 232      19.003  19.209  35.202  1.00 14.92           H  \nHETATM  242  H9  FAD A 232      21.780  20.879  36.264  1.00 12.84           H  \nHETATM  243 H1'1 FAD A 232      23.693  21.931  36.947  1.00 12.50           H  \nHETATM  244 H1'2 FAD A 232      24.439  22.155  38.419  1.00 12.50           H  \nHETATM  245  H2' FAD A 232      22.999  19.619  37.838  1.00 14.42           H  \nHETATM  246 HO2' FAD A 232      24.708  20.337  39.955  1.00 12.94           H  \nHETATM  247  H3' FAD A 232      25.906  20.378  37.752  1.00 22.69           H  \nHETATM  248 HO3' FAD A 232      24.042  19.639  35.789  1.00 19.18           H  \nHETATM  249  H4' FAD A 232      24.713  17.624  37.613  1.00 17.06           H  \nHETATM  250 HO4' FAD A 232      26.490  18.882  39.398  1.00 18.13           H  \nHETATM  251 H5'1 FAD A 232      26.548  18.046  35.960  1.00 25.53           H  \nHETATM  252 H5'2 FAD A 232      27.607  18.400  37.275  1.00 25.53           H  \nHETATM  253  C1  STI A 233      20.557  27.181  41.898  1.00 12.41           C  \nHETATM  254  C6  STI A 233      20.086  26.566  40.734  1.00 11.50           C  \nHETATM  255  C5  STI A 233      20.998  26.222  39.729  1.00 11.07           C  \nHETATM  256  C4  STI A 233      22.382  26.539  39.926  1.00 10.34           C  \nHETATM  257  N3  STI A 233      22.830  27.121  41.047  1.00 12.17           N  \nHETATM  258  C2  STI A 233      21.927  27.454  42.006  1.00 16.87           C  \nHETATM  259  C7  STI A 233      20.544  25.629  38.472  1.00 11.89           C  \nHETATM  260  C12 STI A 233      19.167  25.410  38.224  1.00 12.48           C  \nHETATM  261  C11 STI A 233      18.833  24.820  37.004  1.00 12.66           C  \nHETATM  262  N10 STI A 233      19.757  24.445  36.086  1.00 11.88           N  \nHETATM  263  C9  STI A 233      21.087  24.729  36.411  1.00 10.88           C  \nHETATM  264  N8  STI A 233      21.517  25.291  37.581  1.00 15.72           N  \nHETATM  265  N13 STI A 233      21.942  24.346  35.408  1.00 13.52           N  \nHETATM  266  C14 STI A 233      23.368  24.402  35.503  1.00 10.72           C  \nHETATM  267  C19 STI A 233      24.064  23.424  34.802  1.00 11.98           C  \nHETATM  268  C18 STI A 233      25.455  23.386  34.859  1.00 11.94           C  \nHETATM  269  C17 STI A 233      26.130  24.341  35.594  1.00 13.21           C  \nHETATM  270  C16 STI A 233      25.434  25.348  36.258  1.00 14.90           C  \nHETATM  271  C15 STI A 233      24.035  25.408  36.244  1.00 12.28           C  \nHETATM  272  N21 STI A 233      26.262  26.342  36.842  1.00 16.02           N  \nHETATM  273  C22 STI A 233      25.877  27.388  37.651  1.00 20.67           C  \nHETATM  274  C23 STI A 233      26.956  28.383  37.869  1.00 18.78           C  \nHETATM  275  C25 STI A 233      26.482  29.691  37.821  1.00 16.40           C  \nHETATM  276  C26 STI A 233      27.410  30.722  37.975  1.00 17.00           C  \nHETATM  277  C27 STI A 233      28.747  30.423  38.186  1.00 18.48           C  \nHETATM  278  C28 STI A 233      29.213  29.126  38.244  1.00 20.54           C  \nHETATM  279  C29 STI A 233      28.291  28.078  38.083  1.00 20.38           C  \nHETATM  280  C46 STI A 233      29.631  31.630  38.360  1.00 26.31           C  \nHETATM  281  N48 STI A 233      30.801  31.607  37.432  1.00 26.43           N  \nHETATM  282  C53 STI A 233      31.549  32.909  37.558  1.00 32.06           C  \nHETATM  283  C52 STI A 233      32.834  32.826  36.724  1.00 26.87           C  \nHETATM  284  N51 STI A 233      32.500  32.601  35.284  1.00 22.45           N  \nHETATM  285  C54 STI A 233      33.795  32.403  34.564  1.00 18.74           C  \nHETATM  286  C50 STI A 233      31.688  31.334  35.210  1.00 17.70           C  \nHETATM  287  C49 STI A 233      30.393  31.567  35.997  1.00 22.97           C  \nHETATM  288  O29 STI A 233      24.719  27.666  37.910  1.00 21.24           O  \nHETATM  289  C20 STI A 233      23.306  22.387  34.017  1.00 14.54           C  \nHETATM  290  H11 STI A 233      19.862  27.450  42.690  1.00 14.59           H  \nHETATM  291  H61 STI A 233      19.024  26.344  40.601  1.00 13.49           H  \nHETATM  292  H41 STI A 233      23.145  26.297  39.171  1.00 12.10           H  \nHETATM  293  H21 STI A 233      22.352  27.924  42.896  1.00 19.94           H  \nHETATM  294 H121 STI A 233      18.409  25.684  38.958  1.00 14.68           H  \nHETATM  295 H111 STI A 233      17.800  24.601  36.721  1.00 14.88           H  \nHETATM  296 H131 STI A 233      21.525  24.203  34.495  1.00 15.92           H  \nHETATM  297 H181 STI A 233      26.016  22.613  34.333  1.00 14.03           H  \nHETATM  298 H171 STI A 233      27.221  24.330  35.606  1.00 15.54           H  \nHETATM  299 H151 STI A 233      23.481  26.188  36.767  1.00 14.44           H  \nHETATM  300 H211 STI A 233      27.233  26.295  36.564  1.00 18.92           H  \nHETATM  301 H251 STI A 233      25.425  29.905  37.646  1.00 19.38           H  \nHETATM  302 H261 STI A 233      27.067  31.757  37.940  1.00 20.10           H  \nHETATM  303 H281 STI A 233      30.271  28.901  38.412  1.00 24.34           H  \nHETATM  304 H291 STI A 233      28.637  27.041  38.119  1.00 24.16           H  \nHETATM  305 H461 STI A 233      29.059  32.568  38.190  1.00 31.26           H  \nHETATM  306 H462 STI A 233      29.952  31.693  39.431  1.00 31.26           H  \nHETATM  307 H531 STI A 233      31.784  33.191  38.612  1.00 38.17           H  \nHETATM  308 H532 STI A 233      30.930  33.748  37.173  1.00 38.17           H  \nHETATM  309 H521 STI A 233      33.479  32.002  37.097  1.00 31.94           H  \nHETATM  310 H522 STI A 233      33.439  33.754  36.881  1.00 31.94           H  \nHETATM  311 H541 STI A 233      34.394  33.324  34.619  1.00 22.19           H  \nHETATM  312 H542 STI A 233      33.638  32.176  33.502  1.00 22.19           H  \nHETATM  313 H543 STI A 233      34.419  31.592  34.982  1.00 22.19           H  \nHETATM  314 H501 STI A 233      32.253  30.483  35.642  1.00 20.94           H  \nHETATM  315 H502 STI A 233      31.449  31.039  34.157  1.00 20.94           H  \nHETATM  316 H491 STI A 233      29.871  32.488  35.642  1.00 27.26           H  \nHETATM  317 H492 STI A 233      29.688  30.726  35.820  1.00 27.26           H  \nHETATM  318 H201 STI A 233      22.949  22.760  33.054  1.00 17.14           H  \nHETATM  319 H202 STI A 233      22.422  22.042  34.573  1.00 17.14           H  \nHETATM  320 H203 STI A 233      23.929  21.505  33.808  1.00 17.14           H  \nHETATM  321  O   HOH A 248      18.348  23.269  33.956  1.00 20.25           O  \nHETATM  322  O   HOH A 251      29.120  21.051  37.038  1.00 22.67           O  \nHETATM  323  O   HOH A 255      28.792  26.258  35.207  1.00 21.50           O  \nHETATM  324  O   HOH A 263      29.776  23.780  36.683  1.00 22.31           O  \nHETATM  325  O   HOH A 294      33.168  30.892  41.686  1.00 42.88           O  \nHETATM  326  O   HOH A 391      31.820  33.320  41.691  1.00 50.56           O  \nHETATM  327  O   HOH A 395      29.710  34.636  42.861  1.00 54.06           O  \nHETATM  328  O   HOH A 416      33.454  34.437  40.079  1.00 52.56           O  \nHETATM  329  O   HOH A 419      27.675  34.595  41.135  1.00 48.62           O  \nHETATM  330  O   HOH A 426      35.831  33.254  39.451  1.00 46.54           O  \nHETATM  331  O   HOH A 433      25.401  27.745  41.379  1.00 15.42           O  \nHETATM  332  O   HOH A 435      32.729  30.310  38.743  1.00 42.58           O  \nTER     333      HOH A 435                                                       \nEND   \n",
                    "binary": false
                  }
                ],
                "kwargs": {
                  "ext": "pdb",
                  "defaultRepresentation": true
                }
              },
              {
                "target": "Stage",
                "type": "call_method",
                "methodName": "loadFile",
                "reconstruc_color_scheme": false,
                "args": [
                  {
                    "type": "blob",
                    "data": "ATOM      1  N   LEU A 294      23.107  35.856  27.566  1.00  9.76           N  \nATOM      2  CA  LEU A 294      22.416  34.859  28.392  1.00 15.91           C  \nATOM      3  C   LEU A 294      21.913  35.523  29.656  1.00 21.85           C  \nATOM      4  O   LEU A 294      22.690  36.140  30.370  1.00 14.50           O  \nATOM      5  CB  LEU A 294      23.420  33.774  28.773  1.00 21.86           C  \nATOM      6  CG  LEU A 294      23.089  32.288  28.799  1.00 30.87           C  \nATOM      7  CD1 LEU A 294      21.986  31.850  27.826  1.00 19.97           C  \nATOM      8  CD2 LEU A 294      24.405  31.545  28.525  1.00 21.67           C  \nATOM      9  N   TYR A 299      23.845  37.206  34.665  1.00 23.74           N  \nATOM     10  CA  TYR A 299      25.128  36.517  34.783  1.00 19.47           C  \nATOM     11  C   TYR A 299      26.292  37.429  34.378  1.00 18.62           C  \nATOM     12  O   TYR A 299      27.411  36.962  34.265  1.00 26.00           O  \nATOM     13  CB  TYR A 299      25.151  35.269  33.890  1.00 15.06           C  \nATOM     14  CG  TYR A 299      24.032  34.271  34.122  1.00 21.05           C  \nATOM     15  CD1 TYR A 299      24.018  33.466  35.256  1.00 14.61           C  \nATOM     16  CD2 TYR A 299      23.019  34.089  33.179  1.00 17.04           C  \nATOM     17  CE1 TYR A 299      23.023  32.539  35.472  1.00 19.28           C  \nATOM     18  CE2 TYR A 299      22.001  33.135  33.387  1.00 15.67           C  \nATOM     19  CZ  TYR A 299      22.017  32.371  34.538  1.00 16.24           C  \nATOM     20  OH  TYR A 299      21.046  31.433  34.776  1.00 15.00           O  \nATOM     21  N   VAL A 302      27.898  37.363  29.822  1.00 14.28           N  \nATOM     22  CA  VAL A 302      27.909  35.975  29.475  1.00 11.77           C  \nATOM     23  C   VAL A 302      26.943  35.804  28.303  1.00 14.40           C  \nATOM     24  O   VAL A 302      25.824  36.313  28.337  1.00 16.84           O  \nATOM     25  CB  VAL A 302      27.537  35.072  30.641  1.00 16.01           C  \nATOM     26  CG1 VAL A 302      27.513  33.661  30.168  1.00 13.10           C  \nATOM     27  CG2 VAL A 302      28.541  35.226  31.804  1.00 13.11           C  \nATOM     28  N   ALA A 315      28.543  28.431  26.650  1.00 13.45           N  \nATOM     29  CA  ALA A 315      28.405  29.688  27.353  1.00 12.60           C  \nATOM     30  C   ALA A 315      29.783  30.379  27.304  1.00 12.95           C  \nATOM     31  O   ALA A 315      30.802  29.719  27.459  1.00 14.99           O  \nATOM     32  CB  ALA A 315      27.931  29.443  28.820  1.00 14.72           C  \nATOM     33  N   VAL A 316      29.799  31.682  27.039  1.00 12.23           N  \nATOM     34  CA  VAL A 316      31.031  32.443  26.878  1.00 15.06           C  \nATOM     35  C   VAL A 316      30.992  33.690  27.742  1.00 12.64           C  \nATOM     36  O   VAL A 316      30.130  34.542  27.571  1.00 16.20           O  \nATOM     37  CB  VAL A 316      31.264  32.896  25.415  1.00 18.55           C  \nATOM     38  CG1 VAL A 316      32.654  33.500  25.270  1.00  6.57           C  \nATOM     39  CG2 VAL A 316      31.052  31.755  24.419  1.00  7.84           C  \nATOM     40  N   LYS A 317      31.916  33.771  28.680  1.00 10.01           N  \nATOM     41  CA  LYS A 317      32.098  34.952  29.489  1.00 11.55           C  \nATOM     42  C   LYS A 317      33.152  35.812  28.831  1.00 13.17           C  \nATOM     43  O   LYS A 317      34.224  35.330  28.468  1.00 10.62           O  \nATOM     44  CB  LYS A 317      32.582  34.605  30.882  1.00 15.35           C  \nATOM     45  CG  LYS A 317      32.546  35.804  31.859  1.00 12.08           C  \nATOM     46  CD  LYS A 317      33.090  35.380  33.218  1.00 13.47           C  \nATOM     47  CE  LYS A 317      33.057  36.495  34.265  1.00 18.00           C  \nATOM     48  NZ  LYS A 317      33.614  35.960  35.538  1.00 14.56           N  \nATOM     49  N   GLU A 332      40.747  33.884  37.081  1.00 11.45           N  \nATOM     50  CA  GLU A 332      39.635  32.955  36.928  1.00 14.00           C  \nATOM     51  C   GLU A 332      39.964  31.936  35.819  1.00 22.43           C  \nATOM     52  O   GLU A 332      39.742  30.749  36.010  1.00 15.15           O  \nATOM     53  CB  GLU A 332      38.315  33.668  36.602  1.00 12.68           C  \nATOM     54  CG  GLU A 332      37.149  32.693  36.351  1.00 11.39           C  \nATOM     55  CD  GLU A 332      35.808  33.345  36.137  1.00 13.68           C  \nATOM     56  OE1 GLU A 332      35.726  34.574  35.935  1.00 14.96           O  \nATOM     57  OE2 GLU A 332      34.808  32.603  36.180  1.00 15.59           O  \nATOM     58  N   VAL A 335      42.530  29.552  37.270  1.00 13.99           N  \nATOM     59  CA  VAL A 335      41.982  28.644  38.270  1.00 13.21           C  \nATOM     60  C   VAL A 335      41.182  27.508  37.619  1.00 16.01           C  \nATOM     61  O   VAL A 335      41.248  26.353  38.044  1.00 12.50           O  \nATOM     62  CB  VAL A 335      41.076  29.403  39.271  1.00 19.26           C  \nATOM     63  CG1 VAL A 335      40.161  28.450  40.001  1.00 25.11           C  \nATOM     64  CG2 VAL A 335      41.926  30.222  40.248  1.00 17.08           C  \nATOM     65  N   MET A 336      40.412  27.842  36.588  1.00 12.14           N  \nATOM     66  CA  MET A 336      39.522  26.870  35.970  1.00 15.57           C  \nATOM     67  C   MET A 336      40.275  25.784  35.213  1.00 13.96           C  \nATOM     68  O   MET A 336      39.789  24.673  35.093  1.00 16.74           O  \nATOM     69  CB  MET A 336      38.526  27.577  35.070  1.00 16.46           C  \nATOM     70  CG  MET A 336      37.577  28.455  35.849  1.00 12.87           C  \nATOM     71  SD  MET A 336      36.416  29.267  34.742  1.00 14.72           S  \nATOM     72  CE  MET A 336      35.474  27.873  34.193  1.00 18.12           C  \nATOM     73  N   ILE A 339      41.090  22.818  37.766  1.00 16.30           N  \nATOM     74  CA  ILE A 339      40.051  22.034  38.418  1.00 18.55           C  \nATOM     75  C   ILE A 339      39.153  21.334  37.413  1.00 16.44           C  \nATOM     76  O   ILE A 339      38.875  21.860  36.338  1.00 20.51           O  \nATOM     77  CB  ILE A 339      39.195  22.898  39.413  1.00 17.25           C  \nATOM     78  CG1 ILE A 339      38.582  24.118  38.746  1.00 20.59           C  \nATOM     79  CG2 ILE A 339      40.036  23.366  40.575  1.00 22.33           C  \nATOM     80  CD1 ILE A 339      37.831  25.037  39.757  1.00 20.33           C  \nATOM     81  N   LEU A 344      31.383  20.334  38.649  1.00 10.61           N  \nATOM     82  CA  LEU A 344      31.855  21.701  38.444  1.00 13.60           C  \nATOM     83  C   LEU A 344      31.723  21.971  36.957  1.00 19.63           C  \nATOM     84  O   LEU A 344      32.061  21.120  36.134  1.00 12.00           O  \nATOM     85  CB  LEU A 344      33.311  21.881  38.905  1.00 12.70           C  \nATOM     86  CG  LEU A 344      33.501  21.915  40.428  1.00 13.69           C  \nATOM     87  CD1 LEU A 344      34.928  21.667  40.839  1.00 18.52           C  \nATOM     88  CD2 LEU A 344      33.020  23.238  41.011  1.00 16.89           C  \nATOM     89  N   VAL A 345      31.178  23.135  36.619  1.00 12.73           N  \nATOM     90  CA  VAL A 345      30.941  23.514  35.234  1.00 14.33           C  \nATOM     91  C   VAL A 345      32.271  23.373  34.466  1.00 15.28           C  \nATOM     92  O   VAL A 345      33.295  23.784  34.974  1.00 15.27           O  \nATOM     93  CB  VAL A 345      30.356  24.955  35.132  1.00 20.93           C  \nATOM     94  CG1 VAL A 345      31.355  25.980  35.644  1.00 21.91           C  \nATOM     95  CG2 VAL A 345      29.925  25.273  33.685  1.00 27.87           C  \nATOM     96  N   ILE A 359      36.177  33.250  28.286  1.00 11.55           N  \nATOM     97  CA  ILE A 359      36.236  31.938  28.936  1.00 10.74           C  \nATOM     98  C   ILE A 359      34.997  31.193  28.464  1.00 11.01           C  \nATOM     99  O   ILE A 359      33.873  31.675  28.620  1.00 15.31           O  \nATOM    100  CB  ILE A 359      36.234  32.052  30.458  1.00 10.21           C  \nATOM    101  CG1 ILE A 359      37.481  32.778  30.927  1.00 12.20           C  \nATOM    102  CG2 ILE A 359      36.172  30.640  31.084  1.00 12.55           C  \nATOM    103  CD1 ILE A 359      37.462  33.241  32.432  1.00 11.34           C  \nATOM    104  N   THR A 361      32.625  27.825  28.515  1.00 14.03           N  \nATOM    105  CA  THR A 361      32.239  26.599  29.215  1.00 14.47           C  \nATOM    106  C   THR A 361      31.101  25.921  28.495  1.00 17.69           C  \nATOM    107  O   THR A 361      30.474  26.492  27.584  1.00 12.43           O  \nATOM    108  CB  THR A 361      31.771  26.847  30.686  1.00 13.95           C  \nATOM    109  OG1 THR A 361      30.496  27.493  30.683  1.00 14.28           O  \nATOM    110  CG2 THR A 361      32.793  27.684  31.496  1.00 12.41           C  \nATOM    111  N   GLU A 362      30.807  24.701  28.920  1.00 13.00           N  \nATOM    112  CA  GLU A 362      29.588  24.041  28.471  1.00 17.37           C  \nATOM    113  C   GLU A 362      28.385  24.936  28.792  1.00 12.56           C  \nATOM    114  O   GLU A 362      28.424  25.770  29.716  1.00 16.92           O  \nATOM    115  CB  GLU A 362      29.424  22.671  29.150  1.00 14.41           C  \nATOM    116  CG  GLU A 362      29.259  22.753  30.659  1.00 16.80           C  \nATOM    117  CD  GLU A 362      29.197  21.385  31.327  1.00 20.47           C  \nATOM    118  OE1 GLU A 362      28.553  20.493  30.738  1.00 27.58           O  \nATOM    119  OE2 GLU A 362      29.769  21.219  32.445  1.00 20.57           O  \nATOM    120  N   TYR A 363      27.324  24.733  28.032  1.00 14.75           N  \nATOM    121  CA  TYR A 363      26.021  25.370  28.241  1.00 18.72           C  \nATOM    122  C   TYR A 363      25.133  24.371  28.986  1.00 16.93           C  \nATOM    123  O   TYR A 363      25.093  23.204  28.636  1.00 17.18           O  \nATOM    124  CB  TYR A 363      25.409  25.749  26.872  1.00 18.25           C  \nATOM    125  CG  TYR A 363      23.943  26.133  26.886  1.00 14.50           C  \nATOM    126  CD1 TYR A 363      23.548  27.410  27.241  1.00 18.19           C  \nATOM    127  CD2 TYR A 363      22.956  25.209  26.543  1.00 17.76           C  \nATOM    128  CE1 TYR A 363      22.256  27.753  27.289  1.00 13.93           C  \nATOM    129  CE2 TYR A 363      21.640  25.556  26.573  1.00 19.12           C  \nATOM    130  CZ  TYR A 363      21.286  26.835  26.952  1.00 18.83           C  \nATOM    131  OH  TYR A 363      19.954  27.213  26.971  1.00 19.68           O  \nATOM    132  N   MET A 364      24.424  24.833  30.012  1.00 16.53           N  \nATOM    133  CA  MET A 364      23.621  23.950  30.865  1.00 10.39           C  \nATOM    134  C   MET A 364      22.151  24.219  30.582  1.00 11.51           C  \nATOM    135  O   MET A 364      21.635  25.298  30.916  1.00 13.19           O  \nATOM    136  CB  MET A 364      23.990  24.184  32.315  1.00 14.60           C  \nATOM    137  CG  MET A 364      25.495  23.861  32.601  1.00 16.90           C  \nATOM    138  SD  MET A 364      25.798  22.091  32.559  1.00 18.45           S  \nATOM    139  CE  MET A 364      24.907  21.563  34.047  1.00 13.50           C  \nATOM    140  N   GLY A 367      19.518  25.979  32.916  1.00 13.57           N  \nATOM    141  CA  GLY A 367      19.821  27.254  33.558  1.00 12.68           C  \nATOM    142  C   GLY A 367      20.175  27.075  35.025  1.00 13.69           C  \nATOM    143  O   GLY A 367      20.557  25.984  35.452  1.00 11.86           O  \nATOM    144  N   ARG A 378       6.888  19.792  40.291  1.00 24.37           N  \nATOM    145  CA  ARG A 378       7.255  18.992  41.453  1.00 20.86           C  \nATOM    146  C   ARG A 378       6.812  17.527  41.393  1.00 30.08           C  \nATOM    147  O   ARG A 378       7.180  16.753  42.273  1.00 36.94           O  \nATOM    148  CB  ARG A 378       6.709  19.645  42.703  1.00 18.63           C  \nATOM    149  CG  ARG A 378       7.237  21.050  42.881  1.00 22.72           C  \nATOM    150  CD  ARG A 378       6.829  21.634  44.195  1.00 28.93           C  \nATOM    151  NE  ARG A 378       7.076  23.072  44.238  1.00 31.50           N  \nATOM    152  CZ  ARG A 378       6.996  23.814  45.340  1.00 32.39           C  \nATOM    153  NH1 ARG A 378       6.684  23.258  46.509  1.00 32.41           N  \nATOM    154  NH2 ARG A 378       7.236  25.117  45.273  1.00 33.77           N  \nATOM    155  N   ALA A 383      11.297  13.998  45.925  1.00 14.75           N  \nATOM    156  CA  ALA A 383      12.276  13.977  47.015  1.00  7.36           C  \nATOM    157  C   ALA A 383      13.615  13.376  46.567  1.00  9.20           C  \nATOM    158  O   ALA A 383      14.667  13.921  46.870  1.00  9.06           O  \nATOM    159  CB  ALA A 383      11.700  13.192  48.242  1.00  7.49           C  \nATOM    160  N   VAL A 384      13.581  12.278  45.810  1.00 12.93           N  \nATOM    161  CA  VAL A 384      14.820  11.604  45.401  1.00 11.67           C  \nATOM    162  C   VAL A 384      15.690  12.514  44.499  1.00 14.93           C  \nATOM    163  O   VAL A 384      16.916  12.528  44.614  1.00 11.54           O  \nATOM    164  CB  VAL A 384      14.568  10.185  44.769  1.00 10.27           C  \nATOM    165  CG1 VAL A 384      13.853  10.255  43.415  1.00 12.03           C  \nATOM    166  CG2 VAL A 384      15.874   9.441  44.627  1.00 13.79           C  \nATOM    167  N   LEU A 386      15.729  15.873  44.622  1.00 21.37           N  \nATOM    168  CA  LEU A 386      16.314  16.888  45.528  1.00 19.54           C  \nATOM    169  C   LEU A 386      17.552  16.360  46.253  1.00 17.66           C  \nATOM    170  O   LEU A 386      18.538  17.081  46.453  1.00 18.07           O  \nATOM    171  CB  LEU A 386      15.288  17.349  46.562  1.00 15.04           C  \nATOM    172  CG  LEU A 386      14.002  18.000  46.040  1.00 17.40           C  \nATOM    173  CD1 LEU A 386      13.019  18.186  47.170  1.00 14.60           C  \nATOM    174  CD2 LEU A 386      14.286  19.335  45.367  1.00 12.69           C  \nATOM    175  N   LEU A 387      17.502  15.092  46.631  1.00 15.55           N  \nATOM    176  CA  LEU A 387      18.613  14.454  47.319  1.00 16.78           C  \nATOM    177  C   LEU A 387      19.785  14.306  46.364  1.00 15.35           C  \nATOM    178  O   LEU A 387      20.947  14.522  46.733  1.00 13.88           O  \nATOM    179  CB  LEU A 387      18.193  13.072  47.841  1.00 17.32           C  \nATOM    180  CG  LEU A 387      19.336  12.252  48.441  1.00 14.00           C  \nATOM    181  CD1 LEU A 387      19.940  13.031  49.625  1.00  8.25           C  \nATOM    182  CD2 LEU A 387      18.885  10.819  48.822  1.00 15.53           C  \nATOM    183  N   PHE A 405      40.805  24.710  47.704  1.00 15.13           N  \nATOM    184  CA  PHE A 405      40.128  25.878  47.145  1.00 14.42           C  \nATOM    185  C   PHE A 405      38.976  26.265  48.057  1.00 21.44           C  \nATOM    186  O   PHE A 405      38.505  25.434  48.835  1.00 21.15           O  \nATOM    187  CB  PHE A 405      39.602  25.568  45.749  1.00 17.17           C  \nATOM    188  CG  PHE A 405      40.665  25.590  44.671  1.00 18.58           C  \nATOM    189  CD1 PHE A 405      41.231  26.790  44.260  1.00 32.38           C  \nATOM    190  CD2 PHE A 405      41.064  24.420  44.043  1.00 36.26           C  \nATOM    191  CE1 PHE A 405      42.199  26.816  43.255  1.00 29.42           C  \nATOM    192  CE2 PHE A 405      42.033  24.438  43.038  1.00 30.40           C  \nATOM    193  CZ  PHE A 405      42.598  25.634  42.646  1.00 19.67           C  \nATOM    194  N   ILE A 406      38.567  27.535  47.979  1.00 17.20           N  \nATOM    195  CA  ILE A 406      37.357  28.052  48.632  1.00 13.23           C  \nATOM    196  C   ILE A 406      36.436  28.599  47.526  1.00 14.04           C  \nATOM    197  O   ILE A 406      36.892  29.190  46.576  1.00 13.68           O  \nATOM    198  CB  ILE A 406      37.698  29.172  49.638  1.00 18.21           C  \nATOM    199  CG1 ILE A 406      38.546  28.620  50.795  1.00 31.41           C  \nATOM    200  CG2 ILE A 406      36.442  29.777  50.195  1.00 29.98           C  \nATOM    201  CD1 ILE A 406      39.516  29.643  51.431  1.00 14.47           C  \nATOM    202  N   HIS A 407      35.140  28.383  47.640  1.00 14.48           N  \nATOM    203  CA  HIS A 407      34.212  28.924  46.671  1.00 17.76           C  \nATOM    204  C   HIS A 407      33.968  30.412  46.936  1.00 14.41           C  \nATOM    205  O   HIS A 407      34.177  31.229  46.040  1.00 12.81           O  \nATOM    206  CB  HIS A 407      32.903  28.171  46.683  1.00 13.86           C  \nATOM    207  CG  HIS A 407      32.010  28.547  45.556  1.00 16.10           C  \nATOM    208  ND1 HIS A 407      31.369  29.759  45.497  1.00 10.59           N  \nATOM    209  CD2 HIS A 407      31.684  27.891  44.423  1.00 16.26           C  \nATOM    210  CE1 HIS A 407      30.686  29.838  44.370  1.00 13.75           C  \nATOM    211  NE2 HIS A 407      30.858  28.711  43.704  1.00 18.74           N  \nATOM    212  N   ARG A 408      33.516  30.720  48.158  1.00 11.50           N  \nATOM    213  CA  ARG A 408      33.246  32.073  48.667  1.00 14.28           C  \nATOM    214  C   ARG A 408      31.875  32.635  48.318  1.00 16.66           C  \nATOM    215  O   ARG A 408      31.518  33.681  48.840  1.00 18.51           O  \nATOM    216  CB  ARG A 408      34.321  33.089  48.237  1.00 16.05           C  \nATOM    217  CG  ARG A 408      35.381  33.372  49.252  1.00 25.02           C  \nATOM    218  CD  ARG A 408      36.376  34.358  48.664  1.00 28.23           C  \nATOM    219  NE  ARG A 408      36.043  35.736  49.029  1.00 47.04           N  \nATOM    220  CZ  ARG A 408      36.734  36.501  49.882  1.00 47.86           C  \nATOM    221  NH1 ARG A 408      37.835  36.041  50.478  1.00 48.48           N  \nATOM    222  NH2 ARG A 408      36.326  37.746  50.135  1.00 35.54           N  \nATOM    223  N   LEU A 416      24.170  25.267  38.294  1.00 11.28           N  \nATOM    224  CA  LEU A 416      23.529  25.093  37.007  1.00 10.62           C  \nATOM    225  C   LEU A 416      22.986  23.683  36.899  1.00 14.24           C  \nATOM    226  O   LEU A 416      23.498  22.770  37.532  1.00 14.25           O  \nATOM    227  CB  LEU A 416      24.521  25.368  35.877  1.00 14.86           C  \nATOM    228  CG  LEU A 416      25.056  26.809  35.795  1.00 20.58           C  \nATOM    229  CD1 LEU A 416      26.299  26.913  34.859  1.00 14.57           C  \nATOM    230  CD2 LEU A 416      23.957  27.762  35.292  1.00 14.32           C  \nATOM    231  N   VAL A 425      28.167  23.047  40.295  1.00 13.21           N  \nATOM    232  CA  VAL A 425      28.555  24.257  40.966  1.00 13.87           C  \nATOM    233  C   VAL A 425      29.293  25.177  39.989  1.00 13.10           C  \nATOM    234  O   VAL A 425      30.178  24.748  39.211  1.00 14.15           O  \nATOM    235  CB  VAL A 425      29.433  23.945  42.175  1.00 14.72           C  \nATOM    236  CG1 VAL A 425      30.046  25.238  42.742  1.00 13.48           C  \nATOM    237  CG2 VAL A 425      28.606  23.207  43.236  1.00 13.54           C  \nATOM    238  N   ALA A 426      28.890  26.436  39.995  1.00 10.49           N  \nATOM    239  CA  ALA A 426      29.552  27.456  39.200  1.00 12.79           C  \nATOM    240  C   ALA A 426      29.891  28.658  40.088  1.00 10.70           C  \nATOM    241  O   ALA A 426      29.650  28.654  41.290  1.00 14.78           O  \nATOM    242  CB  ALA A 426      28.635  27.876  37.980  1.00  8.49           C  \nATOM    243  N   ASP A 427      30.481  29.676  39.483  1.00 15.44           N  \nATOM    244  CA  ASP A 427      30.744  30.939  40.157  1.00 16.08           C  \nATOM    245  C   ASP A 427      30.717  32.047  39.113  1.00 12.13           C  \nATOM    246  O   ASP A 427      31.664  32.211  38.345  1.00 14.32           O  \nATOM    247  CB  ASP A 427      32.083  30.912  40.884  1.00 16.90           C  \nATOM    248  CG  ASP A 427      32.355  32.205  41.689  1.00 24.22           C  \nATOM    249  OD1 ASP A 427      31.491  33.105  41.710  1.00 20.88           O  \nATOM    250  OD2 ASP A 427      33.443  32.335  42.273  1.00 18.22           O  \nATOM    251  N   PHE A 428      29.630  32.805  39.098  1.00  8.94           N  \nATOM    252  CA  PHE A 428      29.397  33.783  38.047  1.00  8.38           C  \nATOM    253  C   PHE A 428      30.054  35.084  38.365  1.00 16.39           C  \nATOM    254  O   PHE A 428      30.110  35.970  37.509  1.00 24.14           O  \nATOM    255  CB  PHE A 428      27.906  33.971  37.825  1.00 12.24           C  \nATOM    256  CG  PHE A 428      27.169  32.684  37.599  1.00 13.15           C  \nATOM    257  CD1 PHE A 428      27.690  31.709  36.762  1.00 15.73           C  \nATOM    258  CD2 PHE A 428      25.945  32.445  38.225  1.00 18.09           C  \nATOM    259  CE1 PHE A 428      27.014  30.513  36.554  1.00 22.99           C  \nATOM    260  CE2 PHE A 428      25.275  31.265  38.011  1.00 10.04           C  \nATOM    261  CZ  PHE A 428      25.790  30.299  37.184  1.00 18.87           C  \nATOM    262  N   LEU A 475      21.073  24.188  50.914  1.00 15.92           N  \nATOM    263  CA  LEU A 475      20.263  23.011  51.173  1.00 12.64           C  \nATOM    264  C   LEU A 475      18.836  23.391  51.572  1.00 15.56           C  \nATOM    265  O   LEU A 475      17.877  22.716  51.193  1.00 13.45           O  \nATOM    266  CB  LEU A 475      20.937  22.171  52.254  1.00 13.27           C  \nATOM    267  CG  LEU A 475      20.269  20.885  52.682  1.00 24.75           C  \nATOM    268  CD1 LEU A 475      19.994  20.030  51.447  1.00  8.72           C  \nATOM    269  CD2 LEU A 475      21.204  20.206  53.709  1.00 12.43           C  \nATOM    270  N   ILE A 478      17.137  24.270  48.394  1.00 13.68           N  \nATOM    271  CA  ILE A 478      16.701  23.000  47.773  1.00 12.65           C  \nATOM    272  C   ILE A 478      15.438  22.459  48.458  1.00 16.94           C  \nATOM    273  O   ILE A 478      14.444  22.222  47.790  1.00 17.62           O  \nATOM    274  CB  ILE A 478      17.816  21.923  47.765  1.00 16.15           C  \nATOM    275  CG1 ILE A 478      18.862  22.261  46.700  1.00 14.00           C  \nATOM    276  CG2 ILE A 478      17.255  20.532  47.469  1.00 15.41           C  \nATOM    277  CD1 ILE A 478      20.159  21.511  46.840  1.00 13.36           C  \nATOM    278  N   ALA A 479      15.470  22.350  49.788  1.00 14.65           N  \nATOM    279  CA  ALA A 479      14.337  21.848  50.579  1.00 15.11           C  \nATOM    280  C   ALA A 479      13.041  22.644  50.457  1.00 17.67           C  \nATOM    281  O   ALA A 479      11.950  22.085  50.666  1.00 16.12           O  \nATOM    282  CB  ALA A 479      14.733  21.745  52.052  1.00 11.52           C  \nATOM    283  N   TYR A 481      12.271  24.432  47.605  1.00 16.84           N  \nATOM    284  CA  TYR A 481      12.105  24.715  46.176  1.00 17.35           C  \nATOM    285  C   TYR A 481      12.354  26.191  45.822  1.00 12.33           C  \nATOM    286  O   TYR A 481      11.599  26.810  45.071  1.00 17.20           O  \nATOM    287  CB  TYR A 481      10.721  24.271  45.693  1.00 22.61           C  \nATOM    288  CG  TYR A 481      10.531  22.775  45.627  1.00 17.58           C  \nATOM    289  CD1 TYR A 481       9.988  22.072  46.694  1.00 20.09           C  \nATOM    290  CD2 TYR A 481      10.876  22.064  44.484  1.00 16.65           C  \nATOM    291  CE1 TYR A 481       9.789  20.681  46.624  1.00 29.32           C  \nATOM    292  CE2 TYR A 481      10.684  20.675  44.403  1.00 22.27           C  \nATOM    293  CZ  TYR A 481      10.140  19.993  45.476  1.00 18.56           C  \nATOM    294  OH  TYR A 481       9.963  18.629  45.397  1.00 24.63           O  \nATOM    295  N   GLU A 508       8.734  22.823  55.593  1.00 13.57           N  \nATOM    296  CA  GLU A 508       7.674  21.847  55.378  1.00 12.07           C  \nATOM    297  C   GLU A 508       8.203  20.642  54.580  1.00 16.57           C  \nATOM    298  O   GLU A 508       8.867  20.799  53.535  1.00 16.32           O  \nATOM    299  CB  GLU A 508       6.487  22.478  54.637  1.00 19.16           C  \nATOM    300  CG  GLU A 508       5.159  21.717  54.817  1.00 28.80           C  \nATOM    301  CD  GLU A 508       4.065  22.151  53.838  1.00 30.96           C  \nATOM    302  OE1 GLU A 508       4.260  23.139  53.101  1.00 42.42           O  \nATOM    303  OE2 GLU A 508       3.004  21.497  53.804  1.00 32.97           O  \nATOM    304  N   GLY A 509       7.917  19.448  55.101  1.00 14.90           N  \nATOM    305  CA  GLY A 509       8.262  18.185  54.454  1.00 13.28           C  \nATOM    306  C   GLY A 509       9.739  17.822  54.517  1.00 15.37           C  \nATOM    307  O   GLY A 509      10.151  16.837  53.916  1.00 15.58           O  \nATOM    308  N   CYS A 510      10.556  18.614  55.214  1.00 16.81           N  \nATOM    309  CA  CYS A 510      12.005  18.380  55.181  1.00 15.64           C  \nATOM    310  C   CYS A 510      12.313  17.211  56.095  1.00 22.14           C  \nATOM    311  O   CYS A 510      11.958  17.246  57.271  1.00 17.94           O  \nATOM    312  CB  CYS A 510      12.786  19.588  55.648  1.00 13.10           C  \nATOM    313  SG  CYS A 510      14.580  19.362  55.609  1.00 19.58           S  \nATOM    314  N   PRO A 511      12.961  16.167  55.560  1.00 22.56           N  \nATOM    315  CA  PRO A 511      13.254  15.036  56.432  1.00 21.96           C  \nATOM    316  C   PRO A 511      14.155  15.449  57.578  1.00 19.70           C  \nATOM    317  O   PRO A 511      15.048  16.286  57.369  1.00 19.99           O  \nATOM    318  CB  PRO A 511      13.961  14.040  55.495  1.00 22.97           C  \nATOM    319  CG  PRO A 511      13.396  14.339  54.162  1.00 10.59           C  \nATOM    320  CD  PRO A 511      13.254  15.852  54.148  1.00 21.04           C  \nATOM    321  N   VAL A 514      17.807  15.617  56.973  1.00 19.66           N  \nATOM    322  CA  VAL A 514      18.263  16.718  56.121  1.00 11.72           C  \nATOM    323  C   VAL A 514      18.395  17.956  56.988  1.00 17.45           C  \nATOM    324  O   VAL A 514      19.407  18.603  56.949  1.00 14.56           O  \nATOM    325  CB  VAL A 514      17.309  16.971  54.949  1.00 16.26           C  \nATOM    326  CG1 VAL A 514      17.810  18.105  54.093  1.00  6.06           C  \nATOM    327  CG2 VAL A 514      17.143  15.704  54.129  1.00 11.22           C  \nATOM    328  N   MET A 542      21.830   8.644  53.689  1.00 17.45           N  \nATOM    329  CA  MET A 542      20.371   8.840  53.560  1.00 20.71           C  \nATOM    330  C   MET A 542      19.749   8.027  52.432  1.00 21.40           C  \nATOM    331  O   MET A 542      18.539   7.799  52.436  1.00 21.96           O  \nATOM    332  CB  MET A 542      20.027  10.301  53.299  1.00 13.25           C  \nATOM    333  CG  MET A 542      20.322  11.224  54.429  1.00 26.34           C  \nATOM    334  SD  MET A 542      20.213  12.906  53.861  1.00 25.52           S  \nATOM    335  CE  MET A 542      21.033  13.752  55.222  1.00 25.42           C  \nATOM    336  N   PHE A 543      20.563   7.638  51.454  1.00 27.28           N  \nATOM    337  CA  PHE A 543      20.109   6.773  50.379  1.00 28.67           C  \nATOM    338  C   PHE A 543      20.146   5.299  50.820  1.00 25.16           C  \nATOM    339  O   PHE A 543      19.298   4.512  50.402  1.00 32.99           O  \nATOM    340  CB  PHE A 543      20.921   7.010  49.109  1.00 30.98           C  \nATOM    341  CG  PHE A 543      20.316   6.388  47.871  1.00 33.65           C  \nATOM    342  CD1 PHE A 543      20.733   5.128  47.432  1.00 29.24           C  \nATOM    343  CD2 PHE A 543      19.347   7.064  47.137  1.00 26.07           C  \nATOM    344  CE1 PHE A 543      20.195   4.547  46.271  1.00 32.36           C  \nATOM    345  CE2 PHE A 543      18.797   6.487  45.977  1.00 42.35           C  \nATOM    346  CZ  PHE A 543      19.230   5.227  45.545  1.00 31.32           C  \nATOM    347  N   SER A 546      16.888   5.069  53.816  1.00 42.80           N  \nATOM    348  CA  SER A 546      15.508   5.121  53.289  1.00 40.18           C  \nATOM    349  C   SER A 546      15.389   4.468  51.906  1.00 38.25           C  \nATOM    350  O   SER A 546      14.630   3.502  51.714  1.00 29.61           O  \nATOM    351  CB  SER A 546      15.011   6.572  53.228  1.00 45.90           C  \nHETATM  352  C1  STI A1001      22.681  29.323  31.562  1.00 24.83           C  \nHETATM  353  C6  STI A1001      23.769  30.029  32.074  1.00 24.37           C  \nHETATM  354  C5  STI A1001      25.051  29.472  31.938  1.00 23.25           C  \nHETATM  355  C4  STI A1001      25.175  28.241  31.291  1.00 22.30           C  \nHETATM  356  N3  STI A1001      24.117  27.592  30.813  1.00 31.16           N  \nHETATM  357  C2  STI A1001      22.898  28.093  30.927  1.00 25.41           C  \nHETATM  358  C7  STI A1001      26.187  30.128  32.426  1.00 30.53           C  \nHETATM  359  C12 STI A1001      26.094  31.409  32.967  1.00 21.03           C  \nHETATM  360  C11 STI A1001      27.264  32.009  33.426  1.00 24.67           C  \nHETATM  361  N10 STI A1001      28.425  31.386  33.366  1.00 21.78           N  \nHETATM  362  C9  STI A1001      28.502  30.152  32.862  1.00 21.09           C  \nHETATM  363  N8  STI A1001      27.405  29.539  32.375  1.00 20.20           N  \nHETATM  364  N13 STI A1001      29.670  29.525  32.802  1.00 21.55           N  \nHETATM  365  C14 STI A1001      30.858  30.092  33.095  1.00 18.81           C  \nHETATM  366  C19 STI A1001      31.544  30.846  32.163  1.00 19.37           C  \nHETATM  367  C18 STI A1001      32.792  31.356  32.492  1.00 11.58           C  \nHETATM  368  C17 STI A1001      33.366  31.121  33.716  1.00 21.20           C  \nHETATM  369  C16 STI A1001      32.704  30.360  34.668  1.00 21.26           C  \nHETATM  370  C15 STI A1001      31.455  29.838  34.324  1.00 17.31           C  \nHETATM  371  N21 STI A1001      33.341  30.112  35.840  1.00 18.55           N  \nHETATM  372  C22 STI A1001      32.863  29.406  36.882  1.00 22.94           C  \nHETATM  373  C23 STI A1001      33.864  29.135  38.018  1.00 18.11           C  \nHETATM  374  C25 STI A1001      34.995  29.909  38.246  1.00 22.32           C  \nHETATM  375  C26 STI A1001      35.853  29.603  39.306  1.00 22.34           C  \nHETATM  376  C27 STI A1001      35.593  28.525  40.146  1.00 24.57           C  \nHETATM  377  C28 STI A1001      34.475  27.768  39.896  1.00 18.95           C  \nHETATM  378  C29 STI A1001      33.614  28.068  38.852  1.00 21.90           C  \nHETATM  379  C46 STI A1001      36.507  28.153  41.359  1.00 19.96           C  \nHETATM  380  N48 STI A1001      36.885  29.351  42.138  1.00 22.34           N  \nHETATM  381  C53 STI A1001      35.683  29.935  42.607  1.00 20.78           C  \nHETATM  382  C52 STI A1001      36.109  31.233  43.307  1.00 21.82           C  \nHETATM  383  N51 STI A1001      36.969  30.972  44.489  1.00 26.69           N  \nHETATM  384  C54 STI A1001      37.635  32.161  45.014  1.00 24.50           C  \nHETATM  385  C50 STI A1001      38.175  30.288  43.917  1.00 20.79           C  \nHETATM  386  C49 STI A1001      37.763  28.963  43.214  1.00 26.94           C  \nHETATM  387  O29 STI A1001      31.703  29.001  37.011  1.00 20.21           O  \nHETATM  388  C20 STI A1001      30.939  31.147  30.786  1.00 13.81           C  \nHETATM  389  C1  STI A1002      14.052   8.755  47.866  1.00 34.83           C  \nHETATM  390  C6  STI A1002      14.290   9.903  48.617  1.00 34.67           C  \nHETATM  391  C5  STI A1002      15.266   9.888  49.613  1.00 29.19           C  \nHETATM  392  C4  STI A1002      15.999   8.726  49.818  1.00 38.82           C  \nHETATM  393  N3  STI A1002      15.752   7.643  49.089  1.00 37.51           N  \nHETATM  394  C2  STI A1002      14.824   7.636  48.138  1.00 31.30           C  \nHETATM  395  C7  STI A1002      15.538  11.058  50.345  1.00 39.42           C  \nHETATM  396  C12 STI A1002      16.154  11.045  51.591  1.00 34.72           C  \nHETATM  397  C11 STI A1002      16.395  12.273  52.217  1.00 42.85           C  \nHETATM  398  N10 STI A1002      16.070  13.425  51.636  1.00 34.91           N  \nHETATM  399  C9  STI A1002      15.477  13.423  50.430  1.00 52.47           C  \nHETATM  400  N8  STI A1002      15.237  12.253  49.792  1.00 42.22           N  \nHETATM  401  N13 STI A1002      15.136  14.536  49.775  1.00 39.32           N  \nHETATM  402  C14 STI A1002      14.757  15.720  50.281  1.00 48.42           C  \nHETATM  403  C19 STI A1002      15.710  16.657  50.711  1.00 34.71           C  \nHETATM  404  C18 STI A1002      15.270  17.888  51.176  1.00 26.31           C  \nHETATM  405  C17 STI A1002      13.914  18.210  51.202  1.00 36.30           C  \nHETATM  406  C16 STI A1002      12.957  17.283  50.766  1.00 37.38           C  \nHETATM  407  C15 STI A1002      13.400  16.055  50.271  1.00 31.00           C  \nHETATM  408  N21 STI A1002      11.671  17.657  50.793  1.00 37.73           N  \nHETATM  409  C22 STI A1002      10.613  16.935  50.369  1.00 43.31           C  \nHETATM  410  C23 STI A1002       9.279  17.678  50.484  1.00 35.53           C  \nHETATM  411  C25 STI A1002       8.138  17.001  50.929  1.00 42.76           C  \nHETATM  412  C26 STI A1002       6.929  17.678  51.021  1.00 46.55           C  \nHETATM  413  C27 STI A1002       6.840  19.024  50.682  1.00 43.61           C  \nHETATM  414  C28 STI A1002       7.977  19.701  50.243  1.00 48.28           C  \nHETATM  415  C29 STI A1002       9.196  19.028  50.139  1.00 45.99           C  \nHETATM  416  C46 STI A1002       5.487  19.758  50.812  1.00 46.54           C  \nHETATM  417  N48 STI A1002       4.653  19.743  49.577  1.00 72.81           N  \nHETATM  418  C53 STI A1002       3.681  20.872  49.635  1.00 64.51           C  \nHETATM  419  C52 STI A1002       2.666  20.900  48.455  1.00 63.05           C  \nHETATM  420  N51 STI A1002       2.078  19.570  48.166  1.00 58.83           N  \nHETATM  421  C54 STI A1002       1.395  19.626  46.852  1.00 51.22           C  \nHETATM  422  C50 STI A1002       3.106  18.494  48.138  1.00 48.69           C  \nHETATM  423  C49 STI A1002       3.898  18.472  49.465  1.00 65.58           C  \nHETATM  424  O29 STI A1002      10.634  15.777  49.932  1.00 42.10           O  \nHETATM  425  C20 STI A1002      17.220  16.320  50.699  1.00 32.32           C  \nHETATM  426  O   HOH A   8      32.460  33.520  36.230  1.00 14.43           O  \nHETATM  427  O   HOH A   9      19.307  32.576  30.885  1.00 14.27           O  \nHETATM  428  O   HOH A  12      33.288  33.387  44.606  1.00 15.98           O  \nHETATM  429  O   HOH A  17      40.491  29.609  46.765  1.00  7.52           O  \nHETATM  430  O   HOH A  25      11.532  10.186  45.825  1.00 23.22           O  \nHETATM  431  O   HOH A  30      11.257  20.207  52.378  1.00 12.05           O  \nHETATM  432  O   HOH A  52      35.741  33.254  40.071  1.00 25.49           O  \nHETATM  433  O   HOH A  53       5.861  20.716  47.193  1.00 32.08           O  \nHETATM  434  O   HOH A  73      30.345  33.177  34.510  1.00 15.73           O  \nHETATM  435  O   HOH A  82      29.578  35.642  34.800  1.00 23.08           O  \nHETATM  436  O   HOH A 100      38.335  35.176  46.794  1.00 42.02           O  \nHETATM  437  O   HOH A 141      39.735  32.119  47.879  1.00 21.64           O  \nHETATM  438  O   HOH A 161      19.541  30.525  32.827  1.00 26.73           O  \nHETATM  439  O   HOH A 211      34.631  24.635  36.724  1.00 29.08           O  \nHETATM  440  O   HOH A 234       7.919  14.223  46.106  1.00 21.28           O  \nHETATM  441  O   HOH A 251      38.322  32.472  40.525  1.00 29.39           O  \nHETATM  442  O   HOH A 549      17.376   5.982  49.562  1.00 27.19           O  \nTER     443      HOH A 549                                                       \nEND   \n",
                    "binary": false
                  }
                ],
                "kwargs": {
                  "ext": "pdb",
                  "defaultRepresentation": true
                }
              },
              {
                "target": "Stage",
                "type": "call_method",
                "methodName": "loadFile",
                "reconstruc_color_scheme": false,
                "args": [
                  {
                    "type": "blob",
                    "data": "ATOM      1  N   VAL A  30      38.851  30.077  36.595  1.00 57.77           N  \nATOM      2  CA  VAL A  30      39.098  29.530  37.923  1.00 59.44           C  \nATOM      3  C   VAL A  30      39.064  27.987  37.948  1.00 60.04           C  \nATOM      4  O   VAL A  30      39.597  27.363  38.877  1.00 60.24           O  \nATOM      5  CB  VAL A  30      38.226  30.251  39.021  1.00 59.88           C  \nATOM      6  CG1 VAL A  30      36.735  29.824  38.976  1.00 60.28           C  \nATOM      7  CG2 VAL A  30      38.865  30.117  40.443  1.00 61.33           C  \nATOM      8  N   VAL A  38      34.893  27.463  33.932  1.00 39.93           N  \nATOM      9  CA  VAL A  38      34.275  28.500  34.713  1.00 39.65           C  \nATOM     10  C   VAL A  38      35.310  29.633  34.787  1.00 39.53           C  \nATOM     11  O   VAL A  38      36.439  29.425  35.248  1.00 39.34           O  \nATOM     12  CB  VAL A  38      34.015  28.029  36.168  1.00 40.31           C  \nATOM     13  CG1 VAL A  38      33.421  29.164  37.032  1.00 38.68           C  \nATOM     14  CG2 VAL A  38      33.139  26.744  36.217  1.00 40.69           C  \nATOM     15  N   ALA A  51      30.676  34.610  38.404  1.00 31.33           N  \nATOM     16  CA  ALA A  51      31.258  33.379  37.870  1.00 31.17           C  \nATOM     17  C   ALA A  51      30.449  33.047  36.646  1.00 30.89           C  \nATOM     18  O   ALA A  51      29.232  33.135  36.667  1.00 30.44           O  \nATOM     19  CB  ALA A  51      31.208  32.227  38.889  1.00 30.56           C  \nATOM     20  N   VAL A  52      31.153  32.713  35.573  1.00 31.54           N  \nATOM     21  CA  VAL A  52      30.543  32.317  34.319  1.00 32.46           C  \nATOM     22  C   VAL A  52      30.896  30.832  33.965  1.00 33.58           C  \nATOM     23  O   VAL A  52      32.082  30.474  33.843  1.00 34.07           O  \nATOM     24  CB  VAL A  52      30.935  33.307  33.190  1.00 32.17           C  \nATOM     25  CG1 VAL A  52      30.434  32.839  31.860  1.00 30.73           C  \nATOM     26  CG2 VAL A  52      30.361  34.705  33.481  1.00 32.83           C  \nATOM     27  N   LYS A  53      29.871  29.979  33.835  1.00 33.81           N  \nATOM     28  CA  LYS A  53      30.067  28.601  33.372  1.00 34.17           C  \nATOM     29  C   LYS A  53      29.626  28.425  31.944  1.00 34.33           C  \nATOM     30  O   LYS A  53      28.486  28.722  31.575  1.00 34.17           O  \nATOM     31  CB  LYS A  53      29.352  27.557  34.239  1.00 33.86           C  \nATOM     32  CG  LYS A  53      29.879  26.100  33.948  1.00 34.92           C  \nATOM     33  CD  LYS A  53      28.894  24.991  34.351  1.00 34.18           C  \nATOM     34  CE  LYS A  53      29.012  24.623  35.807  1.00 34.00           C  \nATOM     35  NZ  LYS A  53      27.877  23.793  36.286  1.00 30.93           N  \nATOM     36  N   GLU A  71      19.915  21.425  34.596  1.00 24.94           N  \nATOM     37  CA  GLU A  71      20.677  22.397  35.332  1.00 25.90           C  \nATOM     38  C   GLU A  71      20.103  23.784  35.103  1.00 25.67           C  \nATOM     39  O   GLU A  71      20.157  24.634  35.987  1.00 26.44           O  \nATOM     40  CB  GLU A  71      22.174  22.350  34.966  1.00 26.05           C  \nATOM     41  CG  GLU A  71      22.919  23.486  35.644  1.00 27.66           C  \nATOM     42  CD  GLU A  71      24.345  23.153  35.998  1.00 31.41           C  \nATOM     43  OE1 GLU A  71      24.785  23.548  37.124  1.00 30.66           O  \nATOM     44  OE2 GLU A  71      25.027  22.540  35.129  1.00 31.06           O  \nATOM     45  N   LEU A  74      16.879  24.020  37.211  1.00 25.02           N  \nATOM     46  CA  LEU A  74      17.271  24.001  38.579  1.00 26.61           C  \nATOM     47  C   LEU A  74      17.771  25.367  38.978  1.00 26.47           C  \nATOM     48  O   LEU A  74      17.296  25.943  39.996  1.00 26.52           O  \nATOM     49  CB  LEU A  74      18.383  23.004  38.743  1.00 27.45           C  \nATOM     50  CG  LEU A  74      18.546  22.207  39.999  1.00 28.97           C  \nATOM     51  CD1 LEU A  74      17.212  21.904  40.653  1.00 31.40           C  \nATOM     52  CD2 LEU A  74      19.186  20.902  39.469  1.00 34.37           C  \nATOM     53  N   LEU A  75      18.706  25.892  38.188  1.00 25.37           N  \nATOM     54  CA  LEU A  75      19.210  27.235  38.470  1.00 26.42           C  \nATOM     55  C   LEU A  75      18.109  28.305  38.374  1.00 26.82           C  \nATOM     56  O   LEU A  75      18.070  29.227  39.197  1.00 27.51           O  \nATOM     57  CB  LEU A  75      20.481  27.577  37.687  1.00 25.23           C  \nATOM     58  CG  LEU A  75      21.549  27.317  38.754  1.00 27.42           C  \nATOM     59  CD1 LEU A  75      21.887  25.826  38.950  1.00 24.55           C  \nATOM     60  CD2 LEU A  75      22.799  28.093  38.503  1.00 29.87           C  \nATOM     61  N   ILE A  84      22.856  28.910  45.940  1.00 26.22           N  \nATOM     62  CA  ILE A  84      23.181  29.615  44.682  1.00 26.26           C  \nATOM     63  C   ILE A  84      21.991  29.958  43.780  1.00 25.89           C  \nATOM     64  O   ILE A  84      21.091  29.136  43.601  1.00 25.24           O  \nATOM     65  CB  ILE A  84      24.169  28.810  43.851  1.00 26.35           C  \nATOM     66  CG1 ILE A  84      24.877  29.740  42.883  1.00 27.40           C  \nATOM     67  CG2 ILE A  84      23.502  27.637  43.183  1.00 25.98           C  \nATOM     68  CD1 ILE A  84      26.322  29.381  42.737  1.00 31.25           C  \nATOM     69  N   LEU A 104      26.019  30.174  31.966  1.00 28.02           N  \nATOM     70  CA  LEU A 104      25.290  30.541  33.144  1.00 27.23           C  \nATOM     71  C   LEU A 104      26.170  31.413  34.045  1.00 27.76           C  \nATOM     72  O   LEU A 104      27.420  31.213  34.158  1.00 26.30           O  \nATOM     73  CB  LEU A 104      24.907  29.297  33.893  1.00 27.35           C  \nATOM     74  CG  LEU A 104      24.239  28.119  33.195  1.00 27.55           C  \nATOM     75  CD1 LEU A 104      24.703  26.894  33.972  1.00 24.99           C  \nATOM     76  CD2 LEU A 104      22.686  28.243  33.142  1.00 23.24           C  \nATOM     77  N   VAL A 105      25.501  32.365  34.706  1.00 27.84           N  \nATOM     78  CA  VAL A 105      26.173  33.345  35.535  1.00 26.55           C  \nATOM     79  C   VAL A 105      25.643  33.271  36.958  1.00 26.99           C  \nATOM     80  O   VAL A 105      24.424  33.189  37.174  1.00 24.63           O  \nATOM     81  CB  VAL A 105      26.011  34.742  34.912  1.00 26.92           C  \nATOM     82  CG1 VAL A 105      26.775  35.802  35.716  1.00 25.19           C  \nATOM     83  CG2 VAL A 105      26.546  34.703  33.474  1.00 25.52           C  \nATOM     84  N   THR A 106      26.580  33.263  37.920  1.00 28.10           N  \nATOM     85  CA  THR A 106      26.266  33.392  39.339  1.00 29.85           C  \nATOM     86  C   THR A 106      27.201  34.388  40.040  1.00 31.84           C  \nATOM     87  O   THR A 106      28.102  34.997  39.414  1.00 32.25           O  \nATOM     88  CB  THR A 106      26.295  32.034  40.097  1.00 29.82           C  \nATOM     89  OG1 THR A 106      27.633  31.533  40.118  1.00 31.34           O  \nATOM     90  CG2 THR A 106      25.403  30.991  39.452  1.00 28.37           C  \nATOM     91  N   HIS A 107      26.970  34.575  41.339  1.00 33.70           N  \nATOM     92  CA  HIS A 107      27.820  35.437  42.142  1.00 36.26           C  \nATOM     93  C   HIS A 107      29.150  34.750  42.178  1.00 36.85           C  \nATOM     94  O   HIS A 107      29.202  33.530  42.145  1.00 37.12           O  \nATOM     95  CB  HIS A 107      27.281  35.601  43.594  1.00 37.19           C  \nATOM     96  CG  HIS A 107      25.968  36.352  43.688  1.00 41.37           C  \nATOM     97  ND1 HIS A 107      25.879  37.731  43.585  1.00 43.81           N  \nATOM     98  CD2 HIS A 107      24.697  35.908  43.866  1.00 45.21           C  \nATOM     99  CE1 HIS A 107      24.616  38.100  43.692  1.00 45.95           C  \nATOM    100  NE2 HIS A 107      23.876  37.013  43.866  1.00 46.98           N  \nATOM    101  N   LEU A 108      30.225  35.515  42.215  1.00 38.31           N  \nATOM    102  CA  LEU A 108      31.518  34.926  42.441  1.00 40.85           C  \nATOM    103  C   LEU A 108      31.627  34.650  43.934  1.00 42.58           C  \nATOM    104  O   LEU A 108      31.121  35.405  44.761  1.00 43.46           O  \nATOM    105  CB  LEU A 108      32.637  35.860  41.979  1.00 40.94           C  \nATOM    106  CG  LEU A 108      33.996  35.163  41.921  1.00 41.94           C  \nATOM    107  CD1 LEU A 108      33.959  34.191  40.738  1.00 40.06           C  \nATOM    108  CD2 LEU A 108      35.230  36.100  41.887  1.00 39.66           C  \nATOM    109  N   MET A 109      32.280  33.567  44.297  1.00 44.74           N  \nATOM    110  CA  MET A 109      32.437  33.263  45.715  1.00 46.57           C  \nATOM    111  C   MET A 109      33.879  33.471  46.170  1.00 46.70           C  \nATOM    112  O   MET A 109      34.823  33.049  45.486  1.00 46.80           O  \nATOM    113  CB  MET A 109      31.937  31.844  46.013  1.00 47.22           C  \nATOM    114  CG  MET A 109      30.404  31.665  45.759  1.00 50.62           C  \nATOM    115  SD  MET A 109      29.273  33.029  46.286  1.00 58.66           S  \nATOM    116  CE  MET A 109      29.680  33.337  48.052  1.00 55.79           C  \nATOM    117  N   ILE A 146      13.954  18.394  45.739  1.00 28.40           N  \nATOM    118  CA  ILE A 146      15.253  18.306  45.112  1.00 29.04           C  \nATOM    119  C   ILE A 146      16.218  17.703  46.143  1.00 29.60           C  \nATOM    120  O   ILE A 146      16.218  18.109  47.279  1.00 29.97           O  \nATOM    121  CB  ILE A 146      15.729  19.721  44.626  1.00 29.04           C  \nATOM    122  CG1 ILE A 146      14.789  20.280  43.561  1.00 28.00           C  \nATOM    123  CG2 ILE A 146      17.171  19.735  44.119  1.00 28.07           C  \nATOM    124  CD1 ILE A 146      14.960  21.797  43.392  1.00 28.75           C  \nATOM    125  N   ILE A 147      17.011  16.715  45.755  1.00 30.30           N  \nATOM    126  CA  ILE A 147      18.026  16.170  46.664  1.00 31.01           C  \nATOM    127  C   ILE A 147      19.420  16.633  46.233  1.00 30.58           C  \nATOM    128  O   ILE A 147      19.786  16.532  45.067  1.00 29.91           O  \nATOM    129  CB  ILE A 147      17.984  14.624  46.780  1.00 30.93           C  \nATOM    130  CG1 ILE A 147      16.552  14.146  47.056  1.00 31.73           C  \nATOM    131  CG2 ILE A 147      18.850  14.176  47.954  1.00 32.51           C  \nATOM    132  CD1 ILE A 147      16.366  12.582  47.093  1.00 31.43           C  \nATOM    133  N   HIS A 148      20.194  17.179  47.163  1.00 30.55           N  \nATOM    134  CA  HIS A 148      21.467  17.674  46.737  1.00 30.19           C  \nATOM    135  C   HIS A 148      22.369  16.534  46.271  1.00 31.37           C  \nATOM    136  O   HIS A 148      22.805  16.565  45.126  1.00 30.65           O  \nATOM    137  CB  HIS A 148      22.164  18.528  47.779  1.00 29.45           C  \nATOM    138  CG  HIS A 148      23.371  19.206  47.218  1.00 28.03           C  \nATOM    139  ND1 HIS A 148      24.554  18.537  46.988  1.00 25.39           N  \nATOM    140  CD2 HIS A 148      23.545  20.454  46.726  1.00 24.89           C  \nATOM    141  CE1 HIS A 148      25.421  19.359  46.428  1.00 25.11           C  \nATOM    142  NE2 HIS A 148      24.838  20.531  46.271  1.00 23.48           N  \nATOM    143  N   ARG A 149      22.654  15.566  47.167  1.00 31.92           N  \nATOM    144  CA  ARG A 149      23.405  14.350  46.855  1.00 33.86           C  \nATOM    145  C   ARG A 149      24.917  14.468  46.929  1.00 32.80           C  \nATOM    146  O   ARG A 149      25.584  13.484  46.944  1.00 32.16           O  \nATOM    147  CB  ARG A 149      23.025  13.831  45.462  1.00 34.01           C  \nATOM    148  CG  ARG A 149      22.128  12.612  45.445  1.00 37.27           C  \nATOM    149  CD  ARG A 149      21.990  12.065  44.031  1.00 39.33           C  \nATOM    150  NE  ARG A 149      21.408  10.705  44.033  1.00 51.28           N  \nATOM    151  CZ  ARG A 149      20.093  10.417  44.040  1.00 53.60           C  \nATOM    152  NH1 ARG A 149      19.148  11.364  44.061  1.00 53.18           N  \nATOM    153  NH2 ARG A 149      19.712   9.151  44.029  1.00 56.20           N  \nATOM    154  N   ASP A 150      25.461  15.672  46.916  1.00 32.96           N  \nATOM    155  CA  ASP A 150      26.918  15.829  46.854  1.00 33.88           C  \nATOM    156  C   ASP A 150      27.396  16.926  47.781  1.00 32.47           C  \nATOM    157  O   ASP A 150      28.281  17.700  47.373  1.00 32.54           O  \nATOM    158  CB  ASP A 150      27.392  16.289  45.450  1.00 35.10           C  \nATOM    159  CG  ASP A 150      26.810  15.466  44.304  1.00 40.35           C  \nATOM    160  OD1 ASP A 150      26.011  16.031  43.503  1.00 44.87           O  \nATOM    161  OD2 ASP A 150      27.165  14.265  44.191  1.00 45.34           O  \nATOM    162  N   ILE A 166      24.871  27.176  49.256  1.00 31.07           N  \nATOM    163  CA  ILE A 166      24.983  25.835  48.690  1.00 30.71           C  \nATOM    164  C   ILE A 166      25.088  25.881  47.153  1.00 31.28           C  \nATOM    165  O   ILE A 166      24.268  26.519  46.476  1.00 29.72           O  \nATOM    166  CB  ILE A 166      23.761  24.959  49.099  1.00 30.98           C  \nATOM    167  CG1 ILE A 166      23.649  24.855  50.629  1.00 29.48           C  \nATOM    168  CG2 ILE A 166      23.878  23.539  48.503  1.00 30.49           C  \nATOM    169  CD1 ILE A 166      22.277  24.471  51.130  1.00 24.42           C  \nATOM    170  N   LEU A 167      26.101  25.209  46.609  1.00 32.53           N  \nATOM    171  CA  LEU A 167      26.199  24.994  45.171  1.00 33.98           C  \nATOM    172  C   LEU A 167      26.459  23.533  44.831  1.00 35.45           C  \nATOM    173  O   LEU A 167      26.365  22.624  45.667  1.00 35.12           O  \nATOM    174  CB  LEU A 167      27.347  25.793  44.575  1.00 33.91           C  \nATOM    175  CG  LEU A 167      28.098  26.894  45.322  1.00 34.84           C  \nATOM    176  CD1 LEU A 167      29.189  26.228  46.061  1.00 34.86           C  \nATOM    177  CD2 LEU A 167      28.749  27.922  44.366  1.00 34.47           C  \nATOM    178  N   ASP A 168      26.805  23.337  43.572  1.00 37.41           N  \nATOM    179  CA  ASP A 168      27.301  22.086  43.067  1.00 39.13           C  \nATOM    180  C   ASP A 168      28.183  22.441  41.881  1.00 40.58           C  \nATOM    181  O   ASP A 168      27.775  23.176  40.992  1.00 39.48           O  \nATOM    182  CB  ASP A 168      26.151  21.159  42.648  1.00 39.22           C  \nATOM    183  CG  ASP A 168      26.562  19.694  42.600  1.00 39.41           C  \nATOM    184  OD1 ASP A 168      27.740  19.388  42.838  1.00 42.68           O  \nATOM    185  OD2 ASP A 168      25.720  18.828  42.334  1.00 41.44           O  \nATOM    186  N   PHE A 169      29.412  21.946  41.931  1.00 43.72           N  \nATOM    187  CA  PHE A 169      30.410  22.086  40.883  1.00 47.32           C  \nATOM    188  C   PHE A 169      30.056  21.092  39.795  1.00 47.88           C  \nATOM    189  O   PHE A 169      30.770  20.099  39.631  1.00 49.04           O  \nATOM    190  CB  PHE A 169      31.810  21.715  41.425  1.00 48.88           C  \nATOM    191  CG  PHE A 169      32.618  22.898  41.975  1.00 52.99           C  \nATOM    192  CD1 PHE A 169      33.969  23.095  41.566  1.00 55.72           C  \nATOM    193  CD2 PHE A 169      32.057  23.803  42.894  1.00 55.41           C  \nATOM    194  CE1 PHE A 169      34.757  24.171  42.060  1.00 55.30           C  \nATOM    195  CE2 PHE A 169      32.835  24.904  43.404  1.00 56.50           C  \nATOM    196  CZ  PHE A 169      34.196  25.076  42.980  1.00 54.67           C  \nHETATM  197  C1  STI A   1      35.295  30.358  42.311  1.00 53.40           C  \nHETATM  198  C6  STI A   1      34.401  29.459  41.722  1.00 53.35           C  \nHETATM  199  C5  STI A   1      33.025  29.728  41.735  1.00 51.77           C  \nHETATM  200  C4  STI A   1      32.589  30.909  42.356  1.00 53.58           C  \nHETATM  201  N3  STI A   1      33.483  31.755  42.918  1.00 54.24           N  \nHETATM  202  C2  STI A   1      34.805  31.510  42.912  1.00 52.32           C  \nHETATM  203  C7  STI A   1      32.044  28.755  41.120  1.00 52.52           C  \nHETATM  204  C12 STI A   1      32.404  27.425  40.850  1.00 50.22           C  \nHETATM  205  C11 STI A   1      31.498  26.536  40.283  1.00 49.39           C  \nHETATM  206  N10 STI A   1      30.265  26.957  40.009  1.00 48.95           N  \nHETATM  207  C9  STI A   1      29.927  28.241  40.281  1.00 48.62           C  \nHETATM  208  N8  STI A   1      30.776  29.130  40.835  1.00 50.35           N  \nHETATM  209  N13 STI A   1      28.703  28.690  40.025  1.00 46.82           N  \nHETATM  210  C14 STI A   1      27.832  27.996  39.280  1.00 44.59           C  \nHETATM  211  C19 STI A   1      27.705  28.441  37.885  1.00 43.06           C  \nHETATM  212  C18 STI A   1      26.793  27.764  37.106  1.00 41.96           C  \nHETATM  213  C17 STI A   1      26.055  26.702  37.639  1.00 44.35           C  \nHETATM  214  C16 STI A   1      26.149  26.246  38.966  1.00 44.16           C  \nHETATM  215  C15 STI A   1      27.060  26.933  39.791  1.00 43.92           C  \nHETATM  216  N21 STI A   1      25.348  25.177  39.366  1.00 43.50           N  \nHETATM  217  C22 STI A   1      25.083  24.857  40.643  1.00 44.98           C  \nHETATM  218  C23 STI A   1      24.133  23.794  41.149  1.00 45.59           C  \nHETATM  219  C25 STI A   1      23.941  22.588  40.464  1.00 45.53           C  \nHETATM  220  C26 STI A   1      23.097  21.642  41.068  1.00 47.63           C  \nHETATM  221  C27 STI A   1      22.445  21.861  42.327  1.00 47.35           C  \nHETATM  222  C28 STI A   1      22.638  23.066  43.005  1.00 44.91           C  \nHETATM  223  C29 STI A   1      23.493  24.005  42.402  1.00 45.37           C  \nHETATM  224  C46 STI A   1      21.527  20.828  42.915  1.00 45.88           C  \nHETATM  225  N48 STI A   1      21.384  19.670  42.405  1.00 44.42           N  \nHETATM  226  C53 STI A   1      22.586  19.116  41.788  1.00 43.20           C  \nHETATM  227  C52 STI A   1      22.818  17.733  42.385  1.00 43.01           C  \nHETATM  228  N51 STI A   1      21.670  16.894  41.981  1.00 41.53           N  \nHETATM  229  C54 STI A   1      21.941  15.493  41.681  1.00 37.48           C  \nHETATM  230  C50 STI A   1      20.314  17.426  41.887  1.00 39.94           C  \nHETATM  231  C49 STI A   1      20.193  18.821  42.557  1.00 43.86           C  \nHETATM  232  O29 STI A   1      25.703  25.362  41.565  1.00 44.55           O  \nHETATM  233  C20 STI A   1      28.542  29.592  37.369  1.00 41.84           C  \nHETATM  234  O   HOH A 358      16.798  15.782  43.285  1.00 25.43           O  \nHETATM  235  O   HOH A 439      29.247  24.561  38.626  1.00 45.20           O  \nTER     236      HOH A 439                                                       \nEND   \n",
                    "binary": false
                  }
                ],
                "kwargs": {
                  "ext": "pdb",
                  "defaultRepresentation": true
                }
              },
              {
                "target": "Stage",
                "type": "call_method",
                "methodName": "loadFile",
                "reconstruc_color_scheme": false,
                "args": [
                  {
                    "type": "blob",
                    "data": "ATOM      1  N   LEU A  14      12.151  23.286  40.112  1.00 59.02           N  \nATOM      2  CA  LEU A  14      13.032  22.130  40.213  1.00 66.31           C  \nATOM      3  C   LEU A  14      13.219  21.751  41.679  1.00 67.58           C  \nATOM      4  O   LEU A  14      13.137  20.579  42.035  1.00 73.32           O  \nATOM      5  CB  LEU A  14      14.385  22.388  39.515  1.00 64.37           C  \nATOM      6  CG  LEU A  14      14.328  22.454  37.984  1.00 62.48           C  \nATOM      7  CD1 LEU A  14      15.683  22.782  37.359  1.00 62.31           C  \nATOM      8  CD2 LEU A  14      13.767  21.160  37.420  1.00 62.24           C  \nATOM      9  N   VAL A  22      14.891  27.098  42.694  1.00 55.89           N  \nATOM     10  CA  VAL A  22      15.484  26.837  41.402  1.00 57.22           C  \nATOM     11  C   VAL A  22      14.413  26.311  40.458  1.00 54.38           C  \nATOM     12  O   VAL A  22      13.617  25.458  40.843  1.00 51.27           O  \nATOM     13  CB  VAL A  22      16.647  25.830  41.516  1.00 57.52           C  \nATOM     14  CG1 VAL A  22      17.357  25.674  40.191  1.00 54.82           C  \nATOM     15  CG2 VAL A  22      17.635  26.308  42.573  1.00 62.08           C  \nATOM     16  N   ALA A  35      18.807  26.531  33.959  1.00 49.74           N  \nATOM     17  CA  ALA A  35      18.417  26.472  35.378  1.00 47.57           C  \nATOM     18  C   ALA A  35      18.566  27.847  35.951  1.00 45.19           C  \nATOM     19  O   ALA A  35      19.508  28.551  35.640  1.00 45.47           O  \nATOM     20  CB  ALA A  35      19.293  25.514  36.159  1.00 45.75           C  \nATOM     21  N   VAL A  36      17.642  28.207  36.828  1.00 49.92           N  \nATOM     22  CA  VAL A  36      17.522  29.558  37.308  1.00 46.86           C  \nATOM     23  C   VAL A  36      17.398  29.517  38.810  1.00 50.48           C  \nATOM     24  O   VAL A  36      16.456  28.933  39.340  1.00 47.72           O  \nATOM     25  CB  VAL A  36      16.273  30.223  36.733  1.00 49.56           C  \nATOM     26  CG1 VAL A  36      16.169  31.668  37.209  1.00 49.60           C  \nATOM     27  CG2 VAL A  36      16.274  30.145  35.212  1.00 47.98           C  \nATOM     28  N   LYS A  37      18.362  30.132  39.487  1.00 53.09           N  \nATOM     29  CA  LYS A  37      18.349  30.204  40.928  1.00 53.83           C  \nATOM     30  C   LYS A  37      17.957  31.605  41.360  1.00 54.17           C  \nATOM     31  O   LYS A  37      18.473  32.600  40.852  1.00 54.79           O  \nATOM     32  CB  LYS A  37      19.709  29.837  41.506  1.00 54.74           C  \nATOM     33  CG  LYS A  37      19.716  29.616  43.019  1.00 57.64           C  \nATOM     34  CD  LYS A  37      21.062  30.016  43.597  1.00 61.96           C  \nATOM     35  CE  LYS A  37      21.121  29.837  45.098  1.00 68.78           C  \nATOM     36  NZ  LYS A  37      21.530  28.451  45.402  1.00 70.23           N  \nATOM     37  N   GLU A  52      28.260  34.164  44.942  1.00 61.15           N  \nATOM     38  CA  GLU A  52      28.250  32.873  44.239  1.00 61.57           C  \nATOM     39  C   GLU A  52      28.553  33.021  42.731  1.00 59.67           C  \nATOM     40  O   GLU A  52      29.365  32.269  42.173  1.00 57.93           O  \nATOM     41  CB  GLU A  52      26.909  32.172  44.411  1.00 58.98           C  \nATOM     42  CG  GLU A  52      26.838  30.905  43.579  1.00 64.64           C  \nATOM     43  CD  GLU A  52      25.791  29.927  44.053  1.00 64.15           C  \nATOM     44  OE1 GLU A  52      24.831  30.348  44.748  1.00 65.22           O  \nATOM     45  OE2 GLU A  52      25.934  28.734  43.696  1.00 59.81           O  \nATOM     46  N   ILE A  55      32.451  34.072  42.144  1.00 57.07           N  \nATOM     47  CA  ILE A  55      33.299  32.863  42.107  1.00 58.17           C  \nATOM     48  C   ILE A  55      33.210  32.150  40.752  1.00 54.59           C  \nATOM     49  O   ILE A  55      34.228  31.902  40.088  1.00 54.02           O  \nATOM     50  CB  ILE A  55      32.877  31.895  43.228  1.00 61.77           C  \nATOM     51  CG1 ILE A  55      33.335  32.453  44.575  1.00 65.37           C  \nATOM     52  CG2 ILE A  55      33.446  30.500  43.022  1.00 60.75           C  \nATOM     53  CD1 ILE A  55      32.528  31.945  45.761  1.00 67.78           C  \nATOM     54  N   MET A  56      31.975  31.879  40.337  1.00 50.67           N  \nATOM     55  CA  MET A  56      31.673  31.164  39.090  1.00 53.32           C  \nATOM     56  C   MET A  56      32.220  31.811  37.809  1.00 58.41           C  \nATOM     57  O   MET A  56      32.506  31.113  36.831  1.00 53.31           O  \nATOM     58  CB  MET A  56      30.156  30.982  38.956  1.00 55.93           C  \nATOM     59  CG  MET A  56      29.547  30.002  39.956  1.00 52.94           C  \nATOM     60  SD  MET A  56      27.748  29.816  39.845  1.00 55.01           S  \nATOM     61  CE  MET A  56      27.580  28.791  38.392  1.00 54.45           C  \nATOM     62  N   LEU A  59      35.781  30.412  36.871  1.00 52.77           N  \nATOM     63  CA  LEU A  59      35.930  28.981  36.698  1.00 50.78           C  \nATOM     64  C   LEU A  59      35.388  28.550  35.348  1.00 53.01           C  \nATOM     65  O   LEU A  59      34.267  28.895  34.985  1.00 51.32           O  \nATOM     66  CB  LEU A  59      35.151  28.256  37.786  1.00 50.09           C  \nATOM     67  CG  LEU A  59      35.583  28.495  39.242  1.00 49.66           C  \nATOM     68  CD1 LEU A  59      34.634  27.765  40.183  1.00 52.34           C  \nATOM     69  CD2 LEU A  59      37.001  28.021  39.470  1.00 52.73           C  \nATOM     70  N   VAL A  65      29.559  23.004  36.221  1.00 48.05           N  \nATOM     71  CA  VAL A  65      28.392  23.748  35.719  1.00 57.55           C  \nATOM     72  C   VAL A  65      28.775  25.154  35.264  1.00 54.92           C  \nATOM     73  O   VAL A  65      29.325  25.933  36.044  1.00 54.99           O  \nATOM     74  CB  VAL A  65      27.249  23.908  36.766  1.00 57.82           C  \nATOM     75  CG1 VAL A  65      26.452  22.630  36.875  1.00 63.06           C  \nATOM     76  CG2 VAL A  65      27.788  24.352  38.121  1.00 61.90           C  \nATOM     77  N   ILE A  79      20.488  34.001  39.279  1.00 60.42           N  \nATOM     78  CA  ILE A  79      21.714  33.411  38.733  1.00 52.95           C  \nATOM     79  C   ILE A  79      21.287  32.258  37.794  1.00 51.86           C  \nATOM     80  O   ILE A  79      20.518  31.358  38.178  1.00 52.68           O  \nATOM     81  CB  ILE A  79      22.613  32.853  39.862  1.00 52.90           C  \nATOM     82  CG1 ILE A  79      22.999  33.966  40.833  1.00 52.15           C  \nATOM     83  CG2 ILE A  79      23.853  32.158  39.293  1.00 52.52           C  \nATOM     84  CD1 ILE A  79      23.641  33.457  42.108  1.00 48.43           C  \nATOM     85  N   ILE A  80      21.809  32.287  36.577  1.00 49.10           N  \nATOM     86  CA  ILE A  80      21.389  31.400  35.489  1.00 51.11           C  \nATOM     87  C   ILE A  80      22.566  30.515  35.029  1.00 51.62           C  \nATOM     88  O   ILE A  80      23.663  31.012  34.802  1.00 47.48           O  \nATOM     89  CB  ILE A  80      20.919  32.280  34.312  1.00 52.42           C  \nATOM     90  CG1 ILE A  80      19.876  33.272  34.838  1.00 54.00           C  \nATOM     91  CG2 ILE A  80      20.429  31.434  33.139  1.00 51.58           C  \nATOM     92  CD1 ILE A  80      18.862  33.757  33.839  1.00 57.27           C  \nATOM     93  N   THR A  81      22.347  29.209  34.904  1.00 49.37           N  \nATOM     94  CA  THR A  81      23.381  28.306  34.421  1.00 48.26           C  \nATOM     95  C   THR A  81      22.782  27.405  33.361  1.00 50.59           C  \nATOM     96  O   THR A  81      21.571  27.418  33.144  1.00 55.19           O  \nATOM     97  CB  THR A  81      23.941  27.442  35.568  1.00 49.53           C  \nATOM     98  OG1 THR A  81      22.998  26.426  35.912  1.00 46.27           O  \nATOM     99  CG2 THR A  81      24.245  28.302  36.802  1.00 47.08           C  \nATOM    100  N   GLU A  82      23.616  26.617  32.695  1.00 48.95           N  \nATOM    101  CA  GLU A  82      23.106  25.540  31.848  1.00 49.07           C  \nATOM    102  C   GLU A  82      22.205  24.584  32.628  1.00 47.75           C  \nATOM    103  O   GLU A  82      22.318  24.465  33.859  1.00 42.82           O  \nATOM    104  CB  GLU A  82      24.250  24.727  31.241  1.00 53.04           C  \nATOM    105  CG  GLU A  82      25.082  23.963  32.265  1.00 53.73           C  \nATOM    106  CD  GLU A  82      26.287  23.265  31.633  1.00 59.23           C  \nATOM    107  OE1 GLU A  82      26.125  22.548  30.614  1.00 63.10           O  \nATOM    108  OE2 GLU A  82      27.410  23.444  32.145  1.00 58.25           O  \nATOM    109  N   TYR A  83      21.322  23.920  31.881  1.00 45.57           N  \nATOM    110  CA  TYR A  83      20.433  22.904  32.387  1.00 49.49           C  \nATOM    111  C   TYR A  83      20.953  21.545  31.936  1.00 49.24           C  \nATOM    112  O   TYR A  83      21.393  21.381  30.803  1.00 51.50           O  \nATOM    113  CB  TYR A  83      19.016  23.150  31.858  1.00 54.45           C  \nATOM    114  CG  TYR A  83      18.003  22.110  32.283  1.00 56.97           C  \nATOM    115  CD1 TYR A  83      17.383  22.171  33.539  1.00 59.39           C  \nATOM    116  CD2 TYR A  83      17.678  21.057  31.432  1.00 62.87           C  \nATOM    117  CE1 TYR A  83      16.461  21.195  33.931  1.00 58.97           C  \nATOM    118  CE2 TYR A  83      16.770  20.084  31.810  1.00 66.35           C  \nATOM    119  CZ  TYR A  83      16.163  20.154  33.060  1.00 63.48           C  \nATOM    120  OH  TYR A  83      15.257  19.168  33.408  1.00 66.11           O  \nATOM    121  N   MET A  84      20.904  20.562  32.821  1.00 51.09           N  \nATOM    122  CA  MET A  84      21.422  19.217  32.513  1.00 49.75           C  \nATOM    123  C   MET A  84      20.261  18.237  32.373  1.00 50.79           C  \nATOM    124  O   MET A  84      19.558  17.952  33.335  1.00 53.45           O  \nATOM    125  CB  MET A  84      22.392  18.786  33.599  1.00 54.47           C  \nATOM    126  CG  MET A  84      23.563  19.757  33.745  1.00 56.09           C  \nATOM    127  SD  MET A  84      24.714  19.648  32.345  1.00 64.86           S  \nATOM    128  CE  MET A  84      25.755  18.291  32.853  1.00 65.21           C  \nATOM    129  N   GLY A  87      19.356  15.445  34.958  1.00 53.03           N  \nATOM    130  CA  GLY A  87      19.241  15.762  36.381  1.00 52.80           C  \nATOM    131  C   GLY A  87      20.422  15.317  37.228  1.00 50.85           C  \nATOM    132  O   GLY A  87      21.535  15.253  36.744  1.00 45.22           O  \nATOM    133  N   LEU A 120      39.150  22.678  40.243  1.00 48.01           N  \nATOM    134  CA  LEU A 120      38.906  23.464  41.466  1.00 46.96           C  \nATOM    135  C   LEU A 120      40.104  23.544  42.389  1.00 49.80           C  \nATOM    136  O   LEU A 120      40.509  24.635  42.787  1.00 51.26           O  \nATOM    137  CB  LEU A 120      37.765  22.877  42.272  1.00 49.68           C  \nATOM    138  CG  LEU A 120      36.361  23.142  41.744  1.00 54.41           C  \nATOM    139  CD1 LEU A 120      35.363  22.728  42.809  1.00 58.50           C  \nATOM    140  CD2 LEU A 120      36.155  24.615  41.377  1.00 54.84           C  \nATOM    141  N   PHE A 125      40.315  26.469  45.122  1.00 50.73           N  \nATOM    142  CA  PHE A 125      39.019  26.406  45.763  1.00 52.31           C  \nATOM    143  C   PHE A 125      38.844  25.029  46.395  1.00 53.75           C  \nATOM    144  O   PHE A 125      39.595  24.105  46.103  1.00 49.53           O  \nATOM    145  CB  PHE A 125      37.883  26.693  44.772  1.00 55.30           C  \nATOM    146  CG  PHE A 125      37.871  28.110  44.249  1.00 59.30           C  \nATOM    147  CD1 PHE A 125      37.159  29.108  44.908  1.00 58.38           C  \nATOM    148  CD2 PHE A 125      38.562  28.442  43.094  1.00 63.42           C  \nATOM    149  CE1 PHE A 125      37.139  30.400  44.424  1.00 61.37           C  \nATOM    150  CE2 PHE A 125      38.544  29.741  42.604  1.00 65.19           C  \nATOM    151  CZ  PHE A 125      37.834  30.717  43.271  1.00 60.85           C  \nATOM    152  N   ILE A 126      37.861  24.966  47.298  1.00 49.89           N  \nATOM    153  CA  ILE A 126      37.373  23.766  47.986  1.00 54.70           C  \nATOM    154  C   ILE A 126      35.878  23.710  47.681  1.00 47.55           C  \nATOM    155  O   ILE A 126      35.258  24.726  47.377  1.00 53.11           O  \nATOM    156  CB  ILE A 126      37.620  23.886  49.522  1.00 57.78           C  \nATOM    157  CG1 ILE A 126      38.938  23.227  49.891  1.00 61.20           C  \nATOM    158  CG2 ILE A 126      36.503  23.285  50.371  1.00 63.68           C  \nATOM    159  CD1 ILE A 126      40.148  23.886  49.275  1.00 63.91           C  \nATOM    160  N   HIS A 127      35.303  22.524  47.727  1.00 46.61           N  \nATOM    161  CA  HIS A 127      33.886  22.350  47.491  1.00 45.75           C  \nATOM    162  C   HIS A 127      33.116  22.485  48.792  1.00 47.12           C  \nATOM    163  O   HIS A 127      32.236  23.362  48.914  1.00 51.63           O  \nATOM    164  CB  HIS A 127      33.620  20.987  46.843  1.00 43.84           C  \nATOM    165  CG  HIS A 127      32.283  20.896  46.196  1.00 46.59           C  \nATOM    166  ND1 HIS A 127      31.099  20.951  46.907  1.00 49.81           N  \nATOM    167  CD2 HIS A 127      31.935  20.787  44.893  1.00 44.45           C  \nATOM    168  CE1 HIS A 127      30.082  20.860  46.070  1.00 50.12           C  \nATOM    169  NE2 HIS A 127      30.563  20.761  44.844  1.00 50.09           N  \nATOM    170  N   ARG A 128      33.444  21.593  49.731  1.00 45.13           N  \nATOM    171  CA  ARG A 128      32.931  21.564  51.103  1.00 52.93           C  \nATOM    172  C   ARG A 128      31.620  20.743  51.241  1.00 48.83           C  \nATOM    173  O   ARG A 128      31.178  20.445  52.348  1.00 52.24           O  \nATOM    174  CB  ARG A 128      32.790  22.996  51.681  1.00 58.02           C  \nATOM    175  CG  ARG A 128      33.330  23.167  53.089  1.00 66.81           C  \nATOM    176  CD  ARG A 128      32.629  24.278  53.872  1.00 75.45           C  \nATOM    177  NE  ARG A 128      32.217  23.842  55.221  1.00 78.48           N  \nATOM    178  CZ  ARG A 128      31.183  23.031  55.497  1.00 78.21           C  \nATOM    179  NH1 ARG A 128      30.420  22.522  54.526  1.00 76.72           N  \nATOM    180  NH2 ARG A 128      30.913  22.707  56.760  1.00 76.45           N  \nATOM    181  N   LEU A 136      25.609  16.673  38.283  1.00 45.32           N  \nATOM    182  CA  LEU A 136      24.531  16.649  37.289  1.00 46.11           C  \nATOM    183  C   LEU A 136      24.898  15.861  36.017  1.00 47.82           C  \nATOM    184  O   LEU A 136      26.054  15.867  35.569  1.00 45.14           O  \nATOM    185  CB  LEU A 136      24.133  18.082  36.900  1.00 48.15           C  \nATOM    186  CG  LEU A 136      23.545  18.969  37.994  1.00 48.92           C  \nATOM    187  CD1 LEU A 136      23.389  20.361  37.450  1.00 50.37           C  \nATOM    188  CD2 LEU A 136      22.213  18.433  38.504  1.00 51.14           C  \nATOM    189  N   VAL A 145      30.118  18.730  38.084  1.00 43.32           N  \nATOM    190  CA  VAL A 145      30.047  19.035  39.498  1.00 45.84           C  \nATOM    191  C   VAL A 145      29.354  20.378  39.673  1.00 46.71           C  \nATOM    192  O   VAL A 145      29.722  21.348  39.018  1.00 46.38           O  \nATOM    193  CB  VAL A 145      31.443  19.192  40.124  1.00 47.39           C  \nATOM    194  CG1 VAL A 145      31.320  19.459  41.619  1.00 49.96           C  \nATOM    195  CG2 VAL A 145      32.312  17.979  39.841  1.00 48.43           C  \nATOM    196  N   ALA A 146      28.396  20.434  40.590  1.00 43.73           N  \nATOM    197  CA  ALA A 146      27.714  21.658  40.945  1.00 47.78           C  \nATOM    198  C   ALA A 146      27.700  21.758  42.473  1.00 49.18           C  \nATOM    199  O   ALA A 146      28.224  20.872  43.162  1.00 50.24           O  \nATOM    200  CB  ALA A 146      26.302  21.630  40.402  1.00 47.30           C  \nATOM    201  N   ASP A 147      27.118  22.837  42.982  1.00 50.94           N  \nATOM    202  CA  ASP A 147      26.983  23.090  44.430  1.00 53.76           C  \nATOM    203  C   ASP A 147      25.626  23.730  44.728  1.00 56.93           C  \nATOM    204  O   ASP A 147      25.440  24.934  44.504  1.00 61.50           O  \nATOM    205  CB  ASP A 147      28.093  24.014  44.925  1.00 53.69           C  \nATOM    206  CG  ASP A 147      28.195  24.055  46.464  1.00 59.19           C  \nATOM    207  OD1 ASP A 147      27.446  23.338  47.188  1.00 59.26           O  \nATOM    208  OD2 ASP A 147      29.061  24.802  46.953  1.00 65.88           O  \nATOM    209  N   PHE A 148      24.680  22.938  45.221  1.00 55.95           N  \nATOM    210  CA  PHE A 148      23.353  23.467  45.523  1.00 64.84           C  \nATOM    211  C   PHE A 148      23.263  23.957  46.974  1.00 74.59           C  \nATOM    212  O   PHE A 148      23.148  25.161  47.199  1.00 81.78           O  \nATOM    213  CB  PHE A 148      22.242  22.445  45.210  1.00 67.75           C  \nATOM    214  CG  PHE A 148      22.416  21.715  43.901  1.00 62.49           C  \nATOM    215  CD1 PHE A 148      23.028  22.321  42.809  1.00 60.72           C  \nATOM    216  CD2 PHE A 148      21.965  20.404  43.770  1.00 64.34           C  \nATOM    217  CE1 PHE A 148      23.188  21.639  41.622  1.00 60.82           C  \nATOM    218  CE2 PHE A 148      22.123  19.718  42.577  1.00 62.07           C  \nATOM    219  CZ  PHE A 148      22.736  20.335  41.505  1.00 58.12           C  \nHETATM  220  C1  STI A1265      18.535  19.682  37.214  1.00 47.37           C  \nHETATM  221  C6  STI A1265      19.004  20.580  38.153  1.00 47.83           C  \nHETATM  222  C5  STI A1265      19.920  21.575  37.783  1.00 49.30           C  \nHETATM  223  C4  STI A1265      20.307  21.642  36.441  1.00 51.43           C  \nHETATM  224  N3  STI A1265      19.835  20.739  35.543  1.00 54.80           N  \nHETATM  225  C2  STI A1265      18.960  19.784  35.900  1.00 49.70           C  \nHETATM  226  C7  STI A1265      20.426  22.586  38.772  1.00 48.01           C  \nHETATM  227  C12 STI A1265      20.027  22.647  40.102  1.00 49.07           C  \nHETATM  228  C11 STI A1265      20.537  23.648  40.929  1.00 53.22           C  \nHETATM  229  N10 STI A1265      21.381  24.579  40.478  1.00 49.44           N  \nHETATM  230  C9  STI A1265      21.740  24.514  39.199  1.00 45.36           C  \nHETATM  231  N8  STI A1265      21.279  23.539  38.381  1.00 45.10           N  \nHETATM  232  N13 STI A1265      22.590  25.300  38.551  1.00 49.03           N  \nHETATM  233  C14 STI A1265      23.229  26.317  39.181  1.00 48.68           C  \nHETATM  234  C19 STI A1265      22.468  27.560  39.472  1.00 48.05           C  \nHETATM  235  C18 STI A1265      23.028  28.533  40.285  1.00 45.95           C  \nHETATM  236  C17 STI A1265      24.268  28.320  40.867  1.00 49.22           C  \nHETATM  237  C16 STI A1265      24.995  27.133  40.647  1.00 49.49           C  \nHETATM  238  C15 STI A1265      24.460  26.129  39.816  1.00 50.39           C  \nHETATM  239  N21 STI A1265      26.189  27.050  41.301  1.00 46.02           N  \nHETATM  240  C22 STI A1265      27.082  26.034  41.314  1.00 48.38           C  \nHETATM  241  C23 STI A1265      28.449  26.254  41.901  1.00 47.37           C  \nHETATM  242  C25 STI A1265      28.753  27.362  42.664  1.00 47.00           C  \nHETATM  243  C26 STI A1265      30.038  27.528  43.161  1.00 53.36           C  \nHETATM  244  C27 STI A1265      31.030  26.584  42.913  1.00 53.91           C  \nHETATM  245  C28 STI A1265      30.731  25.470  42.135  1.00 51.34           C  \nHETATM  246  C29 STI A1265      29.445  25.323  41.623  1.00 48.93           C  \nHETATM  247  C46 STI A1265      32.421  26.791  43.452  1.00 53.78           C  \nHETATM  248  N48 STI A1265      32.735  26.368  44.842  1.00 58.53           N  \nHETATM  249  C53 STI A1265      33.945  27.095  45.332  1.00 51.92           C  \nHETATM  250  C52 STI A1265      33.978  27.541  46.806  1.00 54.48           C  \nHETATM  251  N51 STI A1265      32.962  26.920  47.707  1.00 56.75           N  \nHETATM  252  C54 STI A1265      33.488  26.577  49.051  1.00 57.07           C  \nHETATM  253  C50 STI A1265      32.151  25.846  47.102  1.00 56.76           C  \nHETATM  254  C49 STI A1265      31.606  26.369  45.791  1.00 56.75           C  \nHETATM  255  O29 STI A1265      26.897  24.932  40.840  1.00 46.85           O  \nHETATM  256  C20 STI A1265      21.125  27.780  38.821  1.00 48.37           C  \nHETATM  257  O   HOH A1007      23.938  27.380  43.788  1.00 57.67           O  \nHETATM  258  O   HOH A1014      21.796  26.060  42.625  1.00 50.00           O  \nHETATM  259  O   HOH A1030      32.882  27.202  52.815  1.00 59.70           O  \nHETATM  260  O   HOH A1051      17.436  15.744  39.326  1.00 53.49           O  \nTER     261      HOH A1051                                                       \nEND   \n",
                    "binary": false
                  }
                ],
                "kwargs": {
                  "ext": "pdb",
                  "defaultRepresentation": true
                }
              },
              {
                "target": "Stage",
                "type": "call_method",
                "methodName": "loadFile",
                "reconstruc_color_scheme": false,
                "args": [
                  {
                    "type": "blob",
                    "data": "ATOM      1  N   LEU A 588      36.272  21.651  33.097  1.00 42.87           N  \nATOM      2  CA  LEU A 588      35.209  20.713  33.446  1.00 41.56           C  \nATOM      3  C   LEU A 588      33.942  20.964  32.631  1.00 43.02           C  \nATOM      4  O   LEU A 588      33.087  20.089  32.503  1.00 41.70           O  \nATOM      5  CB  LEU A 588      34.895  20.816  34.937  1.00 40.37           C  \nATOM      6  CG  LEU A 588      36.094  20.616  35.864  1.00 40.93           C  \nATOM      7  CD1 LEU A 588      35.716  20.879  37.317  1.00 39.79           C  \nATOM      8  CD2 LEU A 588      36.661  19.216  35.690  1.00 41.05           C  \nATOM      9  N   VAL A 596      33.924  26.436  33.688  1.00 26.91           N  \nATOM     10  CA  VAL A 596      34.332  25.910  34.977  1.00 26.44           C  \nATOM     11  C   VAL A 596      35.631  25.141  34.795  1.00 27.30           C  \nATOM     12  O   VAL A 596      35.746  24.302  33.903  1.00 28.22           O  \nATOM     13  CB  VAL A 596      33.260  24.994  35.584  1.00 27.89           C  \nATOM     14  CG1 VAL A 596      33.819  24.226  36.769  1.00 28.14           C  \nATOM     15  CG2 VAL A 596      32.052  25.811  36.000  1.00 29.64           C  \nATOM     16  N   ALA A 614      36.416  23.289  42.144  1.00 32.14           N  \nATOM     17  CA  ALA A 614      35.896  23.769  40.868  1.00 29.15           C  \nATOM     18  C   ALA A 614      35.886  25.293  40.891  1.00 25.99           C  \nATOM     19  O   ALA A 614      35.511  25.903  41.897  1.00 26.86           O  \nATOM     20  CB  ALA A 614      34.497  23.232  40.629  1.00 20.15           C  \nATOM     21  N   VAL A 615      36.310  25.906  39.790  1.00 22.62           N  \nATOM     22  CA  VAL A 615      36.374  27.361  39.707  1.00 25.32           C  \nATOM     23  C   VAL A 615      35.626  27.888  38.485  1.00 26.57           C  \nATOM     24  O   VAL A 615      36.029  27.637  37.352  1.00 30.53           O  \nATOM     25  CB  VAL A 615      37.838  27.854  39.643  1.00 26.32           C  \nATOM     26  CG1 VAL A 615      37.894  29.381  39.606  1.00 25.26           C  \nATOM     27  CG2 VAL A 615      38.636  27.316  40.819  1.00 27.07           C  \nATOM     28  N   LYS A 616      34.538  28.617  38.716  1.00 25.92           N  \nATOM     29  CA  LYS A 616      33.810  29.256  37.624  1.00 30.03           C  \nATOM     30  C   LYS A 616      34.400  30.626  37.320  1.00 33.25           C  \nATOM     31  O   LYS A 616      34.725  31.390  38.229  1.00 35.62           O  \nATOM     32  CB  LYS A 616      32.320  29.389  37.953  1.00 34.97           C  \nATOM     33  CG  LYS A 616      31.493  29.962  36.809  1.00 41.51           C  \nATOM     34  CD  LYS A 616      30.000  29.931  37.103  1.00 46.55           C  \nATOM     35  CE  LYS A 616      29.461  28.511  37.073  1.00 50.00           C  \nATOM     36  NZ  LYS A 616      27.994  28.476  37.333  1.00 52.64           N  \nATOM     37  N   GLU A 633      25.295  35.571  41.202  1.00 40.52           N  \nATOM     38  CA  GLU A 633      25.356  34.154  41.516  1.00 39.99           C  \nATOM     39  C   GLU A 633      26.168  33.928  42.788  1.00 39.37           C  \nATOM     40  O   GLU A 633      25.768  33.165  43.663  1.00 40.27           O  \nATOM     41  CB  GLU A 633      25.967  33.384  40.345  1.00 39.09           C  \nATOM     42  CG  GLU A 633      26.029  31.887  40.554  1.00 41.52           C  \nATOM     43  CD  GLU A 633      26.544  31.151  39.334  1.00 44.84           C  \nATOM     44  OE1 GLU A 633      26.879  31.817  38.334  1.00 47.72           O  \nATOM     45  OE2 GLU A 633      26.611  29.906  39.377  1.00 46.05           O  \nATOM     46  N   ILE A 636      24.186  35.208  45.825  1.00 42.85           N  \nATOM     47  CA  ILE A 636      23.114  34.268  46.135  1.00 41.85           C  \nATOM     48  C   ILE A 636      23.643  33.057  46.898  1.00 41.01           C  \nATOM     49  O   ILE A 636      23.087  32.670  47.925  1.00 43.27           O  \nATOM     50  CB  ILE A 636      22.388  33.805  44.856  1.00 40.75           C  \nATOM     51  CG1 ILE A 636      21.643  34.977  44.218  1.00 41.34           C  \nATOM     52  CG2 ILE A 636      21.421  32.672  45.162  1.00 38.95           C  \nATOM     53  CD1 ILE A 636      20.950  34.625  42.925  1.00 42.61           C  \nATOM     54  N   MET A 637      24.726  32.473  46.397  1.00 37.31           N  \nATOM     55  CA  MET A 637      25.335  31.309  47.032  1.00 32.86           C  \nATOM     56  C   MET A 637      25.753  31.577  48.478  1.00 32.09           C  \nATOM     57  O   MET A 637      25.705  30.683  49.319  1.00 33.08           O  \nATOM     58  CB  MET A 637      26.526  30.817  46.208  1.00 30.70           C  \nATOM     59  CG  MET A 637      26.132  30.296  44.835  1.00 30.46           C  \nATOM     60  SD  MET A 637      27.534  29.794  43.817  1.00 35.79           S  \nATOM     61  CE  MET A 637      28.126  28.369  44.729  1.00 34.28           C  \nATOM     62  N   LEU A 640      22.428  31.651  50.520  1.00 47.11           N  \nATOM     63  CA  LEU A 640      21.810  30.335  50.663  1.00 49.03           C  \nATOM     64  C   LEU A 640      22.210  29.604  51.939  1.00 48.98           C  \nATOM     65  O   LEU A 640      21.366  29.031  52.629  1.00 50.70           O  \nATOM     66  CB  LEU A 640      22.149  29.457  49.456  1.00 51.12           C  \nATOM     67  CG  LEU A 640      21.477  29.828  48.139  1.00 52.58           C  \nATOM     68  CD1 LEU A 640      21.986  28.948  47.006  1.00 53.57           C  \nATOM     69  CD2 LEU A 640      19.973  29.708  48.288  1.00 52.16           C  \nATOM     70  N   VAL A 647      25.757  22.153  45.727  1.00 34.95           N  \nATOM     71  CA  VAL A 647      27.153  22.447  45.442  1.00 32.45           C  \nATOM     72  C   VAL A 647      27.555  23.677  46.235  1.00 32.85           C  \nATOM     73  O   VAL A 647      27.151  24.794  45.914  1.00 35.93           O  \nATOM     74  CB  VAL A 647      27.391  22.696  43.949  1.00 28.96           C  \nATOM     75  CG1 VAL A 647      28.853  23.022  43.701  1.00 28.39           C  \nATOM     76  CG2 VAL A 647      26.968  21.481  43.142  1.00 27.22           C  \nATOM     77  N   VAL A 661      34.785  32.235  41.124  1.00 32.08           N  \nATOM     78  CA  VAL A 661      33.903  31.600  42.095  1.00 31.14           C  \nATOM     79  C   VAL A 661      34.351  30.162  42.347  1.00 29.35           C  \nATOM     80  O   VAL A 661      34.428  29.356  41.421  1.00 27.11           O  \nATOM     81  CB  VAL A 661      32.432  31.632  41.625  1.00 28.56           C  \nATOM     82  CG1 VAL A 661      31.524  31.006  42.672  1.00 25.43           C  \nATOM     83  CG2 VAL A 661      32.005  33.066  41.327  1.00 25.73           C  \nATOM     84  N   THR A 663      34.015  26.448  44.191  1.00 31.59           N  \nATOM     85  CA  THR A 663      33.090  25.526  44.836  1.00 34.55           C  \nATOM     86  C   THR A 663      33.714  24.155  45.084  1.00 37.76           C  \nATOM     87  O   THR A 663      34.884  23.927  44.779  1.00 38.02           O  \nATOM     88  CB  THR A 663      31.802  25.347  44.006  1.00 35.19           C  \nATOM     89  OG1 THR A 663      32.116  24.733  42.750  1.00 35.33           O  \nATOM     90  CG2 THR A 663      31.137  26.690  43.759  1.00 35.60           C  \nATOM     91  N   GLU A 664      32.922  23.250  45.650  1.00 40.01           N  \nATOM     92  CA  GLU A 664      33.344  21.870  45.849  1.00 42.93           C  \nATOM     93  C   GLU A 664      33.614  21.205  44.504  1.00 43.80           C  \nATOM     94  O   GLU A 664      32.943  21.504  43.517  1.00 45.19           O  \nATOM     95  CB  GLU A 664      32.254  21.082  46.582  1.00 46.04           C  \nATOM     96  CG  GLU A 664      31.941  21.572  47.984  1.00 51.96           C  \nATOM     97  CD  GLU A 664      30.754  20.848  48.598  1.00 55.30           C  \nATOM     98  OE1 GLU A 664      30.960  20.064  49.548  1.00 58.00           O  \nATOM     99  OE2 GLU A 664      29.617  21.064  48.129  1.00 55.32           O  \nATOM    100  N   TYR A 665      34.596  20.307  44.468  1.00 41.69           N  \nATOM    101  CA  TYR A 665      34.834  19.483  43.286  1.00 39.41           C  \nATOM    102  C   TYR A 665      34.122  18.144  43.437  1.00 41.71           C  \nATOM    103  O   TYR A 665      34.295  17.453  44.443  1.00 41.01           O  \nATOM    104  CB  TYR A 665      36.332  19.256  43.068  1.00 35.28           C  \nATOM    105  CG  TYR A 665      36.655  18.347  41.899  1.00 34.74           C  \nATOM    106  CD1 TYR A 665      36.792  18.856  40.613  1.00 33.73           C  \nATOM    107  CD2 TYR A 665      36.833  16.978  42.083  1.00 36.54           C  \nATOM    108  CE1 TYR A 665      37.090  18.030  39.543  1.00 33.72           C  \nATOM    109  CE2 TYR A 665      37.130  16.145  41.021  1.00 36.57           C  \nATOM    110  CZ  TYR A 665      37.257  16.676  39.753  1.00 37.23           C  \nATOM    111  OH  TYR A 665      37.552  15.847  38.692  1.00 38.25           O  \nATOM    112  N   CYS A 666      33.327  17.777  42.436  1.00 43.80           N  \nATOM    113  CA  CYS A 666      32.553  16.538  42.489  1.00 45.43           C  \nATOM    114  C   CYS A 666      33.148  15.459  41.585  1.00 45.94           C  \nATOM    115  O   CYS A 666      33.038  15.526  40.361  1.00 43.87           O  \nATOM    116  CB  CYS A 666      31.095  16.806  42.125  1.00 46.70           C  \nATOM    117  SG  CYS A 666      30.288  18.013  43.211  1.00 44.04           S  \nATOM    118  N   GLY A 669      31.306  13.932  38.352  1.00 35.20           N  \nATOM    119  CA  GLY A 669      30.684  14.815  37.384  1.00 36.61           C  \nATOM    120  C   GLY A 669      29.168  14.833  37.462  1.00 38.72           C  \nATOM    121  O   GLY A 669      28.581  14.461  38.478  1.00 37.81           O  \nATOM    122  N   LEU A 769      16.724  24.522  49.425  1.00 36.17           N  \nATOM    123  CA  LEU A 769      16.627  25.736  48.631  1.00 36.42           C  \nATOM    124  C   LEU A 769      15.248  26.353  48.793  1.00 37.24           C  \nATOM    125  O   LEU A 769      15.107  27.572  48.848  1.00 40.09           O  \nATOM    126  CB  LEU A 769      16.901  25.445  47.152  1.00 37.11           C  \nATOM    127  CG  LEU A 769      18.326  25.047  46.754  1.00 36.88           C  \nATOM    128  CD1 LEU A 769      18.479  25.076  45.243  1.00 35.44           C  \nATOM    129  CD2 LEU A 769      19.349  25.958  47.413  1.00 35.48           C  \nATOM    130  N   CYS A 774      14.245  30.088  47.551  1.00 45.27           N  \nATOM    131  CA  CYS A 774      15.140  30.147  46.398  1.00 42.91           C  \nATOM    132  C   CYS A 774      14.642  29.280  45.237  1.00 42.01           C  \nATOM    133  O   CYS A 774      14.505  28.064  45.377  1.00 43.88           O  \nATOM    134  CB  CYS A 774      16.546  29.708  46.818  1.00 41.39           C  \nATOM    135  SG  CYS A 774      17.793  29.746  45.511  1.00 51.61           S  \nATOM    136  N   ILE A 775      14.381  29.904  44.093  1.00 38.31           N  \nATOM    137  CA  ILE A 775      13.842  29.185  42.941  1.00 36.26           C  \nATOM    138  C   ILE A 775      14.941  28.816  41.951  1.00 34.49           C  \nATOM    139  O   ILE A 775      15.658  29.681  41.451  1.00 35.95           O  \nATOM    140  CB  ILE A 775      12.764  30.008  42.208  1.00 37.04           C  \nATOM    141  CG1 ILE A 775      11.793  30.627  43.210  1.00 38.63           C  \nATOM    142  CG2 ILE A 775      12.022  29.142  41.203  1.00 36.42           C  \nATOM    143  CD1 ILE A 775      11.111  29.618  44.089  1.00 41.62           C  \nATOM    144  N   HIS A 776      15.060  27.529  41.659  1.00 32.21           N  \nATOM    145  CA  HIS A 776      16.158  27.041  40.836  1.00 31.74           C  \nATOM    146  C   HIS A 776      15.971  27.333  39.343  1.00 34.31           C  \nATOM    147  O   HIS A 776      16.886  27.838  38.684  1.00 32.43           O  \nATOM    148  CB  HIS A 776      16.354  25.546  41.064  1.00 26.26           C  \nATOM    149  CG  HIS A 776      17.652  25.028  40.540  1.00 24.32           C  \nATOM    150  ND1 HIS A 776      17.881  24.816  39.199  1.00 24.56           N  \nATOM    151  CD2 HIS A 776      18.796  24.686  41.177  1.00 23.82           C  \nATOM    152  CE1 HIS A 776      19.109  24.361  39.031  1.00 26.23           C  \nATOM    153  NE2 HIS A 776      19.685  24.273  40.217  1.00 25.32           N  \nATOM    154  N   ARG A 777      14.786  26.990  38.832  1.00 33.05           N  \nATOM    155  CA  ARG A 777      14.380  27.230  37.437  1.00 30.72           C  \nATOM    156  C   ARG A 777      15.084  26.399  36.358  1.00 31.07           C  \nATOM    157  O   ARG A 777      14.848  26.607  35.169  1.00 33.14           O  \nATOM    158  CB  ARG A 777      14.441  28.719  37.083  1.00 30.99           C  \nATOM    159  CG  ARG A 777      13.586  29.591  37.974  1.00 36.83           C  \nATOM    160  CD  ARG A 777      14.027  31.037  37.887  1.00 43.04           C  \nATOM    161  NE  ARG A 777      13.819  31.593  36.554  1.00 48.10           N  \nATOM    162  CZ  ARG A 777      13.317  32.803  36.323  1.00 51.51           C  \nATOM    163  NH1 ARG A 777      12.972  33.584  37.340  1.00 49.72           N  \nATOM    164  NH2 ARG A 777      13.158  33.231  35.077  1.00 53.92           N  \nATOM    165  N   LEU A 785      25.337  17.033  40.445  1.00 32.54           N  \nATOM    166  CA  LEU A 785      26.705  16.519  40.501  1.00 34.49           C  \nATOM    167  C   LEU A 785      26.881  15.430  41.555  1.00 34.37           C  \nATOM    168  O   LEU A 785      26.287  15.493  42.631  1.00 35.46           O  \nATOM    169  CB  LEU A 785      27.691  17.653  40.773  1.00 33.96           C  \nATOM    170  CG  LEU A 785      27.775  18.745  39.710  1.00 34.63           C  \nATOM    171  CD1 LEU A 785      28.535  19.935  40.256  1.00 37.54           C  \nATOM    172  CD2 LEU A 785      28.446  18.211  38.459  1.00 34.27           C  \nATOM    173  N   ILE A 794      22.692  19.212  44.017  1.00 29.14           N  \nATOM    174  CA  ILE A 794      22.055  20.035  42.995  1.00 31.50           C  \nATOM    175  C   ILE A 794      22.856  21.316  42.766  1.00 33.29           C  \nATOM    176  O   ILE A 794      23.236  22.001  43.717  1.00 33.69           O  \nATOM    177  CB  ILE A 794      20.577  20.346  43.339  1.00 31.65           C  \nATOM    178  CG1 ILE A 794      19.966  21.279  42.289  1.00 31.90           C  \nATOM    179  CG2 ILE A 794      20.443  20.915  44.746  1.00 30.78           C  \nATOM    180  CD1 ILE A 794      19.813  20.640  40.920  1.00 30.72           C  \nATOM    181  N   GLY A 795      23.135  21.617  41.501  1.00 34.99           N  \nATOM    182  CA  GLY A 795      23.907  22.793  41.145  1.00 34.89           C  \nATOM    183  C   GLY A 795      23.298  23.549  39.978  1.00 36.98           C  \nATOM    184  O   GLY A 795      22.146  23.322  39.612  1.00 37.44           O  \nATOM    185  N   ASP A 796      24.073  24.455  39.395  1.00 39.78           N  \nATOM    186  CA  ASP A 796      23.627  25.191  38.221  1.00 43.94           C  \nATOM    187  C   ASP A 796      24.819  25.657  37.392  1.00 45.97           C  \nATOM    188  O   ASP A 796      25.598  26.502  37.833  1.00 47.18           O  \nATOM    189  CB  ASP A 796      22.765  26.386  38.627  1.00 47.00           C  \nATOM    190  CG  ASP A 796      22.063  27.019  37.446  1.00 51.79           C  \nATOM    191  OD1 ASP A 796      21.561  26.266  36.582  1.00 52.39           O  \nATOM    192  OD2 ASP A 796      22.021  28.264  37.372  1.00 54.69           O  \nATOM    193  N   PHE A 797      24.955  25.105  36.189  1.00 46.21           N  \nATOM    194  CA  PHE A 797      26.087  25.420  35.323  1.00 47.99           C  \nATOM    195  C   PHE A 797      26.097  26.874  34.859  1.00 51.06           C  \nATOM    196  O   PHE A 797      27.164  27.458  34.661  1.00 51.76           O  \nATOM    197  CB  PHE A 797      26.122  24.483  34.116  1.00 47.50           C  \nATOM    198  CG  PHE A 797      26.855  23.200  34.371  1.00 49.16           C  \nATOM    199  CD1 PHE A 797      26.389  22.293  35.309  1.00 48.10           C  \nATOM    200  CD2 PHE A 797      28.017  22.903  33.675  1.00 50.74           C  \nATOM    201  CE1 PHE A 797      27.065  21.111  35.546  1.00 48.65           C  \nATOM    202  CE2 PHE A 797      28.699  21.722  33.907  1.00 50.16           C  \nATOM    203  CZ  PHE A 797      28.220  20.825  34.844  1.00 49.43           C  \nHETATM  204  C1  STI A1001      32.738  18.387  37.712  1.00 48.41           C  \nHETATM  205  C6  STI A1001      32.041  19.540  37.444  1.00 49.78           C  \nHETATM  206  C5  STI A1001      31.847  20.498  38.422  1.00 51.21           C  \nHETATM  207  C4  STI A1001      32.378  20.216  39.655  1.00 50.06           C  \nHETATM  208  N3  STI A1001      33.061  19.118  39.958  1.00 49.66           N  \nHETATM  209  C2  STI A1001      33.218  18.237  38.975  1.00 49.84           C  \nHETATM  210  C7  STI A1001      31.111  21.727  38.199  1.00 52.40           C  \nHETATM  211  C12 STI A1001      30.509  22.068  37.029  1.00 52.42           C  \nHETATM  212  C11 STI A1001      29.860  23.263  37.018  1.00 51.96           C  \nHETATM  213  N10 STI A1001      29.777  24.071  38.058  1.00 51.94           N  \nHETATM  214  C9  STI A1001      30.381  23.665  39.163  1.00 52.93           C  \nHETATM  215  N8  STI A1001      31.044  22.519  39.263  1.00 53.10           N  \nHETATM  216  N13 STI A1001      30.352  24.435  40.307  1.00 54.37           N  \nHETATM  217  C14 STI A1001      29.769  25.686  40.502  1.00 56.50           C  \nHETATM  218  C19 STI A1001      30.629  26.792  40.408  1.00 56.68           C  \nHETATM  219  C18 STI A1001      30.134  28.077  40.567  1.00 56.20           C  \nHETATM  220  C17 STI A1001      28.798  28.269  40.811  1.00 54.54           C  \nHETATM  221  C16 STI A1001      27.936  27.190  40.911  1.00 55.65           C  \nHETATM  222  C15 STI A1001      28.409  25.899  40.753  1.00 56.53           C  \nHETATM  223  N21 STI A1001      26.608  27.506  41.149  1.00 53.23           N  \nHETATM  224  C22 STI A1001      25.690  26.669  41.656  1.00 51.75           C  \nHETATM  225  C23 STI A1001      24.402  27.312  41.970  1.00 53.33           C  \nHETATM  226  C25 STI A1001      24.204  28.658  41.725  1.00 53.78           C  \nHETATM  227  C26 STI A1001      23.004  29.256  42.023  1.00 53.65           C  \nHETATM  228  C27 STI A1001      21.974  28.517  42.566  1.00 54.68           C  \nHETATM  229  C28 STI A1001      22.164  27.169  42.819  1.00 55.05           C  \nHETATM  230  C29 STI A1001      23.375  26.567  42.519  1.00 54.28           C  \nHETATM  231  C46 STI A1001      20.675  29.188  42.861  1.00 54.96           C  \nHETATM  232  N48 STI A1001      20.140  29.945  41.733  1.00 52.11           N  \nHETATM  233  C53 STI A1001      19.013  30.770  42.150  1.00 50.31           C  \nHETATM  234  C52 STI A1001      18.428  31.536  40.973  1.00 47.77           C  \nHETATM  235  N51 STI A1001      18.171  30.662  39.845  1.00 48.62           N  \nHETATM  236  C54 STI A1001      17.659  31.384  38.704  1.00 47.23           C  \nHETATM  237  C50 STI A1001      19.313  29.850  39.471  1.00 48.31           C  \nHETATM  238  C49 STI A1001      19.769  29.036  40.669  1.00 48.69           C  \nHETATM  239  O29 STI A1001      25.871  25.508  41.868  1.00 51.68           O  \nHETATM  240  C20 STI A1001      32.086  26.607  40.134  1.00 54.26           C  \nHETATM  241  O   HOH A1120      18.776  28.235  36.525  1.00 40.02           O  \nTER     242      HOH A1120                                                       \nEND   \n",
                    "binary": false
                  }
                ],
                "kwargs": {
                  "ext": "pdb",
                  "defaultRepresentation": true
                }
              },
              {
                "target": "Stage",
                "type": "call_method",
                "methodName": "loadFile",
                "reconstruc_color_scheme": false,
                "args": [
                  {
                    "type": "blob",
                    "data": "ATOM      1  N   LEU A 599      37.719  23.478  36.081  1.00 21.11           N  \nATOM      2  CA  LEU A 599      37.388  22.862  37.351  1.00 20.35           C  \nATOM      3  C   LEU A 599      36.564  21.600  37.136  1.00 23.69           C  \nATOM      4  O   LEU A 599      36.681  20.632  37.858  1.00 24.88           O  \nATOM      5  CB  LEU A 599      36.654  23.846  38.241  1.00 17.23           C  \nATOM      6  CG  LEU A 599      37.488  25.078  38.529  1.00 16.82           C  \nATOM      7  CD1 LEU A 599      36.688  26.144  39.249  1.00 18.77           C  \nATOM      8  CD2 LEU A 599      38.728  24.707  39.317  1.00 21.24           C  \nATOM      9  N   VAL A 607      33.174  24.241  33.851  1.00 15.65           N  \nATOM     10  CA  VAL A 607      33.321  25.241  34.884  1.00 13.82           C  \nATOM     11  C   VAL A 607      34.805  25.543  34.965  1.00 17.87           C  \nATOM     12  O   VAL A 607      35.619  24.636  35.058  1.00 21.27           O  \nATOM     13  CB  VAL A 607      32.801  24.774  36.246  1.00 12.53           C  \nATOM     14  CG1 VAL A 607      33.170  25.778  37.314  1.00 13.25           C  \nATOM     15  CG2 VAL A 607      31.304  24.543  36.196  1.00 14.55           C  \nATOM     16  N   ALA A 625      34.250  31.209  40.027  1.00 10.70           N  \nATOM     17  CA  ALA A 625      34.055  30.018  39.218  1.00 10.39           C  \nATOM     18  C   ALA A 625      33.082  30.425  38.123  1.00 13.84           C  \nATOM     19  O   ALA A 625      32.122  31.125  38.372  1.00 13.17           O  \nATOM     20  CB  ALA A 625      33.491  28.876  40.021  1.00 13.41           C  \nATOM     21  N   VAL A 626      33.354  30.004  36.907  1.00 12.94           N  \nATOM     22  CA  VAL A 626      32.501  30.377  35.805  1.00 14.15           C  \nATOM     23  C   VAL A 626      32.031  29.176  35.004  1.00 14.40           C  \nATOM     24  O   VAL A 626      32.833  28.380  34.580  1.00 17.95           O  \nATOM     25  CB  VAL A 626      33.252  31.328  34.856  1.00 14.61           C  \nATOM     26  CG1 VAL A 626      32.283  31.983  33.900  1.00 14.70           C  \nATOM     27  CG2 VAL A 626      34.053  32.360  35.639  1.00 14.75           C  \nATOM     28  N   LYS A 627      30.731  29.079  34.788  1.00 14.46           N  \nATOM     29  CA  LYS A 627      30.161  27.992  34.017  1.00 15.77           C  \nATOM     30  C   LYS A 627      29.794  28.482  32.616  1.00 20.75           C  \nATOM     31  O   LYS A 627      29.243  29.551  32.451  1.00 19.04           O  \nATOM     32  CB  LYS A 627      28.956  27.349  34.711  1.00 14.60           C  \nATOM     33  CG  LYS A 627      28.430  26.125  33.987  1.00 15.30           C  \nATOM     34  CD  LYS A 627      27.204  25.508  34.638  1.00 19.52           C  \nATOM     35  CE  LYS A 627      27.552  24.799  35.935  1.00 24.47           C  \nATOM     36  NZ  LYS A 627      26.413  24.078  36.569  1.00 20.59           N  \nATOM     37  N   GLU A 644      19.062  27.373  34.003  1.00 24.03           N  \nATOM     38  CA  GLU A 644      19.779  27.244  35.260  1.00 20.66           C  \nATOM     39  C   GLU A 644      20.042  28.623  35.860  1.00 22.57           C  \nATOM     40  O   GLU A 644      19.849  28.845  37.041  1.00 19.44           O  \nATOM     41  CB  GLU A 644      21.095  26.501  35.039  1.00 18.92           C  \nATOM     42  CG  GLU A 644      21.900  26.235  36.295  1.00 20.15           C  \nATOM     43  CD  GLU A 644      23.236  25.580  36.016  1.00 22.05           C  \nATOM     44  OE1 GLU A 644      24.048  25.493  36.938  1.00 24.39           O  \nATOM     45  OE2 GLU A 644      23.471  25.161  34.878  1.00 25.93           O  \nATOM     46  N   ILE A 647      16.925  29.965  37.481  1.00 24.21           N  \nATOM     47  CA  ILE A 647      16.657  29.360  38.775  1.00 22.38           C  \nATOM     48  C   ILE A 647      17.557  30.002  39.820  1.00 20.97           C  \nATOM     49  O   ILE A 647      17.122  30.346  40.899  1.00 22.43           O  \nATOM     50  CB  ILE A 647      16.958  27.842  38.725  1.00 22.69           C  \nATOM     51  CG1 ILE A 647      15.925  27.110  37.870  1.00 27.56           C  \nATOM     52  CG2 ILE A 647      16.997  27.230  40.114  1.00 22.12           C  \nATOM     53  CD1 ILE A 647      16.312  25.687  37.542  1.00 29.05           C  \nATOM     54  N   MET A 648      18.816  30.169  39.477  1.00 20.58           N  \nATOM     55  CA  MET A 648      19.756  30.781  40.397  1.00 21.08           C  \nATOM     56  C   MET A 648      19.420  32.222  40.752  1.00 19.78           C  \nATOM     57  O   MET A 648      19.570  32.610  41.875  1.00 22.76           O  \nATOM     58  CB  MET A 648      21.167  30.673  39.843  1.00 17.80           C  \nATOM     59  CG  MET A 648      21.683  29.258  39.882  1.00 17.97           C  \nATOM     60  SD  MET A 648      23.268  29.087  39.089  1.00 20.09           S  \nATOM     61  CE  MET A 648      24.351  29.494  40.440  1.00 17.33           C  \nATOM     62  N   LEU A 651      16.263  31.953  43.201  1.00 30.51           N  \nATOM     63  CA  LEU A 651      16.461  31.448  44.539  1.00 25.78           C  \nATOM     64  C   LEU A 651      17.162  32.619  45.160  1.00 26.83           C  \nATOM     65  O   LEU A 651      17.885  33.308  44.464  1.00 28.02           O  \nATOM     66  CB  LEU A 651      17.427  30.282  44.539  1.00 24.34           C  \nATOM     67  CG  LEU A 651      16.975  28.919  44.052  1.00 27.45           C  \nATOM     68  CD1 LEU A 651      18.213  28.076  43.844  1.00 25.03           C  \nATOM     69  CD2 LEU A 651      16.048  28.289  45.070  1.00 28.45           C  \nATOM     70  N   VAL A 658      26.095  27.275  46.627  1.00 12.15           N  \nATOM     71  CA  VAL A 658      27.115  28.074  45.966  1.00 10.54           C  \nATOM     72  C   VAL A 658      26.403  29.317  45.468  1.00 12.13           C  \nATOM     73  O   VAL A 658      25.400  29.229  44.814  1.00 14.71           O  \nATOM     74  CB  VAL A 658      27.811  27.322  44.815  1.00 12.36           C  \nATOM     75  CG1 VAL A 658      28.582  26.158  45.371  1.00 17.29           C  \nATOM     76  CG2 VAL A 658      26.802  26.800  43.824  1.00 13.60           C  \nATOM     77  N   ILE A 672      27.955  32.020  33.671  1.00 17.06           N  \nATOM     78  CA  ILE A 672      27.342  32.107  34.986  1.00 15.81           C  \nATOM     79  C   ILE A 672      28.509  32.198  35.950  1.00 14.89           C  \nATOM     80  O   ILE A 672      29.369  31.350  35.942  1.00 15.99           O  \nATOM     81  CB  ILE A 672      26.511  30.870  35.350  1.00 14.07           C  \nATOM     82  CG1 ILE A 672      25.437  30.611  34.292  1.00 19.10           C  \nATOM     83  CG2 ILE A 672      25.902  31.061  36.721  1.00 14.76           C  \nATOM     84  CD1 ILE A 672      24.422  29.564  34.671  1.00 21.93           C  \nATOM     85  N   ILE A 673      28.528  33.232  36.770  1.00 13.17           N  \nATOM     86  CA  ILE A 673      29.622  33.431  37.686  1.00 13.43           C  \nATOM     87  C   ILE A 673      29.214  33.227  39.140  1.00 13.53           C  \nATOM     88  O   ILE A 673      28.315  33.876  39.636  1.00 14.48           O  \nATOM     89  CB  ILE A 673      30.193  34.880  37.542  1.00 14.57           C  \nATOM     90  CG1 ILE A 673      30.551  35.204  36.093  1.00 15.63           C  \nATOM     91  CG2 ILE A 673      31.393  35.118  38.445  1.00 10.98           C  \nATOM     92  CD1 ILE A 673      30.689  36.678  35.824  1.00 15.57           C  \nATOM     93  N   THR A 674      29.907  32.328  39.821  1.00 11.43           N  \nATOM     94  CA  THR A 674      29.671  32.128  41.248  1.00 10.82           C  \nATOM     95  C   THR A 674      30.927  32.374  42.066  1.00 11.87           C  \nATOM     96  O   THR A 674      32.031  32.571  41.543  1.00 11.58           O  \nATOM     97  CB  THR A 674      29.182  30.704  41.551  1.00 16.60           C  \nATOM     98  OG1 THR A 674      30.267  29.774  41.341  1.00 11.64           O  \nATOM     99  CG2 THR A 674      27.985  30.382  40.688  1.00 13.52           C  \nATOM    100  N   GLU A 675      30.776  32.241  43.371  1.00  9.91           N  \nATOM    101  CA  GLU A 675      31.901  32.337  44.280  1.00 13.92           C  \nATOM    102  C   GLU A 675      32.757  31.085  44.025  1.00 12.15           C  \nATOM    103  O   GLU A 675      32.272  30.123  43.469  1.00 12.31           O  \nATOM    104  CB  GLU A 675      31.432  32.340  45.726  1.00 16.09           C  \nATOM    105  CG  GLU A 675      30.730  31.060  46.120  1.00 14.89           C  \nATOM    106  CD  GLU A 675      30.187  31.089  47.535  1.00 19.76           C  \nATOM    107  OE1 GLU A 675      30.936  31.469  48.450  1.00 21.46           O  \nATOM    108  OE2 GLU A 675      29.023  30.707  47.722  1.00 19.63           O  \nATOM    109  N   TYR A 676      34.023  31.147  44.414  1.00 12.99           N  \nATOM    110  CA  TYR A 676      34.987  30.066  44.269  1.00 14.90           C  \nATOM    111  C   TYR A 676      35.133  29.384  45.617  1.00 16.09           C  \nATOM    112  O   TYR A 676      35.165  30.059  46.615  1.00 12.84           O  \nATOM    113  CB  TYR A 676      36.347  30.632  43.871  1.00 17.20           C  \nATOM    114  CG  TYR A 676      37.457  29.612  43.779  1.00 15.81           C  \nATOM    115  CD1 TYR A 676      37.604  28.858  42.647  1.00 19.56           C  \nATOM    116  CD2 TYR A 676      38.355  29.414  44.813  1.00 18.76           C  \nATOM    117  CE1 TYR A 676      38.598  27.931  42.530  1.00 23.99           C  \nATOM    118  CE2 TYR A 676      39.365  28.486  44.705  1.00 19.12           C  \nATOM    119  CZ  TYR A 676      39.476  27.749  43.551  1.00 20.10           C  \nATOM    120  OH  TYR A 676      40.449  26.819  43.399  1.00 31.96           O  \nATOM    121  N   CYS A 677      35.209  28.057  45.627  1.00 12.57           N  \nATOM    122  CA  CYS A 677      35.332  27.316  46.880  1.00 12.45           C  \nATOM    123  C   CYS A 677      36.721  26.713  46.976  1.00 14.03           C  \nATOM    124  O   CYS A 677      37.071  25.817  46.247  1.00 11.79           O  \nATOM    125  CB  CYS A 677      34.260  26.257  46.958  1.00 12.39           C  \nATOM    126  SG  CYS A 677      32.630  26.991  46.758  1.00 15.20           S  \nATOM    127  N   GLY A 680      37.434  22.832  46.924  1.00 14.11           N  \nATOM    128  CA  GLY A 680      36.908  22.033  45.850  1.00 14.70           C  \nATOM    129  C   GLY A 680      35.804  21.124  46.345  1.00 12.87           C  \nATOM    130  O   GLY A 680      35.221  21.360  47.376  1.00 13.21           O  \nATOM    131  N   CYS A 814      12.340  23.652  45.395  1.00 20.08           N  \nATOM    132  CA  CYS A 814      13.337  23.266  44.431  1.00 19.82           C  \nATOM    133  C   CYS A 814      13.843  21.874  44.776  1.00 19.33           C  \nATOM    134  O   CYS A 814      14.269  21.642  45.883  1.00 21.58           O  \nATOM    135  CB  CYS A 814      14.473  24.287  44.489  1.00 20.06           C  \nATOM    136  SG  CYS A 814      15.897  23.998  43.441  1.00 31.02           S  \nATOM    137  N   VAL A 815      13.792  20.959  43.820  1.00 17.14           N  \nATOM    138  CA  VAL A 815      14.259  19.609  44.046  1.00 15.10           C  \nATOM    139  C   VAL A 815      15.603  19.478  43.365  1.00 15.94           C  \nATOM    140  O   VAL A 815      15.734  19.784  42.194  1.00 17.24           O  \nATOM    141  CB  VAL A 815      13.305  18.563  43.451  1.00 19.72           C  \nATOM    142  CG1 VAL A 815      13.867  17.167  43.641  1.00 18.71           C  \nATOM    143  CG2 VAL A 815      11.923  18.690  44.062  1.00 18.95           C  \nATOM    144  N   HIS A 816      16.605  19.030  44.107  1.00 14.52           N  \nATOM    145  CA  HIS A 816      17.919  18.929  43.530  1.00 12.31           C  \nATOM    146  C   HIS A 816      18.114  17.861  42.457  1.00 13.61           C  \nATOM    147  O   HIS A 816      18.457  18.200  41.379  1.00 14.27           O  \nATOM    148  CB  HIS A 816      18.925  18.683  44.651  1.00 11.50           C  \nATOM    149  CG  HIS A 816      20.342  18.878  44.246  1.00 12.31           C  \nATOM    150  ND1 HIS A 816      20.970  18.067  43.337  1.00 12.49           N  \nATOM    151  CD2 HIS A 816      21.249  19.812  44.608  1.00 13.27           C  \nATOM    152  CE1 HIS A 816      22.209  18.482  43.184  1.00 14.34           C  \nATOM    153  NE2 HIS A 816      22.401  19.542  43.938  1.00 13.57           N  \nATOM    154  N   ARG A 817      17.776  16.624  42.804  1.00 15.98           N  \nATOM    155  CA  ARG A 817      17.834  15.383  41.978  1.00 13.66           C  \nATOM    156  C   ARG A 817      19.207  14.715  41.810  1.00 17.07           C  \nATOM    157  O   ARG A 817      19.283  13.637  41.319  1.00 13.65           O  \nATOM    158  CB  ARG A 817      17.152  15.426  40.600  1.00 17.02           C  \nATOM    159  CG  ARG A 817      15.881  16.194  40.518  1.00 17.71           C  \nATOM    160  CD  ARG A 817      15.238  15.937  39.181  1.00 20.98           C  \nATOM    161  NE  ARG A 817      13.892  16.458  39.104  1.00 27.01           N  \nATOM    162  CZ  ARG A 817      13.052  16.132  38.148  1.00 27.59           C  \nATOM    163  NH1 ARG A 817      13.444  15.318  37.216  1.00 26.43           N  \nATOM    164  NH2 ARG A 817      11.843  16.607  38.144  1.00 26.39           N  \nATOM    165  N   LEU A 825      30.498  21.389  47.538  1.00 11.45           N  \nATOM    166  CA  LEU A 825      31.770  22.082  47.508  1.00 10.38           C  \nATOM    167  C   LEU A 825      32.067  22.551  48.922  1.00 12.59           C  \nATOM    168  O   LEU A 825      31.167  22.729  49.723  1.00 11.35           O  \nATOM    169  CB  LEU A 825      31.737  23.288  46.575  1.00  8.13           C  \nATOM    170  CG  LEU A 825      31.327  23.016  45.131  1.00 13.81           C  \nATOM    171  CD1 LEU A 825      31.342  24.274  44.285  1.00 10.56           C  \nATOM    172  CD2 LEU A 825      32.302  22.004  44.588  1.00 14.52           C  \nATOM    173  N   ILE A 834      26.404  23.648  48.546  1.00  9.94           N  \nATOM    174  CA  ILE A 834      25.758  22.691  47.662  1.00 10.42           C  \nATOM    175  C   ILE A 834      25.782  23.239  46.245  1.00 12.93           C  \nATOM    176  O   ILE A 834      25.556  24.405  46.031  1.00 12.36           O  \nATOM    177  CB  ILE A 834      24.312  22.388  48.095  1.00 10.68           C  \nATOM    178  CG1 ILE A 834      24.282  21.763  49.491  1.00  7.78           C  \nATOM    179  CG2 ILE A 834      23.609  21.508  47.080  1.00  8.51           C  \nATOM    180  CD1 ILE A 834      22.891  21.613  50.026  1.00 12.21           C  \nATOM    181  N   CYS A 835      26.058  22.372  45.289  1.00 11.42           N  \nATOM    182  CA  CYS A 835      26.104  22.757  43.888  1.00 11.39           C  \nATOM    183  C   CYS A 835      25.522  21.657  43.009  1.00 13.59           C  \nATOM    184  O   CYS A 835      25.126  20.621  43.503  1.00 14.92           O  \nATOM    185  CB  CYS A 835      27.523  23.059  43.436  1.00 15.57           C  \nATOM    186  SG  CYS A 835      28.591  21.609  43.345  1.00 17.36           S  \nATOM    187  N   ASP A 836      25.411  21.938  41.720  1.00 13.01           N  \nATOM    188  CA  ASP A 836      24.968  20.962  40.738  1.00 16.22           C  \nATOM    189  C   ASP A 836      25.812  21.196  39.473  1.00 17.78           C  \nATOM    190  O   ASP A 836      25.586  22.154  38.777  1.00 16.03           O  \nATOM    191  CB  ASP A 836      23.480  21.114  40.459  1.00 14.31           C  \nATOM    192  CG  ASP A 836      22.944  20.058  39.514  1.00 21.19           C  \nATOM    193  OD1 ASP A 836      22.023  20.360  38.754  1.00 24.71           O  \nATOM    194  OD2 ASP A 836      23.428  18.932  39.553  1.00 21.73           O  \nATOM    195  N   PHE A 837      26.772  20.323  39.185  1.00 16.61           N  \nATOM    196  CA  PHE A 837      27.623  20.504  38.012  1.00 18.86           C  \nATOM    197  C   PHE A 837      26.802  20.533  36.731  1.00 20.99           C  \nATOM    198  O   PHE A 837      27.092  21.315  35.818  1.00 21.22           O  \nATOM    199  CB  PHE A 837      28.669  19.397  37.935  1.00 18.51           C  \nATOM    200  CG  PHE A 837      29.914  19.674  38.733  1.00 18.89           C  \nATOM    201  CD1 PHE A 837      29.871  19.739  40.119  1.00 15.61           C  \nATOM    202  CD2 PHE A 837      31.122  19.843  38.101  1.00 20.48           C  \nATOM    203  CE1 PHE A 837      31.020  19.982  40.847  1.00 17.86           C  \nATOM    204  CE2 PHE A 837      32.273  20.089  38.822  1.00 22.55           C  \nATOM    205  CZ  PHE A 837      32.224  20.164  40.190  1.00 14.14           C  \nHETATM  206  C1  STI A1001      35.953  24.114  42.515  1.00 12.80           C  \nHETATM  207  C6  STI A1001      34.757  23.999  41.817  1.00 13.50           C  \nHETATM  208  C5  STI A1001      33.809  25.005  41.912  1.00 13.82           C  \nHETATM  209  C4  STI A1001      34.075  26.103  42.704  1.00 12.28           C  \nHETATM  210  N3  STI A1001      35.264  26.221  43.404  1.00 16.59           N  \nHETATM  211  C2  STI A1001      36.218  25.222  43.305  1.00 14.79           C  \nHETATM  212  C7  STI A1001      32.594  24.913  41.238  1.00 13.28           C  \nHETATM  213  C12 STI A1001      32.227  23.720  40.649  1.00 12.53           C  \nHETATM  214  C11 STI A1001      31.020  23.627  39.994  1.00 11.25           C  \nHETATM  215  N10 STI A1001      30.192  24.723  39.957  1.00 13.61           N  \nHETATM  216  C9  STI A1001      30.561  25.860  40.536  1.00 13.80           C  \nHETATM  217  N8  STI A1001      31.747  25.939  41.174  1.00 14.35           N  \nHETATM  218  N13 STI A1001      29.778  26.933  40.514  1.00 13.94           N  \nHETATM  219  C14 STI A1001      28.643  27.029  39.806  1.00 11.83           C  \nHETATM  220  C19 STI A1001      28.718  27.802  38.649  1.00 14.50           C  \nHETATM  221  C18 STI A1001      27.589  27.967  37.880  1.00 13.62           C  \nHETATM  222  C17 STI A1001      26.383  27.405  38.259  1.00 16.06           C  \nHETATM  223  C16 STI A1001      26.265  26.642  39.403  1.00 14.35           C  \nHETATM  224  C15 STI A1001      27.414  26.478  40.185  1.00 13.84           C  \nHETATM  225  N21 STI A1001      25.028  26.175  39.685  1.00 16.07           N  \nHETATM  226  C22 STI A1001      24.755  25.320  40.683  1.00 16.23           C  \nHETATM  227  C23 STI A1001      23.396  24.989  40.854  1.00 15.14           C  \nHETATM  228  C25 STI A1001      22.969  24.568  42.107  1.00 17.19           C  \nHETATM  229  C26 STI A1001      21.641  24.229  42.364  1.00 17.50           C  \nHETATM  230  C27 STI A1001      20.688  24.329  41.364  1.00 18.42           C  \nHETATM  231  C28 STI A1001      21.100  24.775  40.113  1.00 21.67           C  \nHETATM  232  C29 STI A1001      22.438  25.104  39.854  1.00 17.17           C  \nHETATM  233  C46 STI A1001      19.347  23.996  41.638  1.00 22.70           C  \nHETATM  234  N48 STI A1001      18.782  23.029  40.688  1.00 18.80           N  \nHETATM  235  C53 STI A1001      19.538  21.778  40.662  1.00 16.53           C  \nHETATM  236  C52 STI A1001      19.026  20.870  39.587  1.00 19.15           C  \nHETATM  237  N51 STI A1001      17.605  20.584  39.797  1.00 22.68           N  \nHETATM  238  C54 STI A1001      17.137  19.657  38.771  1.00 19.67           C  \nHETATM  239  C50 STI A1001      16.817  21.822  39.825  1.00 19.17           C  \nHETATM  240  C49 STI A1001      17.353  22.760  40.906  1.00 21.45           C  \nHETATM  241  O29 STI A1001      25.591  24.859  41.442  1.00 15.85           O  \nHETATM  242  C20 STI A1001      29.893  28.385  38.212  1.00 15.05           C  \nHETATM  243  O   HOH A1111      27.811  23.413  39.133  1.00 23.99           O  \nHETATM  244  O   HOH A1133      37.090  20.277  43.240  1.00 32.34           O  \nHETATM  245  O   HOH A1152      12.678  21.814  41.211  1.00 29.56           O  \nHETATM  246  O   HOH A1161      20.556  17.522  39.210  1.00 30.00           O  \nHETATM  247  O   HOH A1165      35.554  20.782  40.753  1.00 26.73           O  \nHETATM  248  O   HOH A1175      13.496  19.948  39.842  1.00 30.00           O  \nTER     249      HOH A1175                                                       \nEND   \n",
                    "binary": false
                  }
                ],
                "kwargs": {
                  "ext": "pdb",
                  "defaultRepresentation": true
                }
              }
            ],
            "_ngl_original_stage_parameters": {
              "impostor": true,
              "quality": "medium",
              "workerDefault": true,
              "sampleLevel": 0,
              "backgroundColor": "white",
              "rotateSpeed": 2,
              "zoomSpeed": 1.2,
              "panSpeed": 1,
              "clipNear": 0,
              "clipFar": 100,
              "clipDist": 10,
              "clipMode": "scene",
              "clipScale": "relative",
              "fogNear": 50,
              "fogFar": 100,
              "cameraFov": 40,
              "cameraEyeSep": 0.3,
              "cameraType": "perspective",
              "lightColor": 14540253,
              "lightIntensity": 1,
              "ambientColor": 14540253,
              "ambientIntensity": 0.2,
              "hoverTimeout": 0,
              "tooltip": true,
              "mousePreset": "default"
            },
            "_ngl_repr_dict": {
              "0": {
                "0": {
                  "type": "cartoon",
                  "params": {
                    "lazy": false,
                    "visible": true,
                    "quality": "high",
                    "aspectRatio": 5,
                    "subdiv": 6,
                    "radialSegments": 20,
                    "tension": null,
                    "capped": true,
                    "smoothSheet": false,
                    "radiusType": "sstruc",
                    "radiusData": {},
                    "radiusSize": 1,
                    "radiusScale": 0.7,
                    "assembly": "default",
                    "defaultAssembly": "",
                    "clipNear": 0,
                    "clipRadius": 0,
                    "clipCenter": {
                      "x": 0,
                      "y": 0,
                      "z": 0
                    },
                    "flatShaded": false,
                    "opacity": 1,
                    "depthWrite": true,
                    "side": "double",
                    "wireframe": false,
                    "colorScheme": "residueindex",
                    "colorScale": "spectral",
                    "colorReverse": true,
                    "colorValue": 9474192,
                    "colorMode": "hcl",
                    "roughness": 0.4,
                    "metalness": 0,
                    "diffuse": 16777215,
                    "diffuseInterior": false,
                    "useInteriorColor": true,
                    "interiorColor": 2236962,
                    "interiorDarkening": 0,
                    "matrix": {
                      "elements": [
                        1,
                        0,
                        0,
                        0,
                        0,
                        1,
                        0,
                        0,
                        0,
                        0,
                        1,
                        0,
                        0,
                        0,
                        0,
                        1
                      ]
                    },
                    "disablePicking": false,
                    "sele": ""
                  }
                },
                "1": {
                  "type": "base",
                  "params": {
                    "lazy": false,
                    "visible": true,
                    "quality": "high",
                    "sphereDetail": 2,
                    "radialSegments": 20,
                    "openEnded": true,
                    "disableImpostor": false,
                    "aspectRatio": 1,
                    "lineOnly": false,
                    "cylinderOnly": false,
                    "bondScale": 0.4,
                    "linewidth": 2,
                    "radiusType": "size",
                    "radiusData": {},
                    "radiusSize": 0.3,
                    "radiusScale": 1,
                    "assembly": "default",
                    "defaultAssembly": "",
                    "clipNear": 0,
                    "clipRadius": 0,
                    "clipCenter": {
                      "x": 0,
                      "y": 0,
                      "z": 0
                    },
                    "flatShaded": false,
                    "opacity": 1,
                    "depthWrite": true,
                    "side": "double",
                    "wireframe": false,
                    "colorScheme": "residueindex",
                    "colorScale": "spectral",
                    "colorReverse": true,
                    "colorValue": 9474192,
                    "colorMode": "hcl",
                    "roughness": 0.4,
                    "metalness": 0,
                    "diffuse": 16777215,
                    "diffuseInterior": false,
                    "useInteriorColor": true,
                    "interiorColor": 2236962,
                    "interiorDarkening": 0,
                    "matrix": {
                      "elements": [
                        1,
                        0,
                        0,
                        0,
                        0,
                        1,
                        0,
                        0,
                        0,
                        0,
                        1,
                        0,
                        0,
                        0,
                        0,
                        1
                      ]
                    },
                    "disablePicking": false,
                    "sele": ""
                  }
                },
                "2": {
                  "type": "ball+stick",
                  "params": {
                    "lazy": false,
                    "visible": true,
                    "quality": "high",
                    "sphereDetail": 2,
                    "radialSegments": 20,
                    "openEnded": true,
                    "disableImpostor": false,
                    "aspectRatio": 1.5,
                    "lineOnly": false,
                    "cylinderOnly": false,
                    "multipleBond": "off",
                    "bondScale": 0.3,
                    "bondSpacing": 0.75,
                    "linewidth": 2,
                    "radiusType": "size",
                    "radiusData": {},
                    "radiusSize": 0.15,
                    "radiusScale": 2,
                    "assembly": "default",
                    "defaultAssembly": "",
                    "clipNear": 0,
                    "clipRadius": 0,
                    "clipCenter": {
                      "x": 0,
                      "y": 0,
                      "z": 0
                    },
                    "flatShaded": false,
                    "opacity": 1,
                    "depthWrite": true,
                    "side": "double",
                    "wireframe": false,
                    "colorScheme": "element",
                    "colorScale": "",
                    "colorReverse": false,
                    "colorValue": 9474192,
                    "colorMode": "hcl",
                    "roughness": 0.4,
                    "metalness": 0,
                    "diffuse": 16777215,
                    "diffuseInterior": false,
                    "useInteriorColor": true,
                    "interiorColor": 2236962,
                    "interiorDarkening": 0,
                    "matrix": {
                      "elements": [
                        1,
                        0,
                        0,
                        0,
                        0,
                        1,
                        0,
                        0,
                        0,
                        0,
                        1,
                        0,
                        0,
                        0,
                        0,
                        1
                      ]
                    },
                    "disablePicking": false,
                    "sele": "ligand"
                  }
                }
              },
              "1": {
                "0": {
                  "type": "cartoon",
                  "params": {
                    "lazy": false,
                    "visible": true,
                    "quality": "high",
                    "aspectRatio": 5,
                    "subdiv": 6,
                    "radialSegments": 20,
                    "tension": null,
                    "capped": true,
                    "smoothSheet": false,
                    "radiusType": "sstruc",
                    "radiusData": {},
                    "radiusSize": 1,
                    "radiusScale": 0.7,
                    "assembly": "default",
                    "defaultAssembly": "",
                    "clipNear": 0,
                    "clipRadius": 0,
                    "clipCenter": {
                      "x": 0,
                      "y": 0,
                      "z": 0
                    },
                    "flatShaded": false,
                    "opacity": 1,
                    "depthWrite": true,
                    "side": "double",
                    "wireframe": false,
                    "colorScheme": "residueindex",
                    "colorScale": "spectral",
                    "colorReverse": true,
                    "colorValue": 9474192,
                    "colorMode": "hcl",
                    "roughness": 0.4,
                    "metalness": 0,
                    "diffuse": 16777215,
                    "diffuseInterior": false,
                    "useInteriorColor": true,
                    "interiorColor": 2236962,
                    "interiorDarkening": 0,
                    "matrix": {
                      "elements": [
                        1,
                        0,
                        0,
                        0,
                        0,
                        1,
                        0,
                        0,
                        0,
                        0,
                        1,
                        0,
                        0,
                        0,
                        0,
                        1
                      ]
                    },
                    "disablePicking": false,
                    "sele": ""
                  }
                },
                "1": {
                  "type": "base",
                  "params": {
                    "lazy": false,
                    "visible": true,
                    "quality": "high",
                    "sphereDetail": 2,
                    "radialSegments": 20,
                    "openEnded": true,
                    "disableImpostor": false,
                    "aspectRatio": 1,
                    "lineOnly": false,
                    "cylinderOnly": false,
                    "bondScale": 0.4,
                    "linewidth": 2,
                    "radiusType": "size",
                    "radiusData": {},
                    "radiusSize": 0.3,
                    "radiusScale": 1,
                    "assembly": "default",
                    "defaultAssembly": "",
                    "clipNear": 0,
                    "clipRadius": 0,
                    "clipCenter": {
                      "x": 0,
                      "y": 0,
                      "z": 0
                    },
                    "flatShaded": false,
                    "opacity": 1,
                    "depthWrite": true,
                    "side": "double",
                    "wireframe": false,
                    "colorScheme": "residueindex",
                    "colorScale": "spectral",
                    "colorReverse": true,
                    "colorValue": 9474192,
                    "colorMode": "hcl",
                    "roughness": 0.4,
                    "metalness": 0,
                    "diffuse": 16777215,
                    "diffuseInterior": false,
                    "useInteriorColor": true,
                    "interiorColor": 2236962,
                    "interiorDarkening": 0,
                    "matrix": {
                      "elements": [
                        1,
                        0,
                        0,
                        0,
                        0,
                        1,
                        0,
                        0,
                        0,
                        0,
                        1,
                        0,
                        0,
                        0,
                        0,
                        1
                      ]
                    },
                    "disablePicking": false,
                    "sele": ""
                  }
                },
                "2": {
                  "type": "ball+stick",
                  "params": {
                    "lazy": false,
                    "visible": true,
                    "quality": "high",
                    "sphereDetail": 2,
                    "radialSegments": 20,
                    "openEnded": true,
                    "disableImpostor": false,
                    "aspectRatio": 1.5,
                    "lineOnly": false,
                    "cylinderOnly": false,
                    "multipleBond": "off",
                    "bondScale": 0.3,
                    "bondSpacing": 0.75,
                    "linewidth": 2,
                    "radiusType": "size",
                    "radiusData": {},
                    "radiusSize": 0.15,
                    "radiusScale": 2,
                    "assembly": "default",
                    "defaultAssembly": "",
                    "clipNear": 0,
                    "clipRadius": 0,
                    "clipCenter": {
                      "x": 0,
                      "y": 0,
                      "z": 0
                    },
                    "flatShaded": false,
                    "opacity": 1,
                    "depthWrite": true,
                    "side": "double",
                    "wireframe": false,
                    "colorScheme": "element",
                    "colorScale": "",
                    "colorReverse": false,
                    "colorValue": 9474192,
                    "colorMode": "hcl",
                    "roughness": 0.4,
                    "metalness": 0,
                    "diffuse": 16777215,
                    "diffuseInterior": false,
                    "useInteriorColor": true,
                    "interiorColor": 2236962,
                    "interiorDarkening": 0,
                    "matrix": {
                      "elements": [
                        1,
                        0,
                        0,
                        0,
                        0,
                        1,
                        0,
                        0,
                        0,
                        0,
                        1,
                        0,
                        0,
                        0,
                        0,
                        1
                      ]
                    },
                    "disablePicking": false,
                    "sele": "ligand"
                  }
                }
              },
              "2": {
                "0": {
                  "type": "cartoon",
                  "params": {
                    "lazy": false,
                    "visible": true,
                    "quality": "high",
                    "aspectRatio": 5,
                    "subdiv": 6,
                    "radialSegments": 20,
                    "tension": null,
                    "capped": true,
                    "smoothSheet": false,
                    "radiusType": "sstruc",
                    "radiusData": {},
                    "radiusSize": 1,
                    "radiusScale": 0.7,
                    "assembly": "default",
                    "defaultAssembly": "",
                    "clipNear": 0,
                    "clipRadius": 0,
                    "clipCenter": {
                      "x": 0,
                      "y": 0,
                      "z": 0
                    },
                    "flatShaded": false,
                    "opacity": 1,
                    "depthWrite": true,
                    "side": "double",
                    "wireframe": false,
                    "colorScheme": "residueindex",
                    "colorScale": "spectral",
                    "colorReverse": true,
                    "colorValue": 9474192,
                    "colorMode": "hcl",
                    "roughness": 0.4,
                    "metalness": 0,
                    "diffuse": 16777215,
                    "diffuseInterior": false,
                    "useInteriorColor": true,
                    "interiorColor": 2236962,
                    "interiorDarkening": 0,
                    "matrix": {
                      "elements": [
                        1,
                        0,
                        0,
                        0,
                        0,
                        1,
                        0,
                        0,
                        0,
                        0,
                        1,
                        0,
                        0,
                        0,
                        0,
                        1
                      ]
                    },
                    "disablePicking": false,
                    "sele": ""
                  }
                },
                "1": {
                  "type": "base",
                  "params": {
                    "lazy": false,
                    "visible": true,
                    "quality": "high",
                    "sphereDetail": 2,
                    "radialSegments": 20,
                    "openEnded": true,
                    "disableImpostor": false,
                    "aspectRatio": 1,
                    "lineOnly": false,
                    "cylinderOnly": false,
                    "bondScale": 0.4,
                    "linewidth": 2,
                    "radiusType": "size",
                    "radiusData": {},
                    "radiusSize": 0.3,
                    "radiusScale": 1,
                    "assembly": "default",
                    "defaultAssembly": "",
                    "clipNear": 0,
                    "clipRadius": 0,
                    "clipCenter": {
                      "x": 0,
                      "y": 0,
                      "z": 0
                    },
                    "flatShaded": false,
                    "opacity": 1,
                    "depthWrite": true,
                    "side": "double",
                    "wireframe": false,
                    "colorScheme": "residueindex",
                    "colorScale": "spectral",
                    "colorReverse": true,
                    "colorValue": 9474192,
                    "colorMode": "hcl",
                    "roughness": 0.4,
                    "metalness": 0,
                    "diffuse": 16777215,
                    "diffuseInterior": false,
                    "useInteriorColor": true,
                    "interiorColor": 2236962,
                    "interiorDarkening": 0,
                    "matrix": {
                      "elements": [
                        1,
                        0,
                        0,
                        0,
                        0,
                        1,
                        0,
                        0,
                        0,
                        0,
                        1,
                        0,
                        0,
                        0,
                        0,
                        1
                      ]
                    },
                    "disablePicking": false,
                    "sele": ""
                  }
                },
                "2": {
                  "type": "ball+stick",
                  "params": {
                    "lazy": false,
                    "visible": true,
                    "quality": "high",
                    "sphereDetail": 2,
                    "radialSegments": 20,
                    "openEnded": true,
                    "disableImpostor": false,
                    "aspectRatio": 1.5,
                    "lineOnly": false,
                    "cylinderOnly": false,
                    "multipleBond": "off",
                    "bondScale": 0.3,
                    "bondSpacing": 0.75,
                    "linewidth": 2,
                    "radiusType": "size",
                    "radiusData": {},
                    "radiusSize": 0.15,
                    "radiusScale": 2,
                    "assembly": "default",
                    "defaultAssembly": "",
                    "clipNear": 0,
                    "clipRadius": 0,
                    "clipCenter": {
                      "x": 0,
                      "y": 0,
                      "z": 0
                    },
                    "flatShaded": false,
                    "opacity": 1,
                    "depthWrite": true,
                    "side": "double",
                    "wireframe": false,
                    "colorScheme": "element",
                    "colorScale": "",
                    "colorReverse": false,
                    "colorValue": 9474192,
                    "colorMode": "hcl",
                    "roughness": 0.4,
                    "metalness": 0,
                    "diffuse": 16777215,
                    "diffuseInterior": false,
                    "useInteriorColor": true,
                    "interiorColor": 2236962,
                    "interiorDarkening": 0,
                    "matrix": {
                      "elements": [
                        1,
                        0,
                        0,
                        0,
                        0,
                        1,
                        0,
                        0,
                        0,
                        0,
                        1,
                        0,
                        0,
                        0,
                        0,
                        1
                      ]
                    },
                    "disablePicking": false,
                    "sele": "ligand"
                  }
                }
              },
              "3": {
                "0": {
                  "type": "cartoon",
                  "params": {
                    "lazy": false,
                    "visible": true,
                    "quality": "high",
                    "aspectRatio": 5,
                    "subdiv": 6,
                    "radialSegments": 20,
                    "tension": null,
                    "capped": true,
                    "smoothSheet": false,
                    "radiusType": "sstruc",
                    "radiusData": {},
                    "radiusSize": 1,
                    "radiusScale": 0.7,
                    "assembly": "default",
                    "defaultAssembly": "",
                    "clipNear": 0,
                    "clipRadius": 0,
                    "clipCenter": {
                      "x": 0,
                      "y": 0,
                      "z": 0
                    },
                    "flatShaded": false,
                    "opacity": 1,
                    "depthWrite": true,
                    "side": "double",
                    "wireframe": false,
                    "colorScheme": "residueindex",
                    "colorScale": "spectral",
                    "colorReverse": true,
                    "colorValue": 9474192,
                    "colorMode": "hcl",
                    "roughness": 0.4,
                    "metalness": 0,
                    "diffuse": 16777215,
                    "diffuseInterior": false,
                    "useInteriorColor": true,
                    "interiorColor": 2236962,
                    "interiorDarkening": 0,
                    "matrix": {
                      "elements": [
                        1,
                        0,
                        0,
                        0,
                        0,
                        1,
                        0,
                        0,
                        0,
                        0,
                        1,
                        0,
                        0,
                        0,
                        0,
                        1
                      ]
                    },
                    "disablePicking": false,
                    "sele": ""
                  }
                },
                "1": {
                  "type": "base",
                  "params": {
                    "lazy": false,
                    "visible": true,
                    "quality": "high",
                    "sphereDetail": 2,
                    "radialSegments": 20,
                    "openEnded": true,
                    "disableImpostor": false,
                    "aspectRatio": 1,
                    "lineOnly": false,
                    "cylinderOnly": false,
                    "bondScale": 0.4,
                    "linewidth": 2,
                    "radiusType": "size",
                    "radiusData": {},
                    "radiusSize": 0.3,
                    "radiusScale": 1,
                    "assembly": "default",
                    "defaultAssembly": "",
                    "clipNear": 0,
                    "clipRadius": 0,
                    "clipCenter": {
                      "x": 0,
                      "y": 0,
                      "z": 0
                    },
                    "flatShaded": false,
                    "opacity": 1,
                    "depthWrite": true,
                    "side": "double",
                    "wireframe": false,
                    "colorScheme": "residueindex",
                    "colorScale": "spectral",
                    "colorReverse": true,
                    "colorValue": 9474192,
                    "colorMode": "hcl",
                    "roughness": 0.4,
                    "metalness": 0,
                    "diffuse": 16777215,
                    "diffuseInterior": false,
                    "useInteriorColor": true,
                    "interiorColor": 2236962,
                    "interiorDarkening": 0,
                    "matrix": {
                      "elements": [
                        1,
                        0,
                        0,
                        0,
                        0,
                        1,
                        0,
                        0,
                        0,
                        0,
                        1,
                        0,
                        0,
                        0,
                        0,
                        1
                      ]
                    },
                    "disablePicking": false,
                    "sele": ""
                  }
                },
                "2": {
                  "type": "ball+stick",
                  "params": {
                    "lazy": false,
                    "visible": true,
                    "quality": "high",
                    "sphereDetail": 2,
                    "radialSegments": 20,
                    "openEnded": true,
                    "disableImpostor": false,
                    "aspectRatio": 1.5,
                    "lineOnly": false,
                    "cylinderOnly": false,
                    "multipleBond": "off",
                    "bondScale": 0.3,
                    "bondSpacing": 0.75,
                    "linewidth": 2,
                    "radiusType": "size",
                    "radiusData": {},
                    "radiusSize": 0.15,
                    "radiusScale": 2,
                    "assembly": "default",
                    "defaultAssembly": "",
                    "clipNear": 0,
                    "clipRadius": 0,
                    "clipCenter": {
                      "x": 0,
                      "y": 0,
                      "z": 0
                    },
                    "flatShaded": false,
                    "opacity": 1,
                    "depthWrite": true,
                    "side": "double",
                    "wireframe": false,
                    "colorScheme": "element",
                    "colorScale": "",
                    "colorReverse": false,
                    "colorValue": 9474192,
                    "colorMode": "hcl",
                    "roughness": 0.4,
                    "metalness": 0,
                    "diffuse": 16777215,
                    "diffuseInterior": false,
                    "useInteriorColor": true,
                    "interiorColor": 2236962,
                    "interiorDarkening": 0,
                    "matrix": {
                      "elements": [
                        1,
                        0,
                        0,
                        0,
                        0,
                        1,
                        0,
                        0,
                        0,
                        0,
                        1,
                        0,
                        0,
                        0,
                        0,
                        1
                      ]
                    },
                    "disablePicking": false,
                    "sele": "ligand"
                  }
                }
              },
              "4": {
                "0": {
                  "type": "cartoon",
                  "params": {
                    "lazy": false,
                    "visible": true,
                    "quality": "high",
                    "aspectRatio": 5,
                    "subdiv": 6,
                    "radialSegments": 20,
                    "tension": null,
                    "capped": true,
                    "smoothSheet": false,
                    "radiusType": "sstruc",
                    "radiusData": {},
                    "radiusSize": 1,
                    "radiusScale": 0.7,
                    "assembly": "default",
                    "defaultAssembly": "",
                    "clipNear": 0,
                    "clipRadius": 0,
                    "clipCenter": {
                      "x": 0,
                      "y": 0,
                      "z": 0
                    },
                    "flatShaded": false,
                    "opacity": 1,
                    "depthWrite": true,
                    "side": "double",
                    "wireframe": false,
                    "colorScheme": "residueindex",
                    "colorScale": "spectral",
                    "colorReverse": true,
                    "colorValue": 9474192,
                    "colorMode": "hcl",
                    "roughness": 0.4,
                    "metalness": 0,
                    "diffuse": 16777215,
                    "diffuseInterior": false,
                    "useInteriorColor": true,
                    "interiorColor": 2236962,
                    "interiorDarkening": 0,
                    "matrix": {
                      "elements": [
                        1,
                        0,
                        0,
                        0,
                        0,
                        1,
                        0,
                        0,
                        0,
                        0,
                        1,
                        0,
                        0,
                        0,
                        0,
                        1
                      ]
                    },
                    "disablePicking": false,
                    "sele": ""
                  }
                },
                "1": {
                  "type": "base",
                  "params": {
                    "lazy": false,
                    "visible": true,
                    "quality": "high",
                    "sphereDetail": 2,
                    "radialSegments": 20,
                    "openEnded": true,
                    "disableImpostor": false,
                    "aspectRatio": 1,
                    "lineOnly": false,
                    "cylinderOnly": false,
                    "bondScale": 0.4,
                    "linewidth": 2,
                    "radiusType": "size",
                    "radiusData": {},
                    "radiusSize": 0.3,
                    "radiusScale": 1,
                    "assembly": "default",
                    "defaultAssembly": "",
                    "clipNear": 0,
                    "clipRadius": 0,
                    "clipCenter": {
                      "x": 0,
                      "y": 0,
                      "z": 0
                    },
                    "flatShaded": false,
                    "opacity": 1,
                    "depthWrite": true,
                    "side": "double",
                    "wireframe": false,
                    "colorScheme": "residueindex",
                    "colorScale": "spectral",
                    "colorReverse": true,
                    "colorValue": 9474192,
                    "colorMode": "hcl",
                    "roughness": 0.4,
                    "metalness": 0,
                    "diffuse": 16777215,
                    "diffuseInterior": false,
                    "useInteriorColor": true,
                    "interiorColor": 2236962,
                    "interiorDarkening": 0,
                    "matrix": {
                      "elements": [
                        1,
                        0,
                        0,
                        0,
                        0,
                        1,
                        0,
                        0,
                        0,
                        0,
                        1,
                        0,
                        0,
                        0,
                        0,
                        1
                      ]
                    },
                    "disablePicking": false,
                    "sele": ""
                  }
                },
                "2": {
                  "type": "ball+stick",
                  "params": {
                    "lazy": false,
                    "visible": true,
                    "quality": "high",
                    "sphereDetail": 2,
                    "radialSegments": 20,
                    "openEnded": true,
                    "disableImpostor": false,
                    "aspectRatio": 1.5,
                    "lineOnly": false,
                    "cylinderOnly": false,
                    "multipleBond": "off",
                    "bondScale": 0.3,
                    "bondSpacing": 0.75,
                    "linewidth": 2,
                    "radiusType": "size",
                    "radiusData": {},
                    "radiusSize": 0.15,
                    "radiusScale": 2,
                    "assembly": "default",
                    "defaultAssembly": "",
                    "clipNear": 0,
                    "clipRadius": 0,
                    "clipCenter": {
                      "x": 0,
                      "y": 0,
                      "z": 0
                    },
                    "flatShaded": false,
                    "opacity": 1,
                    "depthWrite": true,
                    "side": "double",
                    "wireframe": false,
                    "colorScheme": "element",
                    "colorScale": "",
                    "colorReverse": false,
                    "colorValue": 9474192,
                    "colorMode": "hcl",
                    "roughness": 0.4,
                    "metalness": 0,
                    "diffuse": 16777215,
                    "diffuseInterior": false,
                    "useInteriorColor": true,
                    "interiorColor": 2236962,
                    "interiorDarkening": 0,
                    "matrix": {
                      "elements": [
                        1,
                        0,
                        0,
                        0,
                        0,
                        1,
                        0,
                        0,
                        0,
                        0,
                        1,
                        0,
                        0,
                        0,
                        0,
                        1
                      ]
                    },
                    "disablePicking": false,
                    "sele": "ligand"
                  }
                }
              },
              "5": {
                "0": {
                  "type": "cartoon",
                  "params": {
                    "lazy": false,
                    "visible": true,
                    "quality": "high",
                    "aspectRatio": 5,
                    "subdiv": 6,
                    "radialSegments": 20,
                    "tension": null,
                    "capped": true,
                    "smoothSheet": false,
                    "radiusType": "sstruc",
                    "radiusData": {},
                    "radiusSize": 1,
                    "radiusScale": 0.7,
                    "assembly": "default",
                    "defaultAssembly": "",
                    "clipNear": 0,
                    "clipRadius": 0,
                    "clipCenter": {
                      "x": 0,
                      "y": 0,
                      "z": 0
                    },
                    "flatShaded": false,
                    "opacity": 1,
                    "depthWrite": true,
                    "side": "double",
                    "wireframe": false,
                    "colorScheme": "residueindex",
                    "colorScale": "spectral",
                    "colorReverse": true,
                    "colorValue": 9474192,
                    "colorMode": "hcl",
                    "roughness": 0.4,
                    "metalness": 0,
                    "diffuse": 16777215,
                    "diffuseInterior": false,
                    "useInteriorColor": true,
                    "interiorColor": 2236962,
                    "interiorDarkening": 0,
                    "matrix": {
                      "elements": [
                        1,
                        0,
                        0,
                        0,
                        0,
                        1,
                        0,
                        0,
                        0,
                        0,
                        1,
                        0,
                        0,
                        0,
                        0,
                        1
                      ]
                    },
                    "disablePicking": false,
                    "sele": ""
                  }
                },
                "1": {
                  "type": "base",
                  "params": {
                    "lazy": false,
                    "visible": true,
                    "quality": "high",
                    "sphereDetail": 2,
                    "radialSegments": 20,
                    "openEnded": true,
                    "disableImpostor": false,
                    "aspectRatio": 1,
                    "lineOnly": false,
                    "cylinderOnly": false,
                    "bondScale": 0.4,
                    "linewidth": 2,
                    "radiusType": "size",
                    "radiusData": {},
                    "radiusSize": 0.3,
                    "radiusScale": 1,
                    "assembly": "default",
                    "defaultAssembly": "",
                    "clipNear": 0,
                    "clipRadius": 0,
                    "clipCenter": {
                      "x": 0,
                      "y": 0,
                      "z": 0
                    },
                    "flatShaded": false,
                    "opacity": 1,
                    "depthWrite": true,
                    "side": "double",
                    "wireframe": false,
                    "colorScheme": "residueindex",
                    "colorScale": "spectral",
                    "colorReverse": true,
                    "colorValue": 9474192,
                    "colorMode": "hcl",
                    "roughness": 0.4,
                    "metalness": 0,
                    "diffuse": 16777215,
                    "diffuseInterior": false,
                    "useInteriorColor": true,
                    "interiorColor": 2236962,
                    "interiorDarkening": 0,
                    "matrix": {
                      "elements": [
                        1,
                        0,
                        0,
                        0,
                        0,
                        1,
                        0,
                        0,
                        0,
                        0,
                        1,
                        0,
                        0,
                        0,
                        0,
                        1
                      ]
                    },
                    "disablePicking": false,
                    "sele": ""
                  }
                },
                "2": {
                  "type": "ball+stick",
                  "params": {
                    "lazy": false,
                    "visible": true,
                    "quality": "high",
                    "sphereDetail": 2,
                    "radialSegments": 20,
                    "openEnded": true,
                    "disableImpostor": false,
                    "aspectRatio": 1.5,
                    "lineOnly": false,
                    "cylinderOnly": false,
                    "multipleBond": "off",
                    "bondScale": 0.3,
                    "bondSpacing": 0.75,
                    "linewidth": 2,
                    "radiusType": "size",
                    "radiusData": {},
                    "radiusSize": 0.15,
                    "radiusScale": 2,
                    "assembly": "default",
                    "defaultAssembly": "",
                    "clipNear": 0,
                    "clipRadius": 0,
                    "clipCenter": {
                      "x": 0,
                      "y": 0,
                      "z": 0
                    },
                    "flatShaded": false,
                    "opacity": 1,
                    "depthWrite": true,
                    "side": "double",
                    "wireframe": false,
                    "colorScheme": "element",
                    "colorScale": "",
                    "colorReverse": false,
                    "colorValue": 9474192,
                    "colorMode": "hcl",
                    "roughness": 0.4,
                    "metalness": 0,
                    "diffuse": 16777215,
                    "diffuseInterior": false,
                    "useInteriorColor": true,
                    "interiorColor": 2236962,
                    "interiorDarkening": 0,
                    "matrix": {
                      "elements": [
                        1,
                        0,
                        0,
                        0,
                        0,
                        1,
                        0,
                        0,
                        0,
                        0,
                        1,
                        0,
                        0,
                        0,
                        0,
                        1
                      ]
                    },
                    "disablePicking": false,
                    "sele": "ligand"
                  }
                }
              },
              "6": {
                "0": {
                  "type": "cartoon",
                  "params": {
                    "lazy": false,
                    "visible": true,
                    "quality": "high",
                    "aspectRatio": 5,
                    "subdiv": 6,
                    "radialSegments": 20,
                    "tension": null,
                    "capped": true,
                    "smoothSheet": false,
                    "radiusType": "sstruc",
                    "radiusData": {},
                    "radiusSize": 1,
                    "radiusScale": 0.7,
                    "assembly": "default",
                    "defaultAssembly": "",
                    "clipNear": 0,
                    "clipRadius": 0,
                    "clipCenter": {
                      "x": 0,
                      "y": 0,
                      "z": 0
                    },
                    "flatShaded": false,
                    "opacity": 1,
                    "depthWrite": true,
                    "side": "double",
                    "wireframe": false,
                    "colorScheme": "residueindex",
                    "colorScale": "spectral",
                    "colorReverse": true,
                    "colorValue": 9474192,
                    "colorMode": "hcl",
                    "roughness": 0.4,
                    "metalness": 0,
                    "diffuse": 16777215,
                    "diffuseInterior": false,
                    "useInteriorColor": true,
                    "interiorColor": 2236962,
                    "interiorDarkening": 0,
                    "matrix": {
                      "elements": [
                        1,
                        0,
                        0,
                        0,
                        0,
                        1,
                        0,
                        0,
                        0,
                        0,
                        1,
                        0,
                        0,
                        0,
                        0,
                        1
                      ]
                    },
                    "disablePicking": false,
                    "sele": ""
                  }
                },
                "1": {
                  "type": "base",
                  "params": {
                    "lazy": false,
                    "visible": true,
                    "quality": "high",
                    "sphereDetail": 2,
                    "radialSegments": 20,
                    "openEnded": true,
                    "disableImpostor": false,
                    "aspectRatio": 1,
                    "lineOnly": false,
                    "cylinderOnly": false,
                    "bondScale": 0.4,
                    "linewidth": 2,
                    "radiusType": "size",
                    "radiusData": {},
                    "radiusSize": 0.3,
                    "radiusScale": 1,
                    "assembly": "default",
                    "defaultAssembly": "",
                    "clipNear": 0,
                    "clipRadius": 0,
                    "clipCenter": {
                      "x": 0,
                      "y": 0,
                      "z": 0
                    },
                    "flatShaded": false,
                    "opacity": 1,
                    "depthWrite": true,
                    "side": "double",
                    "wireframe": false,
                    "colorScheme": "residueindex",
                    "colorScale": "spectral",
                    "colorReverse": true,
                    "colorValue": 9474192,
                    "colorMode": "hcl",
                    "roughness": 0.4,
                    "metalness": 0,
                    "diffuse": 16777215,
                    "diffuseInterior": false,
                    "useInteriorColor": true,
                    "interiorColor": 2236962,
                    "interiorDarkening": 0,
                    "matrix": {
                      "elements": [
                        1,
                        0,
                        0,
                        0,
                        0,
                        1,
                        0,
                        0,
                        0,
                        0,
                        1,
                        0,
                        0,
                        0,
                        0,
                        1
                      ]
                    },
                    "disablePicking": false,
                    "sele": ""
                  }
                },
                "2": {
                  "type": "ball+stick",
                  "params": {
                    "lazy": false,
                    "visible": true,
                    "quality": "high",
                    "sphereDetail": 2,
                    "radialSegments": 20,
                    "openEnded": true,
                    "disableImpostor": false,
                    "aspectRatio": 1.5,
                    "lineOnly": false,
                    "cylinderOnly": false,
                    "multipleBond": "off",
                    "bondScale": 0.3,
                    "bondSpacing": 0.75,
                    "linewidth": 2,
                    "radiusType": "size",
                    "radiusData": {},
                    "radiusSize": 0.15,
                    "radiusScale": 2,
                    "assembly": "default",
                    "defaultAssembly": "",
                    "clipNear": 0,
                    "clipRadius": 0,
                    "clipCenter": {
                      "x": 0,
                      "y": 0,
                      "z": 0
                    },
                    "flatShaded": false,
                    "opacity": 1,
                    "depthWrite": true,
                    "side": "double",
                    "wireframe": false,
                    "colorScheme": "element",
                    "colorScale": "",
                    "colorReverse": false,
                    "colorValue": 9474192,
                    "colorMode": "hcl",
                    "roughness": 0.4,
                    "metalness": 0,
                    "diffuse": 16777215,
                    "diffuseInterior": false,
                    "useInteriorColor": true,
                    "interiorColor": 2236962,
                    "interiorDarkening": 0,
                    "matrix": {
                      "elements": [
                        1,
                        0,
                        0,
                        0,
                        0,
                        1,
                        0,
                        0,
                        0,
                        0,
                        1,
                        0,
                        0,
                        0,
                        0,
                        1
                      ]
                    },
                    "disablePicking": false,
                    "sele": "ligand"
                  }
                }
              },
              "7": {
                "0": {
                  "type": "cartoon",
                  "params": {
                    "lazy": false,
                    "visible": true,
                    "quality": "high",
                    "aspectRatio": 5,
                    "subdiv": 6,
                    "radialSegments": 20,
                    "tension": null,
                    "capped": true,
                    "smoothSheet": false,
                    "radiusType": "sstruc",
                    "radiusData": {},
                    "radiusSize": 1,
                    "radiusScale": 0.7,
                    "assembly": "default",
                    "defaultAssembly": "",
                    "clipNear": 0,
                    "clipRadius": 0,
                    "clipCenter": {
                      "x": 0,
                      "y": 0,
                      "z": 0
                    },
                    "flatShaded": false,
                    "opacity": 1,
                    "depthWrite": true,
                    "side": "double",
                    "wireframe": false,
                    "colorScheme": "residueindex",
                    "colorScale": "spectral",
                    "colorReverse": true,
                    "colorValue": 9474192,
                    "colorMode": "hcl",
                    "roughness": 0.4,
                    "metalness": 0,
                    "diffuse": 16777215,
                    "diffuseInterior": false,
                    "useInteriorColor": true,
                    "interiorColor": 2236962,
                    "interiorDarkening": 0,
                    "matrix": {
                      "elements": [
                        1,
                        0,
                        0,
                        0,
                        0,
                        1,
                        0,
                        0,
                        0,
                        0,
                        1,
                        0,
                        0,
                        0,
                        0,
                        1
                      ]
                    },
                    "disablePicking": false,
                    "sele": ""
                  }
                },
                "1": {
                  "type": "base",
                  "params": {
                    "lazy": false,
                    "visible": true,
                    "quality": "high",
                    "sphereDetail": 2,
                    "radialSegments": 20,
                    "openEnded": true,
                    "disableImpostor": false,
                    "aspectRatio": 1,
                    "lineOnly": false,
                    "cylinderOnly": false,
                    "bondScale": 0.4,
                    "linewidth": 2,
                    "radiusType": "size",
                    "radiusData": {},
                    "radiusSize": 0.3,
                    "radiusScale": 1,
                    "assembly": "default",
                    "defaultAssembly": "",
                    "clipNear": 0,
                    "clipRadius": 0,
                    "clipCenter": {
                      "x": 0,
                      "y": 0,
                      "z": 0
                    },
                    "flatShaded": false,
                    "opacity": 1,
                    "depthWrite": true,
                    "side": "double",
                    "wireframe": false,
                    "colorScheme": "residueindex",
                    "colorScale": "spectral",
                    "colorReverse": true,
                    "colorValue": 9474192,
                    "colorMode": "hcl",
                    "roughness": 0.4,
                    "metalness": 0,
                    "diffuse": 16777215,
                    "diffuseInterior": false,
                    "useInteriorColor": true,
                    "interiorColor": 2236962,
                    "interiorDarkening": 0,
                    "matrix": {
                      "elements": [
                        1,
                        0,
                        0,
                        0,
                        0,
                        1,
                        0,
                        0,
                        0,
                        0,
                        1,
                        0,
                        0,
                        0,
                        0,
                        1
                      ]
                    },
                    "disablePicking": false,
                    "sele": ""
                  }
                },
                "2": {
                  "type": "ball+stick",
                  "params": {
                    "lazy": false,
                    "visible": true,
                    "quality": "high",
                    "sphereDetail": 2,
                    "radialSegments": 20,
                    "openEnded": true,
                    "disableImpostor": false,
                    "aspectRatio": 1.5,
                    "lineOnly": false,
                    "cylinderOnly": false,
                    "multipleBond": "off",
                    "bondScale": 0.3,
                    "bondSpacing": 0.75,
                    "linewidth": 2,
                    "radiusType": "size",
                    "radiusData": {},
                    "radiusSize": 0.15,
                    "radiusScale": 2,
                    "assembly": "default",
                    "defaultAssembly": "",
                    "clipNear": 0,
                    "clipRadius": 0,
                    "clipCenter": {
                      "x": 0,
                      "y": 0,
                      "z": 0
                    },
                    "flatShaded": false,
                    "opacity": 1,
                    "depthWrite": true,
                    "side": "double",
                    "wireframe": false,
                    "colorScheme": "element",
                    "colorScale": "",
                    "colorReverse": false,
                    "colorValue": 9474192,
                    "colorMode": "hcl",
                    "roughness": 0.4,
                    "metalness": 0,
                    "diffuse": 16777215,
                    "diffuseInterior": false,
                    "useInteriorColor": true,
                    "interiorColor": 2236962,
                    "interiorDarkening": 0,
                    "matrix": {
                      "elements": [
                        1,
                        0,
                        0,
                        0,
                        0,
                        1,
                        0,
                        0,
                        0,
                        0,
                        1,
                        0,
                        0,
                        0,
                        0,
                        1
                      ]
                    },
                    "disablePicking": false,
                    "sele": "ligand"
                  }
                }
              },
              "8": {
                "0": {
                  "type": "cartoon",
                  "params": {
                    "lazy": false,
                    "visible": true,
                    "quality": "high",
                    "aspectRatio": 5,
                    "subdiv": 6,
                    "radialSegments": 20,
                    "tension": null,
                    "capped": true,
                    "smoothSheet": false,
                    "radiusType": "sstruc",
                    "radiusData": {},
                    "radiusSize": 1,
                    "radiusScale": 0.7,
                    "assembly": "default",
                    "defaultAssembly": "",
                    "clipNear": 0,
                    "clipRadius": 0,
                    "clipCenter": {
                      "x": 0,
                      "y": 0,
                      "z": 0
                    },
                    "flatShaded": false,
                    "opacity": 1,
                    "depthWrite": true,
                    "side": "double",
                    "wireframe": false,
                    "colorScheme": "residueindex",
                    "colorScale": "spectral",
                    "colorReverse": true,
                    "colorValue": 9474192,
                    "colorMode": "hcl",
                    "roughness": 0.4,
                    "metalness": 0,
                    "diffuse": 16777215,
                    "diffuseInterior": false,
                    "useInteriorColor": true,
                    "interiorColor": 2236962,
                    "interiorDarkening": 0,
                    "matrix": {
                      "elements": [
                        1,
                        0,
                        0,
                        0,
                        0,
                        1,
                        0,
                        0,
                        0,
                        0,
                        1,
                        0,
                        0,
                        0,
                        0,
                        1
                      ]
                    },
                    "disablePicking": false,
                    "sele": ""
                  }
                },
                "1": {
                  "type": "base",
                  "params": {
                    "lazy": false,
                    "visible": true,
                    "quality": "high",
                    "sphereDetail": 2,
                    "radialSegments": 20,
                    "openEnded": true,
                    "disableImpostor": false,
                    "aspectRatio": 1,
                    "lineOnly": false,
                    "cylinderOnly": false,
                    "bondScale": 0.4,
                    "linewidth": 2,
                    "radiusType": "size",
                    "radiusData": {},
                    "radiusSize": 0.3,
                    "radiusScale": 1,
                    "assembly": "default",
                    "defaultAssembly": "",
                    "clipNear": 0,
                    "clipRadius": 0,
                    "clipCenter": {
                      "x": 0,
                      "y": 0,
                      "z": 0
                    },
                    "flatShaded": false,
                    "opacity": 1,
                    "depthWrite": true,
                    "side": "double",
                    "wireframe": false,
                    "colorScheme": "residueindex",
                    "colorScale": "spectral",
                    "colorReverse": true,
                    "colorValue": 9474192,
                    "colorMode": "hcl",
                    "roughness": 0.4,
                    "metalness": 0,
                    "diffuse": 16777215,
                    "diffuseInterior": false,
                    "useInteriorColor": true,
                    "interiorColor": 2236962,
                    "interiorDarkening": 0,
                    "matrix": {
                      "elements": [
                        1,
                        0,
                        0,
                        0,
                        0,
                        1,
                        0,
                        0,
                        0,
                        0,
                        1,
                        0,
                        0,
                        0,
                        0,
                        1
                      ]
                    },
                    "disablePicking": false,
                    "sele": ""
                  }
                },
                "2": {
                  "type": "ball+stick",
                  "params": {
                    "lazy": false,
                    "visible": true,
                    "quality": "high",
                    "sphereDetail": 2,
                    "radialSegments": 20,
                    "openEnded": true,
                    "disableImpostor": false,
                    "aspectRatio": 1.5,
                    "lineOnly": false,
                    "cylinderOnly": false,
                    "multipleBond": "off",
                    "bondScale": 0.3,
                    "bondSpacing": 0.75,
                    "linewidth": 2,
                    "radiusType": "size",
                    "radiusData": {},
                    "radiusSize": 0.15,
                    "radiusScale": 2,
                    "assembly": "default",
                    "defaultAssembly": "",
                    "clipNear": 0,
                    "clipRadius": 0,
                    "clipCenter": {
                      "x": 0,
                      "y": 0,
                      "z": 0
                    },
                    "flatShaded": false,
                    "opacity": 1,
                    "depthWrite": true,
                    "side": "double",
                    "wireframe": false,
                    "colorScheme": "element",
                    "colorScale": "",
                    "colorReverse": false,
                    "colorValue": 9474192,
                    "colorMode": "hcl",
                    "roughness": 0.4,
                    "metalness": 0,
                    "diffuse": 16777215,
                    "diffuseInterior": false,
                    "useInteriorColor": true,
                    "interiorColor": 2236962,
                    "interiorDarkening": 0,
                    "matrix": {
                      "elements": [
                        1,
                        0,
                        0,
                        0,
                        0,
                        1,
                        0,
                        0,
                        0,
                        0,
                        1,
                        0,
                        0,
                        0,
                        0,
                        1
                      ]
                    },
                    "disablePicking": false,
                    "sele": "ligand"
                  }
                }
              },
              "9": {
                "0": {
                  "type": "cartoon",
                  "params": {
                    "lazy": false,
                    "visible": true,
                    "quality": "high",
                    "aspectRatio": 5,
                    "subdiv": 6,
                    "radialSegments": 20,
                    "tension": null,
                    "capped": true,
                    "smoothSheet": false,
                    "radiusType": "sstruc",
                    "radiusData": {},
                    "radiusSize": 1,
                    "radiusScale": 0.7,
                    "assembly": "default",
                    "defaultAssembly": "",
                    "clipNear": 0,
                    "clipRadius": 0,
                    "clipCenter": {
                      "x": 0,
                      "y": 0,
                      "z": 0
                    },
                    "flatShaded": false,
                    "opacity": 1,
                    "depthWrite": true,
                    "side": "double",
                    "wireframe": false,
                    "colorScheme": "residueindex",
                    "colorScale": "spectral",
                    "colorReverse": true,
                    "colorValue": 9474192,
                    "colorMode": "hcl",
                    "roughness": 0.4,
                    "metalness": 0,
                    "diffuse": 16777215,
                    "diffuseInterior": false,
                    "useInteriorColor": true,
                    "interiorColor": 2236962,
                    "interiorDarkening": 0,
                    "matrix": {
                      "elements": [
                        1,
                        0,
                        0,
                        0,
                        0,
                        1,
                        0,
                        0,
                        0,
                        0,
                        1,
                        0,
                        0,
                        0,
                        0,
                        1
                      ]
                    },
                    "disablePicking": false,
                    "sele": ""
                  }
                },
                "1": {
                  "type": "base",
                  "params": {
                    "lazy": false,
                    "visible": true,
                    "quality": "high",
                    "sphereDetail": 2,
                    "radialSegments": 20,
                    "openEnded": true,
                    "disableImpostor": false,
                    "aspectRatio": 1,
                    "lineOnly": false,
                    "cylinderOnly": false,
                    "bondScale": 0.4,
                    "linewidth": 2,
                    "radiusType": "size",
                    "radiusData": {},
                    "radiusSize": 0.3,
                    "radiusScale": 1,
                    "assembly": "default",
                    "defaultAssembly": "",
                    "clipNear": 0,
                    "clipRadius": 0,
                    "clipCenter": {
                      "x": 0,
                      "y": 0,
                      "z": 0
                    },
                    "flatShaded": false,
                    "opacity": 1,
                    "depthWrite": true,
                    "side": "double",
                    "wireframe": false,
                    "colorScheme": "residueindex",
                    "colorScale": "spectral",
                    "colorReverse": true,
                    "colorValue": 9474192,
                    "colorMode": "hcl",
                    "roughness": 0.4,
                    "metalness": 0,
                    "diffuse": 16777215,
                    "diffuseInterior": false,
                    "useInteriorColor": true,
                    "interiorColor": 2236962,
                    "interiorDarkening": 0,
                    "matrix": {
                      "elements": [
                        1,
                        0,
                        0,
                        0,
                        0,
                        1,
                        0,
                        0,
                        0,
                        0,
                        1,
                        0,
                        0,
                        0,
                        0,
                        1
                      ]
                    },
                    "disablePicking": false,
                    "sele": ""
                  }
                },
                "2": {
                  "type": "ball+stick",
                  "params": {
                    "lazy": false,
                    "visible": true,
                    "quality": "high",
                    "sphereDetail": 2,
                    "radialSegments": 20,
                    "openEnded": true,
                    "disableImpostor": false,
                    "aspectRatio": 1.5,
                    "lineOnly": false,
                    "cylinderOnly": false,
                    "multipleBond": "off",
                    "bondScale": 0.3,
                    "bondSpacing": 0.75,
                    "linewidth": 2,
                    "radiusType": "size",
                    "radiusData": {},
                    "radiusSize": 0.15,
                    "radiusScale": 2,
                    "assembly": "default",
                    "defaultAssembly": "",
                    "clipNear": 0,
                    "clipRadius": 0,
                    "clipCenter": {
                      "x": 0,
                      "y": 0,
                      "z": 0
                    },
                    "flatShaded": false,
                    "opacity": 1,
                    "depthWrite": true,
                    "side": "double",
                    "wireframe": false,
                    "colorScheme": "element",
                    "colorScale": "",
                    "colorReverse": false,
                    "colorValue": 9474192,
                    "colorMode": "hcl",
                    "roughness": 0.4,
                    "metalness": 0,
                    "diffuse": 16777215,
                    "diffuseInterior": false,
                    "useInteriorColor": true,
                    "interiorColor": 2236962,
                    "interiorDarkening": 0,
                    "matrix": {
                      "elements": [
                        1,
                        0,
                        0,
                        0,
                        0,
                        1,
                        0,
                        0,
                        0,
                        0,
                        1,
                        0,
                        0,
                        0,
                        0,
                        1
                      ]
                    },
                    "disablePicking": false,
                    "sele": "ligand"
                  }
                }
              },
              "10": {
                "0": {
                  "type": "cartoon",
                  "params": {
                    "lazy": false,
                    "visible": true,
                    "quality": "high",
                    "aspectRatio": 5,
                    "subdiv": 6,
                    "radialSegments": 20,
                    "tension": null,
                    "capped": true,
                    "smoothSheet": false,
                    "radiusType": "sstruc",
                    "radiusData": {},
                    "radiusSize": 1,
                    "radiusScale": 0.7,
                    "assembly": "default",
                    "defaultAssembly": "",
                    "clipNear": 0,
                    "clipRadius": 0,
                    "clipCenter": {
                      "x": 0,
                      "y": 0,
                      "z": 0
                    },
                    "flatShaded": false,
                    "opacity": 1,
                    "depthWrite": true,
                    "side": "double",
                    "wireframe": false,
                    "colorScheme": "residueindex",
                    "colorScale": "spectral",
                    "colorReverse": true,
                    "colorValue": 9474192,
                    "colorMode": "hcl",
                    "roughness": 0.4,
                    "metalness": 0,
                    "diffuse": 16777215,
                    "diffuseInterior": false,
                    "useInteriorColor": true,
                    "interiorColor": 2236962,
                    "interiorDarkening": 0,
                    "matrix": {
                      "elements": [
                        1,
                        0,
                        0,
                        0,
                        0,
                        1,
                        0,
                        0,
                        0,
                        0,
                        1,
                        0,
                        0,
                        0,
                        0,
                        1
                      ]
                    },
                    "disablePicking": false,
                    "sele": ""
                  }
                },
                "1": {
                  "type": "base",
                  "params": {
                    "lazy": false,
                    "visible": true,
                    "quality": "high",
                    "sphereDetail": 2,
                    "radialSegments": 20,
                    "openEnded": true,
                    "disableImpostor": false,
                    "aspectRatio": 1,
                    "lineOnly": false,
                    "cylinderOnly": false,
                    "bondScale": 0.4,
                    "linewidth": 2,
                    "radiusType": "size",
                    "radiusData": {},
                    "radiusSize": 0.3,
                    "radiusScale": 1,
                    "assembly": "default",
                    "defaultAssembly": "",
                    "clipNear": 0,
                    "clipRadius": 0,
                    "clipCenter": {
                      "x": 0,
                      "y": 0,
                      "z": 0
                    },
                    "flatShaded": false,
                    "opacity": 1,
                    "depthWrite": true,
                    "side": "double",
                    "wireframe": false,
                    "colorScheme": "residueindex",
                    "colorScale": "spectral",
                    "colorReverse": true,
                    "colorValue": 9474192,
                    "colorMode": "hcl",
                    "roughness": 0.4,
                    "metalness": 0,
                    "diffuse": 16777215,
                    "diffuseInterior": false,
                    "useInteriorColor": true,
                    "interiorColor": 2236962,
                    "interiorDarkening": 0,
                    "matrix": {
                      "elements": [
                        1,
                        0,
                        0,
                        0,
                        0,
                        1,
                        0,
                        0,
                        0,
                        0,
                        1,
                        0,
                        0,
                        0,
                        0,
                        1
                      ]
                    },
                    "disablePicking": false,
                    "sele": ""
                  }
                },
                "2": {
                  "type": "ball+stick",
                  "params": {
                    "lazy": false,
                    "visible": true,
                    "quality": "high",
                    "sphereDetail": 2,
                    "radialSegments": 20,
                    "openEnded": true,
                    "disableImpostor": false,
                    "aspectRatio": 1.5,
                    "lineOnly": false,
                    "cylinderOnly": false,
                    "multipleBond": "off",
                    "bondScale": 0.3,
                    "bondSpacing": 0.75,
                    "linewidth": 2,
                    "radiusType": "size",
                    "radiusData": {},
                    "radiusSize": 0.15,
                    "radiusScale": 2,
                    "assembly": "default",
                    "defaultAssembly": "",
                    "clipNear": 0,
                    "clipRadius": 0,
                    "clipCenter": {
                      "x": 0,
                      "y": 0,
                      "z": 0
                    },
                    "flatShaded": false,
                    "opacity": 1,
                    "depthWrite": true,
                    "side": "double",
                    "wireframe": false,
                    "colorScheme": "element",
                    "colorScale": "",
                    "colorReverse": false,
                    "colorValue": 9474192,
                    "colorMode": "hcl",
                    "roughness": 0.4,
                    "metalness": 0,
                    "diffuse": 16777215,
                    "diffuseInterior": false,
                    "useInteriorColor": true,
                    "interiorColor": 2236962,
                    "interiorDarkening": 0,
                    "matrix": {
                      "elements": [
                        1,
                        0,
                        0,
                        0,
                        0,
                        1,
                        0,
                        0,
                        0,
                        0,
                        1,
                        0,
                        0,
                        0,
                        0,
                        1
                      ]
                    },
                    "disablePicking": false,
                    "sele": "ligand"
                  }
                }
              },
              "11": {
                "0": {
                  "type": "cartoon",
                  "params": {
                    "lazy": false,
                    "visible": true,
                    "quality": "high",
                    "aspectRatio": 5,
                    "subdiv": 6,
                    "radialSegments": 20,
                    "tension": null,
                    "capped": true,
                    "smoothSheet": false,
                    "radiusType": "sstruc",
                    "radiusData": {},
                    "radiusSize": 1,
                    "radiusScale": 0.7,
                    "assembly": "default",
                    "defaultAssembly": "",
                    "clipNear": 0,
                    "clipRadius": 0,
                    "clipCenter": {
                      "x": 0,
                      "y": 0,
                      "z": 0
                    },
                    "flatShaded": false,
                    "opacity": 1,
                    "depthWrite": true,
                    "side": "double",
                    "wireframe": false,
                    "colorScheme": "residueindex",
                    "colorScale": "spectral",
                    "colorReverse": true,
                    "colorValue": 9474192,
                    "colorMode": "hcl",
                    "roughness": 0.4,
                    "metalness": 0,
                    "diffuse": 16777215,
                    "diffuseInterior": false,
                    "useInteriorColor": true,
                    "interiorColor": 2236962,
                    "interiorDarkening": 0,
                    "matrix": {
                      "elements": [
                        1,
                        0,
                        0,
                        0,
                        0,
                        1,
                        0,
                        0,
                        0,
                        0,
                        1,
                        0,
                        0,
                        0,
                        0,
                        1
                      ]
                    },
                    "disablePicking": false,
                    "sele": ""
                  }
                },
                "1": {
                  "type": "base",
                  "params": {
                    "lazy": false,
                    "visible": true,
                    "quality": "high",
                    "sphereDetail": 2,
                    "radialSegments": 20,
                    "openEnded": true,
                    "disableImpostor": false,
                    "aspectRatio": 1,
                    "lineOnly": false,
                    "cylinderOnly": false,
                    "bondScale": 0.4,
                    "linewidth": 2,
                    "radiusType": "size",
                    "radiusData": {},
                    "radiusSize": 0.3,
                    "radiusScale": 1,
                    "assembly": "default",
                    "defaultAssembly": "",
                    "clipNear": 0,
                    "clipRadius": 0,
                    "clipCenter": {
                      "x": 0,
                      "y": 0,
                      "z": 0
                    },
                    "flatShaded": false,
                    "opacity": 1,
                    "depthWrite": true,
                    "side": "double",
                    "wireframe": false,
                    "colorScheme": "residueindex",
                    "colorScale": "spectral",
                    "colorReverse": true,
                    "colorValue": 9474192,
                    "colorMode": "hcl",
                    "roughness": 0.4,
                    "metalness": 0,
                    "diffuse": 16777215,
                    "diffuseInterior": false,
                    "useInteriorColor": true,
                    "interiorColor": 2236962,
                    "interiorDarkening": 0,
                    "matrix": {
                      "elements": [
                        1,
                        0,
                        0,
                        0,
                        0,
                        1,
                        0,
                        0,
                        0,
                        0,
                        1,
                        0,
                        0,
                        0,
                        0,
                        1
                      ]
                    },
                    "disablePicking": false,
                    "sele": ""
                  }
                },
                "2": {
                  "type": "ball+stick",
                  "params": {
                    "lazy": false,
                    "visible": true,
                    "quality": "high",
                    "sphereDetail": 2,
                    "radialSegments": 20,
                    "openEnded": true,
                    "disableImpostor": false,
                    "aspectRatio": 1.5,
                    "lineOnly": false,
                    "cylinderOnly": false,
                    "multipleBond": "off",
                    "bondScale": 0.3,
                    "bondSpacing": 0.75,
                    "linewidth": 2,
                    "radiusType": "size",
                    "radiusData": {},
                    "radiusSize": 0.15,
                    "radiusScale": 2,
                    "assembly": "default",
                    "defaultAssembly": "",
                    "clipNear": 0,
                    "clipRadius": 0,
                    "clipCenter": {
                      "x": 0,
                      "y": 0,
                      "z": 0
                    },
                    "flatShaded": false,
                    "opacity": 1,
                    "depthWrite": true,
                    "side": "double",
                    "wireframe": false,
                    "colorScheme": "element",
                    "colorScale": "",
                    "colorReverse": false,
                    "colorValue": 9474192,
                    "colorMode": "hcl",
                    "roughness": 0.4,
                    "metalness": 0,
                    "diffuse": 16777215,
                    "diffuseInterior": false,
                    "useInteriorColor": true,
                    "interiorColor": 2236962,
                    "interiorDarkening": 0,
                    "matrix": {
                      "elements": [
                        1,
                        0,
                        0,
                        0,
                        0,
                        1,
                        0,
                        0,
                        0,
                        0,
                        1,
                        0,
                        0,
                        0,
                        0,
                        1
                      ]
                    },
                    "disablePicking": false,
                    "sele": "ligand"
                  }
                }
              },
              "12": {
                "0": {
                  "type": "cartoon",
                  "params": {
                    "lazy": false,
                    "visible": true,
                    "quality": "high",
                    "aspectRatio": 5,
                    "subdiv": 6,
                    "radialSegments": 20,
                    "tension": null,
                    "capped": true,
                    "smoothSheet": false,
                    "radiusType": "sstruc",
                    "radiusData": {},
                    "radiusSize": 1,
                    "radiusScale": 0.7,
                    "assembly": "default",
                    "defaultAssembly": "",
                    "clipNear": 0,
                    "clipRadius": 0,
                    "clipCenter": {
                      "x": 0,
                      "y": 0,
                      "z": 0
                    },
                    "flatShaded": false,
                    "opacity": 1,
                    "depthWrite": true,
                    "side": "double",
                    "wireframe": false,
                    "colorScheme": "residueindex",
                    "colorScale": "spectral",
                    "colorReverse": true,
                    "colorValue": 9474192,
                    "colorMode": "hcl",
                    "roughness": 0.4,
                    "metalness": 0,
                    "diffuse": 16777215,
                    "diffuseInterior": false,
                    "useInteriorColor": true,
                    "interiorColor": 2236962,
                    "interiorDarkening": 0,
                    "matrix": {
                      "elements": [
                        1,
                        0,
                        0,
                        0,
                        0,
                        1,
                        0,
                        0,
                        0,
                        0,
                        1,
                        0,
                        0,
                        0,
                        0,
                        1
                      ]
                    },
                    "disablePicking": false,
                    "sele": ""
                  }
                },
                "1": {
                  "type": "base",
                  "params": {
                    "lazy": false,
                    "visible": true,
                    "quality": "high",
                    "sphereDetail": 2,
                    "radialSegments": 20,
                    "openEnded": true,
                    "disableImpostor": false,
                    "aspectRatio": 1,
                    "lineOnly": false,
                    "cylinderOnly": false,
                    "bondScale": 0.4,
                    "linewidth": 2,
                    "radiusType": "size",
                    "radiusData": {},
                    "radiusSize": 0.3,
                    "radiusScale": 1,
                    "assembly": "default",
                    "defaultAssembly": "",
                    "clipNear": 0,
                    "clipRadius": 0,
                    "clipCenter": {
                      "x": 0,
                      "y": 0,
                      "z": 0
                    },
                    "flatShaded": false,
                    "opacity": 1,
                    "depthWrite": true,
                    "side": "double",
                    "wireframe": false,
                    "colorScheme": "residueindex",
                    "colorScale": "spectral",
                    "colorReverse": true,
                    "colorValue": 9474192,
                    "colorMode": "hcl",
                    "roughness": 0.4,
                    "metalness": 0,
                    "diffuse": 16777215,
                    "diffuseInterior": false,
                    "useInteriorColor": true,
                    "interiorColor": 2236962,
                    "interiorDarkening": 0,
                    "matrix": {
                      "elements": [
                        1,
                        0,
                        0,
                        0,
                        0,
                        1,
                        0,
                        0,
                        0,
                        0,
                        1,
                        0,
                        0,
                        0,
                        0,
                        1
                      ]
                    },
                    "disablePicking": false,
                    "sele": ""
                  }
                },
                "2": {
                  "type": "ball+stick",
                  "params": {
                    "lazy": false,
                    "visible": true,
                    "quality": "high",
                    "sphereDetail": 2,
                    "radialSegments": 20,
                    "openEnded": true,
                    "disableImpostor": false,
                    "aspectRatio": 1.5,
                    "lineOnly": false,
                    "cylinderOnly": false,
                    "multipleBond": "off",
                    "bondScale": 0.3,
                    "bondSpacing": 0.75,
                    "linewidth": 2,
                    "radiusType": "size",
                    "radiusData": {},
                    "radiusSize": 0.15,
                    "radiusScale": 2,
                    "assembly": "default",
                    "defaultAssembly": "",
                    "clipNear": 0,
                    "clipRadius": 0,
                    "clipCenter": {
                      "x": 0,
                      "y": 0,
                      "z": 0
                    },
                    "flatShaded": false,
                    "opacity": 1,
                    "depthWrite": true,
                    "side": "double",
                    "wireframe": false,
                    "colorScheme": "element",
                    "colorScale": "",
                    "colorReverse": false,
                    "colorValue": 9474192,
                    "colorMode": "hcl",
                    "roughness": 0.4,
                    "metalness": 0,
                    "diffuse": 16777215,
                    "diffuseInterior": false,
                    "useInteriorColor": true,
                    "interiorColor": 2236962,
                    "interiorDarkening": 0,
                    "matrix": {
                      "elements": [
                        1,
                        0,
                        0,
                        0,
                        0,
                        1,
                        0,
                        0,
                        0,
                        0,
                        1,
                        0,
                        0,
                        0,
                        0,
                        1
                      ]
                    },
                    "disablePicking": false,
                    "sele": "ligand"
                  }
                }
              },
              "13": {
                "0": {
                  "type": "cartoon",
                  "params": {
                    "lazy": false,
                    "visible": true,
                    "quality": "high",
                    "aspectRatio": 5,
                    "subdiv": 6,
                    "radialSegments": 20,
                    "tension": null,
                    "capped": true,
                    "smoothSheet": false,
                    "radiusType": "sstruc",
                    "radiusData": {},
                    "radiusSize": 1,
                    "radiusScale": 0.7,
                    "assembly": "default",
                    "defaultAssembly": "",
                    "clipNear": 0,
                    "clipRadius": 0,
                    "clipCenter": {
                      "x": 0,
                      "y": 0,
                      "z": 0
                    },
                    "flatShaded": false,
                    "opacity": 1,
                    "depthWrite": true,
                    "side": "double",
                    "wireframe": false,
                    "colorScheme": "residueindex",
                    "colorScale": "spectral",
                    "colorReverse": true,
                    "colorValue": 9474192,
                    "colorMode": "hcl",
                    "roughness": 0.4,
                    "metalness": 0,
                    "diffuse": 16777215,
                    "diffuseInterior": false,
                    "useInteriorColor": true,
                    "interiorColor": 2236962,
                    "interiorDarkening": 0,
                    "matrix": {
                      "elements": [
                        1,
                        0,
                        0,
                        0,
                        0,
                        1,
                        0,
                        0,
                        0,
                        0,
                        1,
                        0,
                        0,
                        0,
                        0,
                        1
                      ]
                    },
                    "disablePicking": false,
                    "sele": ""
                  }
                },
                "1": {
                  "type": "base",
                  "params": {
                    "lazy": false,
                    "visible": true,
                    "quality": "high",
                    "sphereDetail": 2,
                    "radialSegments": 20,
                    "openEnded": true,
                    "disableImpostor": false,
                    "aspectRatio": 1,
                    "lineOnly": false,
                    "cylinderOnly": false,
                    "bondScale": 0.4,
                    "linewidth": 2,
                    "radiusType": "size",
                    "radiusData": {},
                    "radiusSize": 0.3,
                    "radiusScale": 1,
                    "assembly": "default",
                    "defaultAssembly": "",
                    "clipNear": 0,
                    "clipRadius": 0,
                    "clipCenter": {
                      "x": 0,
                      "y": 0,
                      "z": 0
                    },
                    "flatShaded": false,
                    "opacity": 1,
                    "depthWrite": true,
                    "side": "double",
                    "wireframe": false,
                    "colorScheme": "residueindex",
                    "colorScale": "spectral",
                    "colorReverse": true,
                    "colorValue": 9474192,
                    "colorMode": "hcl",
                    "roughness": 0.4,
                    "metalness": 0,
                    "diffuse": 16777215,
                    "diffuseInterior": false,
                    "useInteriorColor": true,
                    "interiorColor": 2236962,
                    "interiorDarkening": 0,
                    "matrix": {
                      "elements": [
                        1,
                        0,
                        0,
                        0,
                        0,
                        1,
                        0,
                        0,
                        0,
                        0,
                        1,
                        0,
                        0,
                        0,
                        0,
                        1
                      ]
                    },
                    "disablePicking": false,
                    "sele": ""
                  }
                },
                "2": {
                  "type": "ball+stick",
                  "params": {
                    "lazy": false,
                    "visible": true,
                    "quality": "high",
                    "sphereDetail": 2,
                    "radialSegments": 20,
                    "openEnded": true,
                    "disableImpostor": false,
                    "aspectRatio": 1.5,
                    "lineOnly": false,
                    "cylinderOnly": false,
                    "multipleBond": "off",
                    "bondScale": 0.3,
                    "bondSpacing": 0.75,
                    "linewidth": 2,
                    "radiusType": "size",
                    "radiusData": {},
                    "radiusSize": 0.15,
                    "radiusScale": 2,
                    "assembly": "default",
                    "defaultAssembly": "",
                    "clipNear": 0,
                    "clipRadius": 0,
                    "clipCenter": {
                      "x": 0,
                      "y": 0,
                      "z": 0
                    },
                    "flatShaded": false,
                    "opacity": 1,
                    "depthWrite": true,
                    "side": "double",
                    "wireframe": false,
                    "colorScheme": "element",
                    "colorScale": "",
                    "colorReverse": false,
                    "colorValue": 9474192,
                    "colorMode": "hcl",
                    "roughness": 0.4,
                    "metalness": 0,
                    "diffuse": 16777215,
                    "diffuseInterior": false,
                    "useInteriorColor": true,
                    "interiorColor": 2236962,
                    "interiorDarkening": 0,
                    "matrix": {
                      "elements": [
                        1,
                        0,
                        0,
                        0,
                        0,
                        1,
                        0,
                        0,
                        0,
                        0,
                        1,
                        0,
                        0,
                        0,
                        0,
                        1
                      ]
                    },
                    "disablePicking": false,
                    "sele": "ligand"
                  }
                }
              },
              "14": {
                "0": {
                  "type": "cartoon",
                  "params": {
                    "lazy": false,
                    "visible": true,
                    "quality": "high",
                    "aspectRatio": 5,
                    "subdiv": 6,
                    "radialSegments": 20,
                    "tension": null,
                    "capped": true,
                    "smoothSheet": false,
                    "radiusType": "sstruc",
                    "radiusData": {},
                    "radiusSize": 1,
                    "radiusScale": 0.7,
                    "assembly": "default",
                    "defaultAssembly": "",
                    "clipNear": 0,
                    "clipRadius": 0,
                    "clipCenter": {
                      "x": 0,
                      "y": 0,
                      "z": 0
                    },
                    "flatShaded": false,
                    "opacity": 1,
                    "depthWrite": true,
                    "side": "double",
                    "wireframe": false,
                    "colorScheme": "residueindex",
                    "colorScale": "spectral",
                    "colorReverse": true,
                    "colorValue": 9474192,
                    "colorMode": "hcl",
                    "roughness": 0.4,
                    "metalness": 0,
                    "diffuse": 16777215,
                    "diffuseInterior": false,
                    "useInteriorColor": true,
                    "interiorColor": 2236962,
                    "interiorDarkening": 0,
                    "matrix": {
                      "elements": [
                        1,
                        0,
                        0,
                        0,
                        0,
                        1,
                        0,
                        0,
                        0,
                        0,
                        1,
                        0,
                        0,
                        0,
                        0,
                        1
                      ]
                    },
                    "disablePicking": false,
                    "sele": ""
                  }
                },
                "1": {
                  "type": "base",
                  "params": {
                    "lazy": false,
                    "visible": true,
                    "quality": "high",
                    "sphereDetail": 2,
                    "radialSegments": 20,
                    "openEnded": true,
                    "disableImpostor": false,
                    "aspectRatio": 1,
                    "lineOnly": false,
                    "cylinderOnly": false,
                    "bondScale": 0.4,
                    "linewidth": 2,
                    "radiusType": "size",
                    "radiusData": {},
                    "radiusSize": 0.3,
                    "radiusScale": 1,
                    "assembly": "default",
                    "defaultAssembly": "",
                    "clipNear": 0,
                    "clipRadius": 0,
                    "clipCenter": {
                      "x": 0,
                      "y": 0,
                      "z": 0
                    },
                    "flatShaded": false,
                    "opacity": 1,
                    "depthWrite": true,
                    "side": "double",
                    "wireframe": false,
                    "colorScheme": "residueindex",
                    "colorScale": "spectral",
                    "colorReverse": true,
                    "colorValue": 9474192,
                    "colorMode": "hcl",
                    "roughness": 0.4,
                    "metalness": 0,
                    "diffuse": 16777215,
                    "diffuseInterior": false,
                    "useInteriorColor": true,
                    "interiorColor": 2236962,
                    "interiorDarkening": 0,
                    "matrix": {
                      "elements": [
                        1,
                        0,
                        0,
                        0,
                        0,
                        1,
                        0,
                        0,
                        0,
                        0,
                        1,
                        0,
                        0,
                        0,
                        0,
                        1
                      ]
                    },
                    "disablePicking": false,
                    "sele": ""
                  }
                },
                "2": {
                  "type": "ball+stick",
                  "params": {
                    "lazy": false,
                    "visible": true,
                    "quality": "high",
                    "sphereDetail": 2,
                    "radialSegments": 20,
                    "openEnded": true,
                    "disableImpostor": false,
                    "aspectRatio": 1.5,
                    "lineOnly": false,
                    "cylinderOnly": false,
                    "multipleBond": "off",
                    "bondScale": 0.3,
                    "bondSpacing": 0.75,
                    "linewidth": 2,
                    "radiusType": "size",
                    "radiusData": {},
                    "radiusSize": 0.15,
                    "radiusScale": 2,
                    "assembly": "default",
                    "defaultAssembly": "",
                    "clipNear": 0,
                    "clipRadius": 0,
                    "clipCenter": {
                      "x": 0,
                      "y": 0,
                      "z": 0
                    },
                    "flatShaded": false,
                    "opacity": 1,
                    "depthWrite": true,
                    "side": "double",
                    "wireframe": false,
                    "colorScheme": "element",
                    "colorScale": "",
                    "colorReverse": false,
                    "colorValue": 9474192,
                    "colorMode": "hcl",
                    "roughness": 0.4,
                    "metalness": 0,
                    "diffuse": 16777215,
                    "diffuseInterior": false,
                    "useInteriorColor": true,
                    "interiorColor": 2236962,
                    "interiorDarkening": 0,
                    "matrix": {
                      "elements": [
                        1,
                        0,
                        0,
                        0,
                        0,
                        1,
                        0,
                        0,
                        0,
                        0,
                        1,
                        0,
                        0,
                        0,
                        0,
                        1
                      ]
                    },
                    "disablePicking": false,
                    "sele": "ligand"
                  }
                }
              },
              "15": {
                "0": {
                  "type": "cartoon",
                  "params": {
                    "lazy": false,
                    "visible": true,
                    "quality": "high",
                    "aspectRatio": 5,
                    "subdiv": 6,
                    "radialSegments": 20,
                    "tension": null,
                    "capped": true,
                    "smoothSheet": false,
                    "radiusType": "sstruc",
                    "radiusData": {},
                    "radiusSize": 1,
                    "radiusScale": 0.7,
                    "assembly": "default",
                    "defaultAssembly": "",
                    "clipNear": 0,
                    "clipRadius": 0,
                    "clipCenter": {
                      "x": 0,
                      "y": 0,
                      "z": 0
                    },
                    "flatShaded": false,
                    "opacity": 1,
                    "depthWrite": true,
                    "side": "double",
                    "wireframe": false,
                    "colorScheme": "residueindex",
                    "colorScale": "spectral",
                    "colorReverse": true,
                    "colorValue": 9474192,
                    "colorMode": "hcl",
                    "roughness": 0.4,
                    "metalness": 0,
                    "diffuse": 16777215,
                    "diffuseInterior": false,
                    "useInteriorColor": true,
                    "interiorColor": 2236962,
                    "interiorDarkening": 0,
                    "matrix": {
                      "elements": [
                        1,
                        0,
                        0,
                        0,
                        0,
                        1,
                        0,
                        0,
                        0,
                        0,
                        1,
                        0,
                        0,
                        0,
                        0,
                        1
                      ]
                    },
                    "disablePicking": false,
                    "sele": ""
                  }
                },
                "1": {
                  "type": "base",
                  "params": {
                    "lazy": false,
                    "visible": true,
                    "quality": "high",
                    "sphereDetail": 2,
                    "radialSegments": 20,
                    "openEnded": true,
                    "disableImpostor": false,
                    "aspectRatio": 1,
                    "lineOnly": false,
                    "cylinderOnly": false,
                    "bondScale": 0.4,
                    "linewidth": 2,
                    "radiusType": "size",
                    "radiusData": {},
                    "radiusSize": 0.3,
                    "radiusScale": 1,
                    "assembly": "default",
                    "defaultAssembly": "",
                    "clipNear": 0,
                    "clipRadius": 0,
                    "clipCenter": {
                      "x": 0,
                      "y": 0,
                      "z": 0
                    },
                    "flatShaded": false,
                    "opacity": 1,
                    "depthWrite": true,
                    "side": "double",
                    "wireframe": false,
                    "colorScheme": "residueindex",
                    "colorScale": "spectral",
                    "colorReverse": true,
                    "colorValue": 9474192,
                    "colorMode": "hcl",
                    "roughness": 0.4,
                    "metalness": 0,
                    "diffuse": 16777215,
                    "diffuseInterior": false,
                    "useInteriorColor": true,
                    "interiorColor": 2236962,
                    "interiorDarkening": 0,
                    "matrix": {
                      "elements": [
                        1,
                        0,
                        0,
                        0,
                        0,
                        1,
                        0,
                        0,
                        0,
                        0,
                        1,
                        0,
                        0,
                        0,
                        0,
                        1
                      ]
                    },
                    "disablePicking": false,
                    "sele": ""
                  }
                },
                "2": {
                  "type": "ball+stick",
                  "params": {
                    "lazy": false,
                    "visible": true,
                    "quality": "high",
                    "sphereDetail": 2,
                    "radialSegments": 20,
                    "openEnded": true,
                    "disableImpostor": false,
                    "aspectRatio": 1.5,
                    "lineOnly": false,
                    "cylinderOnly": false,
                    "multipleBond": "off",
                    "bondScale": 0.3,
                    "bondSpacing": 0.75,
                    "linewidth": 2,
                    "radiusType": "size",
                    "radiusData": {},
                    "radiusSize": 0.15,
                    "radiusScale": 2,
                    "assembly": "default",
                    "defaultAssembly": "",
                    "clipNear": 0,
                    "clipRadius": 0,
                    "clipCenter": {
                      "x": 0,
                      "y": 0,
                      "z": 0
                    },
                    "flatShaded": false,
                    "opacity": 1,
                    "depthWrite": true,
                    "side": "double",
                    "wireframe": false,
                    "colorScheme": "element",
                    "colorScale": "",
                    "colorReverse": false,
                    "colorValue": 9474192,
                    "colorMode": "hcl",
                    "roughness": 0.4,
                    "metalness": 0,
                    "diffuse": 16777215,
                    "diffuseInterior": false,
                    "useInteriorColor": true,
                    "interiorColor": 2236962,
                    "interiorDarkening": 0,
                    "matrix": {
                      "elements": [
                        1,
                        0,
                        0,
                        0,
                        0,
                        1,
                        0,
                        0,
                        0,
                        0,
                        1,
                        0,
                        0,
                        0,
                        0,
                        1
                      ]
                    },
                    "disablePicking": false,
                    "sele": "ligand"
                  }
                }
              },
              "16": {
                "0": {
                  "type": "cartoon",
                  "params": {
                    "lazy": false,
                    "visible": true,
                    "quality": "high",
                    "aspectRatio": 5,
                    "subdiv": 6,
                    "radialSegments": 20,
                    "tension": null,
                    "capped": true,
                    "smoothSheet": false,
                    "radiusType": "sstruc",
                    "radiusData": {},
                    "radiusSize": 1,
                    "radiusScale": 0.7,
                    "assembly": "default",
                    "defaultAssembly": "",
                    "clipNear": 0,
                    "clipRadius": 0,
                    "clipCenter": {
                      "x": 0,
                      "y": 0,
                      "z": 0
                    },
                    "flatShaded": false,
                    "opacity": 1,
                    "depthWrite": true,
                    "side": "double",
                    "wireframe": false,
                    "colorScheme": "residueindex",
                    "colorScale": "spectral",
                    "colorReverse": true,
                    "colorValue": 9474192,
                    "colorMode": "hcl",
                    "roughness": 0.4,
                    "metalness": 0,
                    "diffuse": 16777215,
                    "diffuseInterior": false,
                    "useInteriorColor": true,
                    "interiorColor": 2236962,
                    "interiorDarkening": 0,
                    "matrix": {
                      "elements": [
                        1,
                        0,
                        0,
                        0,
                        0,
                        1,
                        0,
                        0,
                        0,
                        0,
                        1,
                        0,
                        0,
                        0,
                        0,
                        1
                      ]
                    },
                    "disablePicking": false,
                    "sele": ""
                  }
                },
                "1": {
                  "type": "base",
                  "params": {
                    "lazy": false,
                    "visible": true,
                    "quality": "high",
                    "sphereDetail": 2,
                    "radialSegments": 20,
                    "openEnded": true,
                    "disableImpostor": false,
                    "aspectRatio": 1,
                    "lineOnly": false,
                    "cylinderOnly": false,
                    "bondScale": 0.4,
                    "linewidth": 2,
                    "radiusType": "size",
                    "radiusData": {},
                    "radiusSize": 0.3,
                    "radiusScale": 1,
                    "assembly": "default",
                    "defaultAssembly": "",
                    "clipNear": 0,
                    "clipRadius": 0,
                    "clipCenter": {
                      "x": 0,
                      "y": 0,
                      "z": 0
                    },
                    "flatShaded": false,
                    "opacity": 1,
                    "depthWrite": true,
                    "side": "double",
                    "wireframe": false,
                    "colorScheme": "residueindex",
                    "colorScale": "spectral",
                    "colorReverse": true,
                    "colorValue": 9474192,
                    "colorMode": "hcl",
                    "roughness": 0.4,
                    "metalness": 0,
                    "diffuse": 16777215,
                    "diffuseInterior": false,
                    "useInteriorColor": true,
                    "interiorColor": 2236962,
                    "interiorDarkening": 0,
                    "matrix": {
                      "elements": [
                        1,
                        0,
                        0,
                        0,
                        0,
                        1,
                        0,
                        0,
                        0,
                        0,
                        1,
                        0,
                        0,
                        0,
                        0,
                        1
                      ]
                    },
                    "disablePicking": false,
                    "sele": ""
                  }
                },
                "2": {
                  "type": "ball+stick",
                  "params": {
                    "lazy": false,
                    "visible": true,
                    "quality": "high",
                    "sphereDetail": 2,
                    "radialSegments": 20,
                    "openEnded": true,
                    "disableImpostor": false,
                    "aspectRatio": 1.5,
                    "lineOnly": false,
                    "cylinderOnly": false,
                    "multipleBond": "off",
                    "bondScale": 0.3,
                    "bondSpacing": 0.75,
                    "linewidth": 2,
                    "radiusType": "size",
                    "radiusData": {},
                    "radiusSize": 0.15,
                    "radiusScale": 2,
                    "assembly": "default",
                    "defaultAssembly": "",
                    "clipNear": 0,
                    "clipRadius": 0,
                    "clipCenter": {
                      "x": 0,
                      "y": 0,
                      "z": 0
                    },
                    "flatShaded": false,
                    "opacity": 1,
                    "depthWrite": true,
                    "side": "double",
                    "wireframe": false,
                    "colorScheme": "element",
                    "colorScale": "",
                    "colorReverse": false,
                    "colorValue": 9474192,
                    "colorMode": "hcl",
                    "roughness": 0.4,
                    "metalness": 0,
                    "diffuse": 16777215,
                    "diffuseInterior": false,
                    "useInteriorColor": true,
                    "interiorColor": 2236962,
                    "interiorDarkening": 0,
                    "matrix": {
                      "elements": [
                        1,
                        0,
                        0,
                        0,
                        0,
                        1,
                        0,
                        0,
                        0,
                        0,
                        1,
                        0,
                        0,
                        0,
                        0,
                        1
                      ]
                    },
                    "disablePicking": false,
                    "sele": "ligand"
                  }
                }
              },
              "17": {
                "0": {
                  "type": "cartoon",
                  "params": {
                    "lazy": false,
                    "visible": true,
                    "quality": "high",
                    "aspectRatio": 5,
                    "subdiv": 6,
                    "radialSegments": 20,
                    "tension": null,
                    "capped": true,
                    "smoothSheet": false,
                    "radiusType": "sstruc",
                    "radiusData": {},
                    "radiusSize": 1,
                    "radiusScale": 0.7,
                    "assembly": "default",
                    "defaultAssembly": "",
                    "clipNear": 0,
                    "clipRadius": 0,
                    "clipCenter": {
                      "x": 0,
                      "y": 0,
                      "z": 0
                    },
                    "flatShaded": false,
                    "opacity": 1,
                    "depthWrite": true,
                    "side": "double",
                    "wireframe": false,
                    "colorScheme": "residueindex",
                    "colorScale": "spectral",
                    "colorReverse": true,
                    "colorValue": 9474192,
                    "colorMode": "hcl",
                    "roughness": 0.4,
                    "metalness": 0,
                    "diffuse": 16777215,
                    "diffuseInterior": false,
                    "useInteriorColor": true,
                    "interiorColor": 2236962,
                    "interiorDarkening": 0,
                    "matrix": {
                      "elements": [
                        1,
                        0,
                        0,
                        0,
                        0,
                        1,
                        0,
                        0,
                        0,
                        0,
                        1,
                        0,
                        0,
                        0,
                        0,
                        1
                      ]
                    },
                    "disablePicking": false,
                    "sele": ""
                  }
                },
                "1": {
                  "type": "base",
                  "params": {
                    "lazy": false,
                    "visible": true,
                    "quality": "high",
                    "sphereDetail": 2,
                    "radialSegments": 20,
                    "openEnded": true,
                    "disableImpostor": false,
                    "aspectRatio": 1,
                    "lineOnly": false,
                    "cylinderOnly": false,
                    "bondScale": 0.4,
                    "linewidth": 2,
                    "radiusType": "size",
                    "radiusData": {},
                    "radiusSize": 0.3,
                    "radiusScale": 1,
                    "assembly": "default",
                    "defaultAssembly": "",
                    "clipNear": 0,
                    "clipRadius": 0,
                    "clipCenter": {
                      "x": 0,
                      "y": 0,
                      "z": 0
                    },
                    "flatShaded": false,
                    "opacity": 1,
                    "depthWrite": true,
                    "side": "double",
                    "wireframe": false,
                    "colorScheme": "residueindex",
                    "colorScale": "spectral",
                    "colorReverse": true,
                    "colorValue": 9474192,
                    "colorMode": "hcl",
                    "roughness": 0.4,
                    "metalness": 0,
                    "diffuse": 16777215,
                    "diffuseInterior": false,
                    "useInteriorColor": true,
                    "interiorColor": 2236962,
                    "interiorDarkening": 0,
                    "matrix": {
                      "elements": [
                        1,
                        0,
                        0,
                        0,
                        0,
                        1,
                        0,
                        0,
                        0,
                        0,
                        1,
                        0,
                        0,
                        0,
                        0,
                        1
                      ]
                    },
                    "disablePicking": false,
                    "sele": ""
                  }
                },
                "2": {
                  "type": "ball+stick",
                  "params": {
                    "lazy": false,
                    "visible": true,
                    "quality": "high",
                    "sphereDetail": 2,
                    "radialSegments": 20,
                    "openEnded": true,
                    "disableImpostor": false,
                    "aspectRatio": 1.5,
                    "lineOnly": false,
                    "cylinderOnly": false,
                    "multipleBond": "off",
                    "bondScale": 0.3,
                    "bondSpacing": 0.75,
                    "linewidth": 2,
                    "radiusType": "size",
                    "radiusData": {},
                    "radiusSize": 0.15,
                    "radiusScale": 2,
                    "assembly": "default",
                    "defaultAssembly": "",
                    "clipNear": 0,
                    "clipRadius": 0,
                    "clipCenter": {
                      "x": 0,
                      "y": 0,
                      "z": 0
                    },
                    "flatShaded": false,
                    "opacity": 1,
                    "depthWrite": true,
                    "side": "double",
                    "wireframe": false,
                    "colorScheme": "element",
                    "colorScale": "",
                    "colorReverse": false,
                    "colorValue": 9474192,
                    "colorMode": "hcl",
                    "roughness": 0.4,
                    "metalness": 0,
                    "diffuse": 16777215,
                    "diffuseInterior": false,
                    "useInteriorColor": true,
                    "interiorColor": 2236962,
                    "interiorDarkening": 0,
                    "matrix": {
                      "elements": [
                        1,
                        0,
                        0,
                        0,
                        0,
                        1,
                        0,
                        0,
                        0,
                        0,
                        1,
                        0,
                        0,
                        0,
                        0,
                        1
                      ]
                    },
                    "disablePicking": false,
                    "sele": "ligand"
                  }
                }
              }
            },
            "_ngl_serialize": false,
            "_ngl_version": "2.0.0-dev.39",
            "_ngl_view_id": [
              "4A0B37DD-0B26-49C4-90A6-613AD089224C"
            ],
            "_player_dict": {},
            "_scene_position": {},
            "_scene_rotation": {},
            "_synced_model_ids": [],
            "_synced_repr_model_ids": [],
            "_view_count": null,
            "_view_height": "",
            "_view_module": "nglview-js-widgets",
            "_view_module_version": "3.0.8",
            "_view_name": "NGLView",
            "_view_width": "",
            "background": "white",
            "frame": 0,
            "gui_style": null,
            "layout": "IPY_MODEL_3dce4f38106d42edb8192269555db5be",
            "max_frame": 0,
            "n_components": 18,
            "picked": {}
          }
        },
        "3dce4f38106d42edb8192269555db5be": {
          "model_module": "@jupyter-widgets/base",
          "model_name": "LayoutModel",
          "model_module_version": "1.2.0",
          "state": {
            "_model_module": "@jupyter-widgets/base",
            "_model_module_version": "1.2.0",
            "_model_name": "LayoutModel",
            "_view_count": null,
            "_view_module": "@jupyter-widgets/base",
            "_view_module_version": "1.2.0",
            "_view_name": "LayoutView",
            "align_content": null,
            "align_items": null,
            "align_self": null,
            "border": null,
            "bottom": null,
            "display": null,
            "flex": null,
            "flex_flow": null,
            "grid_area": null,
            "grid_auto_columns": null,
            "grid_auto_flow": null,
            "grid_auto_rows": null,
            "grid_column": null,
            "grid_gap": null,
            "grid_row": null,
            "grid_template_areas": null,
            "grid_template_columns": null,
            "grid_template_rows": null,
            "height": null,
            "justify_content": null,
            "justify_items": null,
            "left": null,
            "margin": null,
            "max_height": null,
            "max_width": null,
            "min_height": null,
            "min_width": null,
            "object_fit": null,
            "object_position": null,
            "order": null,
            "overflow": null,
            "overflow_x": null,
            "overflow_y": null,
            "padding": null,
            "right": null,
            "top": null,
            "visibility": null,
            "width": null
          }
        },
        "418540ec0bf4471587f39d1506d6db59": {
          "model_module": "@jupyter-widgets/controls",
          "model_name": "ButtonModel",
          "model_module_version": "1.5.0",
          "state": {
            "_dom_classes": [],
            "_model_module": "@jupyter-widgets/controls",
            "_model_module_version": "1.5.0",
            "_model_name": "ButtonModel",
            "_view_count": null,
            "_view_module": "@jupyter-widgets/controls",
            "_view_module_version": "1.5.0",
            "_view_name": "ButtonView",
            "button_style": "",
            "description": "",
            "disabled": false,
            "icon": "compress",
            "layout": "IPY_MODEL_a0377cc811934636a3e78042d33dcaee",
            "style": "IPY_MODEL_9bb448e141b840a4b788da277c427d1e",
            "tooltip": ""
          }
        },
        "859adb156fed4df3b48639eb0c8cb1d7": {
          "model_module": "@jupyter-widgets/controls",
          "model_name": "HBoxModel",
          "model_module_version": "1.5.0",
          "state": {
            "_dom_classes": [],
            "_model_module": "@jupyter-widgets/controls",
            "_model_module_version": "1.5.0",
            "_model_name": "HBoxModel",
            "_view_count": null,
            "_view_module": "@jupyter-widgets/controls",
            "_view_module_version": "1.5.0",
            "_view_name": "HBoxView",
            "box_style": "",
            "children": [
              "IPY_MODEL_213bbf39889744a88db1e8aad054c5fe",
              "IPY_MODEL_198bdd558ab44ef9bbd7700f7e26c0b2"
            ],
            "layout": "IPY_MODEL_29f7418e9c1e469c9ae223b4c6d9dd2e"
          }
        },
        "3ff5729af87046f194f9c0c2226f4c19": {
          "model_module": "@jupyter-widgets/base",
          "model_name": "LayoutModel",
          "model_module_version": "1.2.0",
          "state": {
            "_model_module": "@jupyter-widgets/base",
            "_model_module_version": "1.2.0",
            "_model_name": "LayoutModel",
            "_view_count": null,
            "_view_module": "@jupyter-widgets/base",
            "_view_module_version": "1.2.0",
            "_view_name": "LayoutView",
            "align_content": null,
            "align_items": null,
            "align_self": null,
            "border": null,
            "bottom": null,
            "display": null,
            "flex": null,
            "flex_flow": null,
            "grid_area": null,
            "grid_auto_columns": null,
            "grid_auto_flow": null,
            "grid_auto_rows": null,
            "grid_column": null,
            "grid_gap": null,
            "grid_row": null,
            "grid_template_areas": null,
            "grid_template_columns": null,
            "grid_template_rows": null,
            "height": null,
            "justify_content": null,
            "justify_items": null,
            "left": null,
            "margin": null,
            "max_height": null,
            "max_width": null,
            "min_height": null,
            "min_width": null,
            "object_fit": null,
            "object_position": null,
            "order": null,
            "overflow": null,
            "overflow_x": null,
            "overflow_y": null,
            "padding": null,
            "right": null,
            "top": null,
            "visibility": null,
            "width": null
          }
        },
        "4aefe8f37d0446bc931c0c1e528cbdff": {
          "model_module": "@jupyter-widgets/controls",
          "model_name": "DescriptionStyleModel",
          "model_module_version": "1.5.0",
          "state": {
            "_model_module": "@jupyter-widgets/controls",
            "_model_module_version": "1.5.0",
            "_model_name": "DescriptionStyleModel",
            "_view_count": null,
            "_view_module": "@jupyter-widgets/base",
            "_view_module_version": "1.2.0",
            "_view_name": "StyleView",
            "description_width": ""
          }
        },
        "58507a75c0ae419caaad72ca10895bce": {
          "model_module": "@jupyter-widgets/base",
          "model_name": "LayoutModel",
          "model_module_version": "1.2.0",
          "state": {
            "_model_module": "@jupyter-widgets/base",
            "_model_module_version": "1.2.0",
            "_model_name": "LayoutModel",
            "_view_count": null,
            "_view_module": "@jupyter-widgets/base",
            "_view_module_version": "1.2.0",
            "_view_name": "LayoutView",
            "align_content": null,
            "align_items": null,
            "align_self": null,
            "border": null,
            "bottom": null,
            "display": null,
            "flex": null,
            "flex_flow": null,
            "grid_area": null,
            "grid_auto_columns": null,
            "grid_auto_flow": null,
            "grid_auto_rows": null,
            "grid_column": null,
            "grid_gap": null,
            "grid_row": null,
            "grid_template_areas": null,
            "grid_template_columns": null,
            "grid_template_rows": null,
            "height": null,
            "justify_content": null,
            "justify_items": null,
            "left": null,
            "margin": null,
            "max_height": null,
            "max_width": null,
            "min_height": null,
            "min_width": null,
            "object_fit": null,
            "object_position": null,
            "order": null,
            "overflow": null,
            "overflow_x": null,
            "overflow_y": null,
            "padding": null,
            "right": null,
            "top": null,
            "visibility": null,
            "width": null
          }
        },
        "62b604036f1841a893808c302c7d9b5e": {
          "model_module": "@jupyter-widgets/controls",
          "model_name": "SliderStyleModel",
          "model_module_version": "1.5.0",
          "state": {
            "_model_module": "@jupyter-widgets/controls",
            "_model_module_version": "1.5.0",
            "_model_name": "SliderStyleModel",
            "_view_count": null,
            "_view_module": "@jupyter-widgets/base",
            "_view_module_version": "1.2.0",
            "_view_name": "StyleView",
            "description_width": "",
            "handle_color": null
          }
        },
        "213bbf39889744a88db1e8aad054c5fe": {
          "model_module": "@jupyter-widgets/controls",
          "model_name": "PlayModel",
          "model_module_version": "1.5.0",
          "state": {
            "_dom_classes": [],
            "_model_module": "@jupyter-widgets/controls",
            "_model_module_version": "1.5.0",
            "_model_name": "PlayModel",
            "_playing": false,
            "_repeat": false,
            "_view_count": null,
            "_view_module": "@jupyter-widgets/controls",
            "_view_module_version": "1.5.0",
            "_view_name": "PlayView",
            "description": "",
            "description_tooltip": null,
            "disabled": false,
            "interval": 100,
            "layout": "IPY_MODEL_3ff5729af87046f194f9c0c2226f4c19",
            "max": 0,
            "min": 0,
            "show_repeat": true,
            "step": 1,
            "style": "IPY_MODEL_4aefe8f37d0446bc931c0c1e528cbdff",
            "value": 0
          }
        },
        "198bdd558ab44ef9bbd7700f7e26c0b2": {
          "model_module": "@jupyter-widgets/controls",
          "model_name": "IntSliderModel",
          "model_module_version": "1.5.0",
          "state": {
            "_dom_classes": [],
            "_model_module": "@jupyter-widgets/controls",
            "_model_module_version": "1.5.0",
            "_model_name": "IntSliderModel",
            "_view_count": null,
            "_view_module": "@jupyter-widgets/controls",
            "_view_module_version": "1.5.0",
            "_view_name": "IntSliderView",
            "continuous_update": true,
            "description": "",
            "description_tooltip": null,
            "disabled": false,
            "layout": "IPY_MODEL_58507a75c0ae419caaad72ca10895bce",
            "max": 0,
            "min": 0,
            "orientation": "horizontal",
            "readout": true,
            "readout_format": "d",
            "step": 1,
            "style": "IPY_MODEL_62b604036f1841a893808c302c7d9b5e",
            "value": 0
          }
        },
        "a0377cc811934636a3e78042d33dcaee": {
          "model_module": "@jupyter-widgets/base",
          "model_name": "LayoutModel",
          "model_module_version": "1.2.0",
          "state": {
            "_model_module": "@jupyter-widgets/base",
            "_model_module_version": "1.2.0",
            "_model_name": "LayoutModel",
            "_view_count": null,
            "_view_module": "@jupyter-widgets/base",
            "_view_module_version": "1.2.0",
            "_view_name": "LayoutView",
            "align_content": null,
            "align_items": null,
            "align_self": null,
            "border": null,
            "bottom": null,
            "display": null,
            "flex": null,
            "flex_flow": null,
            "grid_area": null,
            "grid_auto_columns": null,
            "grid_auto_flow": null,
            "grid_auto_rows": null,
            "grid_column": null,
            "grid_gap": null,
            "grid_row": null,
            "grid_template_areas": null,
            "grid_template_columns": null,
            "grid_template_rows": null,
            "height": null,
            "justify_content": null,
            "justify_items": null,
            "left": null,
            "margin": null,
            "max_height": null,
            "max_width": null,
            "min_height": null,
            "min_width": null,
            "object_fit": null,
            "object_position": null,
            "order": null,
            "overflow": null,
            "overflow_x": null,
            "overflow_y": null,
            "padding": null,
            "right": null,
            "top": null,
            "visibility": null,
            "width": "34px"
          }
        },
        "9bb448e141b840a4b788da277c427d1e": {
          "model_module": "@jupyter-widgets/controls",
          "model_name": "ButtonStyleModel",
          "model_module_version": "1.5.0",
          "state": {
            "_model_module": "@jupyter-widgets/controls",
            "_model_module_version": "1.5.0",
            "_model_name": "ButtonStyleModel",
            "_view_count": null,
            "_view_module": "@jupyter-widgets/base",
            "_view_module_version": "1.2.0",
            "_view_name": "StyleView",
            "button_color": null,
            "font_weight": ""
          }
        },
        "29f7418e9c1e469c9ae223b4c6d9dd2e": {
          "model_module": "@jupyter-widgets/base",
          "model_name": "LayoutModel",
          "model_module_version": "1.2.0",
          "state": {
            "_model_module": "@jupyter-widgets/base",
            "_model_module_version": "1.2.0",
            "_model_name": "LayoutModel",
            "_view_count": null,
            "_view_module": "@jupyter-widgets/base",
            "_view_module_version": "1.2.0",
            "_view_name": "LayoutView",
            "align_content": null,
            "align_items": null,
            "align_self": null,
            "border": null,
            "bottom": null,
            "display": null,
            "flex": null,
            "flex_flow": null,
            "grid_area": null,
            "grid_auto_columns": null,
            "grid_auto_flow": null,
            "grid_auto_rows": null,
            "grid_column": null,
            "grid_gap": null,
            "grid_row": null,
            "grid_template_areas": null,
            "grid_template_columns": null,
            "grid_template_rows": null,
            "height": null,
            "justify_content": null,
            "justify_items": null,
            "left": null,
            "margin": null,
            "max_height": null,
            "max_width": null,
            "min_height": null,
            "min_width": null,
            "object_fit": null,
            "object_position": null,
            "order": null,
            "overflow": null,
            "overflow_x": null,
            "overflow_y": null,
            "padding": null,
            "right": null,
            "top": null,
            "visibility": null,
            "width": null
          }
        }
      }
    }
  },
  "nbformat": 4,
  "nbformat_minor": 0
}