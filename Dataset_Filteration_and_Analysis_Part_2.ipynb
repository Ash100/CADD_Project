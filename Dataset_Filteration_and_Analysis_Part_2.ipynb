{
  "nbformat": 4,
  "nbformat_minor": 0,
  "metadata": {
    "colab": {
      "provenance": [],
      "authorship_tag": "ABX9TyPio9TA+AS9jU0hZT1oVw1n",
      "include_colab_link": true
    },
    "kernelspec": {
      "name": "python3",
      "display_name": "Python 3"
    },
    "language_info": {
      "name": "python"
    }
  },
  "cells": [
    {
      "cell_type": "markdown",
      "metadata": {
        "id": "view-in-github",
        "colab_type": "text"
      },
      "source": [
        "<a href=\"https://colab.research.google.com/github/Ash100/CADD_Project/blob/main/Dataset_Filteration_and_Analysis_Part_2.ipynb\" target=\"_parent\"><img src=\"https://colab.research.google.com/assets/colab-badge.svg\" alt=\"Open In Colab\"/></a>"
      ]
    },
    {
      "cell_type": "markdown",
      "source": [
        "# **Compound Filterations Based on ADME and Leadlikness**\n",
        "My name is **Dr. Ashfaq Ahmad**, and this tutorial is inspired from the TechOpenCADD project of Volkamer Lab. With some minor modifications, I tried to made it available for the students working with a Biology background. For Proper understanding and learning, you can follow the video tutorial on **Bioinformatics Insights** https://www.youtube.com/channel/UC2Z_WaqTjbvXGGQNpIF9nAg\n",
        "\n",
        "This notebook is majorly designed for teaching purposes.\n",
        "\n",
        "For citation and reading, https://jcheminf.biomedcentral.com/articles/10.1186/s13321-019-0351-x\n"
      ],
      "metadata": {
        "id": "RHcVVOncXaFR"
      }
    },
    {
      "cell_type": "markdown",
      "source": [
        "**Aims and Objectives**\n",
        "\n",
        "Compound filteration based on Lipinsik’s rule of five to keep only orally bioavailable compounds."
      ],
      "metadata": {
        "id": "KrcWW7xVX2OH"
      }
    },
    {
      "cell_type": "markdown",
      "source": [
        "##**Basic Concepts**##\n",
        "**1. ADME** - absorption, distribution, metabolism, and excretion\n",
        "\n",
        "  2. Lead-likeness and Lipinski’s rule of five (Ro5)\n",
        "  3. Radar charts in the context of lead-likeness\n",
        "\n",
        "  In a virtual screening (molecular docking), our aim is to predict whether a compound might bind to a specific target. However, if we want to identify a new drug, it is also important that this compound reaches the target and is eventually removed from the body in a favorable way. Therefore, we should also consider whether a compound is actually taken up into the body and whether it is able to cross certain barriers in order to reach its target. Is it metabolically stable and how will it be excreted once it is not acting at the target anymore? These processes are investigated in the field of pharmacokinetics. In contrast to pharmacodynamics (“What does the drug do to our body?”), pharmacokinetics deals with the question “What happens to the drug in our body?”.\n",
        "\n",
        "**ADME** - absorption, distribution, metabolism, and excretion:\n",
        "Pharmacokinetics are mainly divided into four steps: Absorption, Distribution, Metabolism, and Excretion. These are summarized as ADME. Often, ADME also includes Toxicology and is thus referred to as ADMET or ADMETox. Below, the ADME steps are discussed in more detail (Wikipedia and Mol Pharm. (2010), 7(5), 1388-1405).\n",
        "\n",
        "**Absorption:** The amount and the time of drug-uptake into the body depends on multiple factors which can vary between individuals and their conditions as well as on the properties of the substance. Factors such as (poor) compound solubility, gastric emptying time, intestinal transit time, chemical (in-)stability in the stomach, and (in-)ability to permeate the intestinal wall can all influence the extent to which a drug is absorbed after e.g. oral administration, inhalation, or contact to skin.\n",
        "\n",
        "**Distribution:** The distribution of an absorbed substance, i.e. within the body, between blood and different tissues, and crossing the blood-brain barrier are affected by regional blood flow rates, molecular size and polarity of the compound, and binding to serum proteins and transporter enzymes. Critical effects in toxicology can be the accumulation of highly apolar substances in fatty tissue, or crossing of the blood-brain barrier.\n",
        "\n",
        "**Metabolism:** After entering the body, the compound will be metabolized. This means that only part of this compound will actually reach its target. Mainly liver and kidney enzymes are responsible for the break-down of xenobiotics (substances that are extrinsic to the body).\n",
        "\n",
        "**Excretion:** Compounds and their metabolites need to be removed from the body via excretion, usually through the kidneys (urine) or in the feces. Incomplete excretion can result in accumulation of foreign substances or adverse interference with normal metabolism.\n"
      ],
      "metadata": {
        "id": "JMbiBg1zYKEd"
      }
    },
    {
      "cell_type": "markdown",
      "source": [
        "##**Lead-likeness and Lipinski’s rule of five (Ro5)**\n",
        "Molecular weight (MWT) <= 500 Da\n",
        "\n",
        "Number of hydrogen bond acceptors (HBAs) <= 10\n",
        "\n",
        "Number of hydrogen bond donors (HBD) <= 5\n",
        "\n",
        "Calculated LogP (octanol-water coefficient) <= 5\n",
        "\n",
        "**Additionally**\n",
        "\n",
        "LogP is also called partition coefficient or octanol-water coefficient. It measures the distribution of a compound, usually between a hydrophobic (e.g. 1-octanol) and a hydrophilic (e.g. water) phase.\n",
        "\n",
        "Hydrophobic molecules might have a reduced solubility in water, while more hydrophilic molecules (e.g. high number of hydrogen bond acceptors and donors) or large molecules (high molecular weight) might have more difficulties in passing phospholipid membranes."
      ],
      "metadata": {
        "id": "6D8lNaB7bBjl"
      }
    },
    {
      "cell_type": "markdown",
      "source": [
        "##**Radar charts in the context of lead-likeness**\n",
        "Molecular properties, such as the Ro5 properties, can be visualized in multiple ways (e.g. craig plots, flower plots, or golden triangle) to support the interpretation by medicinal chemists (Drug. Discov. Today (2011), 16(1-2), 65-72).\n",
        "\n",
        "Due to their appearance, radar charts are sometimes also called “spider” or “cobweb” plots. They are arranged circularly in 360 degrees and have one axis, starting in the center, for each condition. The values for each parameter are plotted on the axis and connected with a line. A shaded area can indicate the region where the parameters meet the conditions."
      ],
      "metadata": {
        "id": "4sA0ilw6cy-8"
      }
    },
    {
      "cell_type": "code",
      "source": [
        "! pip install rdkit-pypi"
      ],
      "metadata": {
        "id": "ztcjEIX0dYZK"
      },
      "execution_count": null,
      "outputs": []
    },
    {
      "cell_type": "code",
      "execution_count": 60,
      "metadata": {
        "id": "6Kq-XuHWXY9n"
      },
      "outputs": [],
      "source": [
        "from pathlib import Path\n",
        "import math\n",
        "\n",
        "import numpy as np\n",
        "import pandas as pd\n",
        "import matplotlib.pyplot as plt\n",
        "from matplotlib.lines import Line2D\n",
        "import matplotlib.patches as mpatches\n",
        "from rdkit import Chem\n",
        "from rdkit.Chem import Descriptors, Draw, PandasTools"
      ]
    },
    {
      "cell_type": "markdown",
      "source": [
        "**As an example, and to quickly learn about the analysis, we will first pick entries for four molecules.** However, this step is not necessary - and you can skip it"
      ],
      "metadata": {
        "id": "8s_wBCvjdfn-"
      }
    },
    {
      "cell_type": "code",
      "source": [
        "smiles = [\n",
        "    \"CCC1C(=O)N(CC(=O)N(C(C(=O)NC(C(=O)N(C(C(=O)NC(C(=O)NC(C(=O)N(C(C(=O)N(C(C(=O)N(C(C(=O)N(C(C(=O)N1)C(C(C)CC=CC)O)C)C(C)C)C)CC(C)C)C)CC(C)C)C)C)C)CC(C)C)C)C(C)C)CC(C)C)C)C\",\n",
        "    \"CN1CCN(CC1)C2=C3C=CC=CC3=NC4=C(N2)C=C(C=C4)C\",\n",
        "    \"CC1=C(C(CCC1)(C)C)C=CC(=CC=CC(=CC=CC=C(C)C=CC=C(C)C=CC2=C(CCCC2(C)C)C)C)C\",\n",
        "    \"CCCCCC1=CC(=C(C(=C1)O)C2C=C(CCC2C(=C)C)C)O\",\n",
        "]\n",
        "names = [\"cyclosporine\", \"clozapine\", \"beta-carotene\", \"cannabidiol\"]"
      ],
      "metadata": {
        "id": "BBcWckxdd5Tx"
      },
      "execution_count": 61,
      "outputs": []
    },
    {
      "cell_type": "markdown",
      "source": [
        "Now we are going to combine the names and SMILES of the molecules, together with their structure, in a DataFrame."
      ],
      "metadata": {
        "id": "K08s3wmieA_6"
      }
    },
    {
      "cell_type": "code",
      "source": [
        "molecules = pd.DataFrame({\"name\": names, \"smiles\": smiles})\n",
        "PandasTools.AddMoleculeColumnToFrame(molecules, \"smiles\")\n",
        "molecules"
      ],
      "metadata": {
        "id": "r7L7rISPeFdi"
      },
      "execution_count": null,
      "outputs": []
    },
    {
      "cell_type": "markdown",
      "source": [
        "**Time to calculate and Plot Molecular Properties using RDKit**"
      ],
      "metadata": {
        "id": "-u_7rfrqeP7q"
      }
    },
    {
      "cell_type": "code",
      "source": [
        "molecules[\"molecular_weight\"] = molecules[\"ROMol\"].apply(Descriptors.ExactMolWt)\n",
        "molecules[\"n_hba\"] = molecules[\"ROMol\"].apply(Descriptors.NumHAcceptors)\n",
        "molecules[\"n_hbd\"] = molecules[\"ROMol\"].apply(Descriptors.NumHDonors)\n",
        "molecules[\"logp\"] = molecules[\"ROMol\"].apply(Descriptors.MolLogP)\n",
        "# Colors are used for plotting the molecules later\n",
        "molecules[\"color\"] = [\"red\", \"green\", \"blue\", \"cyan\"]\n",
        "# NBVAL_CHECK_OUTPUT\n",
        "molecules[[\"molecular_weight\", \"n_hba\", \"n_hbd\", \"logp\"]]"
      ],
      "metadata": {
        "id": "4x_43WIjeYf9"
      },
      "execution_count": null,
      "outputs": []
    },
    {
      "cell_type": "code",
      "source": [
        "# Full preview\n",
        "molecules"
      ],
      "metadata": {
        "id": "WuWLPwGOef8q"
      },
      "execution_count": null,
      "outputs": []
    },
    {
      "cell_type": "code",
      "source": [
        "ro5_properties = {\n",
        "    \"molecular_weight\": (500, \"molecular weight (Da)\"),\n",
        "    \"n_hba\": (10, \"# HBA\"),\n",
        "    \"n_hbd\": (5, \"# HBD\"),\n",
        "    \"logp\": (5, \"logP\"),\n",
        "}"
      ],
      "metadata": {
        "id": "Pl7TI5SNelj1"
      },
      "execution_count": 65,
      "outputs": []
    },
    {
      "cell_type": "code",
      "source": [
        "# Start 1x4 plot frame\n",
        "fig, axes = plt.subplots(figsize=(10, 2.5), nrows=1, ncols=4)\n",
        "x = np.arange(1, len(molecules) + 1)\n",
        "colors = [\"red\", \"green\", \"blue\", \"cyan\"]\n",
        "\n",
        "# Create subplots\n",
        "for index, (key, (threshold, title)) in enumerate(ro5_properties.items()):\n",
        "    axes[index].bar([1, 2, 3, 4], molecules[key], color=colors)\n",
        "    axes[index].axhline(y=threshold, color=\"black\", linestyle=\"dashed\")\n",
        "    axes[index].set_title(title)\n",
        "    axes[index].set_xticks([])\n",
        "\n",
        "# Add legend\n",
        "legend_elements = [\n",
        "    mpatches.Patch(color=row[\"color\"], label=row[\"name\"]) for index, row in molecules.iterrows()\n",
        "]\n",
        "legend_elements.append(Line2D([0], [0], color=\"black\", ls=\"dashed\", label=\"Threshold\"))\n",
        "fig.legend(handles=legend_elements, bbox_to_anchor=(1.2, 0.8))\n",
        "\n",
        "# Fit subplots and legend into figure\n",
        "plt.tight_layout()\n",
        "plt.show()"
      ],
      "metadata": {
        "id": "cMIlZLD1euaE"
      },
      "execution_count": null,
      "outputs": []
    },
    {
      "cell_type": "markdown",
      "source": [
        "**Now we are interested to calculate that what are molecules that violates Ro5**"
      ],
      "metadata": {
        "id": "3AZqRaJge3oW"
      }
    },
    {
      "cell_type": "code",
      "source": [
        "def calculate_ro5_properties(smiles):\n",
        "    \"\"\"\n",
        "    Test if input molecule (SMILES) fulfills Lipinski's rule of five.\n",
        "\n",
        "    Parameters\n",
        "    ----------\n",
        "    smiles : str\n",
        "        SMILES for a molecule.\n",
        "\n",
        "    Returns\n",
        "    -------\n",
        "    pandas.Series\n",
        "        Molecular weight, number of hydrogen bond acceptors/donor and logP value\n",
        "        and Lipinski's rule of five compliance for input molecule.\n",
        "    \"\"\"\n",
        "    # RDKit molecule from SMILES\n",
        "    molecule = Chem.MolFromSmiles(smiles)\n",
        "    # Calculate Ro5-relevant chemical properties\n",
        "    molecular_weight = Descriptors.ExactMolWt(molecule)\n",
        "    n_hba = Descriptors.NumHAcceptors(molecule)\n",
        "    n_hbd = Descriptors.NumHDonors(molecule)\n",
        "    logp = Descriptors.MolLogP(molecule)\n",
        "    # Check if Ro5 conditions fulfilled\n",
        "    conditions = [molecular_weight <= 500, n_hba <= 10, n_hbd <= 5, logp <= 5]\n",
        "    ro5_fulfilled = sum(conditions) >= 3\n",
        "    # Return True if no more than one out of four conditions is violated\n",
        "    return pd.Series(\n",
        "        [molecular_weight, n_hba, n_hbd, logp, ro5_fulfilled],\n",
        "        index=[\"molecular_weight\", \"n_hba\", \"n_hbd\", \"logp\", \"ro5_fulfilled\"],\n",
        "    )"
      ],
      "metadata": {
        "id": "rsMsmILefIa5"
      },
      "execution_count": 67,
      "outputs": []
    },
    {
      "cell_type": "code",
      "source": [
        "# NBVAL_CHECK_OUTPUT\n",
        "for name, smiles in zip(molecules[\"name\"], molecules[\"smiles\"]):\n",
        "    print(f\"Ro5 fulfilled for {name}: {calculate_ro5_properties(smiles)['ro5_fulfilled']}\")"
      ],
      "metadata": {
        "colab": {
          "base_uri": "https://localhost:8080/"
        },
        "id": "5X9sJgzIfNYa",
        "outputId": "0b85ff58-be28-4386-cafd-9b181430da37"
      },
      "execution_count": 68,
      "outputs": [
        {
          "output_type": "stream",
          "name": "stdout",
          "text": [
            "Ro5 fulfilled for cyclosporine: False\n",
            "Ro5 fulfilled for clozapine: True\n",
            "Ro5 fulfilled for beta-carotene: False\n",
            "Ro5 fulfilled for cannabidiol: True\n"
          ]
        }
      ]
    },
    {
      "cell_type": "markdown",
      "source": [
        "According to the Ro5, cyclosporin and betacarotene are estimated to have poor bioavailability. However, since all of them are approved drugs, they are good examples of how the Ro5 can be used as an alert but should not necessarily be used as a filter very strictly."
      ],
      "metadata": {
        "id": "dx4WKdanfVaH"
      }
    },
    {
      "cell_type": "markdown",
      "source": [
        "##Come to the Real Bussiness\n",
        "Now we are going to upload our dataset, which was prepared in Part-1 for actuall calculations."
      ],
      "metadata": {
        "id": "UUbgdBUufdNl"
      }
    },
    {
      "cell_type": "code",
      "source": [
        "molecules = pd.read_csv(\"/content/sample_data/EGFR_compounds.csv\", index_col=0)\n",
        "print(molecules.shape)\n",
        "molecules.head()"
      ],
      "metadata": {
        "id": "t3DmmmxKfU7U"
      },
      "execution_count": null,
      "outputs": []
    },
    {
      "cell_type": "markdown",
      "source": [
        "Perform **Ro5** calculations on all compounds"
      ],
      "metadata": {
        "id": "VoxblTkcgEx2"
      }
    },
    {
      "cell_type": "code",
      "source": [
        "# This takes a couple of seconds\n",
        "ro5_properties = molecules[\"smiles\"].apply(calculate_ro5_properties)\n",
        "ro5_properties.head()"
      ],
      "metadata": {
        "id": "9iZq2gvegLyc"
      },
      "execution_count": null,
      "outputs": []
    },
    {
      "cell_type": "markdown",
      "source": [
        "Concatenate molecules with Ro5 data calculations"
      ],
      "metadata": {
        "id": "5IJQ5Cf0hXgh"
      }
    },
    {
      "cell_type": "code",
      "source": [
        "molecules = pd.concat([molecules, ro5_properties], axis=1)\n",
        "molecules.head()"
      ],
      "metadata": {
        "id": "fXZYjmKZheRj"
      },
      "execution_count": null,
      "outputs": []
    },
    {
      "cell_type": "code",
      "source": [
        "# Note that the column \"ro5_fulfilled\" contains boolean values.\n",
        "# Thus, we can use the column values directly to subset data.\n",
        "# Note that ~ negates boolean values.\n",
        "molecules_ro5_fulfilled = molecules[molecules[\"ro5_fulfilled\"]]\n",
        "molecules_ro5_violated = molecules[~molecules[\"ro5_fulfilled\"]]\n",
        "\n",
        "print(f\"# compounds in unfiltered data set: {molecules.shape[0]}\")\n",
        "print(f\"# compounds in filtered data set: {molecules_ro5_fulfilled.shape[0]}\")\n",
        "print(f\"# compounds not compliant with the Ro5: {molecules_ro5_violated.shape[0]}\")\n",
        "# NBVAL_CHECK_OUTPUT"
      ],
      "metadata": {
        "id": "HNIpzQryiLMT"
      },
      "execution_count": null,
      "outputs": []
    },
    {
      "cell_type": "markdown",
      "source": [
        "Why not save them"
      ],
      "metadata": {
        "id": "DrLWzc6WhlS7"
      }
    },
    {
      "cell_type": "code",
      "source": [
        "#This script will save the unfiltered data\n",
        "molecules.to_csv('/content/sample_data/ro5_properties.csv', index=True)"
      ],
      "metadata": {
        "id": "zwcYzbX2hnPd"
      },
      "execution_count": 73,
      "outputs": []
    },
    {
      "cell_type": "code",
      "source": [
        "#This will Save filtered data\n",
        "molecules_ro5_fulfilled.to_csv('/content/sample_data/ro5_properties_filtered.csv')\n",
        "molecules_ro5_fulfilled.head()"
      ],
      "metadata": {
        "id": "jHtwlqtTihEo"
      },
      "execution_count": null,
      "outputs": []
    },
    {
      "cell_type": "markdown",
      "source": [
        "##Lets calculate/Visualize Ro5 Analysis on Radar Plot for the Data"
      ],
      "metadata": {
        "id": "eFjLqC5ji66y"
      }
    },
    {
      "cell_type": "code",
      "source": [
        "def calculate_mean_std(dataframe):\n",
        "    \"\"\"\n",
        "    Calculate the mean and standard deviation of a dataset.\n",
        "\n",
        "    Parameters\n",
        "    ----------\n",
        "    dataframe : pd.DataFrame\n",
        "        Properties (columns) for a set of items (rows).\n",
        "\n",
        "    Returns\n",
        "    -------\n",
        "    pd.DataFrame\n",
        "        Mean and standard deviation (columns) for different properties (rows).\n",
        "    \"\"\"\n",
        "    # Generate descriptive statistics for property columns\n",
        "    stats = dataframe.describe()\n",
        "    # Transpose DataFrame (statistical measures = columns)\n",
        "    stats = stats.T\n",
        "    # Select mean and standard deviation\n",
        "    stats = stats[[\"mean\", \"std\"]]\n",
        "    return stats"
      ],
      "metadata": {
        "id": "z1rOnztqjAhr"
      },
      "execution_count": 75,
      "outputs": []
    },
    {
      "cell_type": "markdown",
      "source": [
        "Some statistics for the filtered dataset calculated above"
      ],
      "metadata": {
        "id": "dRrwvGMujb7x"
      }
    },
    {
      "cell_type": "code",
      "source": [
        "molecules_ro5_fulfilled_stats = calculate_mean_std(\n",
        "    molecules_ro5_fulfilled[[\"molecular_weight\", \"n_hba\", \"n_hbd\", \"logp\"]]\n",
        ")\n",
        "molecules_ro5_fulfilled_stats\n",
        "# NBVAL_CHECK_OUTPUT"
      ],
      "metadata": {
        "id": "S_15SHt5jcak"
      },
      "execution_count": null,
      "outputs": []
    },
    {
      "cell_type": "markdown",
      "source": [
        "Molecules that violates the Ro5"
      ],
      "metadata": {
        "id": "6R9QU5CUmxJG"
      }
    },
    {
      "cell_type": "code",
      "source": [
        "molecules_ro5_violated_stats = calculate_mean_std(\n",
        "    molecules_ro5_violated[[\"molecular_weight\", \"n_hba\", \"n_hbd\", \"logp\"]]\n",
        ")\n",
        "molecules_ro5_violated_stats\n",
        "# NBVAL_CHECK_OUTPUT"
      ],
      "metadata": {
        "id": "wr63H7sAmQtv"
      },
      "execution_count": null,
      "outputs": []
    },
    {
      "cell_type": "markdown",
      "source": [
        "Define helper functions to prepare data for radar plotting¶\n",
        "In the following, we will define a few helper functions that are only used for radar plotting.\n",
        "\n",
        "**Prepare y values:** The properties used for the Ro5 criteria are of different magnitudes. The MWT has a threshold of 500, whereas the number of HBAs and HBDs and the LogP have thresholds of only 10, 5, and 5, respectively. In order to visualize these different scales most simplistically, we will scale all property values to a scaled threshold of 5:\n",
        "\n",
        "scaled property value = property value / property threshold * scaled property threshold\n",
        "\n",
        "scaled MWT = MWT / 500 * 5 = MWT / 100\n",
        "\n",
        "scaled HBA = HBA / 10 * 5 = HBA / 2\n",
        "\n",
        "scaled HBD = HBD / 5 * 5 = HBD\n",
        "\n",
        "scaled LogP = LogP / 5 * 5 = LogP\n",
        "\n",
        "This results in a downscaling of the MWT by 100, HBA by 2, while HBD and LogP stay unchanged.\n",
        "\n",
        "The following helper function performs such a scaling and will be used later during radar plotting."
      ],
      "metadata": {
        "id": "LQHtDlPDj8YJ"
      }
    },
    {
      "cell_type": "code",
      "source": [
        "def _scale_by_thresholds(stats, thresholds, scaled_threshold):\n",
        "    \"\"\"\n",
        "    Scale values for different properties that have each an individually defined threshold.\n",
        "\n",
        "    Parameters\n",
        "    ----------\n",
        "    stats : pd.DataFrame\n",
        "        Dataframe with \"mean\" and \"std\" (columns) for each physicochemical property (rows).\n",
        "    thresholds : dict of str: int\n",
        "        Thresholds defined for each property.\n",
        "    scaled_threshold : int or float\n",
        "        Scaled thresholds across all properties.\n",
        "\n",
        "    Returns\n",
        "    -------\n",
        "    pd.DataFrame\n",
        "        DataFrame with scaled means and standard deviations for each physiochemical property.\n",
        "    \"\"\"\n",
        "    # Raise error if scaling keys and data_stats indicies are not matching\n",
        "    for property_name in stats.index:\n",
        "        if property_name not in thresholds.keys():\n",
        "            raise KeyError(f\"Add property '{property_name}' to scaling variable.\")\n",
        "    # Scale property data\n",
        "    stats_scaled = stats.apply(lambda x: x / thresholds[x.name] * scaled_threshold, axis=1)\n",
        "    return stats_scaled"
      ],
      "metadata": {
        "id": "2VBNbZgWkRBK"
      },
      "execution_count": 78,
      "outputs": []
    },
    {
      "cell_type": "markdown",
      "source": [
        "**Prepare x values:** The following helper function returns the angles of the physicochemical property axes for the radar chart. For example, if we want to generate a radar plot for 4 properties, we want to set the axes at 0°, 90°, 180°, and 270°. The helper function returns such angles as radians."
      ],
      "metadata": {
        "id": "IifDQr5jkbY0"
      }
    },
    {
      "cell_type": "code",
      "source": [
        "def _define_radial_axes_angles(n_axes):\n",
        "    \"\"\"Define angles (radians) for radial (x-)axes depending on the number of axes.\"\"\"\n",
        "    x_angles = [i / float(n_axes) * 2 * math.pi for i in range(n_axes)]\n",
        "    x_angles += x_angles[:1]\n",
        "    return x_angles"
      ],
      "metadata": {
        "id": "0lpmxuqskkeY"
      },
      "execution_count": 79,
      "outputs": []
    },
    {
      "cell_type": "markdown",
      "source": [
        "Now generate Radar Plot"
      ],
      "metadata": {
        "id": "ORgq73MEkooD"
      }
    },
    {
      "cell_type": "code",
      "source": [
        "def plot_radar(\n",
        "    y,\n",
        "    thresholds,\n",
        "    scaled_threshold,\n",
        "    properties_labels,\n",
        "    y_max=None,\n",
        "    output_path=None,\n",
        "):\n",
        "    \"\"\"\n",
        "    Plot a radar chart based on the mean and standard deviation of a data set's properties.\n",
        "\n",
        "    Parameters\n",
        "    ----------\n",
        "    y : pd.DataFrame\n",
        "        Dataframe with \"mean\" and \"std\" (columns) for each physicochemical property (rows).\n",
        "    thresholds : dict of str: int\n",
        "        Thresholds defined for each property.\n",
        "    scaled_threshold : int or float\n",
        "        Scaled thresholds across all properties.\n",
        "    properties_labels : list of str\n",
        "        List of property names to be used as labels in the plot.\n",
        "    y_max : None or int or float\n",
        "        Set maximum y value. If None, let matplotlib decide.\n",
        "    output_path : None or pathlib.Path\n",
        "        If not None, save plot to file.\n",
        "    \"\"\"\n",
        "\n",
        "    # Define radial x-axes angles -- uses our helper function!\n",
        "    x = _define_radial_axes_angles(len(y))\n",
        "    # Scale y-axis values with respect to a defined threshold -- uses our helper function!\n",
        "    y = _scale_by_thresholds(y, thresholds, scaled_threshold)\n",
        "    # Since our chart will be circular we append the first value of each property to the end\n",
        "    y = pd.concat([y, y.head(1)])\n",
        "\n",
        "    # Set figure and subplot axis\n",
        "    plt.figure(figsize=(6, 6))\n",
        "    ax = plt.subplot(111, polar=True)\n",
        "\n",
        "    # Plot data\n",
        "    ax.fill(x, [scaled_threshold] * len(x), \"cornflowerblue\", alpha=0.2)\n",
        "    ax.plot(x, y[\"mean\"], \"b\", lw=3, ls=\"-\")\n",
        "    ax.plot(x, y[\"mean\"] + y[\"std\"], \"orange\", lw=2, ls=\"--\")\n",
        "    ax.plot(x, y[\"mean\"] - y[\"std\"], \"orange\", lw=2, ls=\"-.\")\n",
        "\n",
        "    # From here on, we only do plot cosmetics\n",
        "    # Set 0° to 12 o'clock\n",
        "    ax.set_theta_offset(math.pi / 2)\n",
        "    # Set clockwise rotation\n",
        "    ax.set_theta_direction(-1)\n",
        "\n",
        "    # Set y-labels next to 180° radius axis\n",
        "    ax.set_rlabel_position(180)\n",
        "    # Set number of radial axes' ticks and remove labels\n",
        "    plt.xticks(x, [])\n",
        "    # Get maximal y-ticks value\n",
        "    if not y_max:\n",
        "        y_max = int(ax.get_yticks()[-1])\n",
        "    # Set axes limits\n",
        "    plt.ylim(0, y_max)\n",
        "    # Set number and labels of y axis ticks\n",
        "    plt.yticks(\n",
        "        range(1, y_max),\n",
        "        [\"5\" if i == scaled_threshold else \"\" for i in range(1, y_max)],\n",
        "        fontsize=16,\n",
        "    )\n",
        "\n",
        "    # Draw ytick labels to make sure they fit properly\n",
        "    # Note that we use [:1] to exclude the last element which equals the first element (not needed here)\n",
        "    for i, (angle, label) in enumerate(zip(x[:-1], properties_labels)):\n",
        "        if angle == 0:\n",
        "            ha = \"center\"\n",
        "        elif 0 < angle < math.pi:\n",
        "            ha = \"left\"\n",
        "        elif angle == math.pi:\n",
        "            ha = \"center\"\n",
        "        else:\n",
        "            ha = \"right\"\n",
        "        ax.text(\n",
        "            x=angle,\n",
        "            y=y_max + 1,\n",
        "            s=label,\n",
        "            size=16,\n",
        "            horizontalalignment=ha,\n",
        "            verticalalignment=\"center\",\n",
        "        )\n",
        "\n",
        "    # Add legend relative to top-left plot\n",
        "    labels = (\"mean\", \"mean + std\", \"mean - std\", \"rule of five area\")\n",
        "    ax.legend(labels, loc=(1.1, 0.7), labelspacing=0.3, fontsize=16)\n",
        "\n",
        "    # Save plot - use bbox_inches to include text boxes\n",
        "    if output_path:\n",
        "        plt.savefig(output_path, dpi=300, bbox_inches=\"tight\", transparent=True)\n",
        "\n",
        "    plt.show()"
      ],
      "metadata": {
        "id": "-z8XXU2hkr4B"
      },
      "execution_count": 80,
      "outputs": []
    },
    {
      "cell_type": "markdown",
      "source": [
        "Now here we will generate two Radar plots. One for the filtered data (which satisfy the Ro5) and vice versa."
      ],
      "metadata": {
        "id": "nMMY5w_AlA3Z"
      }
    },
    {
      "cell_type": "code",
      "source": [
        "thresholds = {\"molecular_weight\": 500, \"n_hba\": 10, \"n_hbd\": 5, \"logp\": 5}\n",
        "scaled_threshold = 5\n",
        "properties_labels = [\n",
        "    \"Molecular weight (Da) / 100\",\n",
        "    \"# HBA / 2\",\n",
        "    \"# HBD\",\n",
        "    \"LogP\",\n",
        "]\n",
        "y_max = 8"
      ],
      "metadata": {
        "id": "j6WilqiplL-E"
      },
      "execution_count": 81,
      "outputs": []
    },
    {
      "cell_type": "markdown",
      "source": [
        "**1. Radar Plot for Filtered Dataset**"
      ],
      "metadata": {
        "id": "gkrOgmd8lS17"
      }
    },
    {
      "cell_type": "code",
      "source": [
        "plot_radar(\n",
        "    molecules_ro5_fulfilled_stats,\n",
        "    thresholds,\n",
        "    scaled_threshold,\n",
        "    properties_labels,\n",
        "    y_max,\n",
        ")"
      ],
      "metadata": {
        "id": "ECY3tzW2lYwB"
      },
      "execution_count": null,
      "outputs": []
    },
    {
      "cell_type": "markdown",
      "source": [
        "Radar plot for the molecules that violated the Ro5"
      ],
      "metadata": {
        "id": "hnaJOeCTltsI"
      }
    },
    {
      "cell_type": "code",
      "source": [
        "plot_radar(\n",
        "    molecules_ro5_violated_stats,\n",
        "    thresholds,\n",
        "    scaled_threshold,\n",
        "    properties_labels,\n",
        "    y_max,\n",
        ")\n"
      ],
      "metadata": {
        "id": "3MQRUNr7luNy"
      },
      "execution_count": null,
      "outputs": []
    },
    {
      "cell_type": "markdown",
      "source": [
        "The blue square shows the area where a molecule’s physicochemical properties are compliant with the Ro5. The blue line highlights the mean values, while the orange dashed lines show the standard deviations. We can see that the mean values never violate any of Lipinski’s rules. However, according to the standard deviation, some properties have larger values then the Ro5 thresholds. This is acceptable because, according to the Ro5, one of the four rules can be violated.\n",
        "\n",
        "**In the case of violated compunds we can see that logP and MW violated**"
      ],
      "metadata": {
        "id": "sidMt3HNnA3c"
      }
    }
  ]
}