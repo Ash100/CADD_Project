{
  "cells": [
    {
      "cell_type": "markdown",
      "metadata": {
        "id": "N0MKuHFaumVS"
      },
      "source": [
        "# **Compound clustering**\n",
        "\n",
        "My name is **Dr. Ashfaq Ahmad**, and this tutorial is inspired from the TeachOpenCADD project of Volkamer Lab. Students and Researchers with a basic Biology background found difficult to run these analysis directly. Therefore, with some minor modification, this notebook allows everyone to directly use it for analysis. Also this notebook is primarily cloned for teaching and research purposes.\n",
        "For a detail video tutorial, **Bioinformatics Insights** https://www.youtube.com/channel/UC2Z_WaqTjbvXGGQNpIF9nAg\n",
        "\n",
        "Authors of this notebook:\n",
        "\n",
        "- Gizem Spriewald, CADD Seminar, 2017, Charité/FU Berlin\n",
        "- Calvinna Caswara, CADD Seminar, 2018, Charité/FU Berlin\n",
        "- Jaime Rodríguez-Guerra, 2019-2020, [Volkamer lab](https://volkamerlab.org), Charité"
      ]
    },
    {
      "cell_type": "markdown",
      "metadata": {
        "id": "cKF8RBGuumVe"
      },
      "source": [
        "## Aims and Objectives\n",
        "\n",
        "Cluster Analysis based on compounds similarities calculated in Part-4.\n",
        "Once your clusters are ready, it will help you to select compounds from these clusters for Experimental testing.\n"
      ]
    },
    {
      "cell_type": "markdown",
      "metadata": {
        "id": "imvSBcv8umVe"
      },
      "source": [
        "### Contents in _Theory_\n",
        "\n",
        "* Introduction to clustering and Jarvis-Patrick algorithm\n",
        "* Detailed explanation of Butina clustering\n",
        "* Picking diverse compounds"
      ]
    },
    {
      "cell_type": "markdown",
      "metadata": {
        "id": "BQCGEtL4umVg"
      },
      "source": [
        "### References\n",
        "\n",
        "* Butina, D. Unsupervised Data Base Clustering Based on Daylight’s Fingerprint and Tanimoto Similarity: A Fast and Automated Way To Cluster Small and Large Data Set. _J. Chem. Inf. Comput. Sci._ (1999)\n",
        "* Leach, Andrew R., Gillet, Valerie J. An Introduction to Chemoinformatics (2003)\n",
        "* [Jarvis-Patrick Clustering](http://www.improvedoutcomes.com/docs/WebSiteDocs/Clustering/Jarvis-Patrick_Clustering_Overview.htm)\n",
        "* [TDT Tutorial](https://github.com/sriniker/TDT-tutorial-2014/blob/master/TDT_challenge_tutorial.ipynb)\n",
        "* [RDKit clustering documentation](http://rdkit.org/docs/Cookbook.html#clustering-molecules)"
      ]
    },
    {
      "cell_type": "markdown",
      "metadata": {
        "id": "8N61ntBVumVh"
      },
      "source": [
        "## Theory"
      ]
    },
    {
      "cell_type": "markdown",
      "metadata": {
        "id": "uECZ43XEumVi"
      },
      "source": [
        "### Introduction to clustering and Jarvis-Patrick algorithm\n",
        "\n",
        "[Clustering](https://en.wikipedia.org/wiki/Cluster_analysis) can be defined as _the task of grouping a set of objects in such a way that objects in the same group (called a cluster) are more similar (in some sense) to each other than to those in other groups (clusters)_.\n",
        "\n",
        "Compound clustering in pharmaceutical research is often based on chemical or structural similarity between compounds to find groups that share properties as well as to design a diverse and representative set for further analysis.\n",
        "\n",
        "General procedure:\n",
        "\n",
        "* Methods are based on clustering data by similarity between neighboring points, as in the case of cheminformatics, compounds are often encoded as molecular fingerprints and similarity.\n",
        "\n",
        "> Quick reminder:\n",
        ">\n",
        ">   * Fingerprints are binary vectors where each bit indicates the presence or absence of a particular substructural fragment within a molecule.\n",
        ">   * Similarity (or distance) matrix: The similarity between each pair of molecules represented by binary fingerprints is most frequently quantified using the Tanimoto coefficient, which measures the number of common features (bits).\n",
        ">   * The value of the Tanimoto coefficient ranges from zero (no similarity) to one (high similarity).\n",
        "\n",
        "There are a number of clustering algorithms available, with the [Jarvis-Patrick clustering](http://www.improvedoutcomes.com/docs/WebSiteDocs/Clustering/Jarvis-Patrick_Clustering_Overview.htm) being one of the most widely used algorithms in the pharmaceutical context.\n",
        "\n",
        "Jarvis-Patrick clustering algorithm is defined by two parameters $K$ and $K_{min}$:\n",
        "\n",
        "* Calculate the set of $K$ nearest neighbors for each molecule.\n",
        "* Two molecules cluster together if\n",
        "    * they are in each others list of nearest neighbors\n",
        "    * they have at least $K_{min}$ of their $K$ nearest neighbors in common.\n",
        "\n",
        "The Jarvis-Patrick clustering algorithm is deterministic and able to deal with large sets of molecules in a matter of a few hours. However, a downside lies in the fact that this method tends to produce large heterogeneous clusters (see _Butina clustering_, referenced above).\n",
        "\n",
        "More clustering algorithms can also be found in the [scikit-learn clustering module](http://scikit-learn.org/stable/modules/clustering.html)."
      ]
    },
    {
      "cell_type": "markdown",
      "metadata": {
        "id": "HjMZFFdfumVj"
      },
      "source": [
        "### Detailed explanation of Butina clustering\n",
        "\n",
        "Butina clustering ([*J. Chem. Inf. Model.* (1999), **39** (4), 747](https://pubs.acs.org/doi/abs/10.1021/ci9803381)) was developed to identify smaller but homogeneous clusters, with the prerequisite that (at least) the cluster centroid will be more similar than a given threshold to every other molecule in the cluster.\n",
        "\n",
        "These are the key steps in this clustering approach (see flowchart below):\n",
        "\n",
        "#### 1. Data preparation and compound encoding\n",
        "\n",
        "* To identify chemical similarities, the compounds in the input data (e.g. given as SMILES) will be encoded as molecular fingerprints, e.g., RDK5 fingerprint which is a subgraph-based fingerprint similar to the well known [Daylight Fingerprint](http://www.daylight.com/dayhtml/doc/theory/theory.finger.html) (which was used in the original publication).\n",
        "\n",
        "\n",
        "#### 2. Tanimoto similarity (or distance) matrix\n",
        "\n",
        "* The similarity between two fingerprints is calculated using the Tanimoto coefficient.\n",
        "* Matrix with Tanimoto similarities between all possible molecule/fingerprint pairs ($n*n$ similarity matrix with $n$=number of molecules, upper triangle matrix used only).\n",
        "* Equally, the distances matrix can be calculated ($1 - similarity$).\n",
        "\n",
        "#### 3. Clustering molecules: Centroids and exclusion spheres\n",
        "\n",
        "> Note: Molecules will be clustered together, if they have a maximum distance below a specified cut-off from the cluster centroid (if distance matrix is used) or if they have a minimum similarity above the specified cut-off (if similarity matrix is used).  \n",
        "\n",
        "* **Identification of potential cluster centroids**\n",
        "    * The cluster centroid is the molecule within a given cluster which has the largest number of neighbors.\n",
        "    * Annotate neighbors: For each molecule count all molecules with a Tanimoto distance below a given threshold.\n",
        "    * Sort the molecules by their number of neighbors in descending order, so that potential cluster centroids (i.e. the compounds with the largest number of neighbors) are placed at the top of the file.  \n",
        "\n",
        "* **Clustering based on the exclusion spheres**\n",
        "    * Starting with the first molecule (centroid) in the sorted list.\n",
        "        * All molecules with a Tanimoto index above or equal to the cut-off value used for clustering then become members of that cluster (in case of similarity).\n",
        "            * Each molecule that has been identified as a member of the given cluster is flagged and removed from further comparisons. Thus, flagged molecules cannot become either another cluster centroid or a member of another cluster. This process is like putting an exclusion sphere around the newly formed cluster.\n",
        "            * Once the first compound in the list has found all its neighbors, the first available (i.e. not flagged) compound at the top of the list becomes the new cluster centroid.\n",
        "        * The same process is repeated for all other unflagged molecules down the list.\n",
        "    * Molecules that have not been flagged by the end of the clustering process become singletons.\n",
        "        * Note that some molecules assigned as singletons can have neighbors at the given Tanimoto similarity index, but those neighbors have been excluded by a stronger cluster centroid."
      ]
    },
    {
      "cell_type": "code",
      "execution_count": 49,
      "metadata": {
        "id": "jt4j6RuWumVk",
        "outputId": "5a75c8d1-c7a2-4bfb-93a3-919589ca2394",
        "colab": {
          "base_uri": "https://localhost:8080/",
          "height": 522
        }
      },
      "outputs": [
        {
          "output_type": "execute_result",
          "data": {
            "text/plain": [
              "<IPython.lib.display.IFrame at 0x7e3df912fa60>"
            ],
            "text/html": [
              "\n",
              "        <iframe\n",
              "            width=\"800\"\n",
              "            height=\"500\"\n",
              "            src=\"images/butina_full.pdf\"\n",
              "            frameborder=\"0\"\n",
              "            allowfullscreen\n",
              "            \n",
              "        ></iframe>\n",
              "        "
            ]
          },
          "metadata": {},
          "execution_count": 49
        }
      ],
      "source": [
        "from IPython.display import IFrame\n",
        "\n",
        "IFrame(\"images/butina_full.pdf\", width=800, height=500)"
      ]
    },
    {
      "cell_type": "markdown",
      "metadata": {
        "id": "e_sgFlHiumVo"
      },
      "source": [
        "*Figure 1:* Theoretical example of the Butina clustering algorithm, drawn by Calvinna Caswara."
      ]
    },
    {
      "cell_type": "markdown",
      "metadata": {
        "id": "nvbuPst7umVp"
      },
      "source": [
        "### Picking diverse compounds\n",
        "\n",
        "Finding representative sets of compounds is a concept often used in pharmaceutical industry.\n",
        "\n",
        "* Let's say, we applied a virtual screening campaign but only have a limited amount of resources to experimentally test a few compounds in a confirmatory assay.  \n",
        "* In order to obtain as much information as possible from this screen, we want to select a diverse set. Thus, we pick one representative of each chemical series in our list of potentially active compounds.\n",
        "\n",
        "Another scenario would be to select one series to gain information about the structure-activity relationship; i.e., how small structural changes in the molecule affect the _in vitro_ activity."
      ]
    },
    {
      "cell_type": "markdown",
      "metadata": {
        "id": "-6OXCgKeumVp"
      },
      "source": [
        "## Lets Start Learning"
      ]
    },
    {
      "cell_type": "markdown",
      "metadata": {
        "id": "xTR_pR00umVq"
      },
      "source": [
        "#### **Installation of Packages**\n",
        "\n"
      ]
    },
    {
      "cell_type": "code",
      "source": [
        "#Install Conda - Kernal Restart will take place\n",
        "!pip install -q condacolab\n",
        "import condacolab\n",
        "condacolab.install()"
      ],
      "metadata": {
        "id": "V1KsXG8Zvkjt"
      },
      "execution_count": null,
      "outputs": []
    },
    {
      "cell_type": "code",
      "source": [
        "# Install mamba\n",
        "!conda install -c conda-forge mamba -y\n",
        "\n",
        "# Use mamba to install packages\n",
        "!mamba install -c conda-forge -c defaults python=3.8 -y\n",
        "!mamba install -c conda-forge -c defaults pip -y\n",
        "!mamba install -c conda-forge -c defaults jupyterlab=3 -y\n",
        "!mamba install -c conda-forge -c defaults jsonschema=4.3.0 -y\n",
        "!mamba install -c conda-forge -c defaults nglview=3 -y\n",
        "!mamba install -c conda-forge -c defaults ipywidgets=7.75 -y\n",
        "!mamba install -c conda-forge -c defaults jupyter_client=7.4.9 -y\n",
        "!mamba install -c conda-forge -c defaults 'numpy<1.24' -y\n",
        "!mamba install -c conda-forge -c defaults scikit-learn -y\n",
        "!mamba install -c conda-forge -c defaults 'tensorflow<=2.6' -y\n",
        "!mamba install -c conda-forge -c defaults seaborn -y\n",
        "!mamba install -c conda-forge -c defaults matplotlib-venn -y\n",
        "!mamba install -c conda-forge -c defaults bravado -y\n",
        "!mamba install -c conda-forge -c defaults requests -y\n",
        "!mamba install -c conda-forge -c defaults requests-cache -y\n",
        "!mamba install -c conda-forge -c defaults redo -y\n",
        "!mamba install -c conda-forge -c defaults suds-community -y\n",
        "!mamba install -c conda-forge -c defaults beautifulsoup4 -y\n",
        "!mamba install -c conda-forge -c defaults chembl_webresource_client -y\n",
        "!mamba install -c conda-forge -c defaults pypdb -y\n",
        "!mamba install -c conda-forge -c defaults 'biopython<=1.77' -y\n",
        "!mamba install -c conda-forge -c defaults biopandas -y\n",
        "!mamba install -c conda-forge -c defaults rdkit -y\n",
        "!mamba install -c conda-forge -c defaults openbabel -y\n",
        "!mamba install -c conda-forge -c defaults opencadd -y\n",
        "!mamba install -c conda-forge -c defaults 'biotite>=0.34.0' -y\n",
        "!mamba install -c conda-forge -c defaults smina -y\n",
        "!mamba install -c conda-forge -c defaults 'mdanalysis>=1.0.0' -y\n",
        "!mamba install -c conda-forge -c defaults mdtraj -y\n",
        "!mamba install -c conda-forge -c defaults plip -y\n",
        "!mamba install -c conda-forge -c defaults openmm -y\n",
        "!mamba install -c conda-forge -c defaults 'mkl<2022' -y\n",
        "!mamba install -c pytorch pytorch==1.13.0 -y\n",
        "!mamba install -c conda-forge -c defaults pdbfixer -y\n",
        "!mamba install -c conda-forge -c defaults tqdm -y\n",
        "!mamba install -c conda-forge -c defaults lxml -y\n",
        "!mamba install -c conda-forge -c defaults kissim -y\n",
        "!mamba install -c conda-forge -c defaults pytest -y\n",
        "!mamba install -c conda-forge -c defaults pytest-xdist -y\n",
        "!mamba install -c conda-forge -c defaults pytest-cov -y\n",
        "!mamba install -c conda-forge -c defaults nbval -y\n",
        "!mamba install -c conda-forge -c defaults shyaml -y\n",
        "!mamba install -c conda-forge -c defaults 'jinja2==3.0.3' -y\n",
        "!mamba install -c conda-forge -c defaults sphinx -y\n",
        "!mamba install -c conda-forge -c defaults sphinx-material -y\n",
        "!mamba install -c conda-forge -c defaults nbsphinx -y\n",
        "!mamba install -c conda-forge -c defaults recommonmark -y\n",
        "!mamba install -c conda-forge -c defaults sphinx-autodoc-typehints -y\n",
        "!mamba install -c conda-forge -c defaults sphinx-copybutton -y\n",
        "!mamba install -c conda-forge -c defaults sphinx-gallery -y\n",
        "!mamba install -c conda-forge -c defaults autodocsumm -y\n",
        "\n",
        "# Install pip packages\n",
        "!pip install black-nb nbsphinx-link sphinxext-opengraph deepchem"
      ],
      "metadata": {
        "id": "TPSGP3fVv0Mv"
      },
      "execution_count": null,
      "outputs": []
    },
    {
      "cell_type": "code",
      "execution_count": 2,
      "metadata": {
        "id": "hsz-96ZEumVr"
      },
      "outputs": [],
      "source": [
        "import time\n",
        "import random\n",
        "from pathlib import Path\n",
        "\n",
        "import pandas as pd\n",
        "import numpy\n",
        "import matplotlib.pyplot as plt\n",
        "from rdkit import Chem\n",
        "from rdkit import DataStructs\n",
        "from rdkit.ML.Cluster import Butina\n",
        "from rdkit.Chem import Draw\n",
        "from rdkit.Chem import rdFingerprintGenerator"
      ]
    },
    {
      "cell_type": "code",
      "execution_count": null,
      "metadata": {
        "id": "vR3O3lhhumVt"
      },
      "outputs": [],
      "source": [
        "# Load and have a look into data\n",
        "# Filtered data taken from **Part-2**\n",
        "compound_df = pd.read_csv(\n",
        "    \"/content/sample_data/ro5_properties1.csv\",\n",
        "    index_col=0,\n",
        ")\n",
        "print(\"Dataframe shape:\", compound_df.shape)\n",
        "compound_df.head()"
      ]
    },
    {
      "cell_type": "code",
      "execution_count": null,
      "metadata": {
        "id": "95debBpFumVt"
      },
      "outputs": [],
      "source": [
        "# Create molecules from SMILES and store in array\n",
        "compounds = []\n",
        "# .itertuples() returns a (index, column1, column2, ...) tuple per row\n",
        "# we don't need index so we use _ instead\n",
        "# note how we are slicing the dataframe to only the two columns we need now\n",
        "for _, chembl_id, smiles in compound_df[[\"molecule_chembl_id\", \"smiles\"]].itertuples():\n",
        "    compounds.append((Chem.MolFromSmiles(smiles), chembl_id))\n",
        "compounds[:5]"
      ]
    },
    {
      "cell_type": "code",
      "execution_count": null,
      "metadata": {
        "id": "84jGdAgzumVu"
      },
      "outputs": [],
      "source": [
        "# Create fingerprints for all molecules\n",
        "rdkit_gen = rdFingerprintGenerator.GetRDKitFPGenerator(maxPath=5)\n",
        "fingerprints = [rdkit_gen.GetFingerprint(mol) for mol, idx in compounds]\n",
        "\n",
        "# How many compounds/fingerprints do we have?\n",
        "print(\"Number of compounds converted:\", len(fingerprints))\n",
        "print(\"Fingerprint length per compound:\", len(fingerprints[0]))\n",
        "# NBVAL_CHECK_OUTPUT"
      ]
    },
    {
      "cell_type": "markdown",
      "metadata": {
        "id": "RASBeppTumVu"
      },
      "source": [
        "#### Calculation for Tanimoto similarity and distance matrix\n",
        "Now that we generated fingerprints, we move on to the next step: The identification of potential cluster centroids.  For this, we define functions to calculate the Tanimoto similarity and distance matrix."
      ]
    },
    {
      "cell_type": "code",
      "execution_count": 7,
      "metadata": {
        "id": "gHK1YdIZumVu"
      },
      "outputs": [],
      "source": [
        "def tanimoto_distance_matrix(fp_list):\n",
        "    \"\"\"Calculate distance matrix for fingerprint list\"\"\"\n",
        "    dissimilarity_matrix = []\n",
        "    # Notice how we are deliberately skipping the first and last items in the list\n",
        "    # because we don't need to compare them against themselves\n",
        "    for i in range(1, len(fp_list)):\n",
        "        # Compare the current fingerprint against all the previous ones in the list\n",
        "        similarities = DataStructs.BulkTanimotoSimilarity(fp_list[i], fp_list[:i])\n",
        "        # Since we need a distance matrix, calculate 1-x for every element in similarity matrix\n",
        "        dissimilarity_matrix.extend([1 - x for x in similarities])\n",
        "    return dissimilarity_matrix"
      ]
    },
    {
      "cell_type": "markdown",
      "metadata": {
        "id": "LJZd8JvkumVv"
      },
      "source": [
        "See also [[Rdkit-discuss] BulkTanimotoSimilarity](https://sourceforge.net/p/rdkit/mailman/rdkit-discuss/thread/663770d4-b809-c599-e379-31f57380a1d0%40gmail.com/#msg36335970)."
      ]
    },
    {
      "cell_type": "code",
      "execution_count": null,
      "metadata": {
        "id": "I2CSmwrDumVv"
      },
      "outputs": [],
      "source": [
        "# Example: Calculate single similarity of two fingerprints\n",
        "# NBVAL_CHECK_OUTPUT\n",
        "sim = DataStructs.TanimotoSimilarity(fingerprints[0], fingerprints[1])\n",
        "print(f\"Tanimoto similarity: {sim:.2f}, distance: {1-sim:.2f}\")"
      ]
    },
    {
      "cell_type": "code",
      "execution_count": null,
      "metadata": {
        "id": "2HrNoKFrumVv"
      },
      "outputs": [],
      "source": [
        "# Example: Calculate distance matrix (distance = 1-similarity)\n",
        "tanimoto_distance_matrix(fingerprints)[0:5]"
      ]
    },
    {
      "cell_type": "code",
      "execution_count": 10,
      "metadata": {
        "id": "D75tlyiyumVw",
        "outputId": "da434163-6294-4e9f-de37-68898b15af77",
        "colab": {
          "base_uri": "https://localhost:8080/"
        }
      },
      "outputs": [
        {
          "output_type": "stream",
          "name": "stdout",
          "text": [
            "Elements in the triangular matrix (23225520) == tanimoto_distance_matrix(fingerprints) (23225520)\n"
          ]
        }
      ],
      "source": [
        "# Side note: That looked like a list and not a matrix.\n",
        "# But it is a triangular similarity matrix in the form of a list\n",
        "n = len(fingerprints)\n",
        "\n",
        "# Calculate number of elements in triangular matrix via n*(n-1)/2\n",
        "elem_triangular_matr = (n * (n - 1)) / 2\n",
        "print(\n",
        "    f\"Elements in the triangular matrix ({elem_triangular_matr:.0f}) ==\",\n",
        "    f\"tanimoto_distance_matrix(fingerprints) ({len(tanimoto_distance_matrix(fingerprints))})\",\n",
        ")\n",
        "# NBVAL_CHECK_OUTPUT"
      ]
    },
    {
      "cell_type": "markdown",
      "metadata": {
        "id": "WXKDKuSLumVw"
      },
      "source": [
        "#### Clustering molecules: Centroids and exclusion spheres\n",
        "In this part, we cluster the molecules and look at the results."
      ]
    },
    {
      "cell_type": "markdown",
      "metadata": {
        "id": "jQ4-eOecumVx"
      },
      "source": [
        "Define a clustering function."
      ]
    },
    {
      "cell_type": "code",
      "execution_count": 11,
      "metadata": {
        "id": "7yvadKdqumVx"
      },
      "outputs": [],
      "source": [
        "def cluster_fingerprints(fingerprints, cutoff=0.2):\n",
        "    \"\"\"Cluster fingerprints\n",
        "    Parameters:\n",
        "        fingerprints\n",
        "        cutoff: threshold for the clustering\n",
        "    \"\"\"\n",
        "    # Calculate Tanimoto distance matrix\n",
        "    distance_matrix = tanimoto_distance_matrix(fingerprints)\n",
        "    # Now cluster the data with the implemented Butina algorithm:\n",
        "    clusters = Butina.ClusterData(distance_matrix, len(fingerprints), cutoff, isDistData=True)\n",
        "    clusters = sorted(clusters, key=len, reverse=True)\n",
        "    return clusters"
      ]
    },
    {
      "cell_type": "markdown",
      "metadata": {
        "id": "cX6sTddWumVx"
      },
      "source": [
        "Cluster the molecules based on their fingerprint similarity."
      ]
    },
    {
      "cell_type": "code",
      "execution_count": 12,
      "metadata": {
        "id": "-LCH2UkFumVx",
        "outputId": "43865d4f-fb4e-4e3b-aa43-bb6bbb340de2",
        "colab": {
          "base_uri": "https://localhost:8080/"
        }
      },
      "outputs": [
        {
          "output_type": "stream",
          "name": "stdout",
          "text": [
            "total # clusters:  1054\n",
            "# clusters with only 1 compound:  484\n",
            "# clusters with >5 compounds:  246\n",
            "# clusters with >25 compounds:  43\n",
            "# clusters with >100 compounds:  5\n"
          ]
        }
      ],
      "source": [
        "# Run the clustering procedure for the dataset\n",
        "clusters = cluster_fingerprints(fingerprints, cutoff=0.3)\n",
        "\n",
        "# Give a short report about the numbers of clusters and their sizes\n",
        "num_clust_g1 = sum(1 for c in clusters if len(c) == 1)\n",
        "num_clust_g5 = sum(1 for c in clusters if len(c) > 5)\n",
        "num_clust_g25 = sum(1 for c in clusters if len(c) > 25)\n",
        "num_clust_g100 = sum(1 for c in clusters if len(c) > 100)\n",
        "\n",
        "print(\"total # clusters: \", len(clusters))\n",
        "print(\"# clusters with only 1 compound: \", num_clust_g1)\n",
        "print(\"# clusters with >5 compounds: \", num_clust_g5)\n",
        "print(\"# clusters with >25 compounds: \", num_clust_g25)\n",
        "print(\"# clusters with >100 compounds: \", num_clust_g100)\n",
        "# NBVAL_CHECK_OUTPUT"
      ]
    },
    {
      "cell_type": "code",
      "execution_count": null,
      "metadata": {
        "id": "ak2E55HlumVy"
      },
      "outputs": [],
      "source": [
        "# Plot the size of the clusters\n",
        "fig, ax = plt.subplots(figsize=(15, 4))\n",
        "ax.set_xlabel(\"Cluster index\")\n",
        "ax.set_ylabel(\"Number of molecules\")\n",
        "ax.bar(range(1, len(clusters) + 1), [len(c) for c in clusters], lw=5);"
      ]
    },
    {
      "cell_type": "markdown",
      "metadata": {
        "id": "NqxKciugumVy"
      },
      "source": [
        "#### How to pick a reasonable cutoff?\n",
        "Since the clustering result depends on the threshold chosen by the user, we will have a closer look on the choice of a cutoff."
      ]
    },
    {
      "cell_type": "code",
      "execution_count": null,
      "metadata": {
        "scrolled": true,
        "id": "ZhmbiHRQumVy"
      },
      "outputs": [],
      "source": [
        "for cutoff in numpy.arange(0.0, 1.0, 0.2):\n",
        "    clusters = cluster_fingerprints(fingerprints, cutoff=cutoff)\n",
        "    fig, ax = plt.subplots(figsize=(15, 4))\n",
        "    ax.set_title(f\"Threshold: {cutoff:3.1f}\")\n",
        "    ax.set_xlabel(\"Cluster index\")\n",
        "    ax.set_ylabel(\"Number of molecules\")\n",
        "    ax.bar(range(1, len(clusters) + 1), [len(c) for c in clusters], lw=5)\n",
        "    display(fig)"
      ]
    },
    {
      "cell_type": "markdown",
      "metadata": {
        "id": "cOc0lNqpumVz"
      },
      "source": [
        "As you can see, the higher the threshold (distance cutoff), the more molecules are considered as similar and, therefore, clustered into less clusters.\n",
        "The lower the threshold, the more small clusters and \"singletons\" appear.\n",
        "\n",
        "> The smaller the distance value cut-off, the more similar the compounds are required to be to belong to one cluster.\n",
        "\n",
        "Looking at the plots above, we decided to choose a distance threshold of `0.2`. There are not many singletons and the cluster sizes don't have an extreme but smooth distribution."
      ]
    },
    {
      "cell_type": "code",
      "execution_count": null,
      "metadata": {
        "id": "AObn-HXvumVz"
      },
      "outputs": [],
      "source": [
        "cutoff = 0.2\n",
        "clusters = cluster_fingerprints(fingerprints, cutoff=cutoff)\n",
        "\n",
        "# Plot the size of the clusters - save plot\n",
        "fig, ax = plt.subplots(figsize=(15, 4))\n",
        "ax.set_xlabel(\"Cluster index\")\n",
        "ax.set_ylabel(\"# molecules\")\n",
        "ax.bar(range(1, len(clusters) + 1), [len(c) for c in clusters])\n",
        "ax.set_title(f\"Threshold: {cutoff:3.1f}\")\n",
        "fig.savefig(\n",
        "    f\"cluster_dist_cutoff_{cutoff:4.2f}.png\",\n",
        "    dpi=300,\n",
        "    bbox_inches=\"tight\",\n",
        "    transparent=True,\n",
        ")\n",
        "\n",
        "print(\n",
        "    f\"Number of clusters: {len(clusters)} from {len(compounds)} molecules at distance cut-off {cutoff:.2f}\"\n",
        ")\n",
        "print(\"Number of molecules in largest cluster:\", len(clusters[0]))\n",
        "print(\n",
        "    f\"Similarity between two random points in same cluster: {DataStructs.TanimotoSimilarity(fingerprints[clusters[0][0]], fingerprints[clusters[0][1]]):.2f}\"\n",
        ")\n",
        "print(\n",
        "    f\"Similarity between two random points in different cluster: {DataStructs.TanimotoSimilarity(fingerprints[clusters[0][0]], fingerprints[clusters[1][0]]):.2f}\"\n",
        ")"
      ]
    },
    {
      "cell_type": "markdown",
      "metadata": {
        "id": "KdLQ_XesumV0"
      },
      "source": [
        "### Visualizing the clusters"
      ]
    },
    {
      "cell_type": "markdown",
      "metadata": {
        "id": "iLe0VkD1umV0"
      },
      "source": [
        "#### 10 examples from largest cluster\n",
        "\n",
        "Now, let's have a closer look at the first 10 molecular structures of the first/largest clusters."
      ]
    },
    {
      "cell_type": "code",
      "execution_count": null,
      "metadata": {
        "id": "YQ64FleAumV0"
      },
      "outputs": [],
      "source": [
        "print(\"Ten molecules from largest cluster:\")\n",
        "# Draw molecules\n",
        "Draw.MolsToGridImage(\n",
        "    [compounds[i][0] for i in clusters[0][:10]],\n",
        "    legends=[compounds[i][1] for i in clusters[0][:10]],\n",
        "    molsPerRow=5,\n",
        ")"
      ]
    },
    {
      "cell_type": "code",
      "execution_count": 17,
      "metadata": {
        "id": "ExyvNpF0umV-"
      },
      "outputs": [],
      "source": [
        "# Save molecules from largest cluster so other talktorials can use it\n",
        "sdf_path = str(\"molecule_set_largest_cluster.sdf\")\n",
        "sdf = Chem.SDWriter(sdf_path)\n",
        "for index in clusters[0]:\n",
        "    mol, label = compounds[index]\n",
        "    # Add label to metadata\n",
        "    mol.SetProp(\"_Name\", label)\n",
        "    sdf.write(mol)\n",
        "sdf.close()"
      ]
    },
    {
      "cell_type": "markdown",
      "metadata": {
        "id": "btKYCBtUumWC"
      },
      "source": [
        "#### 10 examples from second largest cluster"
      ]
    },
    {
      "cell_type": "code",
      "execution_count": null,
      "metadata": {
        "id": "ps0qDVXLumWD"
      },
      "outputs": [],
      "source": [
        "print(\"Ten molecules from second largest cluster:\")\n",
        "# Draw molecules\n",
        "Draw.MolsToGridImage(\n",
        "    [compounds[i][0] for i in clusters[1][:10]],\n",
        "    legends=[compounds[i][1] for i in clusters[1][:10]],\n",
        "    molsPerRow=5,\n",
        ")"
      ]
    },
    {
      "cell_type": "markdown",
      "metadata": {
        "id": "oN-KMuAjumWD"
      },
      "source": [
        "The first ten molecules in the respective clusters look indeed similar to each other and many share a common scaffold (visually detected).\n",
        "\n",
        "In **Part-6** we will learn how to calculate the maximum common substructure (MCS) of a set of molecules."
      ]
    },
    {
      "cell_type": "markdown",
      "metadata": {
        "id": "2DiolLIQumWE"
      },
      "source": [
        "#### Examples from first 10 clusters\n",
        "\n",
        "For comparison, we have a look at the cluster centers of the first 10 clusters."
      ]
    },
    {
      "cell_type": "code",
      "execution_count": null,
      "metadata": {
        "scrolled": true,
        "id": "2A7UgiLAumWE"
      },
      "outputs": [],
      "source": [
        "print(\"Ten molecules from first 10 clusters:\")\n",
        "# Draw molecules\n",
        "Draw.MolsToGridImage(\n",
        "    [compounds[clusters[i][0]][0] for i in range(10)],\n",
        "    legends=[compounds[clusters[i][0]][1] for i in range(10)],\n",
        "    molsPerRow=5,\n",
        ")"
      ]
    },
    {
      "cell_type": "markdown",
      "metadata": {
        "id": "2abVnd8NumWE"
      },
      "source": [
        "Save cluster centers from first 3 clusters as SVG file."
      ]
    },
    {
      "cell_type": "code",
      "execution_count": 25,
      "metadata": {
        "id": "Zk9FVtiEumWF"
      },
      "outputs": [],
      "source": [
        "# Generate image\n",
        "img = Draw.MolsToGridImage(\n",
        "    [compounds[clusters[i][0]][0] for i in range(0, 3)],\n",
        "    legends=[f\"Cluster {i}\" for i in range(1, 4)],\n",
        "    subImgSize=(200, 200),\n",
        "    useSVG=True,\n",
        ")\n",
        "\n",
        "# Patch RAW svg data: convert non-transparent to transparent background and set font size\n",
        "MolFromRDKitSVG = img.data.replace(\"opacity:1.0\", \"opacity:0.0\").replace(\"12px\", \"20px\")\n",
        "\n",
        "# Save altered SVG data to file\n",
        "with open(\"cluster_representatives.svg\", \"w\") as f:\n",
        "    f.write(molsvg)"
      ]
    },
    {
      "cell_type": "markdown",
      "metadata": {
        "id": "teEjgfCLumWF"
      },
      "source": [
        "While still some similarity is visible, clearly, the centroids from the different clusters look more dissimilar then the compounds within one cluster."
      ]
    },
    {
      "cell_type": "markdown",
      "metadata": {
        "id": "ok-BO9ouumWF"
      },
      "source": [
        "#### Intra-cluster Tanimoto similarities\n",
        "\n",
        "We can also have a look at the intra-cluster Tanimoto similarities."
      ]
    },
    {
      "cell_type": "code",
      "execution_count": 26,
      "metadata": {
        "id": "hH_Lpph7umWF"
      },
      "outputs": [],
      "source": [
        "def intra_tanimoto(fps_clusters):\n",
        "    \"\"\"Function to compute Tanimoto similarity for all pairs of fingerprints in each cluster\"\"\"\n",
        "    intra_similarity = []\n",
        "    # Calculate intra similarity per cluster\n",
        "    for cluster in fps_clusters:\n",
        "        # Tanimoto distance matrix function converted to similarity matrix (1-distance)\n",
        "        intra_similarity.append([1 - x for x in tanimoto_distance_matrix(cluster)])\n",
        "    return intra_similarity"
      ]
    },
    {
      "cell_type": "code",
      "execution_count": 33,
      "metadata": {
        "id": "poOp8_-DumWG"
      },
      "outputs": [],
      "source": [
        "# Recompute fingerprints for 10 first clusters\n",
        "mol_fps_per_cluster = []\n",
        "for cluster in clusters[:10]:\n",
        "    mol_fps_per_cluster.append([rdkit_gen.GetFingerprint(compounds[i][0]) for i in cluster])\n",
        "\n",
        "# Compute intra-cluster similarity\n",
        "intra_sim = intra_tanimoto(mol_fps_per_cluster)"
      ]
    },
    {
      "cell_type": "code",
      "execution_count": null,
      "metadata": {
        "tags": [
          "nbsphinx-thumbnail"
        ],
        "id": "2N7UdQ4PumWG"
      },
      "outputs": [],
      "source": [
        "# Violin plot with intra-cluster similarity\n",
        "\n",
        "fig, ax = plt.subplots(figsize=(10, 5))\n",
        "indices = list(range(10))\n",
        "ax.set_xlabel(\"Cluster index\")\n",
        "ax.set_ylabel(\"Similarity\")\n",
        "ax.set_xticks(indices)\n",
        "ax.set_xticklabels(indices)\n",
        "ax.set_yticks(numpy.arange(0.6, 1.0, 0.1))\n",
        "ax.set_title(\"Intra-cluster Tanimoto similarity\", fontsize=13)\n",
        "r = ax.violinplot(intra_sim, indices, showmeans=True, showmedians=True, showextrema=False)\n",
        "r[\"cmeans\"].set_color(\"red\")\n",
        "# mean=red, median=blue"
      ]
    },
    {
      "cell_type": "markdown",
      "metadata": {
        "id": "-F7a9rdFumWG"
      },
      "source": [
        "### Picking the final list of compounds\n",
        "\n",
        "In the following, we are going to pick a final list of **max. 1000 compounds** as a **diverse** subset.\n",
        "\n",
        "For this, we take the cluster centroid from each cluster (i.e. the first molecule of each cluster) and then for each cluster (starting with the largest one) we take the 10 molecules (or 50% if less than 10 molecules are left in the cluster) that are most similar to the centroid, until we have selected max. 1000 compounds. Thus, we have representatives of each cluster.\n",
        "\n",
        "Aim of this compound picking is to ensure the diversity for a smaller set of compounds which are proposed for testing in a confirmatory assay.\n",
        "\n",
        "> Picking procedure was adapted from [TDT tutorial notebook by S. Riniker and G. Landrum](https://github.com/sriniker/TDT-tutorial-2014/blob/master/TDT_challenge_tutorial.ipynb).\n",
        "\n",
        "As described there: the idea behind this approach is to ensure diversity (representatives of each cluster) while getting some SAR (structure-activity relationship) from the results of the confirmatory assay (groups of quite similar molecules from larger clusters retained)."
      ]
    },
    {
      "cell_type": "markdown",
      "metadata": {
        "id": "EK8mNBOhumWH"
      },
      "source": [
        "Get cluster centers."
      ]
    },
    {
      "cell_type": "code",
      "execution_count": 35,
      "metadata": {
        "id": "EJT_ZRYuumWH",
        "outputId": "a8c8a3b3-d175-4acf-9287-b8cdefb99c22",
        "colab": {
          "base_uri": "https://localhost:8080/"
        }
      },
      "outputs": [
        {
          "output_type": "stream",
          "name": "stdout",
          "text": [
            "Number of cluster centers: 1655\n"
          ]
        }
      ],
      "source": [
        "# Get the cluster center of each cluster (first molecule in each cluster)\n",
        "cluster_centers = [compounds[c[0]] for c in clusters]\n",
        "# How many cluster centers/clusters do we have?\n",
        "print(\"Number of cluster centers:\", len(cluster_centers))\n",
        "# NBVAL_CHECK_OUTPUT"
      ]
    },
    {
      "cell_type": "markdown",
      "metadata": {
        "id": "RHqdkiz3umWI"
      },
      "source": [
        "Sort clusters by size and molecules in each cluster by similarity."
      ]
    },
    {
      "cell_type": "code",
      "execution_count": 36,
      "metadata": {
        "id": "tx-F0BZEumWI"
      },
      "outputs": [],
      "source": [
        "# Sort the molecules within a cluster based on their similarity\n",
        "# to the cluster center and sort the clusters based on their size\n",
        "sorted_clusters = []\n",
        "for cluster in clusters:\n",
        "    if len(cluster) <= 1:\n",
        "        continue  # Singletons\n",
        "    # else:\n",
        "    # Compute fingerprints for each cluster element\n",
        "    sorted_fingerprints = [rdkit_gen.GetFingerprint(compounds[i][0]) for i in cluster]\n",
        "    # Similarity of all cluster members to the cluster center\n",
        "    similarities = DataStructs.BulkTanimotoSimilarity(\n",
        "        sorted_fingerprints[0], sorted_fingerprints[1:]\n",
        "    )\n",
        "    # Add index of the molecule to its similarity (centroid excluded!)\n",
        "    similarities = list(zip(similarities, cluster[1:]))\n",
        "    # Sort in descending order by similarity\n",
        "    similarities.sort(reverse=True)\n",
        "    # Save cluster size and index of molecules in clusters_sort\n",
        "    sorted_clusters.append((len(similarities), [i for _, i in similarities]))\n",
        "    # Sort in descending order by cluster size\n",
        "    sorted_clusters.sort(reverse=True)"
      ]
    },
    {
      "cell_type": "markdown",
      "metadata": {
        "id": "ps-kJGQyumWI"
      },
      "source": [
        "Pick a maximum of 1000 compounds."
      ]
    },
    {
      "cell_type": "code",
      "execution_count": null,
      "metadata": {
        "id": "89opJ9nsumWJ"
      },
      "outputs": [],
      "source": [
        "# Count selected molecules, pick cluster centers first\n",
        "selected_molecules = cluster_centers.copy()\n",
        "# Take 10 molecules (or a maximum of 50%) of each cluster starting with the largest one\n",
        "index = 0\n",
        "pending = 1000 - len(selected_molecules)\n",
        "while pending > 0 and index < len(sorted_clusters):\n",
        "    # Take indices of sorted clusters\n",
        "    tmp_cluster = sorted_clusters[index][1]\n",
        "    # If the first cluster is > 10 big then take exactly 10 compounds\n",
        "    if sorted_clusters[index][0] > 10:\n",
        "        num_compounds = 10\n",
        "    # If smaller, take half of the molecules\n",
        "    else:\n",
        "        num_compounds = int(0.5 * len(tmp_cluster)) + 1\n",
        "    if num_compounds > pending:\n",
        "        num_compounds = pending\n",
        "    # Write picked molecules and their structures into list of lists called picked_fps\n",
        "    selected_molecules += [compounds[i] for i in tmp_cluster[:num_compounds]]\n",
        "    index += 1\n",
        "    pending = 1000 - len(selected_molecules)\n",
        "print(\"# Selected molecules:\", len(selected_molecules))\n",
        "# NBVAL_CHECK_OUTPUT"
      ]
    },
    {
      "cell_type": "markdown",
      "source": [
        "In case you want to save these selected molecules."
      ],
      "metadata": {
        "id": "A5IrmCpv8Jz3"
      }
    },
    {
      "cell_type": "code",
      "source": [
        "#Convert it into a DataFrame\n",
        "df_selected_molecules = pd.DataFrame(selected_molecules)\n",
        "\n",
        "# Save DataFrame to CSV file\n",
        "df_selected_molecules.to_csv('selected_molecules.csv', index=False)"
      ],
      "metadata": {
        "id": "B9Tsji1i6-Gm"
      },
      "execution_count": 48,
      "outputs": []
    },
    {
      "cell_type": "markdown",
      "metadata": {
        "id": "BU4O2Ph2umWJ"
      },
      "source": [
        "This set of diverse molecules could now be used for experimental testing."
      ]
    },
    {
      "cell_type": "markdown",
      "source": [
        "## Discussion\n",
        "\n",
        "We have introduced the Butina algorithm to cluster a compound dataset and discussed how to pick a reasonable clustering threshold. The clustering was rationalized by looking at example compounds from different clusters and by checking intra-cluster similarities. Finally, the clusters were used to pick a divers subset of compounds."
      ],
      "metadata": {
        "id": "vhnafZiK8qEJ"
      }
    },
    {
      "cell_type": "markdown",
      "source": [
        "###**Extra Work**"
      ],
      "metadata": {
        "id": "zlbYHODV8ss-"
      }
    },
    {
      "cell_type": "code",
      "execution_count": 38,
      "metadata": {
        "id": "UCR5ku1humWK"
      },
      "outputs": [],
      "source": [
        "# Reuse old dataset\n",
        "sampled_mols = compounds.copy()"
      ]
    },
    {
      "cell_type": "markdown",
      "metadata": {
        "id": "1RdztetrumWK"
      },
      "source": [
        "Note that you can try out larger datasets, but data sizes larger than 10000 data points already start to consume quite some memory and time (that's why we stopped there)."
      ]
    },
    {
      "cell_type": "code",
      "execution_count": 39,
      "metadata": {
        "id": "dz9QY2fnumWK"
      },
      "outputs": [],
      "source": [
        "# Helper function for time computation\n",
        "def measure_runtime(sampled_mols):\n",
        "    start_time = time.time()\n",
        "    sampled_fingerprints = [rdkit_gen.GetFingerprint(m) for m, idx in sampled_mols]\n",
        "    # Run the clustering with the dataset\n",
        "    sampled_clusters = cluster_fingerprints(sampled_fingerprints, cutoff=0.3)\n",
        "    return time.time() - start_time"
      ]
    },
    {
      "cell_type": "code",
      "execution_count": null,
      "metadata": {
        "id": "0_Pg832FumWL"
      },
      "outputs": [],
      "source": [
        "len(sampled_mols)\n",
        "# NBVAL_CHECK_OUTPUT"
      ]
    },
    {
      "cell_type": "code",
      "execution_count": 41,
      "metadata": {
        "id": "RhKIE-Q8umWL",
        "outputId": "c7aff8da-952e-4640-825e-28cd60c22879",
        "colab": {
          "base_uri": "https://localhost:8080/"
        }
      },
      "outputs": [
        {
          "output_type": "stream",
          "name": "stdout",
          "text": [
            "Dataset size 100, time 0.06 seconds\n",
            "Dataset size 500, time 0.43 seconds\n",
            "Dataset size 1000, time 0.95 seconds\n",
            "Dataset size 2000, time 1.50 seconds\n",
            "Dataset size 4000, time 4.37 seconds\n"
          ]
        }
      ],
      "source": [
        "sample_sizes = [100, 500, 1000, 2000, 4000]\n",
        "runtimes = []\n",
        "# Take random samples with replacement\n",
        "for size in sample_sizes:\n",
        "    time_taken = measure_runtime(random.sample(sampled_mols, size))\n",
        "    print(f\"Dataset size {size}, time {time_taken:4.2f} seconds\")\n",
        "    runtimes.append(time_taken)"
      ]
    },
    {
      "cell_type": "code",
      "execution_count": 42,
      "metadata": {
        "id": "r7HK2gc_umWL",
        "outputId": "008e64aa-43a1-4008-f1be-fcce683430fd",
        "colab": {
          "base_uri": "https://localhost:8080/",
          "height": 472
        }
      },
      "outputs": [
        {
          "output_type": "display_data",
          "data": {
            "text/plain": [
              "<Figure size 640x480 with 1 Axes>"
            ],
            "image/png": "[encoded data removed]"
          },
          "metadata": {}
        }
      ],
      "source": [
        "fig, ax = plt.subplots()\n",
        "ax.set_title(\"Runtime measurement of Butina Clustering with different dataset sizes\")\n",
        "ax.set_xlabel(\"# Molecules in data set\")\n",
        "ax.set_ylabel(\"Runtime in seconds\")\n",
        "ax.plot(sample_sizes, runtimes, \"g^\");"
      ]
    },
    {
      "cell_type": "markdown",
      "metadata": {
        "id": "vYu7VwnmumWM"
      },
      "source": [
        "Notice how the runtime is not exactly proportional to the sample size! It grows faster!"
      ]
    }
  ],
  "metadata": {
    "kernelspec": {
      "display_name": "Python 3 (ipykernel)",
      "language": "python",
      "name": "python3"
    },
    "language_info": {
      "codemirror_mode": {
        "name": "ipython",
        "version": 3
      },
      "file_extension": ".py",
      "mimetype": "text/x-python",
      "name": "python",
      "nbconvert_exporter": "python",
      "pygments_lexer": "ipython3",
      "version": "3.9.16"
    },
    "toc-autonumbering": true,
    "colab": {
      "provenance": []
    }
  },
  "nbformat": 4,
  "nbformat_minor": 0
}