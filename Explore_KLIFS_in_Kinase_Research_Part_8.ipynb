{
  "cells": [
    {
      "cell_type": "markdown",
      "metadata": {
        "id": "view-in-github",
        "colab_type": "text"
      },
      "source": [
        "<a href=\"https://colab.research.google.com/github/Ash100/CADD_Project/blob/main/Explore_KLIFS_in_Kinase_Research_Part_8.ipynb\" target=\"_parent\"><img src=\"https://colab.research.google.com/assets/colab-badge.svg\" alt=\"Open In Colab\"/></a>"
      ]
    },
    {
      "cell_type": "markdown",
      "metadata": {
        "id": "oFRtZbjWOfJW"
      },
      "source": [
        "# Usage and Importance of **K**inase-**L**igand **I**nteraction **F**ingerprints and **S**tructures database (KLIFS)\n",
        "\n",
        "My name is **Dr. Ashfaq Ahmad** and you can watch complete tutorial of this notebook on [**Bioinformatics Insights**](https://www.youtube.com/channel/UC2Z_WaqTjbvXGGQNpIF9nAg). This talktorial is inspired from TeachOpenCADD, a platform that aims to teach domain-specific skills and to provide pipeline templates as starting points for research projects. Majority of scripts are modified or changed accordingly.\n",
        "\n",
        "Authors:\n",
        "\n",
        "- Dominique Sydow, 2019-2020, [Volkamer lab, Charité](https://volkamerlab.org/)\n",
        "- Jaime Rodríguez-Guerra, 2019-2020, [Volkamer lab, Charité](https://volkamerlab.org/)\n",
        "- David Schaller, 2020, [Volkamer lab, Charité](https://volkamerlab.org/)"
      ]
    },
    {
      "cell_type": "markdown",
      "metadata": {
        "id": "OZxuufIQOfJf"
      },
      "source": [
        "## Aim of this talktorial\n",
        "\n",
        "[KLIFS](https://klifs.net/) is a database for kinase-ligand interaction fingerprints and structures. In this talktorial, we will use the programmatic access to this database (KLIFS OpenAPI) and the `opencadd` ([GitHub](https://github.com/volkamerlab/opencadd)) package to interact with its rich content.\n",
        "First, we will use a query kinase ([EGFR](https://www.uniprot.org/uniprot/P00533)) to fetch all available protein structures and explore their bound ligands as well as interaction fingerprints. Then, we will explore the bioactivity data for the EGFR inhibitor [Gefitinib](https://pubchem.ncbi.nlm.nih.gov/compound/Gefitinib) in order to find off-targets. Last but not least, we offer a convenience function that allows to easily explore different kinases."
      ]
    },
    {
      "cell_type": "markdown",
      "metadata": {
        "id": "_8GIocCnOfJi"
      },
      "source": [
        "### References\n",
        "\n",
        "* Introduction to protein kinases and inhibition ([Chapter 9 in _Med. Chem. Anticancer Drugs_ (2008), 251-305](https://www.sciencedirect.com/science/article/pii/B9780444528247000093))\n",
        "* Kinase classification by Manning _et al._ ([_Science_ (2002), __298__, 1912-1934](https://pubmed.ncbi.nlm.nih.gov/12471243/))\n",
        "* Kinase-centric computational drug development ([_Annu. Rep. Med. Chem._ (2017), __50__, 197-236](https://www.sciencedirect.com/science/article/pii/S0065774317300040?via%3Dihub))\n",
        "* EGFR and Gefitinib\n",
        "  * Review on the EGFR family ([_Pharmacol. Res._ (2019), __139__, 395-411](https://www.sciencedirect.com/science/article/abs/pii/S104366181831747X?via%3Dihub) and [_Front. Cell Dev. Biol._ (2016), __8__](https://www.frontiersin.org/articles/10.3389/fcell.2016.00088/full))\n",
        "  * EGFR kinase details on [UniProt](https://www.uniprot.org/uniprot/P00533)\n",
        "  * Gefitinib details on [PubChem](https://pubchem.ncbi.nlm.nih.gov/compound/Gefitinib)\n",
        "* KLIFS - a kinase-inhibitor interactions database\n",
        "   * Main database/website reference ([_Nucleic Acids Res._ (2020)](https://academic.oup.com/nar/advance-article/doi/10.1093/nar/gkaa895/5934416))\n",
        "   * Introduction of the KLIFS website & database ([_Nucleic Acids Res._ (2016), __44__, 6, D365–D371](https://doi.org/10.1093/nar/gkv1082))\n",
        "   * Initial KLIFS dataset, binding mode classification, residue numbering ([_J. Med. Chem._ (2014), __57__, 2, 249-277](https://pubs.acs.org/doi/abs/10.1021/jm400378w))\n",
        "* NGLView, the interactive molecule visualizer ([_Bioinformatics_ (2018), __34__, 1241–124](https://doi.org/10.1093/bioinformatics/btx789))"
      ]
    },
    {
      "cell_type": "markdown",
      "metadata": {
        "id": "qgRFMrLHOfJj"
      },
      "source": [
        "## Theory"
      ]
    },
    {
      "cell_type": "markdown",
      "metadata": {
        "id": "mjUsW3bPOfJk"
      },
      "source": [
        "### Kinases\n",
        "\n",
        "Protein kinases are one of the most important and well-studied drug targets, since they are critical to most aspects of cell life. Their dysregulation causes many diseases such as cancer, inflammation, and autoimmune disorders.\n",
        "\n",
        "Protein kinases catalyze the phosphorylation of tyrosine, serine, threonine and histidine residues of themselves or other kinases ([_Med. Chem. Anticancer Drugs_ (2008), 251-305](https://www.sciencedirect.com/science/article/pii/B9780444528247000093)).\n",
        "There are 518 protein kinases encoded in the human genome, which were clustered based on their sequence into eight main kinase groups (AGC, CAMK, CK1, CMGC, STE, TK, TKL and Other) in the famous Manning tree ([_Science_ (2002), __298__, 1912-1934](https://pubmed.ncbi.nlm.nih.gov/12471243/)). Each kinase group is further categorized into different kinase families.\n",
        "Since all kinases bind ATP, their binding sites are highly conserved regarding their sequence and structure, making them difficult drug targets when it comes to the development of selective drugs.\n",
        "\n",
        "Since this protein class is so well-studied, the amount of available data is growing more and more, allowing and requiring infrastructures that organize, analyze, and provide this data to facilitate kinase-centric drug development ([_Annu. Rep. Med. Chem._ (2017), __50__, 197-236](https://www.sciencedirect.com/science/article/pii/S0065774317300040?via%3Dihub)). One of these rich resources is the [KLIFS](https://klifs.net/) database, which will be used in this talktorial."
      ]
    },
    {
      "cell_type": "markdown",
      "metadata": {
        "id": "J_gWQoGZOfJl"
      },
      "source": [
        "### EGFR and Gefitinib\n",
        "\n",
        "The [epidermal growth factor receptor (EGFR)](https://www.uniprot.org/uniprot/P00533) is a member of the EGFR (ErbB) family of receptors, which consists of four closely related receptor tyrosine kinases: EGFR (ErbB1), HER2/neu (ErbB2), Her3 (ErbB3) and Her4 (ErbB4).\n",
        "EGFR was the first receptor for which a relationship between mutations, over-expression and cancer has been shown. Interrupting EGFR signaling by blocking the EGFR binding site can help to prevent tumor growth and improve the patient's health. The first EGFR inhibitor [Gefitinib](https://pubchem.ncbi.nlm.nih.gov/compound/Gefitinib) (ligand Expo ID \"IRE\") was approved in 2003. ([_Pharmacol. Res._ (2019), __139__, 395-411](https://www.sciencedirect.com/science/article/abs/pii/S104366181831747X?via%3Dihub) and [_Front. Cell Dev. Biol._ (2016), __8__](https://www.frontiersin.org/articles/10.3389/fcell.2016.00088/full))"
      ]
    },
    {
      "cell_type": "markdown",
      "metadata": {
        "id": "ftWm7paeOfJm"
      },
      "source": [
        "### KLIFS database\n",
        "\n",
        "The **K**inase-**L**igand **I**nteraction **F**ingerprints and **S**tructures database (KLIFS) is a database that provides information about the protein structure (collected from the [PDB](https://www.rcsb.org/)) of catalytic kinase domains and the interaction with their ligands.\n",
        "\n",
        "* Role: Kinase-ligand interaction profiles database\n",
        "* Website: http://klifs.net/\n",
        "* API: Yes, REST-based, OpenAPI-enabled. No official client. Uses `bravado`.\n",
        "* Documentation: http://klifs.net/swagger/\n",
        "* Literature:\n",
        "   * Main database/website reference ([_Nucleic Acids Res._ (2020)](https://academic.oup.com/nar/advance-article/doi/10.1093/nar/gkaa895/5934416))\n",
        "   * Introduction of the KLIFS website & database ([_Nucleic Acids Res._ (2016), __44__, 6, D365–D371](https://doi.org/10.1093/nar/gkv1082))\n",
        "   * Initial KLIFS dataset, binding mode classification, residue numbering ([_J. Med. Chem._ (2014), __57__, 2, 249-277](https://pubs.acs.org/doi/abs/10.1021/jm400378w))\n",
        "    \n",
        "\n",
        "> Kinase-Ligand Interaction Fingerprints and Structures database (KLIFS), developed at the Division of Medicinal Chemistry - VU University Amsterdam, is a database that revolves around the protein structure of catalytic kinase domains and the way kinase inhibitors can interact with them. Based on the underlying systematic and consistent protocol all (currently human and mouse) kinase structures and the binding mode of kinase ligands can be directly compared to each other. Moreover, because of the classification of an all-encompassing binding site of 85 residues it is possible to compare the interaction patterns of kinase-inhibitors to each other to, for example, identify crucial interactions determining kinase-inhibitor selectivity."
      ]
    },
    {
      "cell_type": "markdown",
      "metadata": {
        "id": "qi1spn-VOfJm"
      },
      "source": [
        "![KLIFS database](https://github.com/volkamerlab/teachopencadd/blob/master/teachopencadd/talktorials/T012_query_klifs/images/teachopencadd_t012_toc.png?raw=1)\n",
        "\n",
        "_Figure 1_: Key kinase resources available on the KLIFS database."
      ]
    },
    {
      "cell_type": "markdown",
      "metadata": {
        "id": "Mga6rKB_OfJo"
      },
      "source": [
        "### `opencadd`\n",
        "\n",
        "`opencadd` is a Python library for structural cheminformatics developed by the [Volkamer lab](https://volkamerlab.org/).\n",
        "This library is a growing collection of modules that help facilitate and standardize common tasks in structural bioinformatics and cheminformatics, e.g., a module for structural superimposition (`opencadd.structure.superposition`) or KLIFS queries (`opencadd.databases.klifs`).\n",
        "\n",
        "- GitHub repository: https://github.com/volkamerlab/opencadd\n",
        "- Documentation: https://opencadd.readthedocs.io\n",
        "\n",
        "We will use the KLIFS-dedicated module in this talktorial. It offers a standardized API to work with KLIFS data locally (KLIFS download) or remotely (KLIFS OpenAPI). Most query results are returned in the form of standardized `pandas` DataFrames for quick and easy data manipulation."
      ]
    },
    {
      "cell_type": "markdown",
      "metadata": {
        "id": "0-xVhGaROfJo"
      },
      "source": [
        "## Practical"
      ]
    },
    {
      "cell_type": "code",
      "source": [
        "#Install Conda - Kernal Restart will take place\n",
        "!pip install -q condacolab\n",
        "import condacolab\n",
        "condacolab.install()"
      ],
      "metadata": {
        "id": "SEwxF7nSPWjM"
      },
      "execution_count": null,
      "outputs": []
    },
    {
      "cell_type": "code",
      "source": [
        "# Install mamba\n",
        "!conda install -c conda-forge mamba -y\n",
        "\n",
        "!mamba install -q -y -c conda-forge ipython pandas bravado rdkit numexpr"
      ],
      "metadata": {
        "id": "fALTQrxOQO2T"
      },
      "execution_count": null,
      "outputs": []
    },
    {
      "cell_type": "code",
      "source": [
        "!pip install git+https://github.com/volkamerlab/opencadd.git\n",
        "!pip install nglview==3.0.8\n",
        "!pip install \"ipywidgets>=7,<8\"\n"
      ],
      "metadata": {
        "id": "pWtWVeEBQscM"
      },
      "execution_count": null,
      "outputs": []
    },
    {
      "cell_type": "code",
      "source": [
        "!jupyter-nbextension enable nglview --py --sys-prefix"
      ],
      "metadata": {
        "id": "zmuLOaDUYbeV"
      },
      "execution_count": null,
      "outputs": []
    },
    {
      "cell_type": "code",
      "source": [
        "from google.colab import output\n",
        "output.enable_custom_widget_manager()"
      ],
      "metadata": {
        "id": "ElBnsW3-QyCK"
      },
      "execution_count": 1,
      "outputs": []
    },
    {
      "cell_type": "code",
      "execution_count": null,
      "metadata": {
        "tags": [],
        "id": "aGz9vzn6OfJp"
      },
      "outputs": [],
      "source": [
        "import logging\n",
        "\n",
        "logging.getLogger(\"numexpr\").setLevel(logging.ERROR)\n",
        "\n",
        "from bravado.client import SwaggerClient\n",
        "from IPython.display import display, Markdown\n",
        "import pandas as pd\n",
        "import nglview as nv\n",
        "from rdkit import Chem\n",
        "from rdkit.Chem.Draw import IPythonConsole, MolsToGridImage\n",
        "\n",
        "import opencadd\n",
        "\n",
        "# Show up to 50 columns for DataFrames in this talktorial\n",
        "pd.set_option(\"display.max_columns\", 50)"
      ]
    },
    {
      "cell_type": "markdown",
      "metadata": {
        "id": "Jn_kNArvOfJv"
      },
      "source": [
        "First, we define our kinase and ligand of interest (EGFR and Gefitinib). Next, we explore their KLIFS data using first the KLIFS OpenAPI and then using `opencadd`'s KLIFS module."
      ]
    },
    {
      "cell_type": "markdown",
      "metadata": {
        "id": "NghOwjKiOfJv"
      },
      "source": [
        "### Define kinase and ligand of interest: EGFR and Gefitinib"
      ]
    },
    {
      "cell_type": "code",
      "execution_count": 3,
      "metadata": {
        "tags": [],
        "id": "f3oQeIILOfJv"
      },
      "outputs": [],
      "source": [
        "species = \"Human\"\n",
        "kinase_group = \"TK\"\n",
        "kinase_family = \"EGFR\"\n",
        "kinase_name = \"EGFR\"\n",
        "ligand_expo_id = \"IRE\""
      ]
    },
    {
      "cell_type": "markdown",
      "metadata": {
        "id": "REH9-iRSOfJw"
      },
      "source": [
        "### Generate a KLIFS Python client\n",
        "\n",
        "First, we generate a KLIFS Python client using the provided KLIFS OpenAPI (Swagger) definitions."
      ]
    },
    {
      "cell_type": "code",
      "execution_count": 4,
      "metadata": {
        "tags": [],
        "id": "rpkmWoPQOfJw"
      },
      "outputs": [],
      "source": [
        "KLIFS_API_DEFINITIONS = \"https://klifs.net/swagger/swagger.json\"\n",
        "KLIFS_CLIENT = SwaggerClient.from_url(KLIFS_API_DEFINITIONS, config={\"validate_responses\": False})"
      ]
    },
    {
      "cell_type": "markdown",
      "metadata": {
        "id": "rzO0BmGmOfJw"
      },
      "source": [
        "As with any Python library, you can access the KLIFS client's entry points when hitting the Tab key after\n",
        "\n",
        "```python\n",
        "KLIFS_CLIENT.\n",
        "```\n",
        "\n",
        "Available entry points are:\n",
        "\n",
        "- `KLIFS_CLIENT.Information`: Access to kinases (name, group, family, ...).\n",
        "- `KLIFS_CLIENT.Interactions`: Access to kinase-ligand interaction fingerprints.\n",
        "- `KLIFS_CLIENT.Ligands`: Access to kinase-bound ligands (name, SMILES, ...) and their measured bioactivity against kinases (ChEMBL data).\n",
        "- `KLIFS_CLIENT.Structures`: Access to kinase structures with and without ligands (including their KLIFS-processed PDB data)."
      ]
    },
    {
      "cell_type": "markdown",
      "metadata": {
        "id": "AKzIzAPdOfJx"
      },
      "source": [
        "### Explore the KLIFS OpenAPI\n",
        "\n",
        "Let's send a few requests to KLIFS to explore available data for our kinase and ligand of interest."
      ]
    },
    {
      "cell_type": "markdown",
      "metadata": {
        "id": "-wFEubJdOfJx"
      },
      "source": [
        "#### 1. Kinase groups\n",
        "\n",
        "Let's check out the available kinase groups."
      ]
    },
    {
      "cell_type": "code",
      "execution_count": 5,
      "metadata": {
        "tags": [],
        "id": "bYUt7_hbOfJx",
        "outputId": "c6aa5d93-07c6-4635-8999-8385c605b928",
        "colab": {
          "base_uri": "https://localhost:8080/",
          "height": 64
        }
      },
      "outputs": [
        {
          "output_type": "display_data",
          "data": {
            "text/plain": [
              "<IPython.core.display.Markdown object>"
            ],
            "text/markdown": "All kinase groups are returned as a list of strings:"
          },
          "metadata": {}
        },
        {
          "output_type": "stream",
          "name": "stdout",
          "text": [
            "['AGC', 'CAMK', 'CK1', 'CMGC', 'Other', 'STE', 'TK', 'TKL']\n"
          ]
        }
      ],
      "source": [
        "kinase_groups = KLIFS_CLIENT.Information.get_kinase_groups().response().result\n",
        "# Note: IPython's display function can be used to render output as Markdown\n",
        "display(Markdown(\"All kinase groups are returned as a list of strings:\"))\n",
        "print(kinase_groups)\n",
        "# NBVAL_CHECK_OUTPUT"
      ]
    },
    {
      "cell_type": "markdown",
      "metadata": {
        "id": "Rbbvhob7OfJy"
      },
      "source": [
        "#### 2. Kinase families\n",
        "\n",
        "Now let's look at all available kinase families for the kinase group of interest (`kinase_group`)."
      ]
    },
    {
      "cell_type": "code",
      "execution_count": 6,
      "metadata": {
        "tags": [],
        "id": "whO30s19OfJy",
        "outputId": "a5b7737b-4971-46c3-a524-887869d047e1",
        "colab": {
          "base_uri": "https://localhost:8080/",
          "height": 84
        }
      },
      "outputs": [
        {
          "output_type": "display_data",
          "data": {
            "text/plain": [
              "<IPython.core.display.Markdown object>"
            ],
            "text/markdown": "Kinase families in TK are returned as a list of strings:"
          },
          "metadata": {}
        },
        {
          "output_type": "stream",
          "name": "stdout",
          "text": [
            "['ALK', 'Abl', 'Ack', 'Alk', 'Axl', 'CCK4', 'Csk', 'DDR', 'EGFR', 'Eph', 'FAK', 'FGFR', 'Fer', 'InsR', 'JakA', 'JakB', 'Lmr', 'Met', 'Musk', 'PDGFR', 'Ret', 'Ror', 'Ryk', 'Sev', 'Src', 'Syk', 'TK-Unique', 'Tec', 'Tie', 'Trk', 'VEGFR']\n"
          ]
        }
      ],
      "source": [
        "# Note: All code lines are supposed to be not longer than 99 characters\n",
        "# Thus, sometimes brackets are used so that code lines can be split to multiple lines\n",
        "# (you could also write this in one line without the brackets!)\n",
        "kinase_families = (\n",
        "    KLIFS_CLIENT.Information.get_kinase_families(kinase_group=kinase_group).response().result\n",
        ")\n",
        "display(Markdown(f\"Kinase families in {kinase_group} are returned as a list of strings:\"))\n",
        "print(kinase_families)"
      ]
    },
    {
      "cell_type": "markdown",
      "metadata": {
        "id": "V9yZj8wiOfJy"
      },
      "source": [
        "#### 3. Kinases\n",
        "\n",
        "The following kinases belong to the kinase family of interest (`kinase_family`):"
      ]
    },
    {
      "cell_type": "code",
      "execution_count": 7,
      "metadata": {
        "tags": [],
        "id": "SvZvgW16OfJz",
        "outputId": "b2a8cd06-36f5-4c7c-cc7c-9b765332822b",
        "colab": {
          "base_uri": "https://localhost:8080/",
          "height": 116
        }
      },
      "outputs": [
        {
          "output_type": "display_data",
          "data": {
            "text/plain": [
              "<IPython.core.display.Markdown object>"
            ],
            "text/markdown": "Kinases in the human family EGFR as a list of objects that contain kinase-specific information:"
          },
          "metadata": {}
        },
        {
          "output_type": "execute_result",
          "data": {
            "text/plain": [
              "[IDlist(full_name='epidermal growth factor receptor', kinase_ID=406, name='EGFR', species='Human'),\n",
              " IDlist(full_name='erb-b2 receptor tyrosine kinase 2', kinase_ID=407, name='ERBB2', species='Human'),\n",
              " IDlist(full_name='erb-b2 receptor tyrosine kinase 3', kinase_ID=408, name='ERBB3', species='Human'),\n",
              " IDlist(full_name='erb-b2 receptor tyrosine kinase 4', kinase_ID=409, name='ERBB4', species='Human')]"
            ]
          },
          "metadata": {},
          "execution_count": 7
        }
      ],
      "source": [
        "kinases = (\n",
        "    KLIFS_CLIENT.Information.get_kinase_names(kinase_family=kinase_family, species=species)\n",
        "    .response()\n",
        "    .result\n",
        ")\n",
        "display(\n",
        "    Markdown(\n",
        "        f\"Kinases in the {species.lower()} family {kinase_family} as a list of objects \"\n",
        "        f\"that contain kinase-specific information:\"\n",
        "    )\n",
        ")\n",
        "kinases"
      ]
    },
    {
      "cell_type": "markdown",
      "metadata": {
        "id": "sRb2iJFjOfJz"
      },
      "source": [
        "In this talktorial, we are interested in the kinase defined in `kinase_name`.\n",
        "Let's extract the KLIFS ID for this kinase, which we will use to query structures in KLIFS."
      ]
    },
    {
      "cell_type": "code",
      "execution_count": 8,
      "metadata": {
        "tags": [],
        "id": "Lo7g6HruOfJz",
        "outputId": "ac2a5a9e-2b33-4235-ae7f-b5d2e6501a18",
        "colab": {
          "base_uri": "https://localhost:8080/",
          "height": 46
        }
      },
      "outputs": [
        {
          "output_type": "display_data",
          "data": {
            "text/plain": [
              "<IPython.core.display.Markdown object>"
            ],
            "text/markdown": "Kinase KLIFS ID for EGFR: 406"
          },
          "metadata": {}
        }
      ],
      "source": [
        "# Use iterator to get first element of the list\n",
        "kinase_klifs_id = next(kinase.kinase_ID for kinase in kinases if kinase.name == kinase_name)\n",
        "display(Markdown(f\"Kinase KLIFS ID for {kinase_name}: {kinase_klifs_id}\"))\n",
        "# NBVAL_CHECK_OUTPUT"
      ]
    },
    {
      "cell_type": "markdown",
      "metadata": {
        "id": "aBHH3YqHOfJ0"
      },
      "source": [
        "#### 4. Structures\n",
        "\n",
        "We get all available __structures__ in KLIFS for this kinase and show details for an exemplary ligand-bound structure."
      ]
    },
    {
      "cell_type": "code",
      "execution_count": 9,
      "metadata": {
        "tags": [],
        "id": "POXqxJkTOfJ0",
        "outputId": "0a6da2c6-3053-42ac-e4f5-253fc8a65499",
        "colab": {
          "base_uri": "https://localhost:8080/",
          "height": 139
        }
      },
      "outputs": [
        {
          "output_type": "display_data",
          "data": {
            "text/plain": [
              "<IPython.core.display.Markdown object>"
            ],
            "text/markdown": "Number of structures for the kinase EGFR: 549\n\nExample structure, i.e. the first structure in the result list that contains a ligand:"
          },
          "metadata": {}
        },
        {
          "output_type": "execute_result",
          "data": {
            "text/plain": [
              "structureDetails(DFG='in', Grich_angle=48.1597, Grich_distance=14.8202, Grich_rotation=43.046, aC_helix='out', allosteric_ligand=0, alt='A', back=True, bp_III=False, bp_II_A_in=True, bp_II_B=False, bp_II_B_in=False, bp_II_in=True, bp_II_out=False, bp_IV=False, bp_I_A=True, bp_I_B=True, bp_V=False, chain='A', fp_I=False, fp_II=False, front=True, gate=True, kinase='EGFR', kinase_ID=406, ligand='W19', missing_atoms=0, missing_residues=0, pdb='3w33', pocket='KVLGSGAFGTVYKVAIKELEILDEAYVMASVDPHVCRLLGIQLITQLMPFGCLLDYVREYLEDRRLVHRDLAARNVLVITDFGLA', quality_score=8.0, resolution=1.7, rmsd1=0.814, rmsd2=2.153, species='Human', structure_ID=782)"
            ]
          },
          "metadata": {},
          "execution_count": 9
        }
      ],
      "source": [
        "structures = (\n",
        "    KLIFS_CLIENT.Structures.get_structures_list(kinase_ID=[kinase_klifs_id]).response().result\n",
        ")\n",
        "display(\n",
        "    Markdown(\n",
        "        f\"Number of structures for the kinase {kinase_name}: {len(structures)}\\n\\n\"\n",
        "        f\"Example structure, i.e. the first structure in the result list that contains a ligand:\"\n",
        "    )\n",
        ")\n",
        "# If structures do not contain ligands, the ligand field is set to 0\n",
        "structure = next(structure for structure in structures if structure.ligand != 0)\n",
        "structure"
      ]
    },
    {
      "cell_type": "markdown",
      "metadata": {
        "id": "5dwp97BUOfJ0"
      },
      "source": [
        "As you can see for the example structure, KLIFS provides the following information:\n",
        "\n",
        "- the kinase that this structure represents and its pocket sequence\n",
        "- the bound ligand including details on the subpockets that the ligand occupies\n",
        "- the structure quality and conformation"
      ]
    },
    {
      "cell_type": "markdown",
      "metadata": {
        "id": "3d0dl6HQOfJ1"
      },
      "source": [
        "Based on an initial analysis of over 1200 kinase-ligand crystal structures, the KLIFS authors defined a pocket that comprises 85 residues and covers interactions seen in the kinase-ligand structures. For our example, the pocket sequence is the following:"
      ]
    },
    {
      "cell_type": "code",
      "execution_count": 10,
      "metadata": {
        "tags": [],
        "id": "sFdX4YFvOfJ1",
        "outputId": "57f1d559-084d-41c3-ab58-6fd3c45d3eaf",
        "colab": {
          "base_uri": "https://localhost:8080/",
          "height": 93
        }
      },
      "outputs": [
        {
          "output_type": "display_data",
          "data": {
            "text/plain": [
              "<IPython.core.display.Markdown object>"
            ],
            "text/markdown": "Pocket sequence:\n\nKVLGSGAFGTVYKVAIKELEILDEAYVMASVDPHVCRLLGIQLITQLMPFGCLLDYVREYLEDRRLVHRDLAARNVLVITDFGLA\n\n(85 residues)"
          },
          "metadata": {}
        }
      ],
      "source": [
        "display(Markdown(f\"Pocket sequence:\\n\\n{structure.pocket}\\n\\n({len(structure.pocket)} residues)\"))"
      ]
    },
    {
      "cell_type": "markdown",
      "metadata": {
        "id": "IwyqRGXTOfJ1"
      },
      "source": [
        "#### 5. Interaction fingerprints\n",
        "\n",
        "Next, we get the interaction fingerprint (IFP) for the example kinase-ligand complex structure. The KLIFS IFP checks for each of the 85 residues and 7 interaction types, if an interaction between that residue and the ligand is available (1) or not (0)."
      ]
    },
    {
      "cell_type": "code",
      "execution_count": null,
      "metadata": {
        "tags": [],
        "id": "EUSesT1iOfJ2"
      },
      "outputs": [],
      "source": [
        "KLIFS_CLIENT.Interactions.get_interactions_get_types().response().result"
      ]
    },
    {
      "cell_type": "code",
      "execution_count": null,
      "metadata": {
        "tags": [],
        "id": "a5dDkONMOfJ2"
      },
      "outputs": [],
      "source": [
        "structure_klifs_id = structure.structure_ID\n",
        "interaction_fingerprints = (\n",
        "    KLIFS_CLIENT.Interactions.get_interactions_get_IFP(structure_ID=[structure_klifs_id])\n",
        "    .response()\n",
        "    .result\n",
        ")\n",
        "interaction_fingerprints"
      ]
    },
    {
      "cell_type": "markdown",
      "metadata": {
        "id": "WuMewt32OfJ3"
      },
      "source": [
        "Further below in this talktorial, we will show a quick example of how you could use this IFP information."
      ]
    },
    {
      "cell_type": "markdown",
      "metadata": {
        "id": "m7R7AgS0OfJ_"
      },
      "source": [
        "#### 6. Structure coordinates\n",
        "\n",
        "We explored so far a lot the structure properties. Let's get the actual structural data for this first structure in the form of a string that contains the atomic coordinates for the kinase-ligand complex."
      ]
    },
    {
      "cell_type": "code",
      "execution_count": null,
      "metadata": {
        "tags": [],
        "id": "VYk32FJPOfJ_"
      },
      "outputs": [],
      "source": [
        "complex_coordinates = (\n",
        "    KLIFS_CLIENT.Structures.get_structure_get_pdb_complex(structure_ID=structures[0].structure_ID)\n",
        "    .response()\n",
        "    .result\n",
        ")\n",
        "# Show some example rows\n",
        "complex_coordinates.split(\"\\n\")[100:110]"
      ]
    },
    {
      "cell_type": "markdown",
      "metadata": {
        "id": "vfFlvEdiOfJ_"
      },
      "source": [
        "#### 7. Ligands\n",
        "\n",
        "Last but not least, let's have a  quick look at another important resource in KLIFS. For each ligand, it is possible to extract all bioactivities measured against different kinases. The bioactivity data comes from [ChEMBL](https://www.ebi.ac.uk/chembl/), a manually curated compound database (check out [**Part_1**](https://www.youtube.com/watch?v=JHrzoeTH8_k&t=1273s) for more information about ChEMBL)."
      ]
    },
    {
      "cell_type": "code",
      "execution_count": null,
      "metadata": {
        "tags": [],
        "id": "jvBGaVOAOfKA"
      },
      "outputs": [],
      "source": [
        "bioactivities = (\n",
        "    KLIFS_CLIENT.Ligands.get_bioactivity_list_pdb(ligand_PDB=structure.ligand).response().result\n",
        ")\n",
        "display(\n",
        "    Markdown(\n",
        "        f\"Number of ChEMBL bioactivity values available in KLIFS for example ligand {structure.ligand}: {len(bioactivities)}\\n\\n\"\n",
        "        f\"Example bioactivity:\"\n",
        "    )\n",
        ")\n",
        "bioactivities[0]"
      ]
    },
    {
      "cell_type": "markdown",
      "metadata": {
        "id": "hJnNbaIVOfKB"
      },
      "source": [
        "### Case study: EGFR (using `opencadd`)"
      ]
    },
    {
      "cell_type": "markdown",
      "metadata": {
        "id": "kyCOoxC3OfKB"
      },
      "source": [
        "After introducing the KLIFS OpenAPI above, we use now the `opencadd.databases.klifs` module, which is a wrapper for this KLIFS client.\n",
        "As mentioned in the _Theory_ section of this talktorial, this module returns all responses as `pandas` DataFrames for easy and quick manipulation."
      ]
    },
    {
      "cell_type": "code",
      "source": [
        "!mamba install -q -y -c conda-forge biopandas"
      ],
      "metadata": {
        "id": "B0XClG5pTHyO"
      },
      "execution_count": null,
      "outputs": []
    },
    {
      "cell_type": "code",
      "execution_count": 17,
      "metadata": {
        "tags": [],
        "id": "8MzaQHCAOfKC"
      },
      "outputs": [],
      "source": [
        "from opencadd.databases.klifs import setup_remote\n",
        "\n",
        "session = setup_remote()"
      ]
    },
    {
      "cell_type": "markdown",
      "metadata": {
        "id": "jrxvGuu7OfKC"
      },
      "source": [
        "#### 1. Get all structures for EGFR"
      ]
    },
    {
      "cell_type": "code",
      "execution_count": null,
      "metadata": {
        "tags": [],
        "id": "58RiKAmGOfKC"
      },
      "outputs": [],
      "source": [
        "structures = session.structures.by_kinase_klifs_id(kinase_klifs_id)\n",
        "display(Markdown(f\"Number of structures for the kinase {kinase_name}: {len(structures)}\"))"
      ]
    },
    {
      "cell_type": "markdown",
      "metadata": {
        "id": "38wQctjPOfKD"
      },
      "source": [
        "Get IFPs for the queried EGFR structures. Note that only ligand-bound structures can have an IFP."
      ]
    },
    {
      "cell_type": "code",
      "execution_count": null,
      "metadata": {
        "tags": [],
        "id": "tB7xQdmzOfKD"
      },
      "outputs": [],
      "source": [
        "structure_klifs_ids = structures[\"structure.klifs_id\"].to_list()\n",
        "interaction_fingerprints = session.interactions.by_structure_klifs_id(structure_klifs_ids)\n",
        "display(\n",
        "    Markdown(\n",
        "        f\"Number of IFPs for {kinase_name}: {len(interaction_fingerprints)}\\n\\n\"\n",
        "        f\"Show example IFPs:\"\n",
        "    )\n",
        ")\n",
        "interaction_fingerprints.head()"
      ]
    },
    {
      "cell_type": "markdown",
      "metadata": {
        "id": "YF8nws-ROfKD"
      },
      "source": [
        "#### 2. Average interaction fingerprint"
      ]
    },
    {
      "cell_type": "markdown",
      "metadata": {
        "id": "5SCrspFPOfKE"
      },
      "source": [
        "Let's aggregate the information about interaction types per residue positions from all ligand-bound structures that are available for our kinase of interest."
      ]
    },
    {
      "cell_type": "code",
      "execution_count": 20,
      "metadata": {
        "tags": [],
        "id": "QO90Iq9bOfKE"
      },
      "outputs": [],
      "source": [
        "def average_n_interactions_per_residue(structure_klifs_ids):\n",
        "    \"\"\"\n",
        "    Generate residue position x interaction type matrix that contains\n",
        "    the average number of interactions per residue and interaction type.\n",
        "\n",
        "    Parameters\n",
        "    ----------\n",
        "    structure_klifs_ids : list of int\n",
        "        Structure KLIFS IDs.\n",
        "\n",
        "    Returns\n",
        "    -------\n",
        "    pandas.DataFrame\n",
        "        Average number of interactions per residue (rows) and interaction type (columns).\n",
        "    \"\"\"\n",
        "\n",
        "    # Get IFP (is returned from KLIFS as string)\n",
        "    ifps = session.interactions.by_structure_klifs_id(structure_klifs_ids)\n",
        "    # Split string into list of int (0, 1): structures x IFP bits matrix\n",
        "    ifps = pd.DataFrame(ifps[\"interaction.fingerprint\"].apply(lambda x: list(x)).to_list())\n",
        "    ifps = ifps.astype(\"int32\")\n",
        "    # Sum up all interaction per bit position and normalize by number of IFPs\n",
        "    ifp_relative = (ifps.sum() / len(ifps)).to_list()\n",
        "    # Transform aggregated IFP into residue position x interaction type matrix\n",
        "    residue_feature_matrix = pd.DataFrame(\n",
        "        [ifp_relative[i : i + 7] for i in range(0, len(ifp_relative), 7)], index=range(1, 86)\n",
        "    )\n",
        "    # Add interaction type names\n",
        "    columns = session.interactions.interaction_types[\"interaction.name\"].to_list()\n",
        "    residue_feature_matrix.columns = columns\n",
        "    return residue_feature_matrix"
      ]
    },
    {
      "cell_type": "code",
      "execution_count": null,
      "metadata": {
        "tags": [],
        "id": "v0r9uKnHOfKE"
      },
      "outputs": [],
      "source": [
        "residue_feature_matrix = average_n_interactions_per_residue(structure_klifs_ids)\n",
        "display(\n",
        "    Markdown(\n",
        "        f\"Calculated average interactions per interaction type (feature) and residue position:\\n\\n\"\n",
        "        f\"**Interaction types** (columns): {', '.join(residue_feature_matrix.columns)}\\n\\n\"\n",
        "        f\"**Residue positions** (rows): {residue_feature_matrix.index}\"\n",
        "    )\n",
        ")\n",
        "# NBVAL_CHECK_OUTPUT"
      ]
    },
    {
      "cell_type": "code",
      "execution_count": null,
      "metadata": {
        "tags": [],
        "id": "7Bo4TD95OfKF"
      },
      "outputs": [],
      "source": [
        "residue_feature_matrix.head()"
      ]
    },
    {
      "cell_type": "code",
      "execution_count": null,
      "metadata": {
        "tags": [
          "nbsphinx-thumbnail"
        ],
        "id": "zpOsHQvEOfKF"
      },
      "outputs": [],
      "source": [
        "residue_feature_matrix.plot.bar(\n",
        "    figsize=(15, 5),\n",
        "    stacked=True,\n",
        "    xlabel=\"KLIFS pocket residue position\",\n",
        "    ylabel=\"Average number of interactions (per interaction type)\",\n",
        "    color=[\"grey\", \"green\", \"limegreen\", \"red\", \"blue\", \"orange\", \"cyan\"],\n",
        ");"
      ]
    },
    {
      "cell_type": "markdown",
      "metadata": {
        "id": "dg6qccSVOfKG"
      },
      "source": [
        "The apolar contacts nicely show which residues are in close contact with the hydrophobic parts of the ligands. Most ligands show hydrogen bonding at position 48, which is part of the binding site's hinge region, a hydrophilic anchor position for kinase-ligand binding."
      ]
    },
    {
      "cell_type": "markdown",
      "metadata": {
        "id": "ukfI9c3DOfKG"
      },
      "source": [
        "#### 3. Select an example EGFR-Gefitinib structure"
      ]
    },
    {
      "cell_type": "markdown",
      "metadata": {
        "id": "xPxCd5v5OfKG"
      },
      "source": [
        "Keep only structures bound to a ligand of interest (`ligand_expo_id`), sort them by highest resolution and show the top 10 structures."
      ]
    },
    {
      "cell_type": "code",
      "execution_count": null,
      "metadata": {
        "tags": [],
        "id": "EBAl2oZQOfKG"
      },
      "outputs": [],
      "source": [
        "subset = structures[(structures[\"ligand.expo_id\"] == ligand_expo_id)]\n",
        "subset.sort_values(by=\"structure.resolution\").head(10)"
      ]
    },
    {
      "cell_type": "code",
      "execution_count": null,
      "metadata": {
        "tags": [],
        "id": "UUli8hvHOfKH"
      },
      "outputs": [],
      "source": [
        "structure_klifs_id = (\n",
        "    structures[(structures[\"ligand.expo_id\"] == ligand_expo_id)]\n",
        "    .sort_values(by=\"structure.resolution\")\n",
        "    .iloc[0][\"structure.klifs_id\"]\n",
        ")\n",
        "message = f\"Structure KLIFS ID for best resolved {ligand_expo_id}-bound {kinase_name}: {structure_klifs_id}\"\n",
        "display(Markdown(message))"
      ]
    },
    {
      "cell_type": "markdown",
      "metadata": {
        "id": "R0SnsMa4OfKH"
      },
      "source": [
        "#### 4. Show the structure with `nglview`"
      ]
    },
    {
      "cell_type": "markdown",
      "metadata": {
        "id": "Kv8dtpp4OfKI"
      },
      "source": [
        "Let's preview the protein-ligand complex with `nglview`."
      ]
    },
    {
      "cell_type": "code",
      "execution_count": 26,
      "metadata": {
        "tags": [],
        "id": "IThsx6maOfKI"
      },
      "outputs": [],
      "source": [
        "def show_molecule(structure_text, extension=\"mol2\"):\n",
        "    \"\"\"\n",
        "    Show molecule with nglview.\n",
        "\n",
        "    Parameters\n",
        "    ----------\n",
        "    structure_text : str\n",
        "        Structural data in the form of a string.\n",
        "    extension : str\n",
        "        Format of the structural data (default: mol2).\n",
        "\n",
        "    Returns\n",
        "    -------\n",
        "    nglview.widget.NGLWidget\n",
        "        Molecular viewer.\n",
        "    \"\"\"\n",
        "\n",
        "    v = nv.NGLWidget()\n",
        "    v.add_component(structure_text, ext=extension)\n",
        "    return v"
      ]
    },
    {
      "cell_type": "code",
      "execution_count": null,
      "metadata": {
        "tags": [],
        "id": "6r6RR5BmOfKI"
      },
      "outputs": [],
      "source": [
        "structure_text = session.coordinates.to_text(structure_klifs_id, \"complex\", \"pdb\")\n",
        "v = show_molecule(structure_text, \"pdb\")\n",
        "v"
      ]
    },
    {
      "cell_type": "code",
      "execution_count": null,
      "metadata": {
        "tags": [],
        "id": "QiDZ8rk5OfKJ"
      },
      "outputs": [],
      "source": [
        "v.render_image();"
      ]
    },
    {
      "cell_type": "code",
      "execution_count": null,
      "metadata": {
        "tags": [],
        "id": "RDYV6F_POfKJ"
      },
      "outputs": [],
      "source": [
        "v._display_image()"
      ]
    },
    {
      "cell_type": "markdown",
      "metadata": {
        "id": "6WoUtIt1OfKJ"
      },
      "source": [
        "Let's highlight residues with frequent interactions (across all IFPs for a kinase with `kinase_klifs_id`, in our case kinase EGFR) in an example structure with `structure_klifs_id`. Define with `features`, which feature types you would like to look at, and with `feature_cutoff`, which cutoff to use for highlighting (`None` means you will see any residue that has shown at least one interaction across all structures)."
      ]
    },
    {
      "cell_type": "code",
      "execution_count": 28,
      "metadata": {
        "tags": [],
        "id": "Ls3RQzgEOfKK"
      },
      "outputs": [],
      "source": [
        "def show_kinase_feature_positions(\n",
        "    kinase_klifs_id, structure_klifs_id, features=[\"HBD\"], feature_cutoff=None\n",
        "):\n",
        "    \"\"\"\n",
        "    Show an example kinase structure and color residues showing interactions of defined type(s)\n",
        "    across interaction fingerprints for this kinase.\n",
        "\n",
        "    Parameters\n",
        "    ----------\n",
        "    kinase_klifs_id : int\n",
        "        Kinase KLIFS ID used to fetch all associated IFPs.\n",
        "    structure_klifs_id : int\n",
        "        Structure KLIFS ID used to map average feature coverage per residue.\n",
        "    features : list of str\n",
        "        One or more feature types (H, AR.f2f, AR.e2f, HBD, HBA, NI, PI).\n",
        "    feature_cutoff : int or float\n",
        "        Show only residues with a higher average feature coverage than this cutoff.\n",
        "\n",
        "    Returns\n",
        "    -------\n",
        "    nglview.widget.NGLWidget\n",
        "        Molecular viewer.\n",
        "    \"\"\"\n",
        "\n",
        "    # Get all structures KLIFS ID for a kinase\n",
        "    structures = session.structures.by_kinase_klifs_id(kinase_klifs_id)\n",
        "    structure_klifs_ids = structures[\"structure.klifs_id\"].to_list()\n",
        "    # Get aggregated residue-feature matrix from IFPs\n",
        "    residue_feature_matrix = average_n_interactions_per_residue(structure_klifs_ids)\n",
        "    residue_feature_matrix.columns = \"H AR.f2f AR.e2f HBD HBA NI PI\".split()\n",
        "    # Aggregate feature values\n",
        "    residues_features = residue_feature_matrix[features].sum(axis=1)\n",
        "    # Fetch the PDB residue numbers for the 85 pocket residues\n",
        "    index = session.pockets.by_structure_klifs_id(structure_klifs_id)[\"residue.id\"]\n",
        "    residues_features.index = index\n",
        "    # Keep only residues with feature occurrence above a cutoff occurrence\n",
        "    if feature_cutoff:\n",
        "        residues_features = residues_features[residues_features > feature_cutoff]\n",
        "    # Prepare residue-color mapping in a nglview-required format\n",
        "    color_scheme_list = [\n",
        "        [\"cornflowerblue\", residue_id] for residue_id, _ in residues_features.items()\n",
        "    ]\n",
        "    color_scheme = nv.color._ColorScheme(color_scheme_list, label=\"interactions\")\n",
        "    structure_text = session.coordinates.to_text(structure_klifs_id, \"complex\", \"pdb\")\n",
        "    ligand_expo_id = session.structures.by_structure_klifs_id(structure_klifs_id).iloc[0][\n",
        "        \"ligand.expo_id\"\n",
        "    ]\n",
        "    v = show_molecule(structure_text, \"pdb\")\n",
        "    v.clear()\n",
        "    v.add_representation(\"cartoon\", selection=\"protein\", color=color_scheme)\n",
        "    v.add_representation(\"ball+stick\", selection=ligand_expo_id)\n",
        "    return v"
      ]
    },
    {
      "cell_type": "code",
      "execution_count": 29,
      "metadata": {
        "tags": [],
        "id": "Dr2D_oklOfKK"
      },
      "outputs": [],
      "source": [
        "selected_features = [\"HBD\", \"HBA\"]\n",
        "feature_cutoff = 0.25"
      ]
    },
    {
      "cell_type": "code",
      "execution_count": null,
      "metadata": {
        "tags": [],
        "id": "RshCC1gsOfKK"
      },
      "outputs": [],
      "source": [
        "display(\n",
        "    Markdown(\n",
        "        f\"Show residues with interaction(s) {selected_features} for kinase #{kinase_klifs_id} \"\n",
        "        f\"on structure #{structure_klifs_id} that have been seen in at least {feature_cutoff} of all structures.\"\n",
        "    )\n",
        ")\n",
        "v = show_kinase_feature_positions(\n",
        "    kinase_klifs_id, structure_klifs_id, features=selected_features, feature_cutoff=0.25\n",
        ")\n",
        "v.center(selection=ligand_expo_id)\n",
        "v"
      ]
    },
    {
      "cell_type": "code",
      "execution_count": null,
      "metadata": {
        "tags": [],
        "id": "I39-zNO1OfKL"
      },
      "outputs": [],
      "source": [
        "v.render_image();"
      ]
    },
    {
      "cell_type": "code",
      "execution_count": null,
      "metadata": {
        "tags": [],
        "id": "vND9otvdOfKL"
      },
      "outputs": [],
      "source": [
        "v._display_image()"
      ]
    },
    {
      "cell_type": "markdown",
      "metadata": {
        "id": "XXk4w-9EOfKM"
      },
      "source": [
        "#### 5. Show all kinase-bound ligands with `rdkit`\n",
        "\n",
        "Let's take a look at all EGFR-bound ligands using `rdkit`, a popular library for cheminformatics."
      ]
    },
    {
      "cell_type": "code",
      "execution_count": 31,
      "metadata": {
        "tags": [],
        "id": "uEv8BriwOfKM"
      },
      "outputs": [],
      "source": [
        "def show_ligands(smiles):\n",
        "    return Chem.Draw.MolsToGridImage(\n",
        "        [Chem.MolFromSmiles(s) for s in smiles], maxMols=10, molsPerRow=5\n",
        "    )"
      ]
    },
    {
      "cell_type": "code",
      "execution_count": null,
      "metadata": {
        "tags": [],
        "id": "e7CKawhzOfKN"
      },
      "outputs": [],
      "source": [
        "ligands = session.ligands.by_kinase_klifs_id(kinase_klifs_id)\n",
        "display(Markdown(f\"Number of ligands bound to kinase #{kinase_klifs_id}: {len(ligands)}\"))\n",
        "# Show only the first 10 ligands\n",
        "show_ligands(ligands[\"ligand.smiles\"].to_list()[:10])"
      ]
    },
    {
      "cell_type": "markdown",
      "metadata": {
        "id": "j5Qsgfv0OfKN"
      },
      "source": [
        "#### 6. Explore profiling data for Gefitinib"
      ]
    },
    {
      "cell_type": "markdown",
      "metadata": {
        "id": "7BZZAM6POfKO"
      },
      "source": [
        "Get profiling data (bioactivities) for Gefitinib."
      ]
    },
    {
      "cell_type": "code",
      "execution_count": null,
      "metadata": {
        "tags": [],
        "id": "VsrSiQkDOfKP"
      },
      "outputs": [],
      "source": [
        "bioactivities = session.bioactivities.by_ligand_expo_id(ligand_expo_id)\n",
        "display(\n",
        "    Markdown(\n",
        "        f\"Number of bioactivity values for {ligand_expo_id}: {len(bioactivities)}\\n\\n\"\n",
        "        f\"Show example bioactivities:\\n\\n\"\n",
        "    )\n",
        ")\n",
        "bioactivities.sort_values(\"ligand.bioactivity_standard_value\").head()"
      ]
    },
    {
      "cell_type": "markdown",
      "metadata": {
        "id": "85IjIaxHOfKQ"
      },
      "source": [
        "Show the bioactivity distribution!"
      ]
    },
    {
      "cell_type": "code",
      "execution_count": 35,
      "metadata": {
        "tags": [],
        "id": "kQm_FcNaOfKR",
        "outputId": "293d2da1-cbd6-44db-f1f7-f4f2471a8a10",
        "colab": {
          "base_uri": "https://localhost:8080/",
          "height": 452
        }
      },
      "outputs": [
        {
          "output_type": "display_data",
          "data": {
            "text/plain": [
              "<Figure size 640x480 with 1 Axes>"
            ],
            "image/png": "[encoded data removed]"
          },
          "metadata": {}
        }
      ],
      "source": [
        "bioactivities[\"ligand.bioactivity_standard_value\"].plot(\n",
        "    kind=\"hist\", title=f\"ChEMBL bioactivity standard values (nM) for {ligand_expo_id}\"\n",
        ");"
      ]
    },
    {
      "cell_type": "markdown",
      "metadata": {
        "id": "7EbKv0D0OfKR"
      },
      "source": [
        "We can see that there are many measurements with high bioactivity (low values) and some with no bioactivity (high values).\n",
        "We know that the intended target (on-target) of Gefitinib is EGFR (also called epidermal growth factor receptor erbB1). It would be interesting to see if there are other kinases that have been shown to bind Gefitinib strongly (off-targets). Such off-targets are often the reason for side effects of drugs.\n",
        "\n",
        "In order to find off-targets based on the ChEMBL profiling data at hand, we filter our bioactivity dataset only for measurements showing high activity using the cutoff `activity_cutoff` and we will print out all measurements for targets that are not EGFR, i.e. potential off-targets."
      ]
    },
    {
      "cell_type": "code",
      "execution_count": null,
      "metadata": {
        "tags": [],
        "id": "VaI3QqugOfKR"
      },
      "outputs": [],
      "source": [
        "ACTIVITY_CUTOFF = 100\n",
        "bioactivities_active = bioactivities[\n",
        "    bioactivities[\"ligand.bioactivity_standard_value\"] < ACTIVITY_CUTOFF\n",
        "]\n",
        "display(Markdown(\"Number of measurements with high activity per kinase:\"))\n",
        "n_bioactivities_per_target = (\n",
        "    bioactivities_active.groupby(\"kinase.pref_name\").size().sort_values(ascending=True)\n",
        ")\n",
        "n_bioactivities_per_target"
      ]
    },
    {
      "cell_type": "code",
      "execution_count": null,
      "metadata": {
        "tags": [],
        "id": "NSQN31gFOfKS"
      },
      "outputs": [],
      "source": [
        "display(Markdown(f\"Off-targets of {ligand_expo_id} based on profiling data:\"))\n",
        "bioactivities_active[\n",
        "    bioactivities_active[\"kinase.pref_name\"] != \"Epidermal growth factor receptor erbB1\"\n",
        "].sort_values([\"ligand.bioactivity_standard_value\"])"
      ]
    },
    {
      "cell_type": "markdown",
      "metadata": {
        "id": "IT8AANpcOfKS"
      },
      "source": [
        "Let's take a look at the off-targets and see if we can rationalize our results from a kinase similarity point of view (similar kinases are likely to bind the same ligand) - we will focus on sequence similarity (aka kinase groups and families) for now.\n",
        "\n",
        "The off-target list contains closely related kinases:\n",
        "\n",
        "- from the tyrosine kinase (TK) group, to which EGFR itself belongs: e.g. ErbB2 (another member of the EGFR family) and VEGFR/KDR\n",
        "- from the related tyrosine-like kinase (TKL) group: e.g. RIPK2 and IRAK1\n",
        "\n",
        "We also find the GAK kinase, which belongs to the atypical kinases and might not be an obvious off-target when only looking at sequence similarity, but it is another well-known and reported off-target. This is a nice example of how sequence is not the only indicator of protein similarity but that structural similarity plays a very important role as well.\n",
        "\n",
        "Check out [**Part_7**](https://www.youtube.com/watch?v=hAWv1gf9DaY) for more details on binding site similarity and off-target prediction."
      ]
    },
    {
      "cell_type": "markdown",
      "metadata": {
        "id": "pS-bwZYDOfKS"
      },
      "source": [
        "### Explore a random kinase in KLIFS"
      ]
    },
    {
      "cell_type": "markdown",
      "metadata": {
        "id": "n2p9PaPkOfKT"
      },
      "source": [
        "This section is intended to quickly explore the resources on different kinases in KLIFS.\n",
        "\n",
        "First, we define a function that allows us to return (a) all structure-bound ligands in KLIFS plus (b) one random structure for a random kinase or given kinase(s)."
      ]
    },
    {
      "cell_type": "code",
      "execution_count": 38,
      "metadata": {
        "tags": [],
        "id": "pQ-7BehYOfKT"
      },
      "outputs": [],
      "source": [
        "def get_random_kinase_structure_with_ligand_information(*kinase_names, seed=None):\n",
        "    \"\"\"\n",
        "    Get one example structure (complex and protein structural data) for one or more kinases\n",
        "    plus the SMILES of all bound ligands.\n",
        "\n",
        "    Parameters\n",
        "    ----------\n",
        "    *kinase_names : str\n",
        "        Kinase names.\n",
        "    seed : int, array-like, BitGenerator, np.random.RandomState\n",
        "        Seed for random number generator. Default is None.\n",
        "\n",
        "    Returns\n",
        "    -------\n",
        "    molcomplex : str\n",
        "        Complex structural data.\n",
        "    protein : str\n",
        "        Protein structural data.\n",
        "    ligands : list of str\n",
        "        List of ligand SMILES.\n",
        "    \"\"\"\n",
        "    # Get all structures for a given kinase\n",
        "    if kinase_names:\n",
        "        kinase_names = list(kinase_names)\n",
        "        try:\n",
        "            structures = session.structures.by_kinase_name(list(kinase_names))\n",
        "        except ValueError:\n",
        "            raise ValueError(f\"The input kinase(s) {kinase_names} yielded no results.\")\n",
        "    # Or get all available structures\n",
        "    else:\n",
        "        structures = session.structures.all_structures()\n",
        "    kinase_klifs_ids = [int(i) for i in structures[\"kinase.klifs_id\"].unique()]\n",
        "    # Choose random structure and corresponding kinase\n",
        "    structure = structures.sample(random_state=seed).squeeze()\n",
        "    structure_klifs_id = structure[\"structure.klifs_id\"]\n",
        "    kinase_klifs_id = structure[\"kinase.klifs_id\"]\n",
        "    display(Markdown(f\"Selected kinases: {structure['kinase.klifs_name']}\"))\n",
        "    # Get complex structural data\n",
        "    molcomplex = (\n",
        "        KLIFS_CLIENT.Structures.get_structure_get_pdb_complex(structure_ID=structure_klifs_id)\n",
        "        .response()\n",
        "        .result\n",
        "    )\n",
        "    # Get protein structural data\n",
        "    protein = (\n",
        "        KLIFS_CLIENT.Structures.get_structure_get_protein(structure_ID=structure_klifs_id)\n",
        "        .response()\n",
        "        .result\n",
        "    )\n",
        "    # Get all ligands bound to all structures for input kinases\n",
        "    ligands = KLIFS_CLIENT.Ligands.get_ligands_list(kinase_ID=[kinase_klifs_id]).response().result\n",
        "    display(\n",
        "        Markdown(\n",
        "            f\"Chosen KLIFS entry: PDB ID {structure['structure.pdb_id']} \"\n",
        "            f\"with chain {structure['structure.chain'] if structure['structure.chain'] else '-'} and \"\n",
        "            f\"alternate model {structure['structure.alternate_model'] if structure['structure.alternate_model'] else '-'} \"\n",
        "            f\"({structure['species.klifs'].lower()}).\\n\\n\"\n",
        "            f\"Number of structure-bound ligands: {len(ligands)}\"\n",
        "        )\n",
        "    )\n",
        "    return molcomplex, protein, [ligand.SMILES for ligand in ligands]"
      ]
    },
    {
      "cell_type": "markdown",
      "metadata": {
        "id": "XXeHAo3ROfKU"
      },
      "source": [
        "Second, we use the function to get data on a random kinase. _Note_: You can specify one or more kinases of your choice to narrow down the search space if you want, see `random_kinase_structure(*kinase_names)`."
      ]
    },
    {
      "cell_type": "code",
      "execution_count": null,
      "metadata": {
        "tags": [],
        "id": "wX0esisSOfKV"
      },
      "outputs": [],
      "source": [
        "# We are setting a seed here for reproducible results\n",
        "# Remove the seed to explore random kinases\n",
        "molcomplex, protein, ligands = get_random_kinase_structure_with_ligand_information(seed=1)"
      ]
    },
    {
      "cell_type": "code",
      "execution_count": null,
      "metadata": {
        "tags": [],
        "id": "Kib11Y3lOfKV"
      },
      "outputs": [],
      "source": [
        "show_ligands(ligands[:10])"
      ]
    },
    {
      "cell_type": "code",
      "execution_count": null,
      "metadata": {
        "tags": [],
        "id": "dPDfhVHjOfKV"
      },
      "outputs": [],
      "source": [
        "v = show_molecule(molcomplex, \"pdb\")\n",
        "v"
      ]
    },
    {
      "cell_type": "code",
      "execution_count": null,
      "metadata": {
        "tags": [],
        "id": "AmyarTaKOfKW"
      },
      "outputs": [],
      "source": [
        "v.render_image();"
      ]
    },
    {
      "cell_type": "code",
      "execution_count": null,
      "metadata": {
        "tags": [],
        "id": "RudhUF5xOfKW"
      },
      "outputs": [],
      "source": [
        "v._display_image()"
      ]
    },
    {
      "cell_type": "markdown",
      "metadata": {
        "id": "ft36UzCoOfKW"
      },
      "source": [
        "## Discussion\n",
        "\n",
        "In this talktorial, we have explored how to interact with the rich kinase resource KLIFS using (a) the KLIFS OpenAPI and (b) the KLIFS-dedicated module in `opencadd`. First, we have used the kinase EGFR to extract all available ligand-bound structures and their KLIFS interaction fingerprints, which were used to extract key hydrogen bonding residues. Second, we fetched profiling data for Gefitinib to investigate EGFR off-targets."
      ]
    }
  ],
  "metadata": {
    "kernelspec": {
      "display_name": "Python 3 (ipykernel)",
      "language": "python",
      "name": "python3"
    },
    "language_info": {
      "codemirror_mode": {
        "name": "ipython",
        "version": 3
      },
      "file_extension": ".py",
      "mimetype": "text/x-python",
      "name": "python",
      "nbconvert_exporter": "python",
      "pygments_lexer": "ipython3",
      "version": "3.9.16"
    },
    "colab": {
      "provenance": [],
      "include_colab_link": true
    }
  },
  "nbformat": 4,
  "nbformat_minor": 0
}