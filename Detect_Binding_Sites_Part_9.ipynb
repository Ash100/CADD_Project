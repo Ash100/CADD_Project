{
  "cells": [
    {
      "cell_type": "markdown",
      "metadata": {
        "id": "view-in-github",
        "colab_type": "text"
      },
      "source": [
        "<a href=\"https://colab.research.google.com/github/Ash100/CADD_Project/blob/main/Detect_Binding_Sites_Part_9.ipynb\" target=\"_parent\"><img src=\"https://colab.research.google.com/assets/colab-badge.svg\" alt=\"Open In Colab\"/></a>"
      ]
    },
    {
      "cell_type": "markdown",
      "metadata": {
        "id": "W08MmuNe1SLv"
      },
      "source": [
        "# PART_9 · Binding site detection In protein\n",
        "\n",
        "My name is **Dr. Ashfaq Ahmad** and you can watch complete tutorial of this notebook on [**Bioinformatics Insights**](https://www.youtube.com/channel/UC2Z_WaqTjbvXGGQNpIF9nAg). This talktorial is inspired from TeachOpenCADD, a platform that aims to teach domain-specific skills and to provide pipeline templates as starting points for research projects. Majority of scripts are modified or changed accordingly.\n",
        "\n",
        "Authors:\n",
        "\n",
        "* Adapted from Abishek Laxmanan Ravi Shankar, 2019, internship at Volkamer lab\n",
        "* Andrea Volkamer, 2020/21, [Volkamer lab, Charité](https://volkamerlab.org/)\n",
        "* Dominique Sydow, 2020/21, [Volkamer lab, Charité](https://volkamerlab.org/)"
      ]
    },
    {
      "cell_type": "markdown",
      "metadata": {
        "id": "UyZ7___e1SL4"
      },
      "source": [
        "## Aim of this tutorial\n",
        "\n",
        "The binding site of a protein is a key to its function. Here, we will learn how to introduce the concepts of computational binding site detection tools using DoGSiteScorer from the [protein.plus](https://proteins.plus/) web server, exemplified on an EGFR structure.\n",
        "Additionally, we compare the results to the pre-defined KLIFS binding site in **Part 8** by calculating the percentage of residues in accordance between the two sets."
      ]
    },
    {
      "cell_type": "markdown",
      "metadata": {
        "id": "0HodMtXg1SL5"
      },
      "source": [
        "### Contents in *Theory*\n",
        "\n",
        "* Protein binding sites\n",
        "* Binding site detection\n",
        "    * Methods overview\n",
        "    * DoGSiteScorer\n",
        "* Comparison to KLIFS pocket"
      ]
    },
    {
      "cell_type": "markdown",
      "metadata": {
        "id": "wQORL2A_1SL6"
      },
      "source": [
        "### Contents we perform here\n",
        "\n",
        "* Binding site detection using DoGSiteScorer\n",
        "    \n",
        "* Comparison between DoGSiteScorer and KLIFS pocket\n",
        "    * Get DoGSiteScorer pocket residues\n",
        "    * Get KLIFS pocket residues\n",
        "    * Overlap of pocket residues"
      ]
    },
    {
      "cell_type": "markdown",
      "metadata": {
        "id": "L5SFAV5l1SL7"
      },
      "source": [
        "### References\n",
        "* Prediction, Analysis, and Comparison of Active Sites [Volkamer <i>et al.</i>, (<b>2018</b>)](https://doi.org/10.1002/9783527806539.ch6g), book chapter in Applied Chemoinformatics: Achievements and Future Opportunities, Wiley\n",
        "* DoGSiteScorer, [Volkamer <i>et al.</i>, <i>J.Chem.Inf.Model</i>, (<b>2012</b>), 52(2):360-372](https://pubmed.ncbi.nlm.nih.gov/22148551/)\n",
        "* [ProteinsPlus](https://proteins.plus/): a web portal for structure analysis of macromolecules. [Fährrolfes <i>et al.</i>, <i>NAR</i>, (<b>2017</b>), 3;45(W1)](https://pubmed.ncbi.nlm.nih.gov/28472372/)\n",
        "* [KLIFS](https://klifs.net/): a structural kinase-ligand interaction database, [Kanev <i>et al.</i>, <i>NAR</i>, (<b>2021</b>), 49(D1):D562-D569](https://academic.oup.com/nar/article/49/D1/D562/5934416)"
      ]
    },
    {
      "cell_type": "markdown",
      "metadata": {
        "id": "2QN-PjN51SL7"
      },
      "source": [
        "## Theory"
      ]
    },
    {
      "cell_type": "markdown",
      "metadata": {
        "id": "-4akxGRC1SL8"
      },
      "source": [
        "### Protein binding sites"
      ]
    },
    {
      "cell_type": "markdown",
      "metadata": {
        "id": "ij5j5Y4J1SL9"
      },
      "source": [
        "Most biological processes are guided through (non-)reversible binding of molecules. Given a therapeutic target associated to a specific disease, knowing its binding site(s), i.e. the key to the proteins function, is of utmost importance for designing new drugs.\n",
        "\n",
        "This notebook is useful, when there is no complex information in PDB, thus you will be required to calculate the binding sites.\n",
        "\n",
        "![Binding site example](https://github.com/volkamerlab/teachopencadd/blob/master/teachopencadd/talktorials/T014_binding_site_detection/images/3w32_SP_0_0_scale025.png?raw=1)\n",
        "\n",
        "*Figure 1:* Example of a detected binding site for EGFR kinase (PDB: [3w32](https://www.rcsb.org/structure/3W32)) using DoGSiteScorer from [proteins.plus](https://proteins.plus). Protein shown as blue cartoon, ligand as sticks (carbons in gray) and binding site as violet cloud (largest subpocket SP_0_0 shown).\n"
      ]
    },
    {
      "cell_type": "markdown",
      "metadata": {
        "id": "lYKlHA2i1SL-"
      },
      "source": [
        "### Binding site detection"
      ]
    },
    {
      "cell_type": "markdown",
      "metadata": {
        "id": "qNnlnzxL1SL-"
      },
      "source": [
        "#### Methods overview"
      ]
    },
    {
      "cell_type": "markdown",
      "metadata": {
        "id": "GLlrI1tB1SMA"
      },
      "source": [
        "If ligand information is available, i.e., a protein-ligand complex, the protein residues surrounding the ligand can simply be defined as pocket (e.g. using all protein residues within a predefined radius of the ligand atoms such as 6 Å). If the ligand is absent, prediction tools can be used for *in silico* pocket detection. These methods can be grouped on the one hand in **geometry- and energy-based methods** as well as on the other hand in **grid-based and grid-free approaches**, as outlined in Figure 2. Note that in recent years, more and more machine or deep learning based methods have been developed (see e.g. [DeepSite](https://doi.org/10.1093/bioinformatics/btx350) by Jiménez *et al.*, Bioinformatics, 2017, 33(19), 3036–3042)."
      ]
    },
    {
      "cell_type": "markdown",
      "metadata": {
        "id": "aYHyKLro1SMB"
      },
      "source": [
        "![Binding site detection methods](https://github.com/volkamerlab/teachopencadd/blob/master/teachopencadd/talktorials/T014_binding_site_detection/images/Figure2_DetectionMethods_scale05.png?raw=1)\n",
        "\n",
        "*Figure 2*: Binding site detection methods can be grouped into geometry-based and energy-based approaches as well as grid-based and grid-free approaches. Figure taken from Prediction, Analysis, and Comparison of Active Sites, [Volkamer <i>et al.</i>, (<b>2018</b>)](https://doi.org/10.1002/9783527806539.ch6g), Applied Chemoinformatics: Achievements and Future Opportunities, Wiley."
      ]
    },
    {
      "cell_type": "markdown",
      "metadata": {
        "id": "G4Ald5Zc1SMB"
      },
      "source": [
        "**Geometry-based approaches** analyze the shape of a molecular surface to locate cavities and incorporate the 3D spatial arrangement of the atoms on the protein surface. **Energy-based approaches** record interactions of probes or molecular fragments with the protein, thus, favorable energetic responses are assigned to pockets. Both strategies can be performed on a Cartesian **grid-based** representation of the protein (i.e. checking the environment per grid point) or without (i.e. **grid-free**)."
      ]
    },
    {
      "cell_type": "markdown",
      "metadata": {
        "id": "EjhNR6Ta1SMC"
      },
      "source": [
        "In the following, an example for each of the four categories will be shortly introduced:\n",
        "\n",
        "* *Geometric, grid-based approach*: In [**LIGSITE**](https://doi.org/10.1016/s1093-3263(98)00002-3) (Hendlich, *et al.*, J Mol Graph Model., 1997, 15(6):359-63, 389), a Cartesian grid (e.g. 1Å grid spacing) is spanned over the protein of interest. Each grid point is then scanned in seven direction (along the x, y and z axes as well as the four cubic diagonals) and the number of Protein-Solvent-Protein (PSP) events per point is stored (# rays restricted on both side by the protein). Finally, grid points that are buried (= have a high PSP value) are clustered to pockets.\n",
        "* *Geometric, grid-free approach*: In [**SURFNET**](https://doi.org/10.1016/0263-7855(95)00073-9) (Laskowski, J Mol Graph., 1995, 13(5):323-30, 307-8), spheres are placed midway between all pairs of atoms on the protein surface directly. In case a probe clashes with any nearby atom, its radius is reduced until no overlap occurs. The resulting probes define the cavities.\n",
        "* *Energy, grid-based approach*: In [**DrugSite**](https://doi.org/10.11234/GI1990.15.2_31) (An, *et al.*, Genome Informatics, 2004, 15(2): 31–41), the protein is embedded in a Cartesian grid and carbon probes are placed on each grid point. Then, van der Waals energies between the probe and the protein environment within 8 Å distance are calculated. Grid points with unfavorable energies, i.e., above an energy cut-off based on the mean energy and standard deviation over the whole grid, are discarded. Finally, grid points fulfilling this cut-off are merged to pockets.\n",
        "* *Energy, grid-free approach*:  In **docking**-based methods, fragments (or small molecules) are docked against the protein of interest (placed and scored, for more info on docking see talktorial T015). Pockets are then assigned based on the quantity of fragments that bind to a specific area."
      ]
    },
    {
      "cell_type": "markdown",
      "metadata": {
        "id": "unbJOSF91SMC"
      },
      "source": [
        "#### DoGSiteScorer\n",
        "\n",
        "In this talktorial, we will use the DoGSiteScorer functionality, available within [protein.plus](https://proteins.plus/), to detect and score the pockets of a protein of interest. Thus, the algorithm will be explained in a bit more detail (see Figure 3 for a visual explanation).\n",
        "\n",
        "* *Pocket detection*: DoGSiteScorer incorporates a **geometric** and **grid-based** algorithm to detect pockets. The protein is embedded in a Cartesian grid, and each grid point is labeled as either 0 (free) or 1 (occupied), depending on if it lies within any protein atom's van der Waals radius. Then, an edge-detection algorithm from image processing, a **Difference of Gaussian filter** (thus the name DoGSite) is invoked to identify protrusion on the protein surface (i.e. the positions on a protein surface where the location of a sphere-like object is favorable). Based on specific cut-off criteria, grid points with the highest intensity are selected and first clustered to subpockets, then merged to pockets.\n",
        "* *Descriptor calculation*: Based on the grid representation of the respective pocket as well as the surrounding protein atoms, properties describing the pocket are derived. These include properties such as volume, surface, or depth of the pocket (calculated directly from the properties of the individual grid points) as well as hyprophobicity, number of available hydrogen bond donors/acceptors or amino acid count (derived from the neighboring protein residues).  \n",
        "* *Druggability estimates*: Additionally, the tool has an in-built druggability predictor. [Druggability](https://en.wikipedia.org/wiki/Druggability) can be defined as the ability of a (disease-associated) target to bind - and potentially be modulated by - low molecular weight compounds (sometimes also referred to as ligandability). In DoGSiteScorer, druggablity is predicted using a support vector machine (SVM) model, trained and tested on the freely available (non-redundant) druggability data set (NR) DD. The DD consists of 1069 targets and each target was assigned to one of the three classes: druggable, difficult, or undruggable.\n",
        "\n",
        "    For more detail on DoGSiteScorer's druggability model, see [Volkamer <i>et al.</i>, J. Chem. Inf. Model., 2012, 52, 2, 360–372](https://pubs.acs.org/doi/10.1021/ci200454v). For more info on the *druggability* concept itself refer to e.g. Hopkins and Groom, [The druggable genome](https://www.nature.com/articles/nrd892). Nat Rev Drug Discov 1, 727–730 (2002).\n",
        "\n",
        "![DoGSiteScorer methodology](https://github.com/volkamerlab/teachopencadd/blob/master/teachopencadd/talktorials/T014_binding_site_detection/images/3w32_DoGSite_Overview_scale05.png?raw=1)\n",
        "\n",
        "*Figure 3*: Schematic representation of the individual steps within DoGSiteScorer: A. Pocket detection, B. descriptor calculation and C. druggability estimation. Figure newly composed based on [Volkamer <i>et al.</i>, J. Chem. Inf. Model., **2012**, 52(2), 360–372](https://pubs.acs.org/doi/10.1021/ci200454v) and [Volkamer <i>et al.</i>, J. Chem. Inf. Model., **2010**, 50(11), 2041–2052](https://pubs.acs.org/doi/10.1021/ci100241y).\n"
      ]
    },
    {
      "cell_type": "markdown",
      "metadata": {
        "id": "0nnWZFdy1SMD"
      },
      "source": [
        "### Comparison to KLIFS pocket\n",
        "\n",
        "Once we obtain the binding site of interest from DoGSiteScorer, we can compare the results with any other method in order to validate it. Here, we compare it with the KLIFS binding pocket definition for our target kinase structure using the KLIFS API (see **Part 8** for more detail).\n",
        "\n",
        "**KLIFS pocket definition** in a nutshell:\n",
        "The [KLIFS](https://klifs.net/) (Kinase-Ligand Interaction Fingerprints and Structures) database is a structural repository of information on over 3600 human and mouse kinase structures. The curated KLIFS data allows systematic analyses of all kinase structures and binding sites, bound ligands and protein-ligand interactions. KLIFS comes with a nomenclature of typical structural motifs within kinases (such as DFG-in/out, hinge region, ...) and maps the binding site of all known kinases to 85 residues, defined via an elaborated multiple sequence alignment. It is possible to compare the interaction patterns of kinase-inhibitors to each other to, for example, identify crucial interactions determining kinase-inhibitor selectivity.\n",
        "\n",
        "In this talktorial, we will query the KLIFS API to return the binding pocket of a specific protein kinase structure of interest for further analysis."
      ]
    },
    {
      "cell_type": "markdown",
      "metadata": {
        "id": "-6ydc8mV1SMD"
      },
      "source": [
        "## Practical"
      ]
    },
    {
      "cell_type": "markdown",
      "metadata": {
        "id": "7rRDI_nZ1SME"
      },
      "source": [
        "In this practical part, we will introduce how to query the [proteins.plus](https://proteins.plus) server for binding site detection using DoGSiteScorer for our protein of interest."
      ]
    },
    {
      "cell_type": "markdown",
      "metadata": {
        "id": "6mxBQnmX1SME"
      },
      "source": [
        "Import all necessary libraries."
      ]
    },
    {
      "cell_type": "code",
      "source": [
        "#Install Conda - Kernal Restart will take place\n",
        "!pip install -q condacolab\n",
        "import condacolab\n",
        "condacolab.install()"
      ],
      "metadata": {
        "id": "OK-8NsJy7DCl"
      },
      "execution_count": null,
      "outputs": []
    },
    {
      "cell_type": "code",
      "source": [
        "# Install mamba\n",
        "!conda install -c conda-forge mamba -y\n",
        "\n",
        "!mamba install -c conda-forge \\\n",
        "    matplotlib \\\n",
        "    matplotlib-venn \\\n",
        "    pandas \\\n",
        "    biopandas \\\n",
        "    rdkit \\\n",
        "    bravado \\\n",
        "    requests \\\n",
        "    -y\n",
        "\n",
        "!pip install pypdb"
      ],
      "metadata": {
        "id": "FXMpmPPy7OXk"
      },
      "execution_count": null,
      "outputs": []
    },
    {
      "cell_type": "code",
      "source": [
        "!pip install git+https://github.com/volkamerlab/opencadd.git"
      ],
      "metadata": {
        "id": "BKJQ-OJ57f0s"
      },
      "execution_count": null,
      "outputs": []
    },
    {
      "cell_type": "code",
      "source": [
        "!pip install nglview==3.0.8\n",
        "!pip install \"ipywidgets>=7,<8\"\n",
        "!jupyter-nbextension enable nglview --py --sys-prefix"
      ],
      "metadata": {
        "id": "vu_7d4oA7jfr"
      },
      "execution_count": null,
      "outputs": []
    },
    {
      "cell_type": "code",
      "execution_count": 31,
      "metadata": {
        "id": "uxiw_9nX1SMF"
      },
      "outputs": [],
      "source": [
        "import io\n",
        "from pathlib import Path\n",
        "import time\n",
        "import gzip\n",
        "\n",
        "import requests\n",
        "from matplotlib_venn import venn2\n",
        "import matplotlib.pyplot as plt\n",
        "import pandas as pd\n",
        "from biopandas.pdb import PandasPdb\n",
        "import nglview\n",
        "\n",
        "from opencadd.databases.klifs import setup_remote\n",
        "\n",
        "pd.set_option(\"display.max_columns\", 50)"
      ]
    },
    {
      "cell_type": "markdown",
      "metadata": {
        "id": "LFUKRq0R1SMI"
      },
      "source": [
        "### Binding site detection using DoGSiteScorer\n",
        "We first define a function to query the server for a protein of interest.\n",
        "Infos on the REST API can be found [here](https://proteins.plus/help/dogsite_rest)."
      ]
    },
    {
      "cell_type": "code",
      "execution_count": 6,
      "metadata": {
        "id": "l5Obxxa01SMI"
      },
      "outputs": [],
      "source": [
        "def submit_dogsitescorer_job_with_pdbid(pdb_code, chain_id, ligand=\"\"):\n",
        "    \"\"\"\n",
        "    Submit PDB ID to DoGSiteScorer webserver using their API and get back URL for job location.\n",
        "\n",
        "    Parameters\n",
        "    ----------\n",
        "    pdb_code : str\n",
        "        4-letter valid PDB ID, e.g. '3w32'.\n",
        "    chain_id : str\n",
        "        Chain ID, e.g. 'A'.\n",
        "    ligand : str\n",
        "        Name of ligand bound to PDB structure with pdb_id, e.g. 'W32_A_1101'.\n",
        "        Currently, the ligand name must be checked manually on the DoGSiteScorer website.\n",
        "\n",
        "    Returns\n",
        "    -------\n",
        "    str\n",
        "        Job location URL for submitted query.\n",
        "\n",
        "    References\n",
        "    ----------\n",
        "    Function is adapted from: https://github.com/volkamerlab/TeachOpenCADD/pull/3 (@jaimergp)\n",
        "    \"\"\"\n",
        "\n",
        "    # Submit job to proteins.plus\n",
        "    # For details on parameters see: https://proteins.plus/help/dogsite_rest\n",
        "    r = requests.post(\n",
        "        \"https://proteins.plus/api/dogsite_rest\",\n",
        "        json={\n",
        "            \"dogsite\": {\n",
        "                \"pdbCode\": pdb_code,  # PDB code of protein\n",
        "                \"analysisDetail\": \"1\",  # 1 = include subpockets in results\n",
        "                \"bindingSitePredictionGranularity\": \"1\",  # 1 = include drugablity scores\n",
        "                \"ligand\": ligand,  # if name is specified, ligand coverage is calculated\n",
        "                \"chain\": chain_id,  # if chain is specified, calculation is only performed on this chain\n",
        "            }\n",
        "        },\n",
        "        headers={\"Content-type\": \"application/json\", \"Accept\": \"application/json\"},\n",
        "    )\n",
        "\n",
        "    r.raise_for_status()\n",
        "\n",
        "    return r.json()[\"location\"]"
      ]
    },
    {
      "cell_type": "markdown",
      "metadata": {
        "id": "uK9LJFk11SMJ"
      },
      "source": [
        "#### Job submission for structure of interest"
      ]
    },
    {
      "cell_type": "markdown",
      "metadata": {
        "id": "-9KZn1-K1SMJ"
      },
      "source": [
        "Define the protein of interest. As an example, we chose an EGFR kinase structure, more details can be found in the respective PDB entry: [3w32](https://www.rcsb.org/structure/3W32)."
      ]
    },
    {
      "cell_type": "code",
      "execution_count": 7,
      "metadata": {
        "id": "sWD7khk91SMK"
      },
      "outputs": [],
      "source": [
        "pdb_id = \"3w32\"\n",
        "chain_id = \"A\"\n",
        "# Ligand id manually looked-up from DoGSiteScorer within proteins.plus\n",
        "# Note that it is generally composed of [pdb_lig_id]_[chain_id]_[pdb_residue_id]\n",
        "ligand_id = \"W32_A_1101\""
      ]
    },
    {
      "cell_type": "markdown",
      "metadata": {
        "id": "p-xWgrCe1SMK"
      },
      "source": [
        "Submit the query and identify the job location (URL) on the web server for further investigation."
      ]
    },
    {
      "cell_type": "code",
      "execution_count": null,
      "metadata": {
        "id": "zWC35lKP1SML"
      },
      "outputs": [],
      "source": [
        "job_location = submit_dogsitescorer_job_with_pdbid(pdb_id, chain_id, ligand_id)\n",
        "job_location"
      ]
    },
    {
      "cell_type": "markdown",
      "metadata": {
        "id": "MleTqUZo1SML"
      },
      "source": [
        "#### Get DoGSiteScorer pocket metadata\n",
        "We now define a function that collects all data returned by the server and stores them in a pandas `DataFrame`."
      ]
    },
    {
      "cell_type": "code",
      "execution_count": 9,
      "metadata": {
        "id": "vS7Ut0mP1SMM"
      },
      "outputs": [],
      "source": [
        "def get_dogsitescorer_metadata(job_location, attempts=30):\n",
        "    \"\"\"\n",
        "    Get results from a DoGSiteScorer query, i.e., the binding sites which are found over the protein surface,\n",
        "    in the form of a table with the details about all detected pockets.\n",
        "\n",
        "    Parameters\n",
        "    ----------\n",
        "    job_location : str\n",
        "        Consists of the location of a finished DoGSiteScorer job on the proteins.plus web server.\n",
        "    attempts : int\n",
        "        The time waiting for the feedback from DoGSiteScorer service.\n",
        "\n",
        "    Returns\n",
        "    -------\n",
        "    pandas.DataFrame\n",
        "        Table with metadata on detected binding sites.\n",
        "    \"\"\"\n",
        "\n",
        "    print(f\"Querying for job at URL {job_location}...\", end=\"\")\n",
        "\n",
        "    while attempts:\n",
        "        # Get job results\n",
        "        result = requests.get(job_location)\n",
        "        result.raise_for_status()\n",
        "        # Get URL of result table file\n",
        "        response = result.json()\n",
        "        if \"result_table\" in response:\n",
        "            result_file = response[\"result_table\"]\n",
        "            break\n",
        "        attempts -= 1\n",
        "        print(\".\", end=\"\")\n",
        "        time.sleep(10)\n",
        "    # Get result table (as string)\n",
        "    result_table = requests.get(result_file).text\n",
        "    # Load the table (csv format using \"\\t\" as separator) with pandas DataFrame\n",
        "    # We cannot load the table from a string directly but from a file\n",
        "    # Use io.StringIO to wrap this string as file-like object as needed for read_csv method\n",
        "    # See more: https://docs.python.org/3/library/io.html#io.StringIO\n",
        "    result_table_df = pd.read_csv(io.StringIO(result_table), sep=\"\\t\").set_index(\"name\")\n",
        "\n",
        "    return result_table_df"
      ]
    },
    {
      "cell_type": "markdown",
      "metadata": {
        "id": "kAbLKy211SMM"
      },
      "source": [
        "All detected pockets from DoGSiteScorer web server are retrieved and a dataframe is returned containing all pocket descriptor information."
      ]
    },
    {
      "cell_type": "code",
      "execution_count": null,
      "metadata": {
        "id": "GzLsbQkn1SMM"
      },
      "outputs": [],
      "source": [
        "metadata = get_dogsitescorer_metadata(job_location)\n",
        "metadata.head()"
      ]
    },
    {
      "cell_type": "markdown",
      "metadata": {
        "id": "a-E-7uGe1SMN"
      },
      "source": [
        "**Note**: We selected to have pockets and subpockets returned from the algorithm, e.g. pocket ``P_0`` contains subpockets ``P_0_0`` to ``P_0_5``. Depending on your research question you might prefer to work with the pockets - mostly if you are more interested in the general location (e.g. for docking) - or the subpockets, which give a more granular description."
      ]
    },
    {
      "cell_type": "markdown",
      "metadata": {
        "id": "FP1lwrfO1SMN"
      },
      "source": [
        "#### Pick the most suitable pocket\n",
        "The pockets are initially sorted by the volume of the respective pocket.\n",
        "We want to have a deeper look at the pocket that contains the ligand (see ligand coverage column ``lig_cov``) and which is covered by the ligand the most (pocket coverage ``poc_cov``).\n",
        "\n",
        "For clarity, we drop a few columns first from the dataframe."
      ]
    },
    {
      "cell_type": "code",
      "execution_count": 11,
      "metadata": {
        "id": "v8Pji0Lj1SMN"
      },
      "outputs": [],
      "source": [
        "metadata = metadata[\n",
        "    [\n",
        "        \"lig_cov\",\n",
        "        \"poc_cov\",\n",
        "        \"lig_name\",\n",
        "        \"volume\",\n",
        "        \"enclosure\",\n",
        "        \"surface\",\n",
        "        \"depth\",\n",
        "        \"surf/vol\",\n",
        "        \"accept\",\n",
        "        \"donor\",\n",
        "        \"hydrophobic_interactions\",\n",
        "        \"hydrophobicity\",\n",
        "        \"metal\",\n",
        "        \"simpleScore\",\n",
        "        \"drugScore\",\n",
        "    ]\n",
        "]"
      ]
    },
    {
      "cell_type": "markdown",
      "metadata": {
        "id": "9KTxSwbb1SMO"
      },
      "source": [
        "Sort the obtained binding site by your column of interest."
      ]
    },
    {
      "cell_type": "code",
      "execution_count": null,
      "metadata": {
        "id": "THbOkGpg1SMO"
      },
      "outputs": [],
      "source": [
        "metadata.sort_values(by=[\"lig_cov\", \"poc_cov\"], ascending=False).head()\n",
        "# NBVAL_CHECK_OUTPUT"
      ]
    },
    {
      "cell_type": "markdown",
      "metadata": {
        "id": "AD0K7s3E1SMP"
      },
      "source": [
        "**Note**: We decided here to select the pocket with the best ligand and pocket coverage to have a precise description of the pocket for our comparison later. In other drug design scenarios, you might want to simply sort by ``drugScore`` (``metadata.sort_values(by='drugScore', ascending=False)``) or other values, such as ``volume`` or ``simpleScore``."
      ]
    },
    {
      "cell_type": "markdown",
      "metadata": {
        "id": "wr-0tZxu1SMX"
      },
      "source": [
        "We define a function that returns the ID (variable is called ``best_pocket_id``) of the pocket that fullfills our sorting criterion."
      ]
    },
    {
      "cell_type": "code",
      "execution_count": 13,
      "metadata": {
        "id": "3zwvYtC61SMY"
      },
      "outputs": [],
      "source": [
        "def select_best_pocket(metadata, sorted_by=\"drugScore\"):\n",
        "    \"\"\"\n",
        "    This function uses the defined sorting parameter to identify\n",
        "    the best pocket among the obtained pockets.\n",
        "\n",
        "    Parameters\n",
        "    ----------\n",
        "    metadata : pd.DataFrame\n",
        "        Pockets retrieved from the DoGSiteScorer website\n",
        "\n",
        "    by : str\n",
        "        Method name(s) to sort table by (default is to sort by drugScore).\n",
        "\n",
        "    Returns\n",
        "    -------\n",
        "    str\n",
        "        Best binding site name.\n",
        "    \"\"\"\n",
        "\n",
        "    by_methods = [\"drugScore\", \"volume\", \"simpleScore\", \"lig_cov\", \"poc_cov\"]\n",
        "\n",
        "    # Sort by the selected method\n",
        "    if all(elem in by_methods for elem in sorted_by):\n",
        "        sorted_pocket = metadata.sort_values(sorted_by, ascending=False)\n",
        "    else:\n",
        "        raise ValueError(f'Selection method not in list: {\", \".join(by_methods)}')\n",
        "\n",
        "    # Get name of best pocket\n",
        "    best_pocket_name = sorted_pocket.iloc[0, :].name\n",
        "\n",
        "    return best_pocket_name"
      ]
    },
    {
      "cell_type": "markdown",
      "metadata": {
        "id": "7Nd-GKrQ1SMZ"
      },
      "source": [
        "We now programatically access the name of the best pocket based on the selected sorting."
      ]
    },
    {
      "cell_type": "code",
      "execution_count": null,
      "metadata": {
        "id": "2YZtqAw_1SMZ"
      },
      "outputs": [],
      "source": [
        "best_pocket_id = select_best_pocket(metadata, [\"lig_cov\", \"poc_cov\"])\n",
        "best_pocket_id\n",
        "# NBVAL_CHECK_OUTPUT"
      ]
    },
    {
      "cell_type": "markdown",
      "metadata": {
        "id": "q3YZ1rs11SMa"
      },
      "source": [
        "#### Get binding site file content"
      ]
    },
    {
      "cell_type": "markdown",
      "metadata": {
        "id": "r4Opup8e1SMa"
      },
      "source": [
        "We define two helper functions to first get the URL for all pocket pdb or ccp4 files, respectively. Then, we only process the files further for our pocket of interest.\n",
        "\n",
        "Note that DoGSiteScorer returns two structural (3D) file formats per pocket:\n",
        "\n",
        "* *pdb*: These files contain all atoms/residues surrounding the pocket.\n",
        "    * Accessed via ``residues``\n",
        "    * Naming scheme, e.g. 3w32_P_0_0``_res.pdb``\n",
        "* *ccp4*: These files contain the grid points composing the pocket, also considered the *volume* of the pocket.\n",
        "    * Accessed via ``pockets``\n",
        "    * Naming scheme, e.g. 3w32_P_0_0``_gpsAll.ccp4.gz``"
      ]
    },
    {
      "cell_type": "code",
      "execution_count": 15,
      "metadata": {
        "id": "XftxIgH51SMa"
      },
      "outputs": [],
      "source": [
        "def get_url_for_pockets(job_location, file_type=\"pdb\"):\n",
        "    \"\"\"\n",
        "    Get all pocket file locations for a finished DoGSiteScorer job\n",
        "    for a selected file type (pdb/ccp4).\n",
        "\n",
        "    Parameters\n",
        "    ----------\n",
        "    job_location : str\n",
        "        URL of finished job submitted to the DoGSiteScorer web server.\n",
        "    file_type : str\n",
        "        Type of file to be returned (pdb/ccp4).\n",
        "\n",
        "    Returns\n",
        "    -------\n",
        "    list\n",
        "        List of all respective pocket file URLs.\n",
        "    \"\"\"\n",
        "\n",
        "    # Get job results\n",
        "    result = requests.get(job_location)\n",
        "\n",
        "    if file_type == \"pdb\":\n",
        "        # Get pocket residues\n",
        "        return result.json()[\"residues\"]\n",
        "    elif file_type == \"ccp4\":\n",
        "        # Get pocket volumes\n",
        "        return result.json()[\"pockets\"]\n",
        "    else:\n",
        "        raise ValueError(f\"File type {file_type} not available.\")"
      ]
    },
    {
      "cell_type": "code",
      "execution_count": 16,
      "metadata": {
        "id": "bcfCHVas1SMb"
      },
      "outputs": [],
      "source": [
        "def get_selected_pocket_location(job_location, best_pocket, file_type=\"pdb\"):\n",
        "    \"\"\"\n",
        "    Get the selected binding site file location.\n",
        "\n",
        "    Parameters\n",
        "    ----------\n",
        "    job_location : str\n",
        "        URL of finished job submitted to the DoGSiteScorer web server.\n",
        "    best_pocket : str\n",
        "        Selected pocket id.\n",
        "    file_type : str\n",
        "        Type of file to be returned (pdb/ccp4).\n",
        "\n",
        "    Returns\n",
        "    ------\n",
        "    str\n",
        "        URL of selected pocket file on the DoGSiteScorer web server.\n",
        "    \"\"\"\n",
        "    result = []\n",
        "\n",
        "    # Get URL for all available pdb or ccp4 files\n",
        "    pocket_files = get_url_for_pockets(job_location, file_type)\n",
        "\n",
        "    for pocket_file in pocket_files:\n",
        "        if file_type == \"pdb\":\n",
        "            if f\"{best_pocket}_res\" in pocket_file:\n",
        "                result.append(pocket_file)\n",
        "        elif file_type == \"ccp4\":\n",
        "            if f\"{best_pocket}_gpsAll\" in pocket_file:\n",
        "                result.append(pocket_file)\n",
        "\n",
        "    if len(result) > 1:\n",
        "        raise TypeError(f'Multiple strings detected: {\", \".join(result)}.')\n",
        "    elif len(result) == 0:\n",
        "        raise TypeError(f\"No string detected.\")\n",
        "    else:\n",
        "        pass\n",
        "\n",
        "    return result[0]"
      ]
    },
    {
      "cell_type": "markdown",
      "metadata": {
        "id": "leSVjdwK1SMb"
      },
      "source": [
        "Get URL for PDB file containing the selected pocket's residues."
      ]
    },
    {
      "cell_type": "code",
      "execution_count": null,
      "metadata": {
        "id": "D2AK7v0V1SMc"
      },
      "outputs": [],
      "source": [
        "selected_pocket_residues_url = get_selected_pocket_location(job_location, best_pocket_id, \"pdb\")\n",
        "selected_pocket_residues_url"
      ]
    },
    {
      "cell_type": "markdown",
      "metadata": {
        "id": "_a6rruvq1SMc"
      },
      "source": [
        "#### Investigate detected pocket\n",
        "\n",
        "**Pocket descriptors**\n",
        "\n",
        "The algorithm returns information on all calculated descriptors for the respective pocket."
      ]
    },
    {
      "cell_type": "code",
      "execution_count": null,
      "metadata": {
        "id": "sh2XkSZX1SMc"
      },
      "outputs": [],
      "source": [
        "metadata.loc[best_pocket_id]\n",
        "# NBVAL_CHECK_OUTPUT"
      ]
    },
    {
      "cell_type": "markdown",
      "metadata": {
        "id": "6dXL7e_s1SMd"
      },
      "source": [
        "**Visualize the pocket**\n",
        "\n",
        "We need to get the respective ``ccp4`` file that contains the pocket information. First, we get the URL for the``ccp4`` file containing the selected pocket's volume."
      ]
    },
    {
      "cell_type": "code",
      "execution_count": null,
      "metadata": {
        "id": "tNa2sIP21SMj"
      },
      "outputs": [],
      "source": [
        "selected_pocket_volume_url = get_selected_pocket_location(job_location, best_pocket_id, \"ccp4\")\n",
        "selected_pocket_volume_url"
      ]
    },
    {
      "cell_type": "markdown",
      "metadata": {
        "id": "Rlu9YFPp1SMk"
      },
      "source": [
        "We get the grid point coordinates from that proteins.plus URL. We do not save this to disk, but to a memory file (`io.BytesIO`). Thanks to the extension in the URL, we know this is a gzipped (`.gz` extension) CCP4 map (`.ccp4`). What we do:\n",
        "\n",
        "1. Download the file from the server into memory. At this point we have gzipped bytes.\n",
        "2. We decompress the response in memory using `gzip.decompress`.\n",
        "3. We wrap it in a `io.BytesIO` object that will behave as an opened file."
      ]
    },
    {
      "cell_type": "code",
      "execution_count": 20,
      "metadata": {
        "id": "H3RI5kF21SMk"
      },
      "outputs": [],
      "source": [
        "r = requests.get(selected_pocket_volume_url)\n",
        "r.raise_for_status()\n",
        "# Decompress response content and wrap it in a file-like object\n",
        "memfile = io.BytesIO(gzip.decompress(r.content))"
      ]
    },
    {
      "cell_type": "markdown",
      "metadata": {
        "id": "_NqsW_941SMk"
      },
      "source": [
        "**Note**: If the pocket volume does not show in the NGLviewer, please try to run the notebook with Jupyter Notebook (instead of Jupyter Lab)."
      ]
    },
    {
      "cell_type": "code",
      "source": [
        "import nglview"
      ],
      "metadata": {
        "id": "aE2VK-T9BLza"
      },
      "execution_count": 2,
      "outputs": []
    },
    {
      "cell_type": "code",
      "source": [
        "!jupyter-nbextension enable nglview --py --sys-prefix"
      ],
      "metadata": {
        "id": "6w1_PbqYAqRe"
      },
      "execution_count": null,
      "outputs": []
    },
    {
      "cell_type": "code",
      "source": [
        "from google.colab import output\n",
        "output.enable_custom_widget_manager()"
      ],
      "metadata": {
        "id": "UDairQyZArTt"
      },
      "execution_count": 4,
      "outputs": []
    },
    {
      "cell_type": "code",
      "execution_count": null,
      "metadata": {
        "id": "4K-ucEkM1SMl"
      },
      "outputs": [],
      "source": [
        "viewer = nglview.show_pdbid(pdb_id)\n",
        "# Since we are passing bytes with no path or extension\n",
        "# we need to tell nglview what kind of data this is: ccp4\n",
        "viewer.add_component(memfile, ext=\"ccp4\")\n",
        "viewer.center()\n",
        "viewer"
      ]
    },
    {
      "cell_type": "code",
      "execution_count": 25,
      "metadata": {
        "id": "BgxL2bZj1SMl"
      },
      "outputs": [],
      "source": [
        "viewer.render_image(trim=True, factor=2);"
      ]
    },
    {
      "cell_type": "code",
      "execution_count": null,
      "metadata": {
        "tags": [
          "nbsphinx-thumbnail"
        ],
        "id": "ibxgSTSm1SMm"
      },
      "outputs": [],
      "source": [
        "viewer._display_image()"
      ]
    },
    {
      "cell_type": "markdown",
      "metadata": {
        "id": "1W0sMDCZ1SMm"
      },
      "source": [
        "The above rendered image shows the same content as when using the proteins.plus web server directly (see Figure 1)."
      ]
    },
    {
      "cell_type": "markdown",
      "metadata": {
        "id": "Lq9YxX1E1SMm"
      },
      "source": [
        "### Comparison between DoGSiteScorer and KLIFS pocket"
      ]
    },
    {
      "cell_type": "markdown",
      "metadata": {
        "id": "fcG1fWga1SMn"
      },
      "source": [
        "#### Get DoGSiteScorer pocket residues\n",
        "Since we want to compare the automatically predicted pocket with the manually assigned KLIFS pocket, we need to identify the pocket residues."
      ]
    },
    {
      "cell_type": "code",
      "execution_count": 27,
      "metadata": {
        "id": "kJS0T9XU1SMn"
      },
      "outputs": [],
      "source": [
        "def get_pocket_residues(pocket_url):\n",
        "    \"\"\"\n",
        "    Gets residue IDs and names of a specified pocket (via URL).\n",
        "\n",
        "    Parameters\n",
        "    ----------\n",
        "    pocket_url : str\n",
        "        URL of selected pocket file on the DoGSiteScorer web server.\n",
        "\n",
        "    Returns\n",
        "    -------\n",
        "    pandas.DataFrame\n",
        "        Table of residues names and IDs for the selected binding site.\n",
        "    \"\"\"\n",
        "\n",
        "    # Retrieve PDB file content from URL\n",
        "    result = requests.get(pocket_url)\n",
        "\n",
        "    # Get content of PDB file\n",
        "    pdb_residues = result.text\n",
        "\n",
        "    # Load PDB format as DataFrame\n",
        "    ppdb = PandasPdb().read_pdb_from_list(pdb_residues.splitlines(True))\n",
        "    pdb_df = ppdb.df[\"ATOM\"]\n",
        "\n",
        "    # Drop duplicates\n",
        "    # PDB file contains per atom entries, we only need per residue info\n",
        "    pdb_df.sort_values(\"residue_number\", inplace=True)\n",
        "    pdb_df.drop_duplicates(subset=\"residue_number\", keep=\"first\", inplace=True)\n",
        "\n",
        "    return pdb_df[[\"residue_number\", \"residue_name\"]]"
      ]
    },
    {
      "cell_type": "markdown",
      "metadata": {
        "id": "CxLecMJC1SMn"
      },
      "source": [
        "We get the residues of selected pocket and show the top 5 residues."
      ]
    },
    {
      "cell_type": "code",
      "execution_count": 28,
      "metadata": {
        "id": "9YIkxs5k1SMo",
        "outputId": "6559d802-542d-4210-e302-c2d9e892f5f0",
        "colab": {
          "base_uri": "https://localhost:8080/",
          "height": 206
        }
      },
      "outputs": [
        {
          "output_type": "execute_result",
          "data": {
            "text/plain": [
              "    residue_number residue_name\n",
              "0              718          LEU\n",
              "4              726          VAL\n",
              "11             743          ALA\n",
              "12             744          ILE\n",
              "20             745          LYS"
            ],
            "text/html": [
              "\n",
              "  <div id=\"df-12de375d-5f87-4849-a75c-6d5e6bd4d0ab\" class=\"colab-df-container\">\n",
              "    <div>\n",
              "<style scoped>\n",
              "    .dataframe tbody tr th:only-of-type {\n",
              "        vertical-align: middle;\n",
              "    }\n",
              "\n",
              "    .dataframe tbody tr th {\n",
              "        vertical-align: top;\n",
              "    }\n",
              "\n",
              "    .dataframe thead th {\n",
              "        text-align: right;\n",
              "    }\n",
              "</style>\n",
              "<table border=\"1\" class=\"dataframe\">\n",
              "  <thead>\n",
              "    <tr style=\"text-align: right;\">\n",
              "      <th></th>\n",
              "      <th>residue_number</th>\n",
              "      <th>residue_name</th>\n",
              "    </tr>\n",
              "  </thead>\n",
              "  <tbody>\n",
              "    <tr>\n",
              "      <th>0</th>\n",
              "      <td>718</td>\n",
              "      <td>LEU</td>\n",
              "    </tr>\n",
              "    <tr>\n",
              "      <th>4</th>\n",
              "      <td>726</td>\n",
              "      <td>VAL</td>\n",
              "    </tr>\n",
              "    <tr>\n",
              "      <th>11</th>\n",
              "      <td>743</td>\n",
              "      <td>ALA</td>\n",
              "    </tr>\n",
              "    <tr>\n",
              "      <th>12</th>\n",
              "      <td>744</td>\n",
              "      <td>ILE</td>\n",
              "    </tr>\n",
              "    <tr>\n",
              "      <th>20</th>\n",
              "      <td>745</td>\n",
              "      <td>LYS</td>\n",
              "    </tr>\n",
              "  </tbody>\n",
              "</table>\n",
              "</div>\n",
              "    <div class=\"colab-df-buttons\">\n",
              "\n",
              "  <div class=\"colab-df-container\">\n",
              "    <button class=\"colab-df-convert\" onclick=\"convertToInteractive('df-12de375d-5f87-4849-a75c-6d5e6bd4d0ab')\"\n",
              "            title=\"Convert this dataframe to an interactive table.\"\n",
              "            style=\"display:none;\">\n",
              "\n",
              "  <svg xmlns=\"http://www.w3.org/2000/svg\" height=\"24px\" viewBox=\"0 -960 960 960\">\n",
              "    <path d=\"M120-120v-720h720v720H120Zm60-500h600v-160H180v160Zm220 220h160v-160H400v160Zm0 220h160v-160H400v160ZM180-400h160v-160H180v160Zm440 0h160v-160H620v160ZM180-180h160v-160H180v160Zm440 0h160v-160H620v160Z\"/>\n",
              "  </svg>\n",
              "    </button>\n",
              "\n",
              "  <style>\n",
              "    .colab-df-container {\n",
              "      display:flex;\n",
              "      gap: 12px;\n",
              "    }\n",
              "\n",
              "    .colab-df-convert {\n",
              "      background-color: #E8F0FE;\n",
              "      border: none;\n",
              "      border-radius: 50%;\n",
              "      cursor: pointer;\n",
              "      display: none;\n",
              "      fill: #1967D2;\n",
              "      height: 32px;\n",
              "      padding: 0 0 0 0;\n",
              "      width: 32px;\n",
              "    }\n",
              "\n",
              "    .colab-df-convert:hover {\n",
              "      background-color: #E2EBFA;\n",
              "      box-shadow: 0px 1px 2px rgba(60, 64, 67, 0.3), 0px 1px 3px 1px rgba(60, 64, 67, 0.15);\n",
              "      fill: #174EA6;\n",
              "    }\n",
              "\n",
              "    .colab-df-buttons div {\n",
              "      margin-bottom: 4px;\n",
              "    }\n",
              "\n",
              "    [theme=dark] .colab-df-convert {\n",
              "      background-color: #3B4455;\n",
              "      fill: #D2E3FC;\n",
              "    }\n",
              "\n",
              "    [theme=dark] .colab-df-convert:hover {\n",
              "      background-color: #434B5C;\n",
              "      box-shadow: 0px 1px 3px 1px rgba(0, 0, 0, 0.15);\n",
              "      filter: drop-shadow(0px 1px 2px rgba(0, 0, 0, 0.3));\n",
              "      fill: #FFFFFF;\n",
              "    }\n",
              "  </style>\n",
              "\n",
              "    <script>\n",
              "      const buttonEl =\n",
              "        document.querySelector('#df-12de375d-5f87-4849-a75c-6d5e6bd4d0ab button.colab-df-convert');\n",
              "      buttonEl.style.display =\n",
              "        google.colab.kernel.accessAllowed ? 'block' : 'none';\n",
              "\n",
              "      async function convertToInteractive(key) {\n",
              "        const element = document.querySelector('#df-12de375d-5f87-4849-a75c-6d5e6bd4d0ab');\n",
              "        const dataTable =\n",
              "          await google.colab.kernel.invokeFunction('convertToInteractive',\n",
              "                                                    [key], {});\n",
              "        if (!dataTable) return;\n",
              "\n",
              "        const docLinkHtml = 'Like what you see? Visit the ' +\n",
              "          '<a target=\"_blank\" href=https://colab.research.google.com/notebooks/data_table.ipynb>data table notebook</a>'\n",
              "          + ' to learn more about interactive tables.';\n",
              "        element.innerHTML = '';\n",
              "        dataTable['output_type'] = 'display_data';\n",
              "        await google.colab.output.renderOutput(dataTable, element);\n",
              "        const docLink = document.createElement('div');\n",
              "        docLink.innerHTML = docLinkHtml;\n",
              "        element.appendChild(docLink);\n",
              "      }\n",
              "    </script>\n",
              "  </div>\n",
              "\n",
              "\n",
              "<div id=\"df-102eb598-2720-431d-ac8c-c43d289b6b28\">\n",
              "  <button class=\"colab-df-quickchart\" onclick=\"quickchart('df-102eb598-2720-431d-ac8c-c43d289b6b28')\"\n",
              "            title=\"Suggest charts\"\n",
              "            style=\"display:none;\">\n",
              "\n",
              "<svg xmlns=\"http://www.w3.org/2000/svg\" height=\"24px\"viewBox=\"0 0 24 24\"\n",
              "     width=\"24px\">\n",
              "    <g>\n",
              "        <path d=\"M19 3H5c-1.1 0-2 .9-2 2v14c0 1.1.9 2 2 2h14c1.1 0 2-.9 2-2V5c0-1.1-.9-2-2-2zM9 17H7v-7h2v7zm4 0h-2V7h2v10zm4 0h-2v-4h2v4z\"/>\n",
              "    </g>\n",
              "</svg>\n",
              "  </button>\n",
              "\n",
              "<style>\n",
              "  .colab-df-quickchart {\n",
              "      --bg-color: #E8F0FE;\n",
              "      --fill-color: #1967D2;\n",
              "      --hover-bg-color: #E2EBFA;\n",
              "      --hover-fill-color: #174EA6;\n",
              "      --disabled-fill-color: #AAA;\n",
              "      --disabled-bg-color: #DDD;\n",
              "  }\n",
              "\n",
              "  [theme=dark] .colab-df-quickchart {\n",
              "      --bg-color: #3B4455;\n",
              "      --fill-color: #D2E3FC;\n",
              "      --hover-bg-color: #434B5C;\n",
              "      --hover-fill-color: #FFFFFF;\n",
              "      --disabled-bg-color: #3B4455;\n",
              "      --disabled-fill-color: #666;\n",
              "  }\n",
              "\n",
              "  .colab-df-quickchart {\n",
              "    background-color: var(--bg-color);\n",
              "    border: none;\n",
              "    border-radius: 50%;\n",
              "    cursor: pointer;\n",
              "    display: none;\n",
              "    fill: var(--fill-color);\n",
              "    height: 32px;\n",
              "    padding: 0;\n",
              "    width: 32px;\n",
              "  }\n",
              "\n",
              "  .colab-df-quickchart:hover {\n",
              "    background-color: var(--hover-bg-color);\n",
              "    box-shadow: 0 1px 2px rgba(60, 64, 67, 0.3), 0 1px 3px 1px rgba(60, 64, 67, 0.15);\n",
              "    fill: var(--button-hover-fill-color);\n",
              "  }\n",
              "\n",
              "  .colab-df-quickchart-complete:disabled,\n",
              "  .colab-df-quickchart-complete:disabled:hover {\n",
              "    background-color: var(--disabled-bg-color);\n",
              "    fill: var(--disabled-fill-color);\n",
              "    box-shadow: none;\n",
              "  }\n",
              "\n",
              "  .colab-df-spinner {\n",
              "    border: 2px solid var(--fill-color);\n",
              "    border-color: transparent;\n",
              "    border-bottom-color: var(--fill-color);\n",
              "    animation:\n",
              "      spin 1s steps(1) infinite;\n",
              "  }\n",
              "\n",
              "  @keyframes spin {\n",
              "    0% {\n",
              "      border-color: transparent;\n",
              "      border-bottom-color: var(--fill-color);\n",
              "      border-left-color: var(--fill-color);\n",
              "    }\n",
              "    20% {\n",
              "      border-color: transparent;\n",
              "      border-left-color: var(--fill-color);\n",
              "      border-top-color: var(--fill-color);\n",
              "    }\n",
              "    30% {\n",
              "      border-color: transparent;\n",
              "      border-left-color: var(--fill-color);\n",
              "      border-top-color: var(--fill-color);\n",
              "      border-right-color: var(--fill-color);\n",
              "    }\n",
              "    40% {\n",
              "      border-color: transparent;\n",
              "      border-right-color: var(--fill-color);\n",
              "      border-top-color: var(--fill-color);\n",
              "    }\n",
              "    60% {\n",
              "      border-color: transparent;\n",
              "      border-right-color: var(--fill-color);\n",
              "    }\n",
              "    80% {\n",
              "      border-color: transparent;\n",
              "      border-right-color: var(--fill-color);\n",
              "      border-bottom-color: var(--fill-color);\n",
              "    }\n",
              "    90% {\n",
              "      border-color: transparent;\n",
              "      border-bottom-color: var(--fill-color);\n",
              "    }\n",
              "  }\n",
              "</style>\n",
              "\n",
              "  <script>\n",
              "    async function quickchart(key) {\n",
              "      const quickchartButtonEl =\n",
              "        document.querySelector('#' + key + ' button');\n",
              "      quickchartButtonEl.disabled = true;  // To prevent multiple clicks.\n",
              "      quickchartButtonEl.classList.add('colab-df-spinner');\n",
              "      try {\n",
              "        const charts = await google.colab.kernel.invokeFunction(\n",
              "            'suggestCharts', [key], {});\n",
              "      } catch (error) {\n",
              "        console.error('Error during call to suggestCharts:', error);\n",
              "      }\n",
              "      quickchartButtonEl.classList.remove('colab-df-spinner');\n",
              "      quickchartButtonEl.classList.add('colab-df-quickchart-complete');\n",
              "    }\n",
              "    (() => {\n",
              "      let quickchartButtonEl =\n",
              "        document.querySelector('#df-102eb598-2720-431d-ac8c-c43d289b6b28 button');\n",
              "      quickchartButtonEl.style.display =\n",
              "        google.colab.kernel.accessAllowed ? 'block' : 'none';\n",
              "    })();\n",
              "  </script>\n",
              "</div>\n",
              "\n",
              "    </div>\n",
              "  </div>\n"
            ],
            "application/vnd.google.colaboratory.intrinsic+json": {
              "type": "dataframe",
              "summary": "{\n  \"name\": \"# NBVAL_CHECK_OUTPUT\",\n  \"rows\": 5,\n  \"fields\": [\n    {\n      \"column\": \"residue_number\",\n      \"properties\": {\n        \"dtype\": \"number\",\n        \"std\": 12,\n        \"min\": 718,\n        \"max\": 745,\n        \"num_unique_values\": 5,\n        \"samples\": [\n          726,\n          745,\n          743\n        ],\n        \"semantic_type\": \"\",\n        \"description\": \"\"\n      }\n    },\n    {\n      \"column\": \"residue_name\",\n      \"properties\": {\n        \"dtype\": \"string\",\n        \"num_unique_values\": 5,\n        \"samples\": [\n          \"VAL\",\n          \"LYS\",\n          \"ALA\"\n        ],\n        \"semantic_type\": \"\",\n        \"description\": \"\"\n      }\n    }\n  ]\n}"
            }
          },
          "metadata": {},
          "execution_count": 28
        }
      ],
      "source": [
        "dogsite_pocket_residues_df = get_pocket_residues(selected_pocket_residues_url)\n",
        "dogsite_pocket_residues_df.head()\n",
        "# NBVAL_CHECK_OUTPUT"
      ]
    },
    {
      "cell_type": "markdown",
      "metadata": {
        "id": "MQlNpYbQ1SMo"
      },
      "source": [
        "**Another pocket visualization**\n",
        "\n",
        "We can also use the selected pocket residues to investigate our pocket in 3D."
      ]
    },
    {
      "cell_type": "code",
      "execution_count": null,
      "metadata": {
        "id": "IRkIVMx01SMo"
      },
      "outputs": [],
      "source": [
        "# Show protein structure as cartoon\n",
        "viewer = nglview.show_pdbid(pdb_id)\n",
        "# Select pocket residues\n",
        "selection = (\n",
        "    f\":{chain_id} and ({' or '.join(dogsite_pocket_residues_df['residue_number'].astype(str))})\"\n",
        ")\n",
        "# Show pocket residues as stick\n",
        "viewer.add_representation(\"ball+stick\", selection=selection, aspectRatio=1.0)\n",
        "# Show ligand as ball and stick\n",
        "viewer.add_representation(\"ball+stick\", selection=ligand_id.split(\"_\")[0])\n",
        "viewer.center()\n",
        "viewer"
      ]
    },
    {
      "cell_type": "code",
      "execution_count": null,
      "metadata": {
        "id": "KioBBRE81SMp"
      },
      "outputs": [],
      "source": [
        "viewer.render_image(trim=True, factor=2);"
      ]
    },
    {
      "cell_type": "code",
      "execution_count": null,
      "metadata": {
        "id": "TNnHi2TK1SMp"
      },
      "outputs": [],
      "source": [
        "viewer._display_image()"
      ]
    },
    {
      "cell_type": "markdown",
      "metadata": {
        "id": "0abSOHjw1SMq"
      },
      "source": [
        "#### Get KLIFS pocket residues"
      ]
    },
    {
      "cell_type": "markdown",
      "metadata": {
        "id": "0HRq6K_01SMq"
      },
      "source": [
        "We are using the `opencadd.databases.klifs` module to extract the binding site residues (PDB residue numbering) as defined in the KLIFS database.\n",
        "\n",
        "Please refer to __Talktorial T012__ for detailed information about KLIFS and the `opencadd.databases.klifs` module usage."
      ]
    },
    {
      "cell_type": "code",
      "execution_count": 33,
      "metadata": {
        "id": "KGcD1-nk1SMq"
      },
      "outputs": [],
      "source": [
        "session = setup_remote()"
      ]
    },
    {
      "cell_type": "code",
      "execution_count": null,
      "metadata": {
        "id": "yiQ3vuHu1SMr"
      },
      "outputs": [],
      "source": [
        "# Get first structure KLIFS ID associated with PDB ID\n",
        "structures = session.structures.by_structure_pdb_id(pdb_id)\n",
        "structure_klifs_id = structures[\"structure.klifs_id\"].iloc[0]"
      ]
    },
    {
      "cell_type": "code",
      "execution_count": null,
      "metadata": {
        "id": "GRb1KK8E1SMr"
      },
      "outputs": [],
      "source": [
        "# Get the structure's pocket\n",
        "klifs_pocket_df = session.pockets.by_structure_klifs_id(structure_klifs_id)\n",
        "# Residue ID: Cast string to int\n",
        "klifs_pocket_df = klifs_pocket_df.astype({\"residue.id\": int})\n",
        "klifs_pocket_df.head()\n",
        "# NBVAL_CHECK_OUTPUT"
      ]
    },
    {
      "cell_type": "markdown",
      "metadata": {
        "id": "S3s4JahU1SMr"
      },
      "source": [
        "#### Overlap of pocket residues"
      ]
    },
    {
      "cell_type": "code",
      "execution_count": null,
      "metadata": {
        "id": "oO58Tpii1SMs"
      },
      "outputs": [],
      "source": [
        "# Get DoGSiteScorer pocket residues as list\n",
        "dogsite_pocket_residues = dogsite_pocket_residues_df[\"residue_number\"].to_list()\n",
        "print(\n",
        "    f\"DoGSiteScorer pocket {best_pocket_id} with {len(dogsite_pocket_residues)} residues detected.\"\n",
        ")\n",
        "# Get KLIFS pocket residues as list\n",
        "klifs_pocket_residues = klifs_pocket_df[\"residue.id\"].to_list()\n",
        "print(f\"KLIFS pocket with {len(klifs_pocket_residues)} residues detected.\")"
      ]
    },
    {
      "cell_type": "code",
      "execution_count": null,
      "metadata": {
        "id": "pQhRfg8S1SMs"
      },
      "outputs": [],
      "source": [
        "overlap = set.intersection(set(dogsite_pocket_residues), set(klifs_pocket_residues))\n",
        "print(f\"Overlap between the two residue sets: {len(overlap)}.\")\n",
        "# NBVAL_CHECK_OUTPUT"
      ]
    },
    {
      "cell_type": "markdown",
      "metadata": {
        "id": "Uqw2DjwN1SMt"
      },
      "source": [
        "Plot the overlap as Venn diagram."
      ]
    },
    {
      "cell_type": "code",
      "execution_count": null,
      "metadata": {
        "id": "K8l40BQE1SMt"
      },
      "outputs": [],
      "source": [
        "print(f\"Residue overlap between the two methods using {best_pocket_id}.\")\n",
        "venn2(\n",
        "    [set(dogsite_pocket_residues), set(klifs_pocket_residues)],\n",
        "    set_labels=(\"DoGSiteScorer\", \"KLIFS\"),\n",
        ")\n",
        "plt.show()"
      ]
    },
    {
      "cell_type": "markdown",
      "metadata": {
        "id": "fcktwTq_1SMu"
      },
      "source": [
        "As we can see, the subpocket we choose from DoGSiteScorer is very precise. In fact, 27 out of the 29 residues do overlap with the KLIFS definition (85 residues).\n",
        "Though, the KLIFS pocket covers a larger overall pocket area.\n",
        "Out of interest, we can also do the same comparison using the pocket ``P_0`` (instead of subpocket ``P_0_0``) to see how that compares to KLIFS."
      ]
    },
    {
      "cell_type": "code",
      "execution_count": null,
      "metadata": {
        "id": "DyjaxKME1SMu"
      },
      "outputs": [],
      "source": [
        "# Get info for largest DoGSiteScorer pocket P_0\n",
        "new_pocket_id = \"P_0\"\n",
        "dogsite_pocket_residues_df_p0 = get_pocket_residues(\n",
        "    get_selected_pocket_location(job_location, new_pocket_id)\n",
        ")\n",
        "dogsite_pocket_residues_p0 = dogsite_pocket_residues_df_p0[\"residue_number\"].to_list()\n",
        "print(f\"DoGSiteScorer pocket {new_pocket_id} with {len(dogsite_pocket_residues_p0)} detected.\")\n",
        "# NBVAL_CHECK_OUTPUT"
      ]
    },
    {
      "cell_type": "code",
      "execution_count": null,
      "metadata": {
        "id": "UrSw3QDG1SMv"
      },
      "outputs": [],
      "source": [
        "print(f\"Residue overlap between the two methods using {new_pocket_id}.\")\n",
        "venn2(\n",
        "    [set(dogsite_pocket_residues_p0), set(klifs_pocket_residues)],\n",
        "    set_labels=(\"DoGSiteScorer\", \"KLIFS\"),\n",
        ")\n",
        "plt.show()"
      ]
    },
    {
      "cell_type": "markdown",
      "metadata": {
        "id": "Wl0LQcbE1SMv"
      },
      "source": [
        "## Discussion\n",
        "\n",
        "We introduced the idea of binding site detection algorithms using DoGSiteScorer, which can be queried through the [proteins.plus](https://proteins.plus) server.\n",
        "Besides investigating into the main (known) binding site, as exemplified above, one can use other predicted pockets to initiate drug design campaigns against a novel, e.g. allosteric or less explored, pocket.\n",
        "\n",
        "Potential shortcomings: Such algorithms detect the pockets based on a given protein structure (x-ray). If another structure of the same protein is available, applying the algorithm to that structure might lead to (slightly) different pockets due to e.g. conformational changes induced by the bound ligand. Also differences between apo and holo structures do affect the predictions."
      ]
    }
  ],
  "metadata": {
    "kernelspec": {
      "display_name": "Python 3 (ipykernel)",
      "language": "python",
      "name": "python3"
    },
    "language_info": {
      "codemirror_mode": {
        "name": "ipython",
        "version": 3
      },
      "file_extension": ".py",
      "mimetype": "text/x-python",
      "name": "python",
      "nbconvert_exporter": "python",
      "pygments_lexer": "ipython3",
      "version": "3.9.16"
    },
    "toc-autonumbering": true,
    "colab": {
      "provenance": [],
      "include_colab_link": true
    }
  },
  "nbformat": 4,
  "nbformat_minor": 0
}